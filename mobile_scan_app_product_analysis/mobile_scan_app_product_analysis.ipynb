{
 "cells": [
  {
   "cell_type": "markdown",
   "id": "a1e66877",
   "metadata": {
    "toc": true
   },
   "source": [
    "<h1>Содержание<span class=\"tocSkip\"></span></h1>\n",
    "<div class=\"toc\"><ul class=\"toc-item\"><li><span><a href=\"#Задачи-проекта\" data-toc-modified-id=\"Задачи-проекта-1\"><span class=\"toc-item-num\">1&nbsp;&nbsp;</span>Задачи проекта</a></span></li><li><span><a href=\"#Описание-данных\" data-toc-modified-id=\"Описание-данных-2\"><span class=\"toc-item-num\">2&nbsp;&nbsp;</span>Описание данных</a></span></li><li><span><a href=\"#Предобработка-данных\" data-toc-modified-id=\"Предобработка-данных-3\"><span class=\"toc-item-num\">3&nbsp;&nbsp;</span>Предобработка данных</a></span><ul class=\"toc-item\"><li><span><a href=\"#Посмотрим-соотвествие-типов\" data-toc-modified-id=\"Посмотрим-соотвествие-типов-3.1\"><span class=\"toc-item-num\">3.1&nbsp;&nbsp;</span>Посмотрим соотвествие типов</a></span></li><li><span><a href=\"#Исследуем-наличие-дубликатов\" data-toc-modified-id=\"Исследуем-наличие-дубликатов-3.2\"><span class=\"toc-item-num\">3.2&nbsp;&nbsp;</span>Исследуем наличие дубликатов</a></span></li></ul></li><li><span><a href=\"#Исследовательский-анализ\" data-toc-modified-id=\"Исследовательский-анализ-4\"><span class=\"toc-item-num\">4&nbsp;&nbsp;</span>Исследовательский анализ</a></span><ul class=\"toc-item\"><li><span><a href=\"#Исследуем-значения-признаков-product_id-и-quantity\" data-toc-modified-id=\"Исследуем-значения-признаков-product_id-и-quantity-4.1\"><span class=\"toc-item-num\">4.1&nbsp;&nbsp;</span>Исследуем значения признаков <code>product_id</code> и <code>quantity</code></a></span></li><li><span><a href=\"#Исследуем-значения-признака-is_trial_period\" data-toc-modified-id=\"Исследуем-значения-признака-is_trial_period-4.2\"><span class=\"toc-item-num\">4.2&nbsp;&nbsp;</span>Исследуем значения признака <code>is_trial_period</code></a></span></li><li><span><a href=\"#Исследуем-значения-признака-user_id\" data-toc-modified-id=\"Исследуем-значения-признака-user_id-4.3\"><span class=\"toc-item-num\">4.3&nbsp;&nbsp;</span>Исследуем значения признака <code>user_id</code></a></span><ul class=\"toc-item\"><li><span><a href=\"#Посмотрим-на-отношение-уникальных-user_id-к-общему-количеству-записей\" data-toc-modified-id=\"Посмотрим-на-отношение-уникальных-user_id-к-общему-количеству-записей-4.3.1\"><span class=\"toc-item-num\">4.3.1&nbsp;&nbsp;</span>Посмотрим на отношение уникальных <code>user_id</code> к общему количеству записей</a></span></li><li><span><a href=\"#Посмотрим-на-распределение-количества-записей-о-подписке-по-каждому-пользователю\" data-toc-modified-id=\"Посмотрим-на-распределение-количества-записей-о-подписке-по-каждому-пользователю-4.3.2\"><span class=\"toc-item-num\">4.3.2&nbsp;&nbsp;</span>Посмотрим на распределение количества записей о подписке по каждому пользователю</a></span></li><li><span><a href=\"#Посмотрим-на-значения-признака-purchase_date---каким-периодом-мы-распологаем\" data-toc-modified-id=\"Посмотрим-на-значения-признака-purchase_date---каким-периодом-мы-распологаем-4.3.3\"><span class=\"toc-item-num\">4.3.3&nbsp;&nbsp;</span>Посмотрим на значения признака <code>purchase_date</code> - каким периодом мы распологаем</a></span></li></ul></li></ul></li><li><span><a href=\"#Когортный-анализ\" data-toc-modified-id=\"Когортный-анализ-5\"><span class=\"toc-item-num\">5&nbsp;&nbsp;</span>Когортный анализ</a></span><ul class=\"toc-item\"><li><span><a href=\"#Расчет-LTV\" data-toc-modified-id=\"Расчет-LTV-5.1\"><span class=\"toc-item-num\">5.1&nbsp;&nbsp;</span>Расчет LTV</a></span></li></ul></li><li><span><a href=\"#Прогнозирование-LTV-на-6-месяцев\" data-toc-modified-id=\"Прогнозирование-LTV-на-6-месяцев-6\"><span class=\"toc-item-num\">6&nbsp;&nbsp;</span>Прогнозирование LTV на 6 месяцев</a></span><ul class=\"toc-item\"><li><span><a href=\"#Рассчитаем-LTV-для-всех-пользователей-без-разбиения-по-когортам\" data-toc-modified-id=\"Рассчитаем-LTV-для-всех-пользователей-без-разбиения-по-когортам-6.1\"><span class=\"toc-item-num\">6.1&nbsp;&nbsp;</span>Рассчитаем LTV для всех пользователей без разбиения по когортам</a></span></li><li><span><a href=\"#Построим-график-изменения-LTV-по-неделям\" data-toc-modified-id=\"Построим-график-изменения-LTV-по-неделям-6.2\"><span class=\"toc-item-num\">6.2&nbsp;&nbsp;</span>Построим график изменения LTV по неделям</a></span></li><li><span><a href=\"#Спрогнозируем-значения-LTV\" data-toc-modified-id=\"Спрогнозируем-значения-LTV-6.3\"><span class=\"toc-item-num\">6.3&nbsp;&nbsp;</span>Спрогнозируем значения LTV</a></span></li></ul></li><li><span><a href=\"#Расчет-ROMI\" data-toc-modified-id=\"Расчет-ROMI-7\"><span class=\"toc-item-num\">7&nbsp;&nbsp;</span>Расчет ROMI</a></span><ul class=\"toc-item\"><li><span><a href=\"#Рассчитаем-ROMI-на-4-недели\" data-toc-modified-id=\"Рассчитаем-ROMI-на-4-недели-7.1\"><span class=\"toc-item-num\">7.1&nbsp;&nbsp;</span>Рассчитаем ROMI на 4 недели</a></span></li></ul></li><li><span><a href=\"#Прогнозирование-ROMI-на-6-месяцев\" data-toc-modified-id=\"Прогнозирование-ROMI-на-6-месяцев-8\"><span class=\"toc-item-num\">8&nbsp;&nbsp;</span>Прогнозирование ROMI на 6 месяцев</a></span><ul class=\"toc-item\"><li><span><a href=\"#Рассчитаем-ROMI-по-LTV-для-всех-пользователей-без-разбиения\" data-toc-modified-id=\"Рассчитаем-ROMI-по-LTV-для-всех-пользователей-без-разбиения-8.1\"><span class=\"toc-item-num\">8.1&nbsp;&nbsp;</span>Рассчитаем ROMI по LTV для всех пользователей без разбиения</a></span></li><li><span><a href=\"#Спрогнозируем-значения-ROMI\" data-toc-modified-id=\"Спрогнозируем-значения-ROMI-8.2\"><span class=\"toc-item-num\">8.2&nbsp;&nbsp;</span>Спрогнозируем значения ROMI</a></span></li></ul></li><li><span><a href=\"#Вывод\" data-toc-modified-id=\"Вывод-9\"><span class=\"toc-item-num\">9&nbsp;&nbsp;</span>Вывод</a></span></li></ul></div>"
   ]
  },
  {
   "cell_type": "markdown",
   "id": "257912df",
   "metadata": {},
   "source": [
    "# Анализ и прогнозирование метрик юнит-экономики мобильного приложения для сканирования документов"
   ]
  },
  {
   "cell_type": "markdown",
   "id": "4d3e5a5b",
   "metadata": {},
   "source": [
    "Приложение - мобильная утилита для сканирования документов. Модель монетизации подписочная, есть пробный период 7 дней с дальнейшим переходом в оплату 4.99 USD в неделю"
   ]
  },
  {
   "cell_type": "markdown",
   "id": "13ae8f2e",
   "metadata": {},
   "source": [
    "## Задачи проекта\n",
    "1. Необходимо рассчитать текущий LTV юзера, используя когортный анализ (cohorting event - оформление пробного периода, когорта представляет собой кол-во возможных операций).\n",
    "2. Спрогнозировать, каким будет LTV на полгода.\n",
    "3. Построить график, который будет отображать кривую фактического LTV на фоне кривой прогнозируемого LTV.\n",
    "4. Рассчитать ROMI на 4 недели и спрогнозировать его на полгода, если стоимость привлечения платящего пользователя 6 USD"
   ]
  },
  {
   "cell_type": "markdown",
   "id": "99ac5f6f",
   "metadata": {},
   "source": [
    "## Описание данных\n",
    "\n",
    "Каждая строка представляет собой отдельное событие (либо оформление пробной подписки, либо оплата после завершения пробного периода)\n",
    "\n",
    "- `product_id` - идентификатор оформленной подписки\n",
    "- `quantity` - количество оформленных подписок\n",
    "- `is_trial_period` - является ли оформленная подписка пробной\n",
    "- `purchase_date` - дата оформления подписки\n",
    "- `user_id` - идентификатор пользователя"
   ]
  },
  {
   "cell_type": "code",
   "execution_count": 1,
   "id": "695fef55",
   "metadata": {},
   "outputs": [],
   "source": [
    "import pandas as pd\n",
    "import numpy as np\n",
    "import matplotlib.pyplot as plt\n",
    "import seaborn as sns\n",
    "import warnings\n",
    "from scipy.optimize import curve_fit\n",
    "warnings.simplefilter(action='ignore', category=FutureWarning)\n",
    "pd.set_option('display.float_format', '{:,.4f}'.format)"
   ]
  },
  {
   "cell_type": "markdown",
   "id": "8cae9bac",
   "metadata": {},
   "source": [
    "## Предобработка данных"
   ]
  },
  {
   "cell_type": "code",
   "execution_count": 2,
   "id": "b3a504ce",
   "metadata": {},
   "outputs": [],
   "source": [
    "data = pd.read_excel('./test case data analyst.xlsx')"
   ]
  },
  {
   "cell_type": "code",
   "execution_count": 3,
   "id": "ef6c8670",
   "metadata": {},
   "outputs": [
    {
     "data": {
      "text/html": [
       "<div>\n",
       "<style scoped>\n",
       "    .dataframe tbody tr th:only-of-type {\n",
       "        vertical-align: middle;\n",
       "    }\n",
       "\n",
       "    .dataframe tbody tr th {\n",
       "        vertical-align: top;\n",
       "    }\n",
       "\n",
       "    .dataframe thead th {\n",
       "        text-align: right;\n",
       "    }\n",
       "</style>\n",
       "<table border=\"1\" class=\"dataframe\">\n",
       "  <thead>\n",
       "    <tr style=\"text-align: right;\">\n",
       "      <th></th>\n",
       "      <th>product_id</th>\n",
       "      <th>quantity</th>\n",
       "      <th>is_trial_period</th>\n",
       "      <th>purchase_date</th>\n",
       "      <th>user_id</th>\n",
       "    </tr>\n",
       "  </thead>\n",
       "  <tbody>\n",
       "    <tr>\n",
       "      <th>0</th>\n",
       "      <td>1week_4.99_USD_subscription_7days_trial</td>\n",
       "      <td>1</td>\n",
       "      <td>False</td>\n",
       "      <td>2020-02-19</td>\n",
       "      <td>9484222</td>\n",
       "    </tr>\n",
       "    <tr>\n",
       "      <th>1</th>\n",
       "      <td>1week_4.99_USD_subscription_7days_trial</td>\n",
       "      <td>1</td>\n",
       "      <td>False</td>\n",
       "      <td>2020-02-17</td>\n",
       "      <td>9422402</td>\n",
       "    </tr>\n",
       "    <tr>\n",
       "      <th>2</th>\n",
       "      <td>1week_4.99_USD_subscription_7days_trial</td>\n",
       "      <td>1</td>\n",
       "      <td>False</td>\n",
       "      <td>2020-02-18</td>\n",
       "      <td>4997991</td>\n",
       "    </tr>\n",
       "    <tr>\n",
       "      <th>3</th>\n",
       "      <td>1week_4.99_USD_subscription_7days_trial</td>\n",
       "      <td>1</td>\n",
       "      <td>False</td>\n",
       "      <td>2020-02-18</td>\n",
       "      <td>9455582</td>\n",
       "    </tr>\n",
       "    <tr>\n",
       "      <th>4</th>\n",
       "      <td>1week_4.99_USD_subscription_7days_trial</td>\n",
       "      <td>1</td>\n",
       "      <td>False</td>\n",
       "      <td>2020-02-16</td>\n",
       "      <td>8803657</td>\n",
       "    </tr>\n",
       "  </tbody>\n",
       "</table>\n",
       "</div>"
      ],
      "text/plain": [
       "                                product_id  quantity  is_trial_period  \\\n",
       "0  1week_4.99_USD_subscription_7days_trial         1            False   \n",
       "1  1week_4.99_USD_subscription_7days_trial         1            False   \n",
       "2  1week_4.99_USD_subscription_7days_trial         1            False   \n",
       "3  1week_4.99_USD_subscription_7days_trial         1            False   \n",
       "4  1week_4.99_USD_subscription_7days_trial         1            False   \n",
       "\n",
       "  purchase_date  user_id  \n",
       "0    2020-02-19  9484222  \n",
       "1    2020-02-17  9422402  \n",
       "2    2020-02-18  4997991  \n",
       "3    2020-02-18  9455582  \n",
       "4    2020-02-16  8803657  "
      ]
     },
     "execution_count": 3,
     "metadata": {},
     "output_type": "execute_result"
    }
   ],
   "source": [
    "data.head()"
   ]
  },
  {
   "cell_type": "markdown",
   "id": "9de2b024",
   "metadata": {},
   "source": [
    "### Посмотрим соотвествие типов"
   ]
  },
  {
   "cell_type": "code",
   "execution_count": 4,
   "id": "71ae8e65",
   "metadata": {},
   "outputs": [
    {
     "name": "stdout",
     "output_type": "stream",
     "text": [
      "<class 'pandas.core.frame.DataFrame'>\n",
      "RangeIndex: 114200 entries, 0 to 114199\n",
      "Data columns (total 5 columns):\n",
      " #   Column           Non-Null Count   Dtype         \n",
      "---  ------           --------------   -----         \n",
      " 0   product_id       114200 non-null  object        \n",
      " 1   quantity         114200 non-null  int64         \n",
      " 2   is_trial_period  114200 non-null  bool          \n",
      " 3   purchase_date    114200 non-null  datetime64[ns]\n",
      " 4   user_id          114200 non-null  int64         \n",
      "dtypes: bool(1), datetime64[ns](1), int64(2), object(1)\n",
      "memory usage: 3.6+ MB\n"
     ]
    }
   ],
   "source": [
    "data.info()"
   ]
  },
  {
   "cell_type": "markdown",
   "id": "3b68e711",
   "metadata": {},
   "source": [
    "Все типы признаков соответсвуют их значениям."
   ]
  },
  {
   "cell_type": "markdown",
   "id": "a4327f63",
   "metadata": {},
   "source": [
    "### Исследуем наличие дубликатов"
   ]
  },
  {
   "cell_type": "code",
   "execution_count": 5,
   "id": "f35de2e7",
   "metadata": {},
   "outputs": [
    {
     "data": {
      "text/plain": [
       "84"
      ]
     },
     "execution_count": 5,
     "metadata": {},
     "output_type": "execute_result"
    }
   ],
   "source": [
    "data.duplicated().sum()"
   ]
  },
  {
   "cell_type": "markdown",
   "id": "09154948",
   "metadata": {},
   "source": [
    "Имеется 84 полных дубликата, удалим их"
   ]
  },
  {
   "cell_type": "code",
   "execution_count": 6,
   "id": "145ec4bc",
   "metadata": {},
   "outputs": [],
   "source": [
    "data = data.drop_duplicates()"
   ]
  },
  {
   "cell_type": "code",
   "execution_count": 7,
   "id": "b545c7d7",
   "metadata": {},
   "outputs": [
    {
     "data": {
      "text/plain": [
       "0"
      ]
     },
     "execution_count": 7,
     "metadata": {},
     "output_type": "execute_result"
    }
   ],
   "source": [
    "data.duplicated().sum()"
   ]
  },
  {
   "cell_type": "markdown",
   "id": "7d7e4110",
   "metadata": {},
   "source": [
    "## Исследовательский анализ"
   ]
  },
  {
   "cell_type": "markdown",
   "id": "5a1171bf",
   "metadata": {},
   "source": [
    "### Исследуем значения признаков `product_id` и `quantity`"
   ]
  },
  {
   "cell_type": "code",
   "execution_count": 8,
   "id": "bf4acb4d",
   "metadata": {},
   "outputs": [
    {
     "data": {
      "text/plain": [
       "1week_4.99_USD_subscription_7days_trial    114116\n",
       "Name: product_id, dtype: int64"
      ]
     },
     "execution_count": 8,
     "metadata": {},
     "output_type": "execute_result"
    }
   ],
   "source": [
    "data['product_id'].value_counts()"
   ]
  },
  {
   "cell_type": "code",
   "execution_count": 9,
   "id": "4c52d16e",
   "metadata": {},
   "outputs": [
    {
     "data": {
      "text/plain": [
       "1    114116\n",
       "Name: quantity, dtype: int64"
      ]
     },
     "execution_count": 9,
     "metadata": {},
     "output_type": "execute_result"
    }
   ],
   "source": [
    "data['quantity'].value_counts()"
   ]
  },
  {
   "cell_type": "markdown",
   "id": "2eaea27a",
   "metadata": {},
   "source": [
    "Как видно колонки `product_id` и `quantity` имеют по одному значению, поэтому их можно удалить, так как на дальнейшее исследование они никак не повлияют"
   ]
  },
  {
   "cell_type": "code",
   "execution_count": 10,
   "id": "0852a0bc",
   "metadata": {},
   "outputs": [],
   "source": [
    "data = data.drop(columns=['product_id', 'quantity'])"
   ]
  },
  {
   "cell_type": "markdown",
   "id": "dbbd30ff",
   "metadata": {},
   "source": [
    "### Исследуем значения признака `is_trial_period`"
   ]
  },
  {
   "cell_type": "code",
   "execution_count": 11,
   "id": "dcc7fd2e",
   "metadata": {},
   "outputs": [
    {
     "data": {
      "text/plain": [
       "True    0.5516\n",
       "False   0.4484\n",
       "Name: is_trial_period, dtype: float64"
      ]
     },
     "execution_count": 11,
     "metadata": {},
     "output_type": "execute_result"
    }
   ],
   "source": [
    "data['is_trial_period'].value_counts(normalize=True)"
   ]
  },
  {
   "cell_type": "markdown",
   "id": "011d2ea5",
   "metadata": {},
   "source": [
    "Признак биномиальный - имеет два булевых значения которые достаточно сбалансированны (True - 55% False - 45%)"
   ]
  },
  {
   "cell_type": "markdown",
   "id": "93ebc3e8",
   "metadata": {},
   "source": [
    "У каждого пользователя посмотрим на первое (по времени) значение признака"
   ]
  },
  {
   "cell_type": "code",
   "execution_count": 12,
   "id": "1f8e3a6f",
   "metadata": {},
   "outputs": [
    {
     "data": {
      "text/plain": [
       "True    62909\n",
       "Name: is_trial_period, dtype: int64"
      ]
     },
     "execution_count": 12,
     "metadata": {},
     "output_type": "execute_result"
    }
   ],
   "source": [
    "(data.sort_values(by=['user_id', 'is_trial_period'], ascending=[True, False])\n",
    "        .groupby('user_id', as_index=False)\n",
    "        .agg({'is_trial_period': 'first'}))['is_trial_period'].value_counts()"
   ]
  },
  {
   "cell_type": "markdown",
   "id": "57f36304",
   "metadata": {},
   "source": [
    "Все пользователи имеющиеся в таблице сначала оформили пробную подписку"
   ]
  },
  {
   "cell_type": "markdown",
   "id": "5ee9518c",
   "metadata": {},
   "source": [
    "### Исследуем значения признака `user_id`"
   ]
  },
  {
   "cell_type": "markdown",
   "id": "b96c60c1",
   "metadata": {},
   "source": [
    "#### Посмотрим на отношение уникальных `user_id` к общему количеству записей"
   ]
  },
  {
   "cell_type": "code",
   "execution_count": 13,
   "id": "5f989f0f",
   "metadata": {},
   "outputs": [
    {
     "name": "stdout",
     "output_type": "stream",
     "text": [
      "Всего записей = 114116\n",
      "Количество уникальных user_id = 62909\n",
      "Среднее количество записей на одного пользователя = 1.81\n",
      "Доля уникальных пользователей = 0.55\n"
     ]
    }
   ],
   "source": [
    "n_records = len(data[\"user_id\"])\n",
    "unique_users = len(data[\"user_id\"].unique())\n",
    "\n",
    "print(f'Всего записей = {n_records}')\n",
    "print(f'Количество уникальных user_id = {unique_users}')\n",
    "print(f'Среднее количество записей на одного пользователя = {round(n_records / unique_users, 2)}')\n",
    "print(f'Доля уникальных пользователей = {round(unique_users / n_records, 2)}')"
   ]
  },
  {
   "cell_type": "markdown",
   "id": "df4b37e0",
   "metadata": {},
   "source": [
    "Получается на одного пользователя в среднем получается 1 пробная подписка и 0.81 платная"
   ]
  },
  {
   "cell_type": "markdown",
   "id": "aa51bf8b",
   "metadata": {},
   "source": [
    "#### Посмотрим на распределение количества записей о подписке по каждому пользователю"
   ]
  },
  {
   "cell_type": "markdown",
   "id": "88f73ee5",
   "metadata": {},
   "source": [
    "Сгруппируем данные по пользователям и посчитаем количество оплаченных подписок"
   ]
  },
  {
   "cell_type": "code",
   "execution_count": 14,
   "id": "fb3dfff1",
   "metadata": {},
   "outputs": [],
   "source": [
    "user_grouped = data.groupby('user_id', as_index=False).agg({'is_trial_period': 'count'})\n",
    "user_records = user_grouped['is_trial_period'].value_counts(normalize=True)"
   ]
  },
  {
   "cell_type": "markdown",
   "id": "d23ee5de",
   "metadata": {},
   "source": [
    "Построим графики, для визуализации распределения значений"
   ]
  },
  {
   "cell_type": "code",
   "execution_count": 15,
   "id": "e1efd674",
   "metadata": {},
   "outputs": [
    {
     "data": {
      "image/png": "[encoded data removed]",
      "text/plain": [
       "<Figure size 1080x360 with 2 Axes>"
      ]
     },
     "metadata": {
      "needs_background": "light"
     },
     "output_type": "display_data"
    }
   ],
   "source": [
    "fig, axs = plt.subplots(1, 2, figsize=(15, 5))\n",
    "\n",
    "sns.boxplot(data=user_grouped['is_trial_period'], ax=axs[0])\n",
    "axs[0].set(\n",
    "    ylabel='Подписок',\n",
    "    title='Распределение количества подписок на одного пользователя'\n",
    ")\n",
    "\n",
    "sns.barplot(x=user_records.index, y=user_records.values, ax=axs[1])\n",
    "axs[1].set(\n",
    "    xlabel='Количество подписок',\n",
    "    ylabel='Доля', \n",
    "    title='Доля пользователей по количеству подписок'\n",
    ")\n",
    "axs[1].bar_label(axs[1].containers[0], fmt='%.3f')\n",
    "\n",
    "plt.show()"
   ]
  },
  {
   "cell_type": "markdown",
   "id": "8c89f901",
   "metadata": {},
   "source": [
    "Расчитаем количество пользователей которые оформили только пробную подписку"
   ]
  },
  {
   "cell_type": "code",
   "execution_count": 16,
   "id": "0db0a1c2",
   "metadata": {},
   "outputs": [
    {
     "name": "stdout",
     "output_type": "stream",
     "text": [
      "Всего пользователей: 62909\n",
      "Пользователей оформивших только пробную подписку: 43336\n",
      "Пользователей оформивших платную подписку после пробной: 19573\n",
      "Доля платящих пользователей: 0.31\n"
     ]
    }
   ],
   "source": [
    "n_only_trial = len(user_grouped.query('is_trial_period == 1'))\n",
    "n_paid = len(user_grouped) - len(user_grouped.query('is_trial_period == 1'))\n",
    "\n",
    "print('Всего пользователей:', len(user_grouped))\n",
    "print('Пользователей оформивших только пробную подписку:', n_only_trial)\n",
    "print('Пользователей оформивших платную подписку после пробной:', n_paid)\n",
    "print('Доля платящих пользователей:', round(n_paid / len(user_grouped), 2))"
   ]
  },
  {
   "cell_type": "markdown",
   "id": "4686059d",
   "metadata": {},
   "source": [
    "Выводы по графикам:\n",
    "\n",
    "- Аномальное количество оформленных подписок для одного пользователя - более 3 (верхний ус первого графика)\n",
    "- Имеются пользователи которые оформили подписку 8 раз\n",
    "- Медианное количество оформленных подписок = 1, среднее = 1.81 - данная разница достаточно большая это может означать, что пользователи отмеченные на графиках как аномальные, вносят большой вклад в выручку приложения\n",
    "- Платящих пользователей 31%"
   ]
  },
  {
   "cell_type": "markdown",
   "id": "d6876bfa",
   "metadata": {},
   "source": [
    "#### Посмотрим на значения признака `purchase_date` - каким периодом мы распологаем"
   ]
  },
  {
   "cell_type": "code",
   "execution_count": 17,
   "id": "91b4eb05",
   "metadata": {},
   "outputs": [
    {
     "name": "stdout",
     "output_type": "stream",
     "text": [
      "2020-01-01 00:00:00\n",
      "2020-02-20 00:00:00\n",
      "50 days 00:00:00\n"
     ]
    }
   ],
   "source": [
    "print(data['purchase_date'].min())\n",
    "print(data['purchase_date'].max())\n",
    "print(data['purchase_date'].max() - data['purchase_date'].min())"
   ]
  },
  {
   "cell_type": "markdown",
   "id": "c1b07308",
   "metadata": {},
   "source": [
    "В нашем распоряжении 50 дней, начиная с начала 2020 года и до 20 февраля 2020"
   ]
  },
  {
   "cell_type": "markdown",
   "id": "80d1e039",
   "metadata": {},
   "source": [
    "## Когортный анализ"
   ]
  },
  {
   "cell_type": "markdown",
   "id": "a8af6ff4",
   "metadata": {},
   "source": [
    "Сгруппируем даные так, чтобы получить для каждого пользователя дату первой подписки и количество оформленных подписок"
   ]
  },
  {
   "cell_type": "code",
   "execution_count": 18,
   "id": "cf136e34",
   "metadata": {},
   "outputs": [],
   "source": [
    "first_ts_grouped = (\n",
    "    data.groupby('user_id', as_index=False)\n",
    "        .agg({'purchase_date': 'min', 'is_trial_period': 'count'})\n",
    "        .rename(columns={\n",
    "            'purchase_date': 'first_ts',\n",
    "            'is_trial_period': 'n_subscribes'\n",
    "        })\n",
    ")"
   ]
  },
  {
   "cell_type": "code",
   "execution_count": 19,
   "id": "7a3deb16",
   "metadata": {},
   "outputs": [
    {
     "data": {
      "text/html": [
       "<div>\n",
       "<style scoped>\n",
       "    .dataframe tbody tr th:only-of-type {\n",
       "        vertical-align: middle;\n",
       "    }\n",
       "\n",
       "    .dataframe tbody tr th {\n",
       "        vertical-align: top;\n",
       "    }\n",
       "\n",
       "    .dataframe thead th {\n",
       "        text-align: right;\n",
       "    }\n",
       "</style>\n",
       "<table border=\"1\" class=\"dataframe\">\n",
       "  <thead>\n",
       "    <tr style=\"text-align: right;\">\n",
       "      <th></th>\n",
       "      <th>user_id</th>\n",
       "      <th>first_ts</th>\n",
       "      <th>n_subscribes</th>\n",
       "    </tr>\n",
       "  </thead>\n",
       "  <tbody>\n",
       "    <tr>\n",
       "      <th>0</th>\n",
       "      <td>404</td>\n",
       "      <td>2020-02-03</td>\n",
       "      <td>2</td>\n",
       "    </tr>\n",
       "    <tr>\n",
       "      <th>1</th>\n",
       "      <td>5337</td>\n",
       "      <td>2020-02-17</td>\n",
       "      <td>1</td>\n",
       "    </tr>\n",
       "    <tr>\n",
       "      <th>2</th>\n",
       "      <td>9010</td>\n",
       "      <td>2020-01-27</td>\n",
       "      <td>4</td>\n",
       "    </tr>\n",
       "    <tr>\n",
       "      <th>3</th>\n",
       "      <td>19880</td>\n",
       "      <td>2020-01-30</td>\n",
       "      <td>1</td>\n",
       "    </tr>\n",
       "    <tr>\n",
       "      <th>4</th>\n",
       "      <td>23403</td>\n",
       "      <td>2020-01-20</td>\n",
       "      <td>4</td>\n",
       "    </tr>\n",
       "  </tbody>\n",
       "</table>\n",
       "</div>"
      ],
      "text/plain": [
       "   user_id   first_ts  n_subscribes\n",
       "0      404 2020-02-03             2\n",
       "1     5337 2020-02-17             1\n",
       "2     9010 2020-01-27             4\n",
       "3    19880 2020-01-30             1\n",
       "4    23403 2020-01-20             4"
      ]
     },
     "execution_count": 19,
     "metadata": {},
     "output_type": "execute_result"
    }
   ],
   "source": [
    "first_ts_grouped.head()"
   ]
  },
  {
   "cell_type": "markdown",
   "id": "65af25de",
   "metadata": {},
   "source": [
    "Присоединим получившуюся таблицу к общему датасету, по колонке `user_id`"
   ]
  },
  {
   "cell_type": "code",
   "execution_count": 20,
   "id": "3b7e6cd4",
   "metadata": {},
   "outputs": [
    {
     "data": {
      "text/html": [
       "<div>\n",
       "<style scoped>\n",
       "    .dataframe tbody tr th:only-of-type {\n",
       "        vertical-align: middle;\n",
       "    }\n",
       "\n",
       "    .dataframe tbody tr th {\n",
       "        vertical-align: top;\n",
       "    }\n",
       "\n",
       "    .dataframe thead th {\n",
       "        text-align: right;\n",
       "    }\n",
       "</style>\n",
       "<table border=\"1\" class=\"dataframe\">\n",
       "  <thead>\n",
       "    <tr style=\"text-align: right;\">\n",
       "      <th></th>\n",
       "      <th>is_trial_period</th>\n",
       "      <th>purchase_date</th>\n",
       "      <th>user_id</th>\n",
       "      <th>first_ts</th>\n",
       "      <th>n_subscribes</th>\n",
       "      <th>first_ts_week</th>\n",
       "    </tr>\n",
       "  </thead>\n",
       "  <tbody>\n",
       "    <tr>\n",
       "      <th>0</th>\n",
       "      <td>False</td>\n",
       "      <td>2020-02-19</td>\n",
       "      <td>9484222</td>\n",
       "      <td>2020-02-12</td>\n",
       "      <td>2</td>\n",
       "      <td>7</td>\n",
       "    </tr>\n",
       "    <tr>\n",
       "      <th>1</th>\n",
       "      <td>False</td>\n",
       "      <td>2020-02-17</td>\n",
       "      <td>9422402</td>\n",
       "      <td>2020-02-10</td>\n",
       "      <td>2</td>\n",
       "      <td>7</td>\n",
       "    </tr>\n",
       "    <tr>\n",
       "      <th>2</th>\n",
       "      <td>False</td>\n",
       "      <td>2020-02-18</td>\n",
       "      <td>4997991</td>\n",
       "      <td>2020-02-11</td>\n",
       "      <td>2</td>\n",
       "      <td>7</td>\n",
       "    </tr>\n",
       "    <tr>\n",
       "      <th>3</th>\n",
       "      <td>False</td>\n",
       "      <td>2020-02-18</td>\n",
       "      <td>9455582</td>\n",
       "      <td>2020-02-11</td>\n",
       "      <td>2</td>\n",
       "      <td>7</td>\n",
       "    </tr>\n",
       "    <tr>\n",
       "      <th>4</th>\n",
       "      <td>False</td>\n",
       "      <td>2020-02-16</td>\n",
       "      <td>8803657</td>\n",
       "      <td>2020-01-19</td>\n",
       "      <td>5</td>\n",
       "      <td>3</td>\n",
       "    </tr>\n",
       "  </tbody>\n",
       "</table>\n",
       "</div>"
      ],
      "text/plain": [
       "   is_trial_period purchase_date  user_id   first_ts  n_subscribes  \\\n",
       "0            False    2020-02-19  9484222 2020-02-12             2   \n",
       "1            False    2020-02-17  9422402 2020-02-10             2   \n",
       "2            False    2020-02-18  4997991 2020-02-11             2   \n",
       "3            False    2020-02-18  9455582 2020-02-11             2   \n",
       "4            False    2020-02-16  8803657 2020-01-19             5   \n",
       "\n",
       "   first_ts_week  \n",
       "0              7  \n",
       "1              7  \n",
       "2              7  \n",
       "3              7  \n",
       "4              3  "
      ]
     },
     "execution_count": 20,
     "metadata": {},
     "output_type": "execute_result"
    }
   ],
   "source": [
    "data = data.merge(first_ts_grouped, on='user_id', how='left')\n",
    "data['first_ts_week'] = data['first_ts'].dt.week\n",
    "data.head()"
   ]
  },
  {
   "cell_type": "markdown",
   "id": "7d32cc3e",
   "metadata": {},
   "source": [
    "Как мы выяснили ранее - каждый пользоавтель обязательно оформил сначала пробный период, значит если мы вычтем из колонки `n_subscribes` 1, то получим количество оформленных платных подписок, т.е. в данном случае lifetime каждого пользователя в неделях (так как подписка всегда оформляется сроком на 7 дней)"
   ]
  },
  {
   "cell_type": "code",
   "execution_count": 21,
   "id": "81daea31",
   "metadata": {},
   "outputs": [],
   "source": [
    "data['lifetime'] = data['n_subscribes'] - 1"
   ]
  },
  {
   "cell_type": "code",
   "execution_count": 22,
   "id": "512cc678",
   "metadata": {},
   "outputs": [
    {
     "data": {
      "text/html": [
       "<div>\n",
       "<style scoped>\n",
       "    .dataframe tbody tr th:only-of-type {\n",
       "        vertical-align: middle;\n",
       "    }\n",
       "\n",
       "    .dataframe tbody tr th {\n",
       "        vertical-align: top;\n",
       "    }\n",
       "\n",
       "    .dataframe thead th {\n",
       "        text-align: right;\n",
       "    }\n",
       "</style>\n",
       "<table border=\"1\" class=\"dataframe\">\n",
       "  <thead>\n",
       "    <tr style=\"text-align: right;\">\n",
       "      <th></th>\n",
       "      <th>is_trial_period</th>\n",
       "      <th>purchase_date</th>\n",
       "      <th>user_id</th>\n",
       "      <th>first_ts</th>\n",
       "      <th>n_subscribes</th>\n",
       "      <th>first_ts_week</th>\n",
       "      <th>lifetime</th>\n",
       "    </tr>\n",
       "  </thead>\n",
       "  <tbody>\n",
       "    <tr>\n",
       "      <th>0</th>\n",
       "      <td>False</td>\n",
       "      <td>2020-02-19</td>\n",
       "      <td>9484222</td>\n",
       "      <td>2020-02-12</td>\n",
       "      <td>2</td>\n",
       "      <td>7</td>\n",
       "      <td>1</td>\n",
       "    </tr>\n",
       "    <tr>\n",
       "      <th>1</th>\n",
       "      <td>False</td>\n",
       "      <td>2020-02-17</td>\n",
       "      <td>9422402</td>\n",
       "      <td>2020-02-10</td>\n",
       "      <td>2</td>\n",
       "      <td>7</td>\n",
       "      <td>1</td>\n",
       "    </tr>\n",
       "    <tr>\n",
       "      <th>2</th>\n",
       "      <td>False</td>\n",
       "      <td>2020-02-18</td>\n",
       "      <td>4997991</td>\n",
       "      <td>2020-02-11</td>\n",
       "      <td>2</td>\n",
       "      <td>7</td>\n",
       "      <td>1</td>\n",
       "    </tr>\n",
       "    <tr>\n",
       "      <th>3</th>\n",
       "      <td>False</td>\n",
       "      <td>2020-02-18</td>\n",
       "      <td>9455582</td>\n",
       "      <td>2020-02-11</td>\n",
       "      <td>2</td>\n",
       "      <td>7</td>\n",
       "      <td>1</td>\n",
       "    </tr>\n",
       "    <tr>\n",
       "      <th>4</th>\n",
       "      <td>False</td>\n",
       "      <td>2020-02-16</td>\n",
       "      <td>8803657</td>\n",
       "      <td>2020-01-19</td>\n",
       "      <td>5</td>\n",
       "      <td>3</td>\n",
       "      <td>4</td>\n",
       "    </tr>\n",
       "  </tbody>\n",
       "</table>\n",
       "</div>"
      ],
      "text/plain": [
       "   is_trial_period purchase_date  user_id   first_ts  n_subscribes  \\\n",
       "0            False    2020-02-19  9484222 2020-02-12             2   \n",
       "1            False    2020-02-17  9422402 2020-02-10             2   \n",
       "2            False    2020-02-18  4997991 2020-02-11             2   \n",
       "3            False    2020-02-18  9455582 2020-02-11             2   \n",
       "4            False    2020-02-16  8803657 2020-01-19             5   \n",
       "\n",
       "   first_ts_week  lifetime  \n",
       "0              7         1  \n",
       "1              7         1  \n",
       "2              7         1  \n",
       "3              7         1  \n",
       "4              3         4  "
      ]
     },
     "execution_count": 22,
     "metadata": {},
     "output_type": "execute_result"
    }
   ],
   "source": [
    "data.head()"
   ]
  },
  {
   "cell_type": "markdown",
   "id": "c0b6f5c2",
   "metadata": {},
   "source": [
    "Сделаем сводную таблицу, где сформируем когорты по признаку недели оформления подписки"
   ]
  },
  {
   "cell_type": "code",
   "execution_count": 23,
   "id": "7515bda7",
   "metadata": {},
   "outputs": [],
   "source": [
    "users_by_firsts_weeks = data.pivot_table(\n",
    "    index='first_ts_week',\n",
    "    columns='lifetime',\n",
    "    values='user_id',\n",
    "    aggfunc='nunique'\n",
    ")"
   ]
  },
  {
   "cell_type": "code",
   "execution_count": 24,
   "id": "7f0ce3c0",
   "metadata": {},
   "outputs": [
    {
     "data": {
      "text/html": [
       "<div>\n",
       "<style scoped>\n",
       "    .dataframe tbody tr th:only-of-type {\n",
       "        vertical-align: middle;\n",
       "    }\n",
       "\n",
       "    .dataframe tbody tr th {\n",
       "        vertical-align: top;\n",
       "    }\n",
       "\n",
       "    .dataframe thead th {\n",
       "        text-align: right;\n",
       "    }\n",
       "</style>\n",
       "<table border=\"1\" class=\"dataframe\">\n",
       "  <thead>\n",
       "    <tr style=\"text-align: right;\">\n",
       "      <th>lifetime</th>\n",
       "      <th>0</th>\n",
       "      <th>1</th>\n",
       "      <th>2</th>\n",
       "      <th>3</th>\n",
       "      <th>4</th>\n",
       "      <th>5</th>\n",
       "      <th>6</th>\n",
       "      <th>7</th>\n",
       "    </tr>\n",
       "    <tr>\n",
       "      <th>first_ts_week</th>\n",
       "      <th></th>\n",
       "      <th></th>\n",
       "      <th></th>\n",
       "      <th></th>\n",
       "      <th></th>\n",
       "      <th></th>\n",
       "      <th></th>\n",
       "      <th></th>\n",
       "    </tr>\n",
       "  </thead>\n",
       "  <tbody>\n",
       "    <tr>\n",
       "      <th>1</th>\n",
       "      <td>3,826.0000</td>\n",
       "      <td>584.0000</td>\n",
       "      <td>363.0000</td>\n",
       "      <td>288.0000</td>\n",
       "      <td>245.0000</td>\n",
       "      <td>219.0000</td>\n",
       "      <td>896.0000</td>\n",
       "      <td>208.0000</td>\n",
       "    </tr>\n",
       "    <tr>\n",
       "      <th>2</th>\n",
       "      <td>5,135.0000</td>\n",
       "      <td>746.0000</td>\n",
       "      <td>468.0000</td>\n",
       "      <td>374.0000</td>\n",
       "      <td>268.0000</td>\n",
       "      <td>850.0000</td>\n",
       "      <td>588.0000</td>\n",
       "      <td>NaN</td>\n",
       "    </tr>\n",
       "    <tr>\n",
       "      <th>3</th>\n",
       "      <td>5,634.0000</td>\n",
       "      <td>918.0000</td>\n",
       "      <td>516.0000</td>\n",
       "      <td>392.0000</td>\n",
       "      <td>986.0000</td>\n",
       "      <td>688.0000</td>\n",
       "      <td>NaN</td>\n",
       "      <td>NaN</td>\n",
       "    </tr>\n",
       "    <tr>\n",
       "      <th>4</th>\n",
       "      <td>5,340.0000</td>\n",
       "      <td>814.0000</td>\n",
       "      <td>466.0000</td>\n",
       "      <td>899.0000</td>\n",
       "      <td>666.0000</td>\n",
       "      <td>NaN</td>\n",
       "      <td>NaN</td>\n",
       "      <td>NaN</td>\n",
       "    </tr>\n",
       "    <tr>\n",
       "      <th>5</th>\n",
       "      <td>5,503.0000</td>\n",
       "      <td>833.0000</td>\n",
       "      <td>1,231.0000</td>\n",
       "      <td>748.0000</td>\n",
       "      <td>NaN</td>\n",
       "      <td>NaN</td>\n",
       "      <td>NaN</td>\n",
       "      <td>NaN</td>\n",
       "    </tr>\n",
       "    <tr>\n",
       "      <th>6</th>\n",
       "      <td>6,157.0000</td>\n",
       "      <td>1,914.0000</td>\n",
       "      <td>994.0000</td>\n",
       "      <td>1.0000</td>\n",
       "      <td>NaN</td>\n",
       "      <td>NaN</td>\n",
       "      <td>NaN</td>\n",
       "      <td>NaN</td>\n",
       "    </tr>\n",
       "    <tr>\n",
       "      <th>7</th>\n",
       "      <td>7,628.0000</td>\n",
       "      <td>1,409.0000</td>\n",
       "      <td>1.0000</td>\n",
       "      <td>NaN</td>\n",
       "      <td>NaN</td>\n",
       "      <td>NaN</td>\n",
       "      <td>NaN</td>\n",
       "      <td>NaN</td>\n",
       "    </tr>\n",
       "    <tr>\n",
       "      <th>8</th>\n",
       "      <td>4,113.0000</td>\n",
       "      <td>NaN</td>\n",
       "      <td>NaN</td>\n",
       "      <td>NaN</td>\n",
       "      <td>NaN</td>\n",
       "      <td>NaN</td>\n",
       "      <td>NaN</td>\n",
       "      <td>NaN</td>\n",
       "    </tr>\n",
       "  </tbody>\n",
       "</table>\n",
       "</div>"
      ],
      "text/plain": [
       "lifetime               0          1          2        3        4        5  \\\n",
       "first_ts_week                                                               \n",
       "1             3,826.0000   584.0000   363.0000 288.0000 245.0000 219.0000   \n",
       "2             5,135.0000   746.0000   468.0000 374.0000 268.0000 850.0000   \n",
       "3             5,634.0000   918.0000   516.0000 392.0000 986.0000 688.0000   \n",
       "4             5,340.0000   814.0000   466.0000 899.0000 666.0000      NaN   \n",
       "5             5,503.0000   833.0000 1,231.0000 748.0000      NaN      NaN   \n",
       "6             6,157.0000 1,914.0000   994.0000   1.0000      NaN      NaN   \n",
       "7             7,628.0000 1,409.0000     1.0000      NaN      NaN      NaN   \n",
       "8             4,113.0000        NaN        NaN      NaN      NaN      NaN   \n",
       "\n",
       "lifetime             6        7  \n",
       "first_ts_week                    \n",
       "1             896.0000 208.0000  \n",
       "2             588.0000      NaN  \n",
       "3                  NaN      NaN  \n",
       "4                  NaN      NaN  \n",
       "5                  NaN      NaN  \n",
       "6                  NaN      NaN  \n",
       "7                  NaN      NaN  \n",
       "8                  NaN      NaN  "
      ]
     },
     "execution_count": 24,
     "metadata": {},
     "output_type": "execute_result"
    }
   ],
   "source": [
    "users_by_firsts_weeks"
   ]
  },
  {
   "cell_type": "markdown",
   "id": "d45820c5",
   "metadata": {},
   "source": [
    "В данной таблице:\n",
    "- `first_ts_week` означает неделю оформления первой подписки (наши когорты)\n",
    "- каждая ячейка - это количество оформивших подписку пользователей\n",
    "- пропущенные значения означают, что не все когорты имеют пользователей с таким `lifetime`, \n",
    "- колонка 0 это размеры когорт\n",
    "\n",
    "Переименуем колонку 0"
   ]
  },
  {
   "cell_type": "code",
   "execution_count": 25,
   "id": "fc181e23",
   "metadata": {},
   "outputs": [],
   "source": [
    "users_by_firsts_weeks = users_by_firsts_weeks.rename(columns={0: 'cohort_size'})"
   ]
  },
  {
   "cell_type": "markdown",
   "id": "df0f5321",
   "metadata": {},
   "source": [
    "### Расчет LTV"
   ]
  },
  {
   "cell_type": "markdown",
   "id": "627000da",
   "metadata": {},
   "source": [
    "Установим горизонт анализа в четыре недели (платной подписки), для этого сделаем срез таблицы"
   ]
  },
  {
   "cell_type": "code",
   "execution_count": 26,
   "id": "5e567106",
   "metadata": {},
   "outputs": [
    {
     "data": {
      "text/html": [
       "<div>\n",
       "<style scoped>\n",
       "    .dataframe tbody tr th:only-of-type {\n",
       "        vertical-align: middle;\n",
       "    }\n",
       "\n",
       "    .dataframe tbody tr th {\n",
       "        vertical-align: top;\n",
       "    }\n",
       "\n",
       "    .dataframe thead th {\n",
       "        text-align: right;\n",
       "    }\n",
       "</style>\n",
       "<table border=\"1\" class=\"dataframe\">\n",
       "  <thead>\n",
       "    <tr style=\"text-align: right;\">\n",
       "      <th>lifetime</th>\n",
       "      <th>cohort_size</th>\n",
       "      <th>1</th>\n",
       "      <th>2</th>\n",
       "      <th>3</th>\n",
       "      <th>4</th>\n",
       "    </tr>\n",
       "    <tr>\n",
       "      <th>first_ts_week</th>\n",
       "      <th></th>\n",
       "      <th></th>\n",
       "      <th></th>\n",
       "      <th></th>\n",
       "      <th></th>\n",
       "    </tr>\n",
       "  </thead>\n",
       "  <tbody>\n",
       "    <tr>\n",
       "      <th>1</th>\n",
       "      <td>3,826.0000</td>\n",
       "      <td>584.0000</td>\n",
       "      <td>363.0000</td>\n",
       "      <td>288.0000</td>\n",
       "      <td>245.0000</td>\n",
       "    </tr>\n",
       "    <tr>\n",
       "      <th>2</th>\n",
       "      <td>5,135.0000</td>\n",
       "      <td>746.0000</td>\n",
       "      <td>468.0000</td>\n",
       "      <td>374.0000</td>\n",
       "      <td>268.0000</td>\n",
       "    </tr>\n",
       "    <tr>\n",
       "      <th>3</th>\n",
       "      <td>5,634.0000</td>\n",
       "      <td>918.0000</td>\n",
       "      <td>516.0000</td>\n",
       "      <td>392.0000</td>\n",
       "      <td>986.0000</td>\n",
       "    </tr>\n",
       "    <tr>\n",
       "      <th>4</th>\n",
       "      <td>5,340.0000</td>\n",
       "      <td>814.0000</td>\n",
       "      <td>466.0000</td>\n",
       "      <td>899.0000</td>\n",
       "      <td>666.0000</td>\n",
       "    </tr>\n",
       "  </tbody>\n",
       "</table>\n",
       "</div>"
      ],
      "text/plain": [
       "lifetime       cohort_size        1        2        3        4\n",
       "first_ts_week                                                 \n",
       "1               3,826.0000 584.0000 363.0000 288.0000 245.0000\n",
       "2               5,135.0000 746.0000 468.0000 374.0000 268.0000\n",
       "3               5,634.0000 918.0000 516.0000 392.0000 986.0000\n",
       "4               5,340.0000 814.0000 466.0000 899.0000 666.0000"
      ]
     },
     "execution_count": 26,
     "metadata": {},
     "output_type": "execute_result"
    }
   ],
   "source": [
    "users_cnt_by_lifetime = users_by_firsts_weeks.iloc[:4, :5]\n",
    "users_cnt_by_lifetime"
   ]
  },
  {
   "cell_type": "markdown",
   "id": "ceb18c98",
   "metadata": {},
   "source": [
    "Для расчета LTV нам нужно:\n",
    "- каждую колонку `lifetime` кроме умножить на стоимость недельной подписки т.е. 4.99USD тем самым мы получим выручку за конкретный `lifetime` всех когорт\n",
    "- затем вычислить кумулятивную сумму (сумму с накоплением) выручки \n",
    "- разделить получившиеся значения на размеры когорт"
   ]
  },
  {
   "cell_type": "code",
   "execution_count": 30,
   "id": "10b7066b",
   "metadata": {},
   "outputs": [
    {
     "data": {
      "text/html": [
       "<div>\n",
       "<style scoped>\n",
       "    .dataframe tbody tr th:only-of-type {\n",
       "        vertical-align: middle;\n",
       "    }\n",
       "\n",
       "    .dataframe tbody tr th {\n",
       "        vertical-align: top;\n",
       "    }\n",
       "\n",
       "    .dataframe thead th {\n",
       "        text-align: right;\n",
       "    }\n",
       "</style>\n",
       "<table border=\"1\" class=\"dataframe\">\n",
       "  <thead>\n",
       "    <tr style=\"text-align: right;\">\n",
       "      <th>lifetime</th>\n",
       "      <th>1</th>\n",
       "      <th>2</th>\n",
       "      <th>3</th>\n",
       "      <th>4</th>\n",
       "    </tr>\n",
       "    <tr>\n",
       "      <th>first_ts_week</th>\n",
       "      <th></th>\n",
       "      <th></th>\n",
       "      <th></th>\n",
       "      <th></th>\n",
       "    </tr>\n",
       "  </thead>\n",
       "  <tbody>\n",
       "    <tr>\n",
       "      <th>1</th>\n",
       "      <td>0.7617</td>\n",
       "      <td>1.2351</td>\n",
       "      <td>1.6107</td>\n",
       "      <td>1.9303</td>\n",
       "    </tr>\n",
       "    <tr>\n",
       "      <th>2</th>\n",
       "      <td>0.7249</td>\n",
       "      <td>1.1797</td>\n",
       "      <td>1.5432</td>\n",
       "      <td>1.8036</td>\n",
       "    </tr>\n",
       "    <tr>\n",
       "      <th>3</th>\n",
       "      <td>0.8131</td>\n",
       "      <td>1.2701</td>\n",
       "      <td>1.6173</td>\n",
       "      <td>2.4906</td>\n",
       "    </tr>\n",
       "    <tr>\n",
       "      <th>4</th>\n",
       "      <td>0.7606</td>\n",
       "      <td>1.1961</td>\n",
       "      <td>2.0362</td>\n",
       "      <td>2.6585</td>\n",
       "    </tr>\n",
       "  </tbody>\n",
       "</table>\n",
       "</div>"
      ],
      "text/plain": [
       "lifetime           1      2      3      4\n",
       "first_ts_week                            \n",
       "1             0.7617 1.2351 1.6107 1.9303\n",
       "2             0.7249 1.1797 1.5432 1.8036\n",
       "3             0.8131 1.2701 1.6173 2.4906\n",
       "4             0.7606 1.1961 2.0362 2.6585"
      ]
     },
     "execution_count": 30,
     "metadata": {},
     "output_type": "execute_result"
    }
   ],
   "source": [
    "purchase_cost = 4.99 #  стоимость недельной подписки\n",
    "# рассчитываем выручку c накоплением\n",
    "ltv_by_lifetime = users_cnt_by_lifetime.iloc[::, 1:].cumsum(axis=1) * purchase_cost\n",
    "# делим каждую колонку с выручкой на размер когорты\n",
    "ltv_by_lifetime = ltv_by_lifetime.div(users_cnt_by_lifetime['cohort_size'], axis=0)\n",
    "\n",
    "ltv_by_lifetime"
   ]
  },
  {
   "cell_type": "markdown",
   "id": "b859b1bb",
   "metadata": {},
   "source": [
    "Посмотрим на данную таблицу с помощью тепловой карты"
   ]
  },
  {
   "cell_type": "code",
   "execution_count": 32,
   "id": "bf9a28dd",
   "metadata": {},
   "outputs": [
    {
     "data": {
      "image/png": "[encoded data removed]",
      "text/plain": [
       "<Figure size 504x360 with 2 Axes>"
      ]
     },
     "metadata": {
      "needs_background": "light"
     },
     "output_type": "display_data"
    }
   ],
   "source": [
    "plt.figure(figsize=(7, 5))\n",
    "sns.heatmap(ltv_by_lifetime, annot=True, fmt='.2f')\n",
    "plt.title('Тепловая карта LTV')\n",
    "plt.xlabel('Лайфтайм')\n",
    "plt.ylabel('Неделя начала платной подпски')\n",
    "plt.show()"
   ]
  },
  {
   "cell_type": "markdown",
   "id": "fc7cd366",
   "metadata": {},
   "source": [
    "Лучший LTV показывает когорта 4 недели - 2.66USD за четыре недели. Построим линейный график, чтобы увидеть динамику изменения LTV по когортам"
   ]
  },
  {
   "cell_type": "code",
   "execution_count": 34,
   "id": "c2cec59b",
   "metadata": {},
   "outputs": [
    {
     "data": {
      "image/png": "[encoded data removed]",
      "text/plain": [
       "<Figure size 720x360 with 1 Axes>"
      ]
     },
     "metadata": {
      "needs_background": "light"
     },
     "output_type": "display_data"
    }
   ],
   "source": [
    "ltv_by_lifetime.T.plot(grid=True, figsize=(10, 5), xticks=list(ltv_by_lifetime.columns.values))\n",
    "plt.title('LTV с разбивкой по неделям покупки')\n",
    "plt.ylabel('LTV, $')\n",
    "plt.xlabel('Лайфтайм')\n",
    "plt.show()"
   ]
  },
  {
   "cell_type": "markdown",
   "id": "a47bd6f8",
   "metadata": {},
   "source": [
    "У 3 и 4 когорты на 2 и 3 неделе соответственно виден сильный скачок LTV. Стоит обратить внимание и собрать дополнительные данные, например что изменилось в рекламной компании, возможно была проведена какая-либо акция для уже имеющих подписку пользователей и.т.п, для того чтобы понять причину позитивных изменений в этих когортах"
   ]
  },
  {
   "cell_type": "markdown",
   "id": "b2e8c751",
   "metadata": {},
   "source": [
    "## Прогнозирование LTV на 6 месяцев"
   ]
  },
  {
   "cell_type": "markdown",
   "id": "43ddfcdc",
   "metadata": {},
   "source": [
    "###  Рассчитаем LTV для всех пользователей без разбиения по когортам"
   ]
  },
  {
   "cell_type": "markdown",
   "id": "f8e56fa0",
   "metadata": {},
   "source": [
    "Для прогнозирования рассчитаем LTV для всех пользователей без разбиения по неделям (1 общая когорта)"
   ]
  },
  {
   "cell_type": "code",
   "execution_count": 35,
   "id": "69869d1e",
   "metadata": {},
   "outputs": [
    {
     "data": {
      "text/html": [
       "<div>\n",
       "<style scoped>\n",
       "    .dataframe tbody tr th:only-of-type {\n",
       "        vertical-align: middle;\n",
       "    }\n",
       "\n",
       "    .dataframe tbody tr th {\n",
       "        vertical-align: top;\n",
       "    }\n",
       "\n",
       "    .dataframe thead th {\n",
       "        text-align: right;\n",
       "    }\n",
       "</style>\n",
       "<table border=\"1\" class=\"dataframe\">\n",
       "  <thead>\n",
       "    <tr style=\"text-align: right;\">\n",
       "      <th>lifetime</th>\n",
       "      <th>0</th>\n",
       "      <th>1</th>\n",
       "      <th>2</th>\n",
       "      <th>3</th>\n",
       "      <th>4</th>\n",
       "      <th>5</th>\n",
       "      <th>6</th>\n",
       "      <th>7</th>\n",
       "    </tr>\n",
       "    <tr>\n",
       "      <th>cohort</th>\n",
       "      <th></th>\n",
       "      <th></th>\n",
       "      <th></th>\n",
       "      <th></th>\n",
       "      <th></th>\n",
       "      <th></th>\n",
       "      <th></th>\n",
       "      <th></th>\n",
       "    </tr>\n",
       "  </thead>\n",
       "  <tbody>\n",
       "    <tr>\n",
       "      <th>all_users</th>\n",
       "      <td>43336</td>\n",
       "      <td>0.8311</td>\n",
       "      <td>1.2962</td>\n",
       "      <td>1.6073</td>\n",
       "      <td>1.8566</td>\n",
       "      <td>2.0589</td>\n",
       "      <td>2.2298</td>\n",
       "      <td>2.2538</td>\n",
       "    </tr>\n",
       "  </tbody>\n",
       "</table>\n",
       "</div>"
      ],
      "text/plain": [
       "lifetime       0      1      2      3      4      5      6      7\n",
       "cohort                                                           \n",
       "all_users  43336 0.8311 1.2962 1.6073 1.8566 2.0589 2.2298 2.2538"
      ]
     },
     "execution_count": 35,
     "metadata": {},
     "output_type": "execute_result"
    }
   ],
   "source": [
    "data['cohort'] = 'all_users' # создали колонку со значениями которая обозначает общую когорту\n",
    "\n",
    "ltv_by_all_users = data.pivot_table(\n",
    "    index='cohort',\n",
    "    columns='lifetime',\n",
    "    values='user_id',\n",
    "    aggfunc='nunique'\n",
    ")\n",
    "\n",
    "# вычисляем выручку c накоплением и умножаем на стоимость подписки\n",
    "ltv_by_all_users.iloc[::, 1:] = ltv_by_all_users.iloc[::, 1:].cumsum(axis=1) * purchase_cost\n",
    "# делим каждую колонку с выручкой на размер когорты\n",
    "ltv_by_all_users.iloc[::, 1:] = ltv_by_all_users.iloc[::, 1:].div(ltv_by_all_users[0], axis=0)\n",
    "ltv_by_all_users"
   ]
  },
  {
   "cell_type": "markdown",
   "id": "4c9c9a0a",
   "metadata": {},
   "source": [
    "### Построим график изменения LTV по неделям"
   ]
  },
  {
   "cell_type": "code",
   "execution_count": 36,
   "id": "1a01f33b",
   "metadata": {},
   "outputs": [
    {
     "data": {
      "image/png": "[encoded data removed]",
      "text/plain": [
       "<Figure size 720x360 with 1 Axes>"
      ]
     },
     "metadata": {
      "needs_background": "light"
     },
     "output_type": "display_data"
    }
   ],
   "source": [
    "report = ltv_by_all_users.iloc[::, 1:]\n",
    "report.T.plot(grid=True, figsize=(10, 5), xticks=list(report.columns.values))\n",
    "plt.title('LTV для всех пользователей без разбиения')\n",
    "plt.ylabel('LTV, $')\n",
    "plt.xlabel('Лайфтайм')\n",
    "plt.show()"
   ]
  },
  {
   "cell_type": "markdown",
   "id": "db6d6637",
   "metadata": {},
   "source": [
    "На графике виден резкий переход в плато на 6 неделе, это из-за того на данном участке количество пользователей с таким лайфтаймом резко падает. Поэтому ограничим горизонт анализа до 6 недели"
   ]
  },
  {
   "cell_type": "code",
   "execution_count": 37,
   "id": "11718a6e",
   "metadata": {},
   "outputs": [
    {
     "data": {
      "text/html": [
       "<div>\n",
       "<style scoped>\n",
       "    .dataframe tbody tr th:only-of-type {\n",
       "        vertical-align: middle;\n",
       "    }\n",
       "\n",
       "    .dataframe tbody tr th {\n",
       "        vertical-align: top;\n",
       "    }\n",
       "\n",
       "    .dataframe thead th {\n",
       "        text-align: right;\n",
       "    }\n",
       "</style>\n",
       "<table border=\"1\" class=\"dataframe\">\n",
       "  <thead>\n",
       "    <tr style=\"text-align: right;\">\n",
       "      <th>lifetime</th>\n",
       "      <th>1</th>\n",
       "      <th>2</th>\n",
       "      <th>3</th>\n",
       "      <th>4</th>\n",
       "      <th>5</th>\n",
       "      <th>6</th>\n",
       "    </tr>\n",
       "    <tr>\n",
       "      <th>cohort</th>\n",
       "      <th></th>\n",
       "      <th></th>\n",
       "      <th></th>\n",
       "      <th></th>\n",
       "      <th></th>\n",
       "      <th></th>\n",
       "    </tr>\n",
       "  </thead>\n",
       "  <tbody>\n",
       "    <tr>\n",
       "      <th>all_users</th>\n",
       "      <td>0.8311</td>\n",
       "      <td>1.2962</td>\n",
       "      <td>1.6073</td>\n",
       "      <td>1.8566</td>\n",
       "      <td>2.0589</td>\n",
       "      <td>2.2298</td>\n",
       "    </tr>\n",
       "  </tbody>\n",
       "</table>\n",
       "</div>"
      ],
      "text/plain": [
       "lifetime       1      2      3      4      5      6\n",
       "cohort                                             \n",
       "all_users 0.8311 1.2962 1.6073 1.8566 2.0589 2.2298"
      ]
     },
     "execution_count": 37,
     "metadata": {},
     "output_type": "execute_result"
    }
   ],
   "source": [
    "ltv_by_all_users = ltv_by_all_users.iloc[::, 1:7]\n",
    "ltv_by_all_users"
   ]
  },
  {
   "cell_type": "markdown",
   "id": "d8e67b22",
   "metadata": {},
   "source": [
    "### Спрогнозируем значения LTV"
   ]
  },
  {
   "cell_type": "markdown",
   "id": "1801ac61",
   "metadata": {},
   "source": [
    "Наша кривая визуально имеет логарифмическую зависимость, поэтому создадим логарифмическую функцию и воспользуемся подбором параметров (scipy.optimize.curve_fit) на основе имеющихся у нас данных"
   ]
  },
  {
   "cell_type": "code",
   "execution_count": 38,
   "id": "8ad6093e",
   "metadata": {},
   "outputs": [],
   "source": [
    "x = np.array(ltv_by_all_users.columns) # независимая перменная - lifetime\n",
    "y = np.array(ltv_by_all_users.values[0]) # зависимая переменная - LTV\n",
    "\n",
    "def log_fn(t, a, b): # логарифмическая функция\n",
    "    return a + b * np.log(t)\n",
    "\n",
    "popt, pcov = curve_fit(log_fn,  x,  y) # подбор оптимальных коэффициетов\n",
    "\n",
    "xs = range(1, 25) # значения независимой переменной для прогноза LTV на 24 (6 месяцев)\n",
    "y_predict = log_fn(range(1, 25), *popt) # значения зависимой переменной y предсказанные нашей функцией - LTV на полгода"
   ]
  },
  {
   "cell_type": "markdown",
   "id": "8df0453f",
   "metadata": {},
   "source": [
    "Построим линейный график с кривой фактического и кривой предсказанного LTV"
   ]
  },
  {
   "cell_type": "code",
   "execution_count": 39,
   "id": "6dcc6308",
   "metadata": {},
   "outputs": [
    {
     "data": {
      "image/png": "[encoded data removed]",
      "text/plain": [
       "<Figure size 720x360 with 1 Axes>"
      ]
     },
     "metadata": {
      "needs_background": "light"
     },
     "output_type": "display_data"
    }
   ],
   "source": [
    "plt.figure(figsize=(10, 5))\n",
    "plt.plot(x, y, 'b-', label='фактический LTV')\n",
    "plt.plot(xs, y_predict, 'r-', label='предсказанный LTV')\n",
    "plt.legend()\n",
    "plt.grid()\n",
    "plt.title('LTV для всех пользователей без разбиения')\n",
    "plt.ylabel('LTV, $')\n",
    "plt.xlabel('Лайфтайм')\n",
    "plt.show()"
   ]
  },
  {
   "cell_type": "code",
   "execution_count": 40,
   "id": "cfc76b19",
   "metadata": {},
   "outputs": [
    {
     "name": "stdout",
     "output_type": "stream",
     "text": [
      "Прогнозируемое значение LTV на конец 24 недели 3.27\n"
     ]
    }
   ],
   "source": [
    "print('Прогнозируемое значение LTV на конец 24 недели', round(y_predict[-1], 2))"
   ]
  },
  {
   "cell_type": "markdown",
   "id": "372f07de",
   "metadata": {},
   "source": [
    "Наша приближенная функция достаточно четко повторяет фактический LTV. К концу периода 6 месяцев предсказанный LTV = 3.27USD"
   ]
  },
  {
   "cell_type": "markdown",
   "id": "c2963bfa",
   "metadata": {},
   "source": [
    "## Расчет ROMI"
   ]
  },
  {
   "cell_type": "markdown",
   "id": "f9871d2b",
   "metadata": {},
   "source": [
    "Рассчитаем ROMI на 4 недели и спрогнозируем этот показатель на пол года (24 недели) при условии того, что стоимость привлечения платящего пользователя = 6 USD"
   ]
  },
  {
   "cell_type": "markdown",
   "id": "695ff771",
   "metadata": {},
   "source": [
    "### Рассчитаем ROMI на 4 недели"
   ]
  },
  {
   "cell_type": "markdown",
   "id": "029adee7",
   "metadata": {},
   "source": [
    "Для этого воспользуемся таблицей `users_cnt_by_lifetime` [которую мы создали при расчете LTV](#Расчет-LTV)"
   ]
  },
  {
   "cell_type": "code",
   "execution_count": 41,
   "id": "422ace2c",
   "metadata": {},
   "outputs": [
    {
     "data": {
      "text/html": [
       "<div>\n",
       "<style scoped>\n",
       "    .dataframe tbody tr th:only-of-type {\n",
       "        vertical-align: middle;\n",
       "    }\n",
       "\n",
       "    .dataframe tbody tr th {\n",
       "        vertical-align: top;\n",
       "    }\n",
       "\n",
       "    .dataframe thead th {\n",
       "        text-align: right;\n",
       "    }\n",
       "</style>\n",
       "<table border=\"1\" class=\"dataframe\">\n",
       "  <thead>\n",
       "    <tr style=\"text-align: right;\">\n",
       "      <th>lifetime</th>\n",
       "      <th>cohort_size</th>\n",
       "      <th>1</th>\n",
       "      <th>2</th>\n",
       "      <th>3</th>\n",
       "      <th>4</th>\n",
       "    </tr>\n",
       "    <tr>\n",
       "      <th>first_ts_week</th>\n",
       "      <th></th>\n",
       "      <th></th>\n",
       "      <th></th>\n",
       "      <th></th>\n",
       "      <th></th>\n",
       "    </tr>\n",
       "  </thead>\n",
       "  <tbody>\n",
       "    <tr>\n",
       "      <th>1</th>\n",
       "      <td>3,826.0000</td>\n",
       "      <td>584.0000</td>\n",
       "      <td>363.0000</td>\n",
       "      <td>288.0000</td>\n",
       "      <td>245.0000</td>\n",
       "    </tr>\n",
       "    <tr>\n",
       "      <th>2</th>\n",
       "      <td>5,135.0000</td>\n",
       "      <td>746.0000</td>\n",
       "      <td>468.0000</td>\n",
       "      <td>374.0000</td>\n",
       "      <td>268.0000</td>\n",
       "    </tr>\n",
       "    <tr>\n",
       "      <th>3</th>\n",
       "      <td>5,634.0000</td>\n",
       "      <td>918.0000</td>\n",
       "      <td>516.0000</td>\n",
       "      <td>392.0000</td>\n",
       "      <td>986.0000</td>\n",
       "    </tr>\n",
       "    <tr>\n",
       "      <th>4</th>\n",
       "      <td>5,340.0000</td>\n",
       "      <td>814.0000</td>\n",
       "      <td>466.0000</td>\n",
       "      <td>899.0000</td>\n",
       "      <td>666.0000</td>\n",
       "    </tr>\n",
       "  </tbody>\n",
       "</table>\n",
       "</div>"
      ],
      "text/plain": [
       "lifetime       cohort_size        1        2        3        4\n",
       "first_ts_week                                                 \n",
       "1               3,826.0000 584.0000 363.0000 288.0000 245.0000\n",
       "2               5,135.0000 746.0000 468.0000 374.0000 268.0000\n",
       "3               5,634.0000 918.0000 516.0000 392.0000 986.0000\n",
       "4               5,340.0000 814.0000 466.0000 899.0000 666.0000"
      ]
     },
     "execution_count": 41,
     "metadata": {},
     "output_type": "execute_result"
    }
   ],
   "source": [
    "users_cnt_by_lifetime"
   ]
  },
  {
   "cell_type": "markdown",
   "id": "57586c5b",
   "metadata": {},
   "source": [
    "Теперь рассчитаем CAC для каждой когорты, для этого нужно взять значения из колонки 1 (максимальное количество платящих пользователей для когорты) и умножить на 6USD, тем самым получим расходы на привленчение по каждой когорте, далее эти значения разделим на размеры когорт и получим CAC - стоимость привлечения одного пользователя для каждой когорты"
   ]
  },
  {
   "cell_type": "code",
   "execution_count": 45,
   "id": "452e23fd",
   "metadata": {},
   "outputs": [
    {
     "data": {
      "text/plain": [
       "first_ts_week\n",
       "1   0.9158\n",
       "2   0.8717\n",
       "3   0.9776\n",
       "4   0.9146\n",
       "dtype: float64"
      ]
     },
     "execution_count": 45,
     "metadata": {},
     "output_type": "execute_result"
    }
   ],
   "source": [
    "acquisition_cost = 6\n",
    "cac = (users_cnt_by_lifetime[1] * acquisition_cost) / users_cnt_by_lifetime['cohort_size']\n",
    "cac"
   ]
  },
  {
   "cell_type": "markdown",
   "id": "ce56f448",
   "metadata": {},
   "source": [
    "$ROMI = LTV \\ / \\ CAC$  \n",
    "для этого возьмем таблицу с ранее рассчитанным LTV и разделим все колонки на полученные значения CAC по когортам"
   ]
  },
  {
   "cell_type": "code",
   "execution_count": 49,
   "id": "3ff0c842",
   "metadata": {},
   "outputs": [],
   "source": [
    "romi = ltv_by_lifetime.div(cac, axis=0)"
   ]
  },
  {
   "cell_type": "code",
   "execution_count": 50,
   "id": "aa7b326a",
   "metadata": {},
   "outputs": [
    {
     "data": {
      "text/html": [
       "<div>\n",
       "<style scoped>\n",
       "    .dataframe tbody tr th:only-of-type {\n",
       "        vertical-align: middle;\n",
       "    }\n",
       "\n",
       "    .dataframe tbody tr th {\n",
       "        vertical-align: top;\n",
       "    }\n",
       "\n",
       "    .dataframe thead th {\n",
       "        text-align: right;\n",
       "    }\n",
       "</style>\n",
       "<table border=\"1\" class=\"dataframe\">\n",
       "  <thead>\n",
       "    <tr style=\"text-align: right;\">\n",
       "      <th>lifetime</th>\n",
       "      <th>1</th>\n",
       "      <th>2</th>\n",
       "      <th>3</th>\n",
       "      <th>4</th>\n",
       "    </tr>\n",
       "    <tr>\n",
       "      <th>first_ts_week</th>\n",
       "      <th></th>\n",
       "      <th></th>\n",
       "      <th></th>\n",
       "      <th></th>\n",
       "    </tr>\n",
       "  </thead>\n",
       "  <tbody>\n",
       "    <tr>\n",
       "      <th>1</th>\n",
       "      <td>0.8317</td>\n",
       "      <td>1.3486</td>\n",
       "      <td>1.7587</td>\n",
       "      <td>2.1076</td>\n",
       "    </tr>\n",
       "    <tr>\n",
       "      <th>2</th>\n",
       "      <td>0.8317</td>\n",
       "      <td>1.3534</td>\n",
       "      <td>1.7704</td>\n",
       "      <td>2.0691</td>\n",
       "    </tr>\n",
       "    <tr>\n",
       "      <th>3</th>\n",
       "      <td>0.8317</td>\n",
       "      <td>1.2991</td>\n",
       "      <td>1.6543</td>\n",
       "      <td>2.5475</td>\n",
       "    </tr>\n",
       "    <tr>\n",
       "      <th>4</th>\n",
       "      <td>0.8317</td>\n",
       "      <td>1.3078</td>\n",
       "      <td>2.2263</td>\n",
       "      <td>2.9067</td>\n",
       "    </tr>\n",
       "  </tbody>\n",
       "</table>\n",
       "</div>"
      ],
      "text/plain": [
       "lifetime           1      2      3      4\n",
       "first_ts_week                            \n",
       "1             0.8317 1.3486 1.7587 2.1076\n",
       "2             0.8317 1.3534 1.7704 2.0691\n",
       "3             0.8317 1.2991 1.6543 2.5475\n",
       "4             0.8317 1.3078 2.2263 2.9067"
      ]
     },
     "execution_count": 50,
     "metadata": {},
     "output_type": "execute_result"
    }
   ],
   "source": [
    "romi"
   ]
  },
  {
   "cell_type": "markdown",
   "id": "2c557c90",
   "metadata": {},
   "source": [
    "Построим линейный график и установим уровень окупаемости на значении 1"
   ]
  },
  {
   "cell_type": "code",
   "execution_count": 51,
   "id": "73dd81b8",
   "metadata": {},
   "outputs": [
    {
     "data": {
      "image/png": "[encoded data removed]",
      "text/plain": [
       "<Figure size 720x360 with 1 Axes>"
      ]
     },
     "metadata": {
      "needs_background": "light"
     },
     "output_type": "display_data"
    }
   ],
   "source": [
    "romi.T.plot(grid=True, figsize=(10, 5), xticks=list(romi.columns.values))\n",
    "\n",
    "plt.title('ROMI с разбивкой по неделям привлечения')\n",
    "plt.ylabel('ROMI')\n",
    "plt.xlabel('Лайфтайм')\n",
    "plt.axhline(y=1, color='red', linestyle='--', label='Уровень окупаемости')\n",
    "plt.legend()\n",
    "plt.show()"
   ]
  },
  {
   "cell_type": "markdown",
   "id": "0ec46777",
   "metadata": {},
   "source": [
    "Все когорты пересекли уровень окупаемости начиная со второй платной недели подписки, то есть на конец горизонта анализа в 4 недели, все когорты окупаются."
   ]
  },
  {
   "cell_type": "markdown",
   "id": "e1557c70",
   "metadata": {},
   "source": [
    "## Прогнозирование ROMI на 6 месяцев"
   ]
  },
  {
   "cell_type": "markdown",
   "id": "833235cc",
   "metadata": {},
   "source": [
    "### Рассчитаем ROMI по LTV для всех пользователей без разбиения"
   ]
  },
  {
   "cell_type": "markdown",
   "id": "119ab4d4",
   "metadata": {},
   "source": [
    "Для этого воспользуемся таблицей `ltv_by_all_users` полученной нами ранее"
   ]
  },
  {
   "cell_type": "code",
   "execution_count": 52,
   "id": "f3fa2ea7",
   "metadata": {},
   "outputs": [],
   "source": [
    "data['cohort'] = 'all_users' # создали колонку со значениями которая обозначает общую когорту\n",
    "\n",
    "users_by_lifetimes = data.pivot_table(\n",
    "    index='cohort',\n",
    "    columns='lifetime',\n",
    "    values='user_id',\n",
    "    aggfunc='nunique'\n",
    ")"
   ]
  },
  {
   "cell_type": "code",
   "execution_count": 53,
   "id": "854b327e",
   "metadata": {},
   "outputs": [
    {
     "data": {
      "text/html": [
       "<div>\n",
       "<style scoped>\n",
       "    .dataframe tbody tr th:only-of-type {\n",
       "        vertical-align: middle;\n",
       "    }\n",
       "\n",
       "    .dataframe tbody tr th {\n",
       "        vertical-align: top;\n",
       "    }\n",
       "\n",
       "    .dataframe thead th {\n",
       "        text-align: right;\n",
       "    }\n",
       "</style>\n",
       "<table border=\"1\" class=\"dataframe\">\n",
       "  <thead>\n",
       "    <tr style=\"text-align: right;\">\n",
       "      <th>lifetime</th>\n",
       "      <th>0</th>\n",
       "      <th>1</th>\n",
       "      <th>2</th>\n",
       "      <th>3</th>\n",
       "      <th>4</th>\n",
       "      <th>5</th>\n",
       "      <th>6</th>\n",
       "      <th>7</th>\n",
       "    </tr>\n",
       "    <tr>\n",
       "      <th>cohort</th>\n",
       "      <th></th>\n",
       "      <th></th>\n",
       "      <th></th>\n",
       "      <th></th>\n",
       "      <th></th>\n",
       "      <th></th>\n",
       "      <th></th>\n",
       "      <th></th>\n",
       "    </tr>\n",
       "  </thead>\n",
       "  <tbody>\n",
       "    <tr>\n",
       "      <th>all_users</th>\n",
       "      <td>43336</td>\n",
       "      <td>7218</td>\n",
       "      <td>4039</td>\n",
       "      <td>2702</td>\n",
       "      <td>2165</td>\n",
       "      <td>1757</td>\n",
       "      <td>1484</td>\n",
       "      <td>208</td>\n",
       "    </tr>\n",
       "  </tbody>\n",
       "</table>\n",
       "</div>"
      ],
      "text/plain": [
       "lifetime       0     1     2     3     4     5     6    7\n",
       "cohort                                                   \n",
       "all_users  43336  7218  4039  2702  2165  1757  1484  208"
      ]
     },
     "execution_count": 53,
     "metadata": {},
     "output_type": "execute_result"
    }
   ],
   "source": [
    "users_by_lifetimes"
   ]
  },
  {
   "cell_type": "markdown",
   "id": "fbf9e509",
   "metadata": {},
   "source": [
    "Количество уникальных пользователей на каждый лайфтайм"
   ]
  },
  {
   "cell_type": "code",
   "execution_count": 54,
   "id": "3274d7a5",
   "metadata": {},
   "outputs": [
    {
     "data": {
      "text/plain": [
       "cohort\n",
       "all_users   0.9994\n",
       "dtype: float64"
      ]
     },
     "execution_count": 54,
     "metadata": {},
     "output_type": "execute_result"
    }
   ],
   "source": [
    "cac = (users_by_lifetimes[1] * acquisition_cost) / users_by_lifetimes[0]\n",
    "cac"
   ]
  },
  {
   "cell_type": "markdown",
   "id": "8d4fae33",
   "metadata": {},
   "source": [
    "Получили CAC - стоимость привлечения одного пользователя"
   ]
  },
  {
   "cell_type": "code",
   "execution_count": 55,
   "id": "a53fd1d5",
   "metadata": {},
   "outputs": [
    {
     "data": {
      "text/html": [
       "<div>\n",
       "<style scoped>\n",
       "    .dataframe tbody tr th:only-of-type {\n",
       "        vertical-align: middle;\n",
       "    }\n",
       "\n",
       "    .dataframe tbody tr th {\n",
       "        vertical-align: top;\n",
       "    }\n",
       "\n",
       "    .dataframe thead th {\n",
       "        text-align: right;\n",
       "    }\n",
       "</style>\n",
       "<table border=\"1\" class=\"dataframe\">\n",
       "  <thead>\n",
       "    <tr style=\"text-align: right;\">\n",
       "      <th>lifetime</th>\n",
       "      <th>1</th>\n",
       "      <th>2</th>\n",
       "      <th>3</th>\n",
       "      <th>4</th>\n",
       "      <th>5</th>\n",
       "      <th>6</th>\n",
       "    </tr>\n",
       "    <tr>\n",
       "      <th>cohort</th>\n",
       "      <th></th>\n",
       "      <th></th>\n",
       "      <th></th>\n",
       "      <th></th>\n",
       "      <th></th>\n",
       "      <th></th>\n",
       "    </tr>\n",
       "  </thead>\n",
       "  <tbody>\n",
       "    <tr>\n",
       "      <th>all_users</th>\n",
       "      <td>0.8317</td>\n",
       "      <td>1.2970</td>\n",
       "      <td>1.6084</td>\n",
       "      <td>1.8578</td>\n",
       "      <td>2.0603</td>\n",
       "      <td>2.2313</td>\n",
       "    </tr>\n",
       "  </tbody>\n",
       "</table>\n",
       "</div>"
      ],
      "text/plain": [
       "lifetime       1      2      3      4      5      6\n",
       "cohort                                             \n",
       "all_users 0.8317 1.2970 1.6084 1.8578 2.0603 2.2313"
      ]
     },
     "execution_count": 55,
     "metadata": {},
     "output_type": "execute_result"
    }
   ],
   "source": [
    "romi = ltv_by_all_users.div(cac, axis=0)\n",
    "romi"
   ]
  },
  {
   "cell_type": "markdown",
   "id": "4af8f83b",
   "metadata": {},
   "source": [
    "Значения ROMI для каждого лайфтайма. Отобразим их на линейном графике, чтобы увидеть динамику"
   ]
  },
  {
   "cell_type": "code",
   "execution_count": 56,
   "id": "ffafbe8b",
   "metadata": {},
   "outputs": [
    {
     "data": {
      "image/png": "[encoded data removed]",
      "text/plain": [
       "<Figure size 720x360 with 1 Axes>"
      ]
     },
     "metadata": {
      "needs_background": "light"
     },
     "output_type": "display_data"
    }
   ],
   "source": [
    "romi.T.plot(grid=True, figsize=(10, 5), xticks=list(romi.columns.values))\n",
    "\n",
    "plt.title('ROMI без разбиения на когорты')\n",
    "plt.ylabel('ROMI')\n",
    "plt.xlabel('Лайфтайм')\n",
    "plt.axhline(y=1, color='red', linestyle='--', label='Уровень окупаемости')\n",
    "plt.legend()\n",
    "plt.show()"
   ]
  },
  {
   "cell_type": "markdown",
   "id": "0d922aa0",
   "metadata": {},
   "source": [
    "В связи с тем, что CAC приблизительно = 1, мы получили значения ROMI очень близко похожие на значения LTV"
   ]
  },
  {
   "cell_type": "markdown",
   "id": "6db7eb78",
   "metadata": {},
   "source": [
    "### Спрогнозируем значения ROMI"
   ]
  },
  {
   "cell_type": "markdown",
   "id": "4b2685bb",
   "metadata": {},
   "source": [
    "Для этого повторим те же действия, что и в [прогнозировании LTV](#Аппроксимируем-функцию)"
   ]
  },
  {
   "cell_type": "code",
   "execution_count": 57,
   "id": "1d05b326",
   "metadata": {},
   "outputs": [],
   "source": [
    "x = np.array(romi.columns) # независимая перменная - lifetime\n",
    "y = np.array(romi.values[0]) # зависимая переменная - ROMI\n",
    "\n",
    "def log_fn(t, a, b): # логарифмическая функция\n",
    "    return a + b * np.log(t)\n",
    "\n",
    "popt, pcov = curve_fit(log_fn,  x,  y) # подбор оптимальных коэффициетов\n",
    "\n",
    "xs = range(1, 25) # значения независимой переменной для прогноза ROMI на 24 (6 месяцев)\n",
    "y_predict = log_fn(range(1, 25), *popt) # значения зависимой переменной y предсказанные нашей функцией - ROMI на полгода"
   ]
  },
  {
   "cell_type": "markdown",
   "id": "ffaf2dd0",
   "metadata": {},
   "source": [
    "Построим линейный график"
   ]
  },
  {
   "cell_type": "code",
   "execution_count": 58,
   "id": "859802cf",
   "metadata": {},
   "outputs": [
    {
     "data": {
      "image/png": "[encoded data removed]",
      "text/plain": [
       "<Figure size 720x360 with 1 Axes>"
      ]
     },
     "metadata": {
      "needs_background": "light"
     },
     "output_type": "display_data"
    }
   ],
   "source": [
    "plt.figure(figsize=(10, 5))\n",
    "plt.plot(x, y, 'b-', label='фактический ROMI')\n",
    "plt.plot(xs, y_predict, 'r-', label='предсказанный ROMI')\n",
    "plt.grid()\n",
    "plt.title('ROMI для всех пользователей без разбиения')\n",
    "plt.ylabel('ROMI')\n",
    "plt.xlabel('Лайфтайм')\n",
    "plt.axhline(y=1, color='red', linestyle='--', label='Уровень окупаемости')\n",
    "plt.legend()\n",
    "plt.show()"
   ]
  },
  {
   "cell_type": "code",
   "execution_count": 62,
   "id": "fb258797",
   "metadata": {},
   "outputs": [
    {
     "name": "stdout",
     "output_type": "stream",
     "text": [
      "Значение ROMI спрогнозированного на полгода = 3.27\n"
     ]
    }
   ],
   "source": [
    "print('Значение ROMI спрогнозированного на полгода =', round(y_predict[-1], 2))"
   ]
  },
  {
   "cell_type": "markdown",
   "id": "de05f334",
   "metadata": {},
   "source": [
    "## Вывод\n",
    "\n",
    "- Лучшие показатели LTV и ROMI у пользователей оформивших подписку на 3 и 4 неделях привлечения\n",
    "- На конец горизонта анализа в 4 недели, все когорты окупаются\n",
    "- Для прогнозирования значений LTV и ROMI экстраполировали логарифмическую функцию по полученным значениям за 4 недели (горизонт анализа) на 6 месяцев (24 недели)\n",
    "- Спрогнозированные значения LTV и ROMI на 6 месяцев очень похожи, из-за того, что CAC примерно = 1, соответсвенно ROMI = LTV / CAC примерно = LTV"
   ]
  }
 ],
 "metadata": {
  "ExecuteTimeLog": [
   {
    "duration": 2004,
    "start_time": "2022-03-18T15:04:54.593Z"
   },
   {
    "duration": 218,
    "start_time": "2022-03-18T15:04:56.600Z"
   },
   {
    "duration": 0,
    "start_time": "2022-03-18T15:04:56.822Z"
   },
   {
    "duration": 0,
    "start_time": "2022-03-18T15:04:56.824Z"
   },
   {
    "duration": 0,
    "start_time": "2022-03-18T15:04:56.825Z"
   },
   {
    "duration": 0,
    "start_time": "2022-03-18T15:04:56.827Z"
   },
   {
    "duration": 0,
    "start_time": "2022-03-18T15:04:56.829Z"
   },
   {
    "duration": 0,
    "start_time": "2022-03-18T15:04:56.830Z"
   },
   {
    "duration": 0,
    "start_time": "2022-03-18T15:04:56.832Z"
   },
   {
    "duration": 0,
    "start_time": "2022-03-18T15:04:56.834Z"
   },
   {
    "duration": 0,
    "start_time": "2022-03-18T15:04:56.835Z"
   },
   {
    "duration": 0,
    "start_time": "2022-03-18T15:04:56.836Z"
   },
   {
    "duration": 0,
    "start_time": "2022-03-18T15:04:56.838Z"
   },
   {
    "duration": 0,
    "start_time": "2022-03-18T15:04:56.839Z"
   },
   {
    "duration": 0,
    "start_time": "2022-03-18T15:04:56.840Z"
   },
   {
    "duration": 0,
    "start_time": "2022-03-18T15:04:56.842Z"
   },
   {
    "duration": 0,
    "start_time": "2022-03-18T15:04:56.843Z"
   },
   {
    "duration": 0,
    "start_time": "2022-03-18T15:04:56.844Z"
   },
   {
    "duration": 0,
    "start_time": "2022-03-18T15:04:56.846Z"
   },
   {
    "duration": 0,
    "start_time": "2022-03-18T15:04:56.847Z"
   },
   {
    "duration": 0,
    "start_time": "2022-03-18T15:04:56.848Z"
   },
   {
    "duration": 0,
    "start_time": "2022-03-18T15:04:56.884Z"
   },
   {
    "duration": 0,
    "start_time": "2022-03-18T15:04:56.887Z"
   },
   {
    "duration": 0,
    "start_time": "2022-03-18T15:04:56.890Z"
   },
   {
    "duration": 0,
    "start_time": "2022-03-18T15:04:56.892Z"
   },
   {
    "duration": 0,
    "start_time": "2022-03-18T15:04:56.894Z"
   },
   {
    "duration": 0,
    "start_time": "2022-03-18T15:04:56.896Z"
   },
   {
    "duration": 0,
    "start_time": "2022-03-18T15:04:56.898Z"
   },
   {
    "duration": 0,
    "start_time": "2022-03-18T15:04:56.901Z"
   },
   {
    "duration": 148,
    "start_time": "2022-03-18T15:05:49.471Z"
   },
   {
    "duration": 2115,
    "start_time": "2022-03-18T15:05:56.741Z"
   },
   {
    "duration": 157,
    "start_time": "2022-03-18T15:05:58.865Z"
   },
   {
    "duration": 12,
    "start_time": "2022-03-18T15:05:59.027Z"
   },
   {
    "duration": 58,
    "start_time": "2022-03-18T15:05:59.044Z"
   },
   {
    "duration": 47,
    "start_time": "2022-03-18T15:05:59.108Z"
   },
   {
    "duration": 50,
    "start_time": "2022-03-18T15:05:59.159Z"
   },
   {
    "duration": 7,
    "start_time": "2022-03-18T15:05:59.213Z"
   },
   {
    "duration": 487,
    "start_time": "2022-03-18T15:05:59.222Z"
   },
   {
    "duration": 234,
    "start_time": "2022-03-18T15:05:59.712Z"
   },
   {
    "duration": 244,
    "start_time": "2022-03-18T15:05:59.952Z"
   },
   {
    "duration": 22,
    "start_time": "2022-03-18T15:06:00.201Z"
   },
   {
    "duration": 9,
    "start_time": "2022-03-18T15:06:00.227Z"
   },
   {
    "duration": 414,
    "start_time": "2022-03-18T15:06:00.240Z"
   },
   {
    "duration": 35,
    "start_time": "2022-03-18T15:06:00.657Z"
   },
   {
    "duration": 28,
    "start_time": "2022-03-18T15:06:00.696Z"
   },
   {
    "duration": 21,
    "start_time": "2022-03-18T15:06:00.728Z"
   },
   {
    "duration": 649,
    "start_time": "2022-03-18T15:06:00.752Z"
   },
   {
    "duration": 507,
    "start_time": "2022-03-18T15:06:01.404Z"
   },
   {
    "duration": 28,
    "start_time": "2022-03-18T15:06:01.914Z"
   },
   {
    "duration": 47,
    "start_time": "2022-03-18T15:06:01.945Z"
   },
   {
    "duration": 440,
    "start_time": "2022-03-18T15:06:01.995Z"
   },
   {
    "duration": 810,
    "start_time": "2022-03-18T15:06:02.438Z"
   },
   {
    "duration": 18,
    "start_time": "2022-03-18T15:06:03.251Z"
   },
   {
    "duration": 40,
    "start_time": "2022-03-18T15:06:03.272Z"
   },
   {
    "duration": 39,
    "start_time": "2022-03-18T15:06:03.315Z"
   },
   {
    "duration": 11,
    "start_time": "2022-03-18T15:06:03.356Z"
   },
   {
    "duration": 32,
    "start_time": "2022-03-18T15:06:03.369Z"
   },
   {
    "duration": 905,
    "start_time": "2022-03-18T15:06:03.409Z"
   },
   {
    "duration": 735,
    "start_time": "2022-03-18T15:06:04.318Z"
   },
   {
    "duration": 2162,
    "start_time": "2022-03-18T15:06:39.766Z"
   },
   {
    "duration": 158,
    "start_time": "2022-03-18T15:06:41.935Z"
   },
   {
    "duration": 12,
    "start_time": "2022-03-18T15:06:42.097Z"
   },
   {
    "duration": 25,
    "start_time": "2022-03-18T15:06:42.113Z"
   },
   {
    "duration": 65,
    "start_time": "2022-03-18T15:06:42.141Z"
   },
   {
    "duration": 28,
    "start_time": "2022-03-18T15:06:42.209Z"
   },
   {
    "duration": 8,
    "start_time": "2022-03-18T15:06:42.242Z"
   },
   {
    "duration": 497,
    "start_time": "2022-03-18T15:06:42.253Z"
   },
   {
    "duration": 276,
    "start_time": "2022-03-18T15:06:42.755Z"
   },
   {
    "duration": 295,
    "start_time": "2022-03-18T15:06:43.038Z"
   },
   {
    "duration": 25,
    "start_time": "2022-03-18T15:06:43.336Z"
   },
   {
    "duration": 23,
    "start_time": "2022-03-18T15:06:43.364Z"
   },
   {
    "duration": 578,
    "start_time": "2022-03-18T15:06:43.391Z"
   },
   {
    "duration": 21,
    "start_time": "2022-03-18T15:06:43.971Z"
   },
   {
    "duration": 36,
    "start_time": "2022-03-18T15:06:43.995Z"
   },
   {
    "duration": 22,
    "start_time": "2022-03-18T15:06:44.035Z"
   },
   {
    "duration": 745,
    "start_time": "2022-03-18T15:06:44.060Z"
   },
   {
    "duration": 584,
    "start_time": "2022-03-18T15:06:44.808Z"
   },
   {
    "duration": 27,
    "start_time": "2022-03-18T15:06:45.397Z"
   },
   {
    "duration": 40,
    "start_time": "2022-03-18T15:06:45.426Z"
   },
   {
    "duration": 500,
    "start_time": "2022-03-18T15:06:45.472Z"
   },
   {
    "duration": 789,
    "start_time": "2022-03-18T15:06:45.976Z"
   },
   {
    "duration": 15,
    "start_time": "2022-03-18T15:06:46.768Z"
   },
   {
    "duration": 47,
    "start_time": "2022-03-18T15:06:46.786Z"
   },
   {
    "duration": 38,
    "start_time": "2022-03-18T15:06:46.837Z"
   },
   {
    "duration": 12,
    "start_time": "2022-03-18T15:06:46.878Z"
   },
   {
    "duration": 26,
    "start_time": "2022-03-18T15:06:46.893Z"
   },
   {
    "duration": 1197,
    "start_time": "2022-03-18T15:06:46.927Z"
   },
   {
    "duration": 621,
    "start_time": "2022-03-18T15:06:48.127Z"
   },
   {
    "duration": 1685,
    "start_time": "2022-04-21T18:58:45.738Z"
   },
   {
    "duration": 41,
    "start_time": "2022-04-21T18:58:47.426Z"
   },
   {
    "duration": 4,
    "start_time": "2022-04-21T18:58:47.468Z"
   },
   {
    "duration": 13,
    "start_time": "2022-04-21T18:58:47.474Z"
   },
   {
    "duration": 37,
    "start_time": "2022-04-21T18:58:47.488Z"
   },
   {
    "duration": 32,
    "start_time": "2022-04-21T18:58:47.527Z"
   },
   {
    "duration": 300,
    "start_time": "2022-04-21T18:58:47.561Z"
   },
   {
    "duration": 0,
    "start_time": "2022-04-21T18:58:47.864Z"
   },
   {
    "duration": 0,
    "start_time": "2022-04-21T18:58:47.866Z"
   },
   {
    "duration": 0,
    "start_time": "2022-04-21T18:58:47.867Z"
   },
   {
    "duration": 0,
    "start_time": "2022-04-21T18:58:47.868Z"
   },
   {
    "duration": 0,
    "start_time": "2022-04-21T18:58:47.870Z"
   },
   {
    "duration": 0,
    "start_time": "2022-04-21T18:58:47.871Z"
   },
   {
    "duration": 1,
    "start_time": "2022-04-21T18:58:47.872Z"
   },
   {
    "duration": 0,
    "start_time": "2022-04-21T18:58:47.874Z"
   },
   {
    "duration": 0,
    "start_time": "2022-04-21T18:58:47.875Z"
   },
   {
    "duration": 0,
    "start_time": "2022-04-21T18:58:47.876Z"
   },
   {
    "duration": 0,
    "start_time": "2022-04-21T18:58:47.878Z"
   },
   {
    "duration": 0,
    "start_time": "2022-04-21T18:58:47.879Z"
   },
   {
    "duration": 0,
    "start_time": "2022-04-21T18:58:47.881Z"
   },
   {
    "duration": 0,
    "start_time": "2022-04-21T18:58:47.882Z"
   },
   {
    "duration": 0,
    "start_time": "2022-04-21T18:58:47.883Z"
   },
   {
    "duration": 0,
    "start_time": "2022-04-21T18:58:47.885Z"
   },
   {
    "duration": 0,
    "start_time": "2022-04-21T18:58:47.887Z"
   },
   {
    "duration": 0,
    "start_time": "2022-04-21T18:58:47.888Z"
   },
   {
    "duration": 1536,
    "start_time": "2022-04-21T18:59:14.972Z"
   },
   {
    "duration": 40,
    "start_time": "2022-04-21T18:59:16.510Z"
   },
   {
    "duration": 3,
    "start_time": "2022-04-21T18:59:16.554Z"
   },
   {
    "duration": 12,
    "start_time": "2022-04-21T18:59:16.559Z"
   },
   {
    "duration": 36,
    "start_time": "2022-04-21T18:59:16.572Z"
   },
   {
    "duration": 11,
    "start_time": "2022-04-21T18:59:16.609Z"
   },
   {
    "duration": 216,
    "start_time": "2022-04-21T18:59:16.622Z"
   },
   {
    "duration": 3996,
    "start_time": "2022-04-21T18:59:16.840Z"
   },
   {
    "duration": 5,
    "start_time": "2022-04-21T18:59:20.837Z"
   },
   {
    "duration": 1288,
    "start_time": "2022-04-21T18:59:20.843Z"
   },
   {
    "duration": 7,
    "start_time": "2022-04-21T18:59:22.133Z"
   },
   {
    "duration": 10,
    "start_time": "2022-04-21T18:59:22.143Z"
   },
   {
    "duration": 3,
    "start_time": "2022-04-21T18:59:22.154Z"
   },
   {
    "duration": 305,
    "start_time": "2022-04-21T18:59:22.158Z"
   },
   {
    "duration": 203,
    "start_time": "2022-04-21T18:59:22.464Z"
   },
   {
    "duration": 3,
    "start_time": "2022-04-21T18:59:22.668Z"
   },
   {
    "duration": 13,
    "start_time": "2022-04-21T18:59:22.673Z"
   },
   {
    "duration": 395,
    "start_time": "2022-04-21T18:59:22.688Z"
   },
   {
    "duration": 521,
    "start_time": "2022-04-21T18:59:23.085Z"
   },
   {
    "duration": 97631,
    "start_time": "2022-04-21T18:59:23.608Z"
   },
   {
    "duration": 1214,
    "start_time": "2022-04-21T19:01:01.241Z"
   },
   {
    "duration": 109,
    "start_time": "2022-04-21T19:01:02.457Z"
   },
   {
    "duration": 2958,
    "start_time": "2022-04-21T19:01:02.568Z"
   },
   {
    "duration": 10,
    "start_time": "2022-04-21T19:01:05.528Z"
   },
   {
    "duration": 340,
    "start_time": "2022-04-21T19:01:05.540Z"
   },
   {
    "duration": 130,
    "start_time": "2022-04-21T19:09:09.211Z"
   },
   {
    "duration": 125,
    "start_time": "2022-04-21T19:09:24.136Z"
   },
   {
    "duration": 137,
    "start_time": "2022-04-21T19:09:48.241Z"
   },
   {
    "duration": 122,
    "start_time": "2022-04-21T19:09:53.664Z"
   },
   {
    "duration": 127,
    "start_time": "2022-04-21T19:10:26.034Z"
   },
   {
    "duration": 1626,
    "start_time": "2022-04-21T19:10:48.668Z"
   },
   {
    "duration": 39,
    "start_time": "2022-04-21T19:10:50.296Z"
   },
   {
    "duration": 4,
    "start_time": "2022-04-21T19:10:50.336Z"
   },
   {
    "duration": 21,
    "start_time": "2022-04-21T19:10:50.342Z"
   },
   {
    "duration": 38,
    "start_time": "2022-04-21T19:10:50.365Z"
   },
   {
    "duration": 12,
    "start_time": "2022-04-21T19:10:50.405Z"
   },
   {
    "duration": 223,
    "start_time": "2022-04-21T19:10:50.419Z"
   },
   {
    "duration": 4296,
    "start_time": "2022-04-21T19:10:50.643Z"
   },
   {
    "duration": 4,
    "start_time": "2022-04-21T19:10:54.941Z"
   },
   {
    "duration": 1359,
    "start_time": "2022-04-21T19:10:54.948Z"
   },
   {
    "duration": 6,
    "start_time": "2022-04-21T19:10:56.309Z"
   },
   {
    "duration": 11,
    "start_time": "2022-04-21T19:10:56.317Z"
   },
   {
    "duration": 4,
    "start_time": "2022-04-21T19:10:56.330Z"
   },
   {
    "duration": 337,
    "start_time": "2022-04-21T19:10:56.336Z"
   },
   {
    "duration": 186,
    "start_time": "2022-04-21T19:10:56.675Z"
   },
   {
    "duration": 10,
    "start_time": "2022-04-21T19:10:56.864Z"
   },
   {
    "duration": 11,
    "start_time": "2022-04-21T19:10:56.876Z"
   },
   {
    "duration": 421,
    "start_time": "2022-04-21T19:10:56.889Z"
   },
   {
    "duration": 688,
    "start_time": "2022-04-21T19:10:57.312Z"
   },
   {
    "duration": 104375,
    "start_time": "2022-04-21T19:10:58.002Z"
   },
   {
    "duration": 1081,
    "start_time": "2022-04-21T19:12:42.379Z"
   },
   {
    "duration": 95,
    "start_time": "2022-04-21T19:12:43.467Z"
   },
   {
    "duration": 2261,
    "start_time": "2022-04-21T19:12:43.565Z"
   },
   {
    "duration": 9,
    "start_time": "2022-04-21T19:12:45.828Z"
   },
   {
    "duration": 137,
    "start_time": "2022-04-21T19:12:45.839Z"
   }
  ],
  "kernelspec": {
   "display_name": "Python 3",
   "language": "python",
   "name": "python3"
  },
  "language_info": {
   "codemirror_mode": {
    "name": "ipython",
    "version": 3
   },
   "file_extension": ".py",
   "mimetype": "text/x-python",
   "name": "python",
   "nbconvert_exporter": "python",
   "pygments_lexer": "ipython3",
   "version": "3.8.10"
  },
  "toc": {
   "base_numbering": 1,
   "nav_menu": {},
   "number_sections": true,
   "sideBar": true,
   "skip_h1_title": true,
   "title_cell": "Содержание",
   "title_sidebar": "Contents",
   "toc_cell": true,
   "toc_position": {
    "height": "calc(100% - 180px)",
    "left": "10px",
    "top": "150px",
    "width": "186.188px"
   },
   "toc_section_display": true,
   "toc_window_display": false
  }
 },
 "nbformat": 4,
 "nbformat_minor": 5
}
