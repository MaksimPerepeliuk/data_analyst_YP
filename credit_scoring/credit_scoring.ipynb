{
 "cells": [
  {
   "cell_type": "markdown",
   "metadata": {
    "toc": true
   },
   "source": [
    "<h1>Содержание<span class=\"tocSkip\"></span></h1>\n",
    "<div class=\"toc\"><ul class=\"toc-item\"><li><span><a href=\"#Задачи-исследования\" data-toc-modified-id=\"Задачи-исследования-1\"><span class=\"toc-item-num\">1&nbsp;&nbsp;</span>Задачи исследования</a></span></li><li><span><a href=\"#Описание-данных\" data-toc-modified-id=\"Описание-данных-2\"><span class=\"toc-item-num\">2&nbsp;&nbsp;</span>Описание данных</a></span></li><li><span><a href=\"#Предобработка-данных\" data-toc-modified-id=\"Предобработка-данных-3\"><span class=\"toc-item-num\">3&nbsp;&nbsp;</span>Предобработка данных</a></span><ul class=\"toc-item\"><li><span><a href=\"#Посмотрим-на-имеющиеся-данные\" data-toc-modified-id=\"Посмотрим-на-имеющиеся-данные-3.1\"><span class=\"toc-item-num\">3.1&nbsp;&nbsp;</span>Посмотрим на имеющиеся данные</a></span></li><li><span><a href=\"#Исследуем-пропуски-и-выбросы\" data-toc-modified-id=\"Исследуем-пропуски-и-выбросы-3.2\"><span class=\"toc-item-num\">3.2&nbsp;&nbsp;</span>Исследуем пропуски и выбросы</a></span><ul class=\"toc-item\"><li><span><a href=\"#Оценим-количество-и-долю-пропусков\" data-toc-modified-id=\"Оценим-количество-и-долю-пропусков-3.2.1\"><span class=\"toc-item-num\">3.2.1&nbsp;&nbsp;</span>Оценим количество и долю пропусков</a></span></li><li><span><a href=\"#Посмотрим-значения-среднего-и-медианы-для-колонки-со-стажем\" data-toc-modified-id=\"Посмотрим-значения-среднего-и-медианы-для-колонки-со-стажем-3.2.2\"><span class=\"toc-item-num\">3.2.2&nbsp;&nbsp;</span>Посмотрим значения среднего и медианы для колонки со стажем</a></span></li><li><span><a href=\"#Исследуем-выбросы\" data-toc-modified-id=\"Исследуем-выбросы-3.2.3\"><span class=\"toc-item-num\">3.2.3&nbsp;&nbsp;</span>Исследуем выбросы</a></span></li><li><span><a href=\"#Посмотрим-на-гистограмму-стажа-после-обработки-выбросов\" data-toc-modified-id=\"Посмотрим-на-гистограмму-стажа-после-обработки-выбросов-3.2.4\"><span class=\"toc-item-num\">3.2.4&nbsp;&nbsp;</span>Посмотрим на гистограмму стажа после обработки выбросов</a></span></li><li><span><a href=\"#Оценим-распределение-в-колонке-с-общим-доходом\" data-toc-modified-id=\"Оценим-распределение-в-колонке-с-общим-доходом-3.2.5\"><span class=\"toc-item-num\">3.2.5&nbsp;&nbsp;</span>Оценим распределение в колонке с общим доходом</a></span></li><li><span><a href=\"#Оценим-распределение-данных-в-колонке-с-возрастом\" data-toc-modified-id=\"Оценим-распределение-данных-в-колонке-с-возрастом-3.2.6\"><span class=\"toc-item-num\">3.2.6&nbsp;&nbsp;</span>Оценим распределение данных в колонке с возрастом</a></span></li><li><span><a href=\"#Посмотрим-на-значения-колонки-количества-детей\" data-toc-modified-id=\"Посмотрим-на-значения-колонки-количества-детей-3.2.7\"><span class=\"toc-item-num\">3.2.7&nbsp;&nbsp;</span>Посмотрим на значения колонки количества детей</a></span></li></ul></li><li><span><a href=\"#Обработаем-пропуски\" data-toc-modified-id=\"Обработаем-пропуски-3.3\"><span class=\"toc-item-num\">3.3&nbsp;&nbsp;</span>Обработаем пропуски</a></span><ul class=\"toc-item\"><li><span><a href=\"#Заменим-пропуски-в-стаже-и-в-доходе-медианными-значениями,-вычисленными-с-группировкой-по-семейному-положению-и-образованию\" data-toc-modified-id=\"Заменим-пропуски-в-стаже-и-в-доходе-медианными-значениями,-вычисленными-с-группировкой-по-семейному-положению-и-образованию-3.3.1\"><span class=\"toc-item-num\">3.3.1&nbsp;&nbsp;</span>Заменим пропуски в стаже и в доходе медианными значениями, вычисленными с группировкой по семейному положению и образованию</a></span></li></ul></li></ul></li><li><span><a href=\"#Исследуем-типы-данных\" data-toc-modified-id=\"Исследуем-типы-данных-4\"><span class=\"toc-item-num\">4&nbsp;&nbsp;</span>Исследуем типы данных</a></span></li><li><span><a href=\"#Обработаем-дубликаты\" data-toc-modified-id=\"Обработаем-дубликаты-5\"><span class=\"toc-item-num\">5&nbsp;&nbsp;</span>Обработаем дубликаты</a></span></li><li><span><a href=\"#Выделение-общих-категорий-из-описания-целей-кредитов\" data-toc-modified-id=\"Выделение-общих-категорий-из-описания-целей-кредитов-6\"><span class=\"toc-item-num\">6&nbsp;&nbsp;</span>Выделение общих категорий из описания целей кредитов</a></span><ul class=\"toc-item\"><li><span><a href=\"#Лемматизация\" data-toc-modified-id=\"Лемматизация-6.1\"><span class=\"toc-item-num\">6.1&nbsp;&nbsp;</span>Лемматизация</a></span><ul class=\"toc-item\"><li><span><a href=\"#Выделим-цели-кредитов\" data-toc-modified-id=\"Выделим-цели-кредитов-6.1.1\"><span class=\"toc-item-num\">6.1.1&nbsp;&nbsp;</span>Выделим цели кредитов</a></span></li></ul></li></ul></li><li><span><a href=\"#Категоризация-данных\" data-toc-modified-id=\"Категоризация-данных-7\"><span class=\"toc-item-num\">7&nbsp;&nbsp;</span>Категоризация данных</a></span><ul class=\"toc-item\"><li><span><a href=\"#Категоризуем-данные-по-целям-кредитов\" data-toc-modified-id=\"Категоризуем-данные-по-целям-кредитов-7.1\"><span class=\"toc-item-num\">7.1&nbsp;&nbsp;</span>Категоризуем данные по целям кредитов</a></span></li><li><span><a href=\"#Выделим-категории-людей-по-уровню-их-дохода\" data-toc-modified-id=\"Выделим-категории-людей-по-уровню-их-дохода-7.2\"><span class=\"toc-item-num\">7.2&nbsp;&nbsp;</span>Выделим категории людей по уровню их дохода</a></span></li><li><span><a href=\"#Присвоим-категории\" data-toc-modified-id=\"Присвоим-категории-7.3\"><span class=\"toc-item-num\">7.3&nbsp;&nbsp;</span>Присвоим категории</a></span></li></ul></li><li><span><a href=\"#Оценим-влияние-различных-переменных-на-возврат-кредита-в-срок\" data-toc-modified-id=\"Оценим-влияние-различных-переменных-на-возврат-кредита-в-срок-8\"><span class=\"toc-item-num\">8&nbsp;&nbsp;</span>Оценим влияние различных переменных на возврат кредита в срок</a></span><ul class=\"toc-item\"><li><span><a href=\"#Есть-ли-зависимость-между-наличием-детей-и-возвратом-кредита-в-срок?\" data-toc-modified-id=\"Есть-ли-зависимость-между-наличием-детей-и-возвратом-кредита-в-срок?-8.1\"><span class=\"toc-item-num\">8.1&nbsp;&nbsp;</span>Есть ли зависимость между наличием детей и возвратом кредита в срок?</a></span></li><li><span><a href=\"#Есть-ли-зависимость-между-семейным-положением-и-возвратом-кредита-в-срок?\" data-toc-modified-id=\"Есть-ли-зависимость-между-семейным-положением-и-возвратом-кредита-в-срок?-8.2\"><span class=\"toc-item-num\">8.2&nbsp;&nbsp;</span>Есть ли зависимость между семейным положением и возвратом кредита в срок?</a></span></li><li><span><a href=\"#Есть-ли-зависимость-между-уровнем-дохода-и-возвратом-кредита-в-срок?\" data-toc-modified-id=\"Есть-ли-зависимость-между-уровнем-дохода-и-возвратом-кредита-в-срок?-8.3\"><span class=\"toc-item-num\">8.3&nbsp;&nbsp;</span>Есть ли зависимость между уровнем дохода и возвратом кредита в срок?</a></span></li><li><span><a href=\"#Как-разные-цели-кредита-влияют-на-его-возврат-в-срок?\" data-toc-modified-id=\"Как-разные-цели-кредита-влияют-на-его-возврат-в-срок?-8.4\"><span class=\"toc-item-num\">8.4&nbsp;&nbsp;</span>Как разные цели кредита влияют на его возврат в срок?</a></span></li></ul></li><li><span><a href=\"#Общий-вывод\" data-toc-modified-id=\"Общий-вывод-9\"><span class=\"toc-item-num\">9&nbsp;&nbsp;</span>Общий вывод</a></span></li></ul></div>"
   ]
  },
  {
   "cell_type": "markdown",
   "metadata": {},
   "source": [
    "# Исследование надёжности заёмщиков\n",
    "\n",
    "Заказчик — кредитный отдел банка. Нужно разобраться, какие признаки (напр: семейное положение, количество детей) влияют на факт погашения кредита заемщиком в срок. Входные данные от банка — статистика о платёжеспособности клиентов.\n",
    "\n",
    "Результаты исследования будут учтены при построении модели **кредитного скоринга** — специальной системы, которая оценивает способность потенциального заёмщика вернуть кредит банку."
   ]
  },
  {
   "cell_type": "markdown",
   "metadata": {},
   "source": [
    "## Задачи исследования\n",
    "Выяснить как влияют следующие перменные на вероятность задолженности:\n",
    "- Количество детей\n",
    "- Семейное положение\n",
    "- Уровень дохода\n",
    "- Цели кредита"
   ]
  },
  {
   "cell_type": "markdown",
   "metadata": {},
   "source": [
    "## Описание данных\n",
    "- `children` — количество детей в семье\n",
    "- `days_employed` — общий трудовой стаж в днях\n",
    "- `dob_years` — возраст клиента в годах\n",
    "- `education` — уровень образования клиента\n",
    "- `education_id` — идентификатор уровня образования\n",
    "- `family_status` — семейное положение\n",
    "- `family_status_id` — идентификатор семейного положения\n",
    "- `gender` — пол клиента\n",
    "- `income_type` — тип занятости\n",
    "- `debt` — имел ли задолженность по возврату кредитов\n",
    "- `total_income` — ежемесячный доход\n",
    "- `purpose` — цель получения кредита"
   ]
  },
  {
   "cell_type": "markdown",
   "metadata": {},
   "source": [
    "## Предобработка данных"
   ]
  },
  {
   "cell_type": "code",
   "execution_count": 1,
   "metadata": {},
   "outputs": [],
   "source": [
    "import pandas as pd\n",
    "import numpy as np\n",
    "import matplotlib.pyplot as plt\n",
    "from pymystem3 import Mystem\n",
    "\n",
    "pd.set_option('display.float_format', '{:,.3f}'.format)"
   ]
  },
  {
   "cell_type": "markdown",
   "metadata": {},
   "source": [
    "### Посмотрим на имеющиеся данные"
   ]
  },
  {
   "cell_type": "code",
   "execution_count": 2,
   "metadata": {},
   "outputs": [],
   "source": [
    "df = pd.read_csv('./data.csv')"
   ]
  },
  {
   "cell_type": "code",
   "execution_count": 3,
   "metadata": {},
   "outputs": [
    {
     "data": {
      "text/html": [
       "<div>\n",
       "<style scoped>\n",
       "    .dataframe tbody tr th:only-of-type {\n",
       "        vertical-align: middle;\n",
       "    }\n",
       "\n",
       "    .dataframe tbody tr th {\n",
       "        vertical-align: top;\n",
       "    }\n",
       "\n",
       "    .dataframe thead th {\n",
       "        text-align: right;\n",
       "    }\n",
       "</style>\n",
       "<table border=\"1\" class=\"dataframe\">\n",
       "  <thead>\n",
       "    <tr style=\"text-align: right;\">\n",
       "      <th></th>\n",
       "      <th>children</th>\n",
       "      <th>days_employed</th>\n",
       "      <th>dob_years</th>\n",
       "      <th>education</th>\n",
       "      <th>education_id</th>\n",
       "      <th>family_status</th>\n",
       "      <th>family_status_id</th>\n",
       "      <th>gender</th>\n",
       "      <th>income_type</th>\n",
       "      <th>debt</th>\n",
       "      <th>total_income</th>\n",
       "      <th>purpose</th>\n",
       "    </tr>\n",
       "  </thead>\n",
       "  <tbody>\n",
       "    <tr>\n",
       "      <th>0</th>\n",
       "      <td>1</td>\n",
       "      <td>-8,437.673</td>\n",
       "      <td>42</td>\n",
       "      <td>высшее</td>\n",
       "      <td>0</td>\n",
       "      <td>женат / замужем</td>\n",
       "      <td>0</td>\n",
       "      <td>F</td>\n",
       "      <td>сотрудник</td>\n",
       "      <td>0</td>\n",
       "      <td>253,875.639</td>\n",
       "      <td>покупка жилья</td>\n",
       "    </tr>\n",
       "    <tr>\n",
       "      <th>1</th>\n",
       "      <td>1</td>\n",
       "      <td>-4,024.804</td>\n",
       "      <td>36</td>\n",
       "      <td>среднее</td>\n",
       "      <td>1</td>\n",
       "      <td>женат / замужем</td>\n",
       "      <td>0</td>\n",
       "      <td>F</td>\n",
       "      <td>сотрудник</td>\n",
       "      <td>0</td>\n",
       "      <td>112,080.014</td>\n",
       "      <td>приобретение автомобиля</td>\n",
       "    </tr>\n",
       "    <tr>\n",
       "      <th>2</th>\n",
       "      <td>0</td>\n",
       "      <td>-5,623.423</td>\n",
       "      <td>33</td>\n",
       "      <td>Среднее</td>\n",
       "      <td>1</td>\n",
       "      <td>женат / замужем</td>\n",
       "      <td>0</td>\n",
       "      <td>M</td>\n",
       "      <td>сотрудник</td>\n",
       "      <td>0</td>\n",
       "      <td>145,885.952</td>\n",
       "      <td>покупка жилья</td>\n",
       "    </tr>\n",
       "    <tr>\n",
       "      <th>3</th>\n",
       "      <td>3</td>\n",
       "      <td>-4,124.747</td>\n",
       "      <td>32</td>\n",
       "      <td>среднее</td>\n",
       "      <td>1</td>\n",
       "      <td>женат / замужем</td>\n",
       "      <td>0</td>\n",
       "      <td>M</td>\n",
       "      <td>сотрудник</td>\n",
       "      <td>0</td>\n",
       "      <td>267,628.550</td>\n",
       "      <td>дополнительное образование</td>\n",
       "    </tr>\n",
       "    <tr>\n",
       "      <th>4</th>\n",
       "      <td>0</td>\n",
       "      <td>340,266.072</td>\n",
       "      <td>53</td>\n",
       "      <td>среднее</td>\n",
       "      <td>1</td>\n",
       "      <td>гражданский брак</td>\n",
       "      <td>1</td>\n",
       "      <td>F</td>\n",
       "      <td>пенсионер</td>\n",
       "      <td>0</td>\n",
       "      <td>158,616.078</td>\n",
       "      <td>сыграть свадьбу</td>\n",
       "    </tr>\n",
       "  </tbody>\n",
       "</table>\n",
       "</div>"
      ],
      "text/plain": [
       "   children  days_employed  dob_years education  education_id  \\\n",
       "0         1     -8,437.673         42    высшее             0   \n",
       "1         1     -4,024.804         36   среднее             1   \n",
       "2         0     -5,623.423         33   Среднее             1   \n",
       "3         3     -4,124.747         32   среднее             1   \n",
       "4         0    340,266.072         53   среднее             1   \n",
       "\n",
       "      family_status  family_status_id gender income_type  debt  total_income  \\\n",
       "0   женат / замужем                 0      F   сотрудник     0   253,875.639   \n",
       "1   женат / замужем                 0      F   сотрудник     0   112,080.014   \n",
       "2   женат / замужем                 0      M   сотрудник     0   145,885.952   \n",
       "3   женат / замужем                 0      M   сотрудник     0   267,628.550   \n",
       "4  гражданский брак                 1      F   пенсионер     0   158,616.078   \n",
       "\n",
       "                      purpose  \n",
       "0               покупка жилья  \n",
       "1     приобретение автомобиля  \n",
       "2               покупка жилья  \n",
       "3  дополнительное образование  \n",
       "4             сыграть свадьбу  "
      ]
     },
     "execution_count": 3,
     "metadata": {},
     "output_type": "execute_result"
    }
   ],
   "source": [
    "df.head()"
   ]
  },
  {
   "cell_type": "markdown",
   "metadata": {},
   "source": [
    "Название колонки `dob_years`, переименуем в более подходящее:"
   ]
  },
  {
   "cell_type": "code",
   "execution_count": 4,
   "metadata": {},
   "outputs": [],
   "source": [
    "df = df.rename(columns={'dob_years': 'age'})"
   ]
  },
  {
   "cell_type": "code",
   "execution_count": 5,
   "metadata": {},
   "outputs": [
    {
     "data": {
      "text/html": [
       "<div>\n",
       "<style scoped>\n",
       "    .dataframe tbody tr th:only-of-type {\n",
       "        vertical-align: middle;\n",
       "    }\n",
       "\n",
       "    .dataframe tbody tr th {\n",
       "        vertical-align: top;\n",
       "    }\n",
       "\n",
       "    .dataframe thead th {\n",
       "        text-align: right;\n",
       "    }\n",
       "</style>\n",
       "<table border=\"1\" class=\"dataframe\">\n",
       "  <thead>\n",
       "    <tr style=\"text-align: right;\">\n",
       "      <th></th>\n",
       "      <th>children</th>\n",
       "      <th>days_employed</th>\n",
       "      <th>age</th>\n",
       "      <th>education_id</th>\n",
       "      <th>family_status_id</th>\n",
       "      <th>debt</th>\n",
       "      <th>total_income</th>\n",
       "    </tr>\n",
       "  </thead>\n",
       "  <tbody>\n",
       "    <tr>\n",
       "      <th>count</th>\n",
       "      <td>21,525.000</td>\n",
       "      <td>19,351.000</td>\n",
       "      <td>21,525.000</td>\n",
       "      <td>21,525.000</td>\n",
       "      <td>21,525.000</td>\n",
       "      <td>21,525.000</td>\n",
       "      <td>19,351.000</td>\n",
       "    </tr>\n",
       "    <tr>\n",
       "      <th>mean</th>\n",
       "      <td>0.539</td>\n",
       "      <td>63,046.498</td>\n",
       "      <td>43.293</td>\n",
       "      <td>0.817</td>\n",
       "      <td>0.973</td>\n",
       "      <td>0.081</td>\n",
       "      <td>167,422.302</td>\n",
       "    </tr>\n",
       "    <tr>\n",
       "      <th>std</th>\n",
       "      <td>1.382</td>\n",
       "      <td>140,827.312</td>\n",
       "      <td>12.575</td>\n",
       "      <td>0.548</td>\n",
       "      <td>1.420</td>\n",
       "      <td>0.273</td>\n",
       "      <td>102,971.566</td>\n",
       "    </tr>\n",
       "    <tr>\n",
       "      <th>min</th>\n",
       "      <td>-1.000</td>\n",
       "      <td>-18,388.950</td>\n",
       "      <td>0.000</td>\n",
       "      <td>0.000</td>\n",
       "      <td>0.000</td>\n",
       "      <td>0.000</td>\n",
       "      <td>20,667.264</td>\n",
       "    </tr>\n",
       "    <tr>\n",
       "      <th>25%</th>\n",
       "      <td>0.000</td>\n",
       "      <td>-2,747.424</td>\n",
       "      <td>33.000</td>\n",
       "      <td>1.000</td>\n",
       "      <td>0.000</td>\n",
       "      <td>0.000</td>\n",
       "      <td>103,053.153</td>\n",
       "    </tr>\n",
       "    <tr>\n",
       "      <th>50%</th>\n",
       "      <td>0.000</td>\n",
       "      <td>-1,203.370</td>\n",
       "      <td>42.000</td>\n",
       "      <td>1.000</td>\n",
       "      <td>0.000</td>\n",
       "      <td>0.000</td>\n",
       "      <td>145,017.938</td>\n",
       "    </tr>\n",
       "    <tr>\n",
       "      <th>75%</th>\n",
       "      <td>1.000</td>\n",
       "      <td>-291.096</td>\n",
       "      <td>53.000</td>\n",
       "      <td>1.000</td>\n",
       "      <td>1.000</td>\n",
       "      <td>0.000</td>\n",
       "      <td>203,435.068</td>\n",
       "    </tr>\n",
       "    <tr>\n",
       "      <th>max</th>\n",
       "      <td>20.000</td>\n",
       "      <td>401,755.400</td>\n",
       "      <td>75.000</td>\n",
       "      <td>4.000</td>\n",
       "      <td>4.000</td>\n",
       "      <td>1.000</td>\n",
       "      <td>2,265,604.029</td>\n",
       "    </tr>\n",
       "  </tbody>\n",
       "</table>\n",
       "</div>"
      ],
      "text/plain": [
       "        children  days_employed        age  education_id  family_status_id  \\\n",
       "count 21,525.000     19,351.000 21,525.000    21,525.000        21,525.000   \n",
       "mean       0.539     63,046.498     43.293         0.817             0.973   \n",
       "std        1.382    140,827.312     12.575         0.548             1.420   \n",
       "min       -1.000    -18,388.950      0.000         0.000             0.000   \n",
       "25%        0.000     -2,747.424     33.000         1.000             0.000   \n",
       "50%        0.000     -1,203.370     42.000         1.000             0.000   \n",
       "75%        1.000       -291.096     53.000         1.000             1.000   \n",
       "max       20.000    401,755.400     75.000         4.000             4.000   \n",
       "\n",
       "            debt  total_income  \n",
       "count 21,525.000    19,351.000  \n",
       "mean       0.081   167,422.302  \n",
       "std        0.273   102,971.566  \n",
       "min        0.000    20,667.264  \n",
       "25%        0.000   103,053.153  \n",
       "50%        0.000   145,017.938  \n",
       "75%        0.000   203,435.068  \n",
       "max        1.000 2,265,604.029  "
      ]
     },
     "execution_count": 5,
     "metadata": {},
     "output_type": "execute_result"
    }
   ],
   "source": [
    "df.describe()"
   ]
  },
  {
   "cell_type": "markdown",
   "metadata": {},
   "source": [
    "В некоторых статистиках видим, что есть значения несоответствующие смыслу переменных, например в переменной `children` минимальное значение -1, `days_employed` -18, `age` 0"
   ]
  },
  {
   "cell_type": "code",
   "execution_count": 6,
   "metadata": {},
   "outputs": [
    {
     "name": "stdout",
     "output_type": "stream",
     "text": [
      "<class 'pandas.core.frame.DataFrame'>\n",
      "RangeIndex: 21525 entries, 0 to 21524\n",
      "Data columns (total 12 columns):\n",
      " #   Column            Non-Null Count  Dtype  \n",
      "---  ------            --------------  -----  \n",
      " 0   children          21525 non-null  int64  \n",
      " 1   days_employed     19351 non-null  float64\n",
      " 2   age               21525 non-null  int64  \n",
      " 3   education         21525 non-null  object \n",
      " 4   education_id      21525 non-null  int64  \n",
      " 5   family_status     21525 non-null  object \n",
      " 6   family_status_id  21525 non-null  int64  \n",
      " 7   gender            21525 non-null  object \n",
      " 8   income_type       21525 non-null  object \n",
      " 9   debt              21525 non-null  int64  \n",
      " 10  total_income      19351 non-null  float64\n",
      " 11  purpose           21525 non-null  object \n",
      "dtypes: float64(2), int64(5), object(5)\n",
      "memory usage: 2.0+ MB\n"
     ]
    }
   ],
   "source": [
    "df.info()"
   ]
  },
  {
   "cell_type": "markdown",
   "metadata": {},
   "source": [
    "**Вывод**"
   ]
  },
  {
   "cell_type": "markdown",
   "metadata": {},
   "source": [
    "- 12 столбцов 21525 строк;\n",
    "- в столбцах days_employed, total_income есть пропущенные значения;\n",
    "- многие значения в столбце days_employed отрицательные, некоторые очень большие (выходящие за рамки жизни одного человека);\n",
    "- в столбце education присутствуют неявные дубликаты;\n",
    "- имеются некорректные значения в некоторых столбцах"
   ]
  },
  {
   "cell_type": "markdown",
   "metadata": {},
   "source": [
    "### Исследуем пропуски и выбросы"
   ]
  },
  {
   "cell_type": "markdown",
   "metadata": {},
   "source": [
    "#### Оценим количество и долю пропусков"
   ]
  },
  {
   "cell_type": "code",
   "execution_count": 7,
   "metadata": {},
   "outputs": [
    {
     "data": {
      "text/plain": [
       "children               0\n",
       "days_employed       2174\n",
       "age                    0\n",
       "education              0\n",
       "education_id           0\n",
       "family_status          0\n",
       "family_status_id       0\n",
       "gender                 0\n",
       "income_type            0\n",
       "debt                   0\n",
       "total_income        2174\n",
       "purpose                0\n",
       "dtype: int64"
      ]
     },
     "execution_count": 7,
     "metadata": {},
     "output_type": "execute_result"
    }
   ],
   "source": [
    "df.isna().sum()"
   ]
  },
  {
   "cell_type": "code",
   "execution_count": 8,
   "metadata": {},
   "outputs": [
    {
     "data": {
      "text/plain": [
       "children           0.000\n",
       "days_employed      0.101\n",
       "age                0.000\n",
       "education          0.000\n",
       "education_id       0.000\n",
       "family_status      0.000\n",
       "family_status_id   0.000\n",
       "gender             0.000\n",
       "income_type        0.000\n",
       "debt               0.000\n",
       "total_income       0.101\n",
       "purpose            0.000\n",
       "dtype: float64"
      ]
     },
     "execution_count": 8,
     "metadata": {},
     "output_type": "execute_result"
    }
   ],
   "source": [
    "df.isna().mean()"
   ]
  },
  {
   "cell_type": "markdown",
   "metadata": {},
   "source": [
    "Судя по одинаковому количеству и доли пропусков - если отсутствует значение в столбце `days_employed`, то отсутвует значение и в `total_income`, проверим:"
   ]
  },
  {
   "cell_type": "code",
   "execution_count": 9,
   "metadata": {},
   "outputs": [
    {
     "data": {
      "text/plain": [
       "2174"
      ]
     },
     "execution_count": 9,
     "metadata": {},
     "output_type": "execute_result"
    }
   ],
   "source": [
    "df[df['days_employed'].isna()]['total_income'].isna().sum()"
   ]
  },
  {
   "cell_type": "markdown",
   "metadata": {},
   "source": [
    "Так и есть, значит 2174 (примерно 10%) - это общее количество строк с пропущенными значениями в данных"
   ]
  },
  {
   "cell_type": "markdown",
   "metadata": {},
   "source": [
    "#### Посмотрим значения среднего и медианы для колонки со стажем"
   ]
  },
  {
   "cell_type": "code",
   "execution_count": 10,
   "metadata": {},
   "outputs": [
    {
     "data": {
      "text/plain": [
       "mean     63,046.498\n",
       "median   -1,203.370\n",
       "Name: days_employed, dtype: float64"
      ]
     },
     "execution_count": 10,
     "metadata": {},
     "output_type": "execute_result"
    }
   ],
   "source": [
    "df['days_employed'].agg(['mean', 'median'])"
   ]
  },
  {
   "cell_type": "markdown",
   "metadata": {},
   "source": [
    "Cлишком большое значение среднего (значит много выбросов) и вообще отрицательное значение медианы, а значит без устранения выбросов заполнить отсутствующие значения будет некорректно. Также посмотрим на гистограмму частот колонки со стажем:"
   ]
  },
  {
   "cell_type": "code",
   "execution_count": 11,
   "metadata": {},
   "outputs": [
    {
     "data": {
      "image/png": "[encoded data removed]",
      "text/plain": [
       "<Figure size 432x288 with 1 Axes>"
      ]
     },
     "metadata": {
      "needs_background": "light"
     },
     "output_type": "display_data"
    }
   ],
   "source": [
    "df['days_employed'].hist()\n",
    "plt.title('Частота значений стажа')\n",
    "plt.xlabel('Количество дней стажа')\n",
    "plt.ylabel('Количество сотрудников')\n",
    "plt.show()"
   ]
  },
  {
   "cell_type": "code",
   "execution_count": 12,
   "metadata": {},
   "outputs": [
    {
     "data": {
      "text/plain": [
       "3445"
      ]
     },
     "execution_count": 12,
     "metadata": {},
     "output_type": "execute_result"
    }
   ],
   "source": [
    "len(df[df['days_employed'] > 100000])"
   ]
  },
  {
   "cell_type": "markdown",
   "metadata": {},
   "source": [
    "График подтверждает много выбросов (всего 3445), а так же наличие отрицательных значений"
   ]
  },
  {
   "cell_type": "markdown",
   "metadata": {},
   "source": [
    "#### Исследуем выбросы"
   ]
  },
  {
   "cell_type": "markdown",
   "metadata": {},
   "source": [
    "Для этого переведем стаж, в выявленных аномальных значениях, в годы и сравним среднее значения стажа в годах со средним возрастом сотрудников"
   ]
  },
  {
   "cell_type": "code",
   "execution_count": 13,
   "metadata": {},
   "outputs": [
    {
     "name": "stdout",
     "output_type": "stream",
     "text": [
      "Средний стаж:  41.67\n",
      "Средний возраст:  59.12\n"
     ]
    }
   ],
   "source": [
    "deviation_days_employed = df[df['days_employed'] > 100000]\n",
    "# для наглядности переведем стаж в годы и вместо дней используем часы:\n",
    "years_employed = deviation_days_employed['days_employed'] / (365 * 24)\n",
    "print('Средний стаж: ', \"%.2f\" % years_employed.mean())\n",
    "print('Средний возраст: ', \"%.2f\" % deviation_days_employed['age'].mean())"
   ]
  },
  {
   "cell_type": "markdown",
   "metadata": {},
   "source": [
    "Средний стаж примерно 42 года при среднем возрасте в 59 лет (слишком трудолюбивые), поэтому лучше удалить строки с выбросами"
   ]
  },
  {
   "cell_type": "code",
   "execution_count": 14,
   "metadata": {},
   "outputs": [
    {
     "data": {
      "text/plain": [
       "children               0\n",
       "days_employed       2174\n",
       "age                    0\n",
       "education              0\n",
       "education_id           0\n",
       "family_status          0\n",
       "family_status_id       0\n",
       "gender                 0\n",
       "income_type            0\n",
       "debt                   0\n",
       "total_income        2174\n",
       "purpose                0\n",
       "dtype: int64"
      ]
     },
     "execution_count": 14,
     "metadata": {},
     "output_type": "execute_result"
    }
   ],
   "source": [
    "df.isna().sum()"
   ]
  },
  {
   "cell_type": "markdown",
   "metadata": {},
   "source": [
    "При срезе данных с помощью логической индесации мы потеряем значения nan поэтому сохраним их в срезе, а после удаления выбросов присоединим их обратно"
   ]
  },
  {
   "cell_type": "code",
   "execution_count": 15,
   "metadata": {},
   "outputs": [],
   "source": [
    "nan_data = df[(df['days_employed'].isna() == True)]"
   ]
  },
  {
   "cell_type": "code",
   "execution_count": 16,
   "metadata": {},
   "outputs": [],
   "source": [
    "df = df[df['days_employed'] < 100000]"
   ]
  },
  {
   "cell_type": "code",
   "execution_count": 17,
   "metadata": {},
   "outputs": [
    {
     "data": {
      "text/plain": [
       "children            0\n",
       "days_employed       0\n",
       "age                 0\n",
       "education           0\n",
       "education_id        0\n",
       "family_status       0\n",
       "family_status_id    0\n",
       "gender              0\n",
       "income_type         0\n",
       "debt                0\n",
       "total_income        0\n",
       "purpose             0\n",
       "dtype: int64"
      ]
     },
     "execution_count": 17,
     "metadata": {},
     "output_type": "execute_result"
    }
   ],
   "source": [
    "df.isna().sum()"
   ]
  },
  {
   "cell_type": "code",
   "execution_count": 18,
   "metadata": {},
   "outputs": [],
   "source": [
    "df = pd.concat([df, nan_data])"
   ]
  },
  {
   "cell_type": "code",
   "execution_count": 19,
   "metadata": {},
   "outputs": [
    {
     "data": {
      "text/plain": [
       "children               0\n",
       "days_employed       2174\n",
       "age                    0\n",
       "education              0\n",
       "education_id           0\n",
       "family_status          0\n",
       "family_status_id       0\n",
       "gender                 0\n",
       "income_type            0\n",
       "debt                   0\n",
       "total_income        2174\n",
       "purpose                0\n",
       "dtype: int64"
      ]
     },
     "execution_count": 19,
     "metadata": {},
     "output_type": "execute_result"
    }
   ],
   "source": [
    "df.isna().sum()"
   ]
  },
  {
   "cell_type": "markdown",
   "metadata": {},
   "source": [
    "Отрицательные значения стажа заменим на положительные, приняв допущение о том, что отрицательный знак получился в результате ошибки сбора данных, а сами значения соответствуют действительности"
   ]
  },
  {
   "cell_type": "code",
   "execution_count": 20,
   "metadata": {},
   "outputs": [],
   "source": [
    "df['days_employed'] = df['days_employed'].abs()"
   ]
  },
  {
   "cell_type": "code",
   "execution_count": 21,
   "metadata": {},
   "outputs": [
    {
     "data": {
      "text/html": [
       "<div>\n",
       "<style scoped>\n",
       "    .dataframe tbody tr th:only-of-type {\n",
       "        vertical-align: middle;\n",
       "    }\n",
       "\n",
       "    .dataframe tbody tr th {\n",
       "        vertical-align: top;\n",
       "    }\n",
       "\n",
       "    .dataframe thead th {\n",
       "        text-align: right;\n",
       "    }\n",
       "</style>\n",
       "<table border=\"1\" class=\"dataframe\">\n",
       "  <thead>\n",
       "    <tr style=\"text-align: right;\">\n",
       "      <th></th>\n",
       "      <th>children</th>\n",
       "      <th>days_employed</th>\n",
       "      <th>age</th>\n",
       "      <th>education</th>\n",
       "      <th>education_id</th>\n",
       "      <th>family_status</th>\n",
       "      <th>family_status_id</th>\n",
       "      <th>gender</th>\n",
       "      <th>income_type</th>\n",
       "      <th>debt</th>\n",
       "      <th>total_income</th>\n",
       "      <th>purpose</th>\n",
       "    </tr>\n",
       "  </thead>\n",
       "  <tbody>\n",
       "    <tr>\n",
       "      <th>0</th>\n",
       "      <td>1</td>\n",
       "      <td>8,437.673</td>\n",
       "      <td>42</td>\n",
       "      <td>высшее</td>\n",
       "      <td>0</td>\n",
       "      <td>женат / замужем</td>\n",
       "      <td>0</td>\n",
       "      <td>F</td>\n",
       "      <td>сотрудник</td>\n",
       "      <td>0</td>\n",
       "      <td>253,875.639</td>\n",
       "      <td>покупка жилья</td>\n",
       "    </tr>\n",
       "    <tr>\n",
       "      <th>1</th>\n",
       "      <td>1</td>\n",
       "      <td>4,024.804</td>\n",
       "      <td>36</td>\n",
       "      <td>среднее</td>\n",
       "      <td>1</td>\n",
       "      <td>женат / замужем</td>\n",
       "      <td>0</td>\n",
       "      <td>F</td>\n",
       "      <td>сотрудник</td>\n",
       "      <td>0</td>\n",
       "      <td>112,080.014</td>\n",
       "      <td>приобретение автомобиля</td>\n",
       "    </tr>\n",
       "    <tr>\n",
       "      <th>2</th>\n",
       "      <td>0</td>\n",
       "      <td>5,623.423</td>\n",
       "      <td>33</td>\n",
       "      <td>Среднее</td>\n",
       "      <td>1</td>\n",
       "      <td>женат / замужем</td>\n",
       "      <td>0</td>\n",
       "      <td>M</td>\n",
       "      <td>сотрудник</td>\n",
       "      <td>0</td>\n",
       "      <td>145,885.952</td>\n",
       "      <td>покупка жилья</td>\n",
       "    </tr>\n",
       "    <tr>\n",
       "      <th>3</th>\n",
       "      <td>3</td>\n",
       "      <td>4,124.747</td>\n",
       "      <td>32</td>\n",
       "      <td>среднее</td>\n",
       "      <td>1</td>\n",
       "      <td>женат / замужем</td>\n",
       "      <td>0</td>\n",
       "      <td>M</td>\n",
       "      <td>сотрудник</td>\n",
       "      <td>0</td>\n",
       "      <td>267,628.550</td>\n",
       "      <td>дополнительное образование</td>\n",
       "    </tr>\n",
       "    <tr>\n",
       "      <th>5</th>\n",
       "      <td>0</td>\n",
       "      <td>926.186</td>\n",
       "      <td>27</td>\n",
       "      <td>высшее</td>\n",
       "      <td>0</td>\n",
       "      <td>гражданский брак</td>\n",
       "      <td>1</td>\n",
       "      <td>M</td>\n",
       "      <td>компаньон</td>\n",
       "      <td>0</td>\n",
       "      <td>255,763.565</td>\n",
       "      <td>покупка жилья</td>\n",
       "    </tr>\n",
       "  </tbody>\n",
       "</table>\n",
       "</div>"
      ],
      "text/plain": [
       "   children  days_employed  age education  education_id     family_status  \\\n",
       "0         1      8,437.673   42    высшее             0   женат / замужем   \n",
       "1         1      4,024.804   36   среднее             1   женат / замужем   \n",
       "2         0      5,623.423   33   Среднее             1   женат / замужем   \n",
       "3         3      4,124.747   32   среднее             1   женат / замужем   \n",
       "5         0        926.186   27    высшее             0  гражданский брак   \n",
       "\n",
       "   family_status_id gender income_type  debt  total_income  \\\n",
       "0                 0      F   сотрудник     0   253,875.639   \n",
       "1                 0      F   сотрудник     0   112,080.014   \n",
       "2                 0      M   сотрудник     0   145,885.952   \n",
       "3                 0      M   сотрудник     0   267,628.550   \n",
       "5                 1      M   компаньон     0   255,763.565   \n",
       "\n",
       "                      purpose  \n",
       "0               покупка жилья  \n",
       "1     приобретение автомобиля  \n",
       "2               покупка жилья  \n",
       "3  дополнительное образование  \n",
       "5               покупка жилья  "
      ]
     },
     "execution_count": 21,
     "metadata": {},
     "output_type": "execute_result"
    }
   ],
   "source": [
    "df.head()"
   ]
  },
  {
   "cell_type": "markdown",
   "metadata": {},
   "source": [
    "#### Посмотрим на гистограмму стажа после обработки выбросов"
   ]
  },
  {
   "cell_type": "code",
   "execution_count": 22,
   "metadata": {},
   "outputs": [
    {
     "data": {
      "image/png": "[encoded data removed]",
      "text/plain": [
       "<Figure size 432x288 with 1 Axes>"
      ]
     },
     "metadata": {
      "needs_background": "light"
     },
     "output_type": "display_data"
    }
   ],
   "source": [
    "df['days_employed'].hist()\n",
    "plt.title('Частота значений стажа')\n",
    "plt.xlabel('Количество дней стажа')\n",
    "plt.ylabel('Количество сотрудников')\n",
    "plt.show()"
   ]
  },
  {
   "cell_type": "code",
   "execution_count": 23,
   "metadata": {},
   "outputs": [
    {
     "data": {
      "text/plain": [
       "mean     2,353.016\n",
       "median   1,630.019\n",
       "Name: days_employed, dtype: float64"
      ]
     },
     "execution_count": 23,
     "metadata": {},
     "output_type": "execute_result"
    }
   ],
   "source": [
    "df['days_employed'].agg(['mean', 'median'])"
   ]
  },
  {
   "cell_type": "markdown",
   "metadata": {},
   "source": [
    "Теперь данные напоминают действительное положение дел. Распределение с \"тяжелым хвостом\" показывает нам, что есть много сотрудников с небольшим и средним стажем и мало сотрудников с очень большим стажем"
   ]
  },
  {
   "cell_type": "markdown",
   "metadata": {},
   "source": [
    "#### Оценим распределение в колонке с общим доходом"
   ]
  },
  {
   "cell_type": "code",
   "execution_count": 24,
   "metadata": {},
   "outputs": [
    {
     "data": {
      "image/png": "[encoded data removed]",
      "text/plain": [
       "<Figure size 432x288 with 1 Axes>"
      ]
     },
     "metadata": {
      "needs_background": "light"
     },
     "output_type": "display_data"
    }
   ],
   "source": [
    "df['total_income'].hist()\n",
    "plt.title('Частота значений общего дохода')\n",
    "plt.xlabel('Доход в месяц')\n",
    "plt.ylabel('Количество человек')\n",
    "plt.show()"
   ]
  },
  {
   "cell_type": "code",
   "execution_count": 25,
   "metadata": {},
   "outputs": [
    {
     "data": {
      "text/plain": [
       "mean     173,984.435\n",
       "median   151,134.593\n",
       "Name: total_income, dtype: float64"
      ]
     },
     "execution_count": 25,
     "metadata": {},
     "output_type": "execute_result"
    }
   ],
   "source": [
    "df['total_income'].agg(['mean', 'median'])"
   ]
  },
  {
   "cell_type": "markdown",
   "metadata": {},
   "source": [
    "Среднее значительно больше медианы из-за отклонений, что видно по смещенному вправо графику. Поэтому для заполнения пропусков выберем медианное значения дохода"
   ]
  },
  {
   "cell_type": "markdown",
   "metadata": {},
   "source": [
    "#### Оценим распределение данных в колонке с возрастом"
   ]
  },
  {
   "cell_type": "code",
   "execution_count": 26,
   "metadata": {},
   "outputs": [
    {
     "data": {
      "image/png": "[encoded data removed]",
      "text/plain": [
       "<Figure size 432x288 with 1 Axes>"
      ]
     },
     "metadata": {
      "needs_background": "light"
     },
     "output_type": "display_data"
    }
   ],
   "source": [
    "df['age'].hist()\n",
    "plt.title('Частота значений возраста')\n",
    "plt.xlabel('Возраст')\n",
    "plt.ylabel('Количество человек')\n",
    "plt.show()"
   ]
  },
  {
   "cell_type": "code",
   "execution_count": 27,
   "metadata": {},
   "outputs": [
    {
     "data": {
      "text/plain": [
       "0    84\n",
       "Name: age, dtype: int64"
      ]
     },
     "execution_count": 27,
     "metadata": {},
     "output_type": "execute_result"
    }
   ],
   "source": [
    "df[df['age'] < 10]['age'].value_counts()"
   ]
  },
  {
   "cell_type": "markdown",
   "metadata": {},
   "source": [
    "Обнаружено 74 нулевых значения возраста, т.к. количество небольшое можно их просто удалить из датафрейма"
   ]
  },
  {
   "cell_type": "code",
   "execution_count": 28,
   "metadata": {},
   "outputs": [],
   "source": [
    "df = df[df['age'] > 10]"
   ]
  },
  {
   "cell_type": "markdown",
   "metadata": {},
   "source": [
    "#### Посмотрим на значения колонки количества детей"
   ]
  },
  {
   "cell_type": "code",
   "execution_count": 29,
   "metadata": {},
   "outputs": [
    {
     "data": {
      "text/plain": [
       " 0     10943\n",
       " 1      4549\n",
       " 2      2025\n",
       " 3       322\n",
       " 20       68\n",
       "-1        40\n",
       " 4        40\n",
       " 5         9\n",
       "Name: children, dtype: int64"
      ]
     },
     "execution_count": 29,
     "metadata": {},
     "output_type": "execute_result"
    }
   ],
   "source": [
    "df['children'].value_counts()"
   ]
  },
  {
   "cell_type": "markdown",
   "metadata": {},
   "source": [
    "В колонке присутствуют 40 наблюдений со значением -1, что является некорректными данными. Удалим эти наблюдения"
   ]
  },
  {
   "cell_type": "code",
   "execution_count": 30,
   "metadata": {},
   "outputs": [],
   "source": [
    "df = df[df['children'] >= 0]"
   ]
  },
  {
   "cell_type": "markdown",
   "metadata": {},
   "source": [
    "### Обработаем пропуски"
   ]
  },
  {
   "cell_type": "markdown",
   "metadata": {},
   "source": [
    "#### Заменим пропуски в стаже и в доходе медианными значениями, вычисленными с группировкой по семейному положению и образованию"
   ]
  },
  {
   "cell_type": "code",
   "execution_count": 31,
   "metadata": {},
   "outputs": [],
   "source": [
    "medians = (\n",
    "    df.groupby(['family_status', 'education'])\n",
    "        .agg(\n",
    "            median_days_employed=('days_employed', 'median'), \n",
    "            median_total_income=('total_income', 'median')\n",
    "        )\n",
    ")\n",
    "\n",
    "df = df.merge(medians, on=['family_status', 'education'])\n",
    "df.loc[df['days_employed'].isna(), 'days_employed'] = df.loc[df['days_employed'].isna(), 'median_days_employed']\n",
    "df.loc[df['total_income'].isna(), 'total_income'] = df.loc[df['total_income'].isna(), 'median_total_income']"
   ]
  },
  {
   "cell_type": "code",
   "execution_count": 32,
   "metadata": {},
   "outputs": [
    {
     "data": {
      "text/plain": [
       "children                0\n",
       "days_employed           1\n",
       "age                     0\n",
       "education               0\n",
       "education_id            0\n",
       "family_status           0\n",
       "family_status_id        0\n",
       "gender                  0\n",
       "income_type             0\n",
       "debt                    0\n",
       "total_income            1\n",
       "purpose                 0\n",
       "median_days_employed    1\n",
       "median_total_income     1\n",
       "dtype: int64"
      ]
     },
     "execution_count": 32,
     "metadata": {},
     "output_type": "execute_result"
    }
   ],
   "source": [
    "df.isna().sum()"
   ]
  },
  {
   "cell_type": "markdown",
   "metadata": {},
   "source": [
    "При группировке данных образовалось одно значение nan в связи с отсутствием информации по стажу и доходу для сочетания определенных значений семейного положения и образования"
   ]
  },
  {
   "cell_type": "code",
   "execution_count": 33,
   "metadata": {},
   "outputs": [
    {
     "data": {
      "text/html": [
       "<div>\n",
       "<style scoped>\n",
       "    .dataframe tbody tr th:only-of-type {\n",
       "        vertical-align: middle;\n",
       "    }\n",
       "\n",
       "    .dataframe tbody tr th {\n",
       "        vertical-align: top;\n",
       "    }\n",
       "\n",
       "    .dataframe thead th {\n",
       "        text-align: right;\n",
       "    }\n",
       "</style>\n",
       "<table border=\"1\" class=\"dataframe\">\n",
       "  <thead>\n",
       "    <tr style=\"text-align: right;\">\n",
       "      <th></th>\n",
       "      <th></th>\n",
       "      <th>median_days_employed</th>\n",
       "      <th>median_total_income</th>\n",
       "    </tr>\n",
       "    <tr>\n",
       "      <th>family_status</th>\n",
       "      <th>education</th>\n",
       "      <th></th>\n",
       "      <th></th>\n",
       "    </tr>\n",
       "  </thead>\n",
       "  <tbody>\n",
       "    <tr>\n",
       "      <th>вдовец / вдова</th>\n",
       "      <th>Начальное</th>\n",
       "      <td>NaN</td>\n",
       "      <td>NaN</td>\n",
       "    </tr>\n",
       "  </tbody>\n",
       "</table>\n",
       "</div>"
      ],
      "text/plain": [
       "                          median_days_employed  median_total_income\n",
       "family_status  education                                           \n",
       "вдовец / вдова Начальное                   NaN                  NaN"
      ]
     },
     "execution_count": 33,
     "metadata": {},
     "output_type": "execute_result"
    }
   ],
   "source": [
    "medians[medians['median_days_employed'].isna()]"
   ]
  },
  {
   "cell_type": "code",
   "execution_count": 34,
   "metadata": {},
   "outputs": [
    {
     "data": {
      "text/html": [
       "<div>\n",
       "<style scoped>\n",
       "    .dataframe tbody tr th:only-of-type {\n",
       "        vertical-align: middle;\n",
       "    }\n",
       "\n",
       "    .dataframe tbody tr th {\n",
       "        vertical-align: top;\n",
       "    }\n",
       "\n",
       "    .dataframe thead th {\n",
       "        text-align: right;\n",
       "    }\n",
       "</style>\n",
       "<table border=\"1\" class=\"dataframe\">\n",
       "  <thead>\n",
       "    <tr style=\"text-align: right;\">\n",
       "      <th></th>\n",
       "      <th>children</th>\n",
       "      <th>days_employed</th>\n",
       "      <th>age</th>\n",
       "      <th>education</th>\n",
       "      <th>education_id</th>\n",
       "      <th>family_status</th>\n",
       "      <th>family_status_id</th>\n",
       "      <th>gender</th>\n",
       "      <th>income_type</th>\n",
       "      <th>debt</th>\n",
       "      <th>total_income</th>\n",
       "      <th>purpose</th>\n",
       "      <th>median_days_employed</th>\n",
       "      <th>median_total_income</th>\n",
       "    </tr>\n",
       "  </thead>\n",
       "  <tbody>\n",
       "    <tr>\n",
       "      <th>17955</th>\n",
       "      <td>0</td>\n",
       "      <td>NaN</td>\n",
       "      <td>58</td>\n",
       "      <td>Начальное</td>\n",
       "      <td>3</td>\n",
       "      <td>вдовец / вдова</td>\n",
       "      <td>2</td>\n",
       "      <td>F</td>\n",
       "      <td>пенсионер</td>\n",
       "      <td>0</td>\n",
       "      <td>NaN</td>\n",
       "      <td>получение дополнительного образования</td>\n",
       "      <td>NaN</td>\n",
       "      <td>NaN</td>\n",
       "    </tr>\n",
       "  </tbody>\n",
       "</table>\n",
       "</div>"
      ],
      "text/plain": [
       "       children  days_employed  age  education  education_id   family_status  \\\n",
       "17955         0            NaN   58  Начальное             3  вдовец / вдова   \n",
       "\n",
       "       family_status_id gender income_type  debt  total_income  \\\n",
       "17955                 2      F   пенсионер     0           NaN   \n",
       "\n",
       "                                     purpose  median_days_employed  \\\n",
       "17955  получение дополнительного образования                   NaN   \n",
       "\n",
       "       median_total_income  \n",
       "17955                  NaN  "
      ]
     },
     "execution_count": 34,
     "metadata": {},
     "output_type": "execute_result"
    }
   ],
   "source": [
    "df[df['median_days_employed'].isna()]"
   ]
  },
  {
   "cell_type": "markdown",
   "metadata": {},
   "source": [
    "Просто удалим этот пропуск"
   ]
  },
  {
   "cell_type": "code",
   "execution_count": 35,
   "metadata": {},
   "outputs": [],
   "source": [
    "df = df.dropna()"
   ]
  },
  {
   "cell_type": "code",
   "execution_count": 36,
   "metadata": {},
   "outputs": [
    {
     "data": {
      "text/plain": [
       "children                0\n",
       "days_employed           0\n",
       "age                     0\n",
       "education               0\n",
       "education_id            0\n",
       "family_status           0\n",
       "family_status_id        0\n",
       "gender                  0\n",
       "income_type             0\n",
       "debt                    0\n",
       "total_income            0\n",
       "purpose                 0\n",
       "median_days_employed    0\n",
       "median_total_income     0\n",
       "dtype: int64"
      ]
     },
     "execution_count": 36,
     "metadata": {},
     "output_type": "execute_result"
    }
   ],
   "source": [
    "df.isna().sum()"
   ]
  },
  {
   "cell_type": "markdown",
   "metadata": {},
   "source": [
    "Теперь все пропуски обработаны"
   ]
  },
  {
   "cell_type": "markdown",
   "metadata": {},
   "source": [
    "**Вывод**"
   ]
  },
  {
   "cell_type": "markdown",
   "metadata": {},
   "source": [
    "- если в отсутствует значение в столбце days_employed, то отсутвует значение и в total_income, что может означать отсутствие официального стажа работы, соответственно и общего дохода, или отсутствия таких данных по различным причинам;\n",
    "- в столбце days_employed до обработки выявлено много выбросов, причина которых может быть в указании стажа не в днях, однако для первичного анализа принято решение удалить данные с аномальными значениями стажа;\n",
    "- было принято решение заполнить пропуски медианными значениями, в связи с тем, что среднее значение достаточно чувствительно к выбросам."
   ]
  },
  {
   "cell_type": "markdown",
   "metadata": {},
   "source": [
    "## Исследуем типы данных"
   ]
  },
  {
   "cell_type": "code",
   "execution_count": 37,
   "metadata": {},
   "outputs": [
    {
     "name": "stdout",
     "output_type": "stream",
     "text": [
      "<class 'pandas.core.frame.DataFrame'>\n",
      "Int64Index: 17955 entries, 0 to 17954\n",
      "Data columns (total 14 columns):\n",
      " #   Column                Non-Null Count  Dtype  \n",
      "---  ------                --------------  -----  \n",
      " 0   children              17955 non-null  int64  \n",
      " 1   days_employed         17955 non-null  float64\n",
      " 2   age                   17955 non-null  int64  \n",
      " 3   education             17955 non-null  object \n",
      " 4   education_id          17955 non-null  int64  \n",
      " 5   family_status         17955 non-null  object \n",
      " 6   family_status_id      17955 non-null  int64  \n",
      " 7   gender                17955 non-null  object \n",
      " 8   income_type           17955 non-null  object \n",
      " 9   debt                  17955 non-null  int64  \n",
      " 10  total_income          17955 non-null  float64\n",
      " 11  purpose               17955 non-null  object \n",
      " 12  median_days_employed  17955 non-null  float64\n",
      " 13  median_total_income   17955 non-null  float64\n",
      "dtypes: float64(4), int64(5), object(5)\n",
      "memory usage: 2.1+ MB\n"
     ]
    }
   ],
   "source": [
    "df.info()"
   ]
  },
  {
   "cell_type": "markdown",
   "metadata": {},
   "source": [
    "Колонка стажа `days_employed` имеет тип float однако содержит только целые числа, а в колонке ежемесячного дохода `total_income` нам удобнее будет работать с целыми числами при том, что отбросив дробную часть масштаб доходов не изменится, для этого поменяем тип данных в указанных колонках на int"
   ]
  },
  {
   "cell_type": "code",
   "execution_count": 38,
   "metadata": {},
   "outputs": [],
   "source": [
    "df = df.astype({'days_employed': 'int', 'days_employed': 'int'})"
   ]
  },
  {
   "cell_type": "code",
   "execution_count": 39,
   "metadata": {},
   "outputs": [
    {
     "name": "stdout",
     "output_type": "stream",
     "text": [
      "<class 'pandas.core.frame.DataFrame'>\n",
      "Int64Index: 17955 entries, 0 to 17954\n",
      "Data columns (total 14 columns):\n",
      " #   Column                Non-Null Count  Dtype  \n",
      "---  ------                --------------  -----  \n",
      " 0   children              17955 non-null  int64  \n",
      " 1   days_employed         17955 non-null  int64  \n",
      " 2   age                   17955 non-null  int64  \n",
      " 3   education             17955 non-null  object \n",
      " 4   education_id          17955 non-null  int64  \n",
      " 5   family_status         17955 non-null  object \n",
      " 6   family_status_id      17955 non-null  int64  \n",
      " 7   gender                17955 non-null  object \n",
      " 8   income_type           17955 non-null  object \n",
      " 9   debt                  17955 non-null  int64  \n",
      " 10  total_income          17955 non-null  float64\n",
      " 11  purpose               17955 non-null  object \n",
      " 12  median_days_employed  17955 non-null  float64\n",
      " 13  median_total_income   17955 non-null  float64\n",
      "dtypes: float64(3), int64(6), object(5)\n",
      "memory usage: 2.1+ MB\n"
     ]
    }
   ],
   "source": [
    "df.info()"
   ]
  },
  {
   "cell_type": "markdown",
   "metadata": {},
   "source": [
    "## Обработаем дубликаты"
   ]
  },
  {
   "cell_type": "code",
   "execution_count": 40,
   "metadata": {},
   "outputs": [
    {
     "data": {
      "text/plain": [
       "54"
      ]
     },
     "execution_count": 40,
     "metadata": {},
     "output_type": "execute_result"
    }
   ],
   "source": [
    "df.duplicated().sum()"
   ]
  },
  {
   "cell_type": "markdown",
   "metadata": {},
   "source": [
    "Обнаружено 54 явных дубликата, удалим их"
   ]
  },
  {
   "cell_type": "code",
   "execution_count": 41,
   "metadata": {},
   "outputs": [],
   "source": [
    "df = df.drop_duplicates()"
   ]
  },
  {
   "cell_type": "code",
   "execution_count": 42,
   "metadata": {},
   "outputs": [
    {
     "data": {
      "text/plain": [
       "0"
      ]
     },
     "execution_count": 42,
     "metadata": {},
     "output_type": "execute_result"
    }
   ],
   "source": [
    "df.duplicated().sum()"
   ]
  },
  {
   "cell_type": "markdown",
   "metadata": {},
   "source": [
    "Явные дубликаты обработаны, однако при визуальном осмотре части таблицы были выявлены неявные дубликаты в некоторых столбцах, найдем их, для этого посмотрим значения столбцов с категориальными переменными"
   ]
  },
  {
   "cell_type": "code",
   "execution_count": 43,
   "metadata": {},
   "outputs": [
    {
     "data": {
      "text/plain": [
       "среднее                11121\n",
       "высшее                  4203\n",
       "неоконченное высшее      634\n",
       "СРЕДНЕЕ                  632\n",
       "Среднее                  559\n",
       "Высшее                   245\n",
       "ВЫСШЕЕ                   243\n",
       "начальное                168\n",
       "Неоконченное высшее       44\n",
       "НЕОКОНЧЕННОЕ ВЫСШЕЕ       28\n",
       "НАЧАЛЬНОЕ                 10\n",
       "Начальное                 10\n",
       "ученая степень             3\n",
       "УЧЕНАЯ СТЕПЕНЬ             1\n",
       "Name: education, dtype: int64"
      ]
     },
     "execution_count": 43,
     "metadata": {},
     "output_type": "execute_result"
    }
   ],
   "source": [
    "df['education'].value_counts()"
   ]
  },
  {
   "cell_type": "markdown",
   "metadata": {},
   "source": [
    "В данном столбце много неявных дубликатов, для замены которых переведем все значения в нижний регистр"
   ]
  },
  {
   "cell_type": "code",
   "execution_count": 44,
   "metadata": {},
   "outputs": [],
   "source": [
    "df['education'] = df['education'].str.lower()"
   ]
  },
  {
   "cell_type": "code",
   "execution_count": 45,
   "metadata": {},
   "outputs": [
    {
     "data": {
      "text/plain": [
       "среднее                12312\n",
       "высшее                  4691\n",
       "неоконченное высшее      706\n",
       "начальное                188\n",
       "ученая степень             4\n",
       "Name: education, dtype: int64"
      ]
     },
     "execution_count": 45,
     "metadata": {},
     "output_type": "execute_result"
    }
   ],
   "source": [
    "df['education'].value_counts()"
   ]
  },
  {
   "cell_type": "markdown",
   "metadata": {},
   "source": [
    "Устранены неявные дубликаты в столбце `education`. Проверим остальные столбцы с категориальными переменными"
   ]
  },
  {
   "cell_type": "code",
   "execution_count": 46,
   "metadata": {},
   "outputs": [
    {
     "data": {
      "text/plain": [
       "женат / замужем          10403\n",
       "гражданский брак          3560\n",
       "Не женат / не замужем     2482\n",
       "в разводе                  985\n",
       "вдовец / вдова             471\n",
       "Name: family_status, dtype: int64"
      ]
     },
     "execution_count": 46,
     "metadata": {},
     "output_type": "execute_result"
    }
   ],
   "source": [
    "df['family_status'].value_counts()"
   ]
  },
  {
   "cell_type": "code",
   "execution_count": 47,
   "metadata": {},
   "outputs": [
    {
     "data": {
      "text/plain": [
       "F      11296\n",
       "M       6604\n",
       "XNA        1\n",
       "Name: gender, dtype: int64"
      ]
     },
     "execution_count": 47,
     "metadata": {},
     "output_type": "execute_result"
    }
   ],
   "source": [
    "df['gender'].value_counts()"
   ]
  },
  {
   "cell_type": "code",
   "execution_count": 48,
   "metadata": {},
   "outputs": [
    {
     "data": {
      "text/plain": [
       "сотрудник          11010\n",
       "компаньон           5051\n",
       "госслужащий         1447\n",
       "пенсионер            389\n",
       "предприниматель        2\n",
       "в декрете              1\n",
       "студент                1\n",
       "Name: income_type, dtype: int64"
      ]
     },
     "execution_count": 48,
     "metadata": {},
     "output_type": "execute_result"
    }
   ],
   "source": [
    "df['income_type'].value_counts()"
   ]
  },
  {
   "cell_type": "markdown",
   "metadata": {},
   "source": [
    "Остальные столбцы с категориальными переменными неявных дубликатов не имееют"
   ]
  },
  {
   "cell_type": "markdown",
   "metadata": {},
   "source": [
    "**Вывод**"
   ]
  },
  {
   "cell_type": "markdown",
   "metadata": {},
   "source": [
    "- выявленные дубликаты могли быть получены из-за отсутствия нормализации значений на этапе получения или сбора данных"
   ]
  },
  {
   "cell_type": "markdown",
   "metadata": {},
   "source": [
    "## Выделение общих категорий из описания целей кредитов"
   ]
  },
  {
   "cell_type": "code",
   "execution_count": 49,
   "metadata": {},
   "outputs": [
    {
     "data": {
      "text/plain": [
       "array(['покупка жилья', 'операции с жильем', 'покупка недвижимости',\n",
       "       'строительство собственной недвижимости', 'недвижимость',\n",
       "       'операции с коммерческой недвижимостью',\n",
       "       'на покупку подержанного автомобиля', 'автомобиль',\n",
       "       'операции со своей недвижимостью', 'приобретение автомобиля',\n",
       "       'на покупку своего автомобиля', 'покупка своего жилья',\n",
       "       'покупка жилой недвижимости', 'получение высшего образования',\n",
       "       'автомобили', 'ремонт жилью', 'свой автомобиль',\n",
       "       'строительство жилой недвижимости', 'высшее образование',\n",
       "       'строительство недвижимости', 'покупка жилья для сдачи',\n",
       "       'получение образования', 'заняться высшим образованием',\n",
       "       'сделка с подержанным автомобилем', 'жилье',\n",
       "       'профильное образование', 'образование',\n",
       "       'покупка коммерческой недвижимости', 'заняться образованием',\n",
       "       'на покупку автомобиля', 'сделка с автомобилем',\n",
       "       'дополнительное образование', 'покупка жилья для семьи',\n",
       "       'операции с недвижимостью',\n",
       "       'получение дополнительного образования', 'сыграть свадьбу',\n",
       "       'на проведение свадьбы', 'свадьба'], dtype=object)"
      ]
     },
     "execution_count": 49,
     "metadata": {},
     "output_type": "execute_result"
    }
   ],
   "source": [
    "df['purpose'].unique()"
   ]
  },
  {
   "cell_type": "markdown",
   "metadata": {},
   "source": [
    "В связи с тем, что в категориальной переменной описывающей цели кредита (колонка purpose) есть явные общие категории, создадим новую колонку которая будет описывать общую категорию целей, для этого потребуется провести лемматизацию т.е., приведение слова к нормальной форме: \n",
    "- для существительных — именительный падеж, единственное число; \n",
    "- для прилагательных — именительный падеж, единственное число, мужской род; \n",
    "- для глаголов, причастий, деепричастий — глагол в инфинитиве"
   ]
  },
  {
   "cell_type": "markdown",
   "metadata": {},
   "source": [
    "### Лемматизация"
   ]
  },
  {
   "cell_type": "markdown",
   "metadata": {},
   "source": [
    "Используем библиотеку pymystem"
   ]
  },
  {
   "cell_type": "code",
   "execution_count": 50,
   "metadata": {},
   "outputs": [
    {
     "data": {
      "text/plain": [
       "array(['покупка', ' ', 'жилье', 'операция', 'с', 'недвижимость',\n",
       "       'строительство', 'собственный', 'коммерческий', 'на', 'подержать',\n",
       "       'автомобиль', 'со', 'свой', 'приобретение', 'жилой', 'получение',\n",
       "       'высокий', 'образование', 'ремонт', 'для', 'сдача', 'заниматься',\n",
       "       'сделка', 'подержанный', 'профильный', 'дополнительный', 'семья',\n",
       "       'сыграть', 'свадьба', 'проведение', '\\n'], dtype=object)"
      ]
     },
     "execution_count": 50,
     "metadata": {},
     "output_type": "execute_result"
    }
   ],
   "source": [
    "m = Mystem()\n",
    "# склеим цели кредита в строку\n",
    "purposes_text = ' '.join(df['purpose'].unique())\n",
    "# проведем лемматизацию текста\n",
    "lemmas = m.lemmatize(purposes_text)\n",
    "# получим уникальные значения лемм\n",
    "pd.Series(lemmas).unique()"
   ]
  },
  {
   "cell_type": "markdown",
   "metadata": {},
   "source": [
    "#### Выделим цели кредитов"
   ]
  },
  {
   "cell_type": "markdown",
   "metadata": {},
   "source": [
    "Теперь из полученных лемм, отберем слова соответствующие целям кредитов"
   ]
  },
  {
   "cell_type": "code",
   "execution_count": 51,
   "metadata": {},
   "outputs": [],
   "source": [
    "categories = ['жилье', 'недвижимость', 'образование', 'ремонт', 'автомобиль', 'свадьба', 'семья']"
   ]
  },
  {
   "cell_type": "markdown",
   "metadata": {},
   "source": [
    "## Категоризация данных"
   ]
  },
  {
   "cell_type": "markdown",
   "metadata": {},
   "source": [
    "### Категоризуем данные по целям кредитов"
   ]
  },
  {
   "cell_type": "markdown",
   "metadata": {},
   "source": [
    "Создадим функцию которая присваивает категорию по лемматизированному описанию цели кредита"
   ]
  },
  {
   "cell_type": "code",
   "execution_count": 52,
   "metadata": {},
   "outputs": [
    {
     "data": {
      "text/html": [
       "<div>\n",
       "<style scoped>\n",
       "    .dataframe tbody tr th:only-of-type {\n",
       "        vertical-align: middle;\n",
       "    }\n",
       "\n",
       "    .dataframe tbody tr th {\n",
       "        vertical-align: top;\n",
       "    }\n",
       "\n",
       "    .dataframe thead th {\n",
       "        text-align: right;\n",
       "    }\n",
       "</style>\n",
       "<table border=\"1\" class=\"dataframe\">\n",
       "  <thead>\n",
       "    <tr style=\"text-align: right;\">\n",
       "      <th></th>\n",
       "      <th>children</th>\n",
       "      <th>days_employed</th>\n",
       "      <th>age</th>\n",
       "      <th>education</th>\n",
       "      <th>education_id</th>\n",
       "      <th>family_status</th>\n",
       "      <th>family_status_id</th>\n",
       "      <th>gender</th>\n",
       "      <th>income_type</th>\n",
       "      <th>debt</th>\n",
       "      <th>total_income</th>\n",
       "      <th>purpose</th>\n",
       "      <th>median_days_employed</th>\n",
       "      <th>median_total_income</th>\n",
       "      <th>purpose_type</th>\n",
       "    </tr>\n",
       "  </thead>\n",
       "  <tbody>\n",
       "    <tr>\n",
       "      <th>0</th>\n",
       "      <td>1</td>\n",
       "      <td>8437</td>\n",
       "      <td>42</td>\n",
       "      <td>высшее</td>\n",
       "      <td>0</td>\n",
       "      <td>женат / замужем</td>\n",
       "      <td>0</td>\n",
       "      <td>F</td>\n",
       "      <td>сотрудник</td>\n",
       "      <td>0</td>\n",
       "      <td>253,875.639</td>\n",
       "      <td>покупка жилья</td>\n",
       "      <td>1,711.470</td>\n",
       "      <td>182,292.201</td>\n",
       "      <td>жилье</td>\n",
       "    </tr>\n",
       "    <tr>\n",
       "      <th>1</th>\n",
       "      <td>0</td>\n",
       "      <td>2879</td>\n",
       "      <td>43</td>\n",
       "      <td>высшее</td>\n",
       "      <td>0</td>\n",
       "      <td>женат / замужем</td>\n",
       "      <td>0</td>\n",
       "      <td>F</td>\n",
       "      <td>компаньон</td>\n",
       "      <td>0</td>\n",
       "      <td>240,525.972</td>\n",
       "      <td>операции с жильем</td>\n",
       "      <td>1,711.470</td>\n",
       "      <td>182,292.201</td>\n",
       "      <td>жилье</td>\n",
       "    </tr>\n",
       "    <tr>\n",
       "      <th>2</th>\n",
       "      <td>2</td>\n",
       "      <td>4171</td>\n",
       "      <td>36</td>\n",
       "      <td>высшее</td>\n",
       "      <td>0</td>\n",
       "      <td>женат / замужем</td>\n",
       "      <td>0</td>\n",
       "      <td>M</td>\n",
       "      <td>компаньон</td>\n",
       "      <td>0</td>\n",
       "      <td>113,943.491</td>\n",
       "      <td>покупка недвижимости</td>\n",
       "      <td>1,711.470</td>\n",
       "      <td>182,292.201</td>\n",
       "      <td>недвижимость</td>\n",
       "    </tr>\n",
       "    <tr>\n",
       "      <th>3</th>\n",
       "      <td>0</td>\n",
       "      <td>529</td>\n",
       "      <td>28</td>\n",
       "      <td>высшее</td>\n",
       "      <td>0</td>\n",
       "      <td>женат / замужем</td>\n",
       "      <td>0</td>\n",
       "      <td>M</td>\n",
       "      <td>сотрудник</td>\n",
       "      <td>0</td>\n",
       "      <td>308,848.984</td>\n",
       "      <td>строительство собственной недвижимости</td>\n",
       "      <td>1,711.470</td>\n",
       "      <td>182,292.201</td>\n",
       "      <td>недвижимость</td>\n",
       "    </tr>\n",
       "    <tr>\n",
       "      <th>4</th>\n",
       "      <td>1</td>\n",
       "      <td>717</td>\n",
       "      <td>26</td>\n",
       "      <td>высшее</td>\n",
       "      <td>0</td>\n",
       "      <td>женат / замужем</td>\n",
       "      <td>0</td>\n",
       "      <td>F</td>\n",
       "      <td>сотрудник</td>\n",
       "      <td>0</td>\n",
       "      <td>187,863.237</td>\n",
       "      <td>строительство собственной недвижимости</td>\n",
       "      <td>1,711.470</td>\n",
       "      <td>182,292.201</td>\n",
       "      <td>недвижимость</td>\n",
       "    </tr>\n",
       "  </tbody>\n",
       "</table>\n",
       "</div>"
      ],
      "text/plain": [
       "   children  days_employed  age education  education_id    family_status  \\\n",
       "0         1           8437   42    высшее             0  женат / замужем   \n",
       "1         0           2879   43    высшее             0  женат / замужем   \n",
       "2         2           4171   36    высшее             0  женат / замужем   \n",
       "3         0            529   28    высшее             0  женат / замужем   \n",
       "4         1            717   26    высшее             0  женат / замужем   \n",
       "\n",
       "   family_status_id gender income_type  debt  total_income  \\\n",
       "0                 0      F   сотрудник     0   253,875.639   \n",
       "1                 0      F   компаньон     0   240,525.972   \n",
       "2                 0      M   компаньон     0   113,943.491   \n",
       "3                 0      M   сотрудник     0   308,848.984   \n",
       "4                 0      F   сотрудник     0   187,863.237   \n",
       "\n",
       "                                  purpose  median_days_employed  \\\n",
       "0                           покупка жилья             1,711.470   \n",
       "1                       операции с жильем             1,711.470   \n",
       "2                    покупка недвижимости             1,711.470   \n",
       "3  строительство собственной недвижимости             1,711.470   \n",
       "4  строительство собственной недвижимости             1,711.470   \n",
       "\n",
       "   median_total_income  purpose_type  \n",
       "0          182,292.201         жилье  \n",
       "1          182,292.201         жилье  \n",
       "2          182,292.201  недвижимость  \n",
       "3          182,292.201  недвижимость  \n",
       "4          182,292.201  недвижимость  "
      ]
     },
     "execution_count": 52,
     "metadata": {},
     "output_type": "execute_result"
    }
   ],
   "source": [
    "def make_purpose_type(purpose):\n",
    "    try:\n",
    "        lemmas = m.lemmatize(purpose)\n",
    "    except:\n",
    "        return np.nan()\n",
    "    for lemma in lemmas:\n",
    "        if lemma in categories:\n",
    "            return lemma\n",
    "    return np.nan()\n",
    "        \n",
    "df['purpose_type'] = df['purpose'].apply(make_purpose_type)\n",
    "df.head()"
   ]
  },
  {
   "cell_type": "code",
   "execution_count": 53,
   "metadata": {},
   "outputs": [
    {
     "data": {
      "text/plain": [
       "недвижимость    5311\n",
       "автомобиль      3564\n",
       "образование     3339\n",
       "жилье           3229\n",
       "свадьба         1945\n",
       "ремонт           513\n",
       "Name: purpose_type, dtype: int64"
      ]
     },
     "execution_count": 53,
     "metadata": {},
     "output_type": "execute_result"
    }
   ],
   "source": [
    "df['purpose_type'].value_counts()"
   ]
  },
  {
   "cell_type": "markdown",
   "metadata": {},
   "source": [
    "### Выделим категории людей по уровню их дохода"
   ]
  },
  {
   "cell_type": "markdown",
   "metadata": {},
   "source": [
    "Для категоризации по уровню доходов определим значения показывающие относительное положение данных - квартили в переменной общий доход (total_income)"
   ]
  },
  {
   "cell_type": "code",
   "execution_count": 54,
   "metadata": {},
   "outputs": [],
   "source": [
    "q1 = df['total_income'].quantile(q=0.25) # 25% всех значений ниже этого значения дохода\n",
    "q2 = df['total_income'].quantile(q=0.50) # 50% (медиана) всех значений ниже этого значения дохода\n",
    "q3 = df['total_income'].quantile(q=0.75) # 75% всех значений ниже этого значения дохода"
   ]
  },
  {
   "cell_type": "code",
   "execution_count": 55,
   "metadata": {},
   "outputs": [
    {
     "data": {
      "text/plain": [
       "(113327.33998884688, 145906.62186212008, 200091.84669936303)"
      ]
     },
     "execution_count": 55,
     "metadata": {},
     "output_type": "execute_result"
    }
   ],
   "source": [
    "q1, q2, q3"
   ]
  },
  {
   "cell_type": "markdown",
   "metadata": {},
   "source": [
    "### Присвоим категории"
   ]
  },
  {
   "cell_type": "code",
   "execution_count": 56,
   "metadata": {},
   "outputs": [
    {
     "name": "stdout",
     "output_type": "stream",
     "text": [
      "низкий\n",
      "низкий\n",
      "средний\n",
      "высокий\n"
     ]
    }
   ],
   "source": [
    "def make_income_category(income):\n",
    "    try:\n",
    "        if income < q1:\n",
    "            return 'низкий'\n",
    "        elif q1 < income < q3:\n",
    "            return 'средний'\n",
    "        else:\n",
    "            return 'высокий'\n",
    "    except:\n",
    "        return np.nan()\n",
    "\n",
    "# проверим функцию\n",
    "print(make_income_category(100000))\n",
    "print(make_income_category(110000))    \n",
    "print(make_income_category(200000))\n",
    "print(make_income_category(212000))"
   ]
  },
  {
   "cell_type": "code",
   "execution_count": 57,
   "metadata": {},
   "outputs": [],
   "source": [
    "df['income_level'] = df['total_income'].apply(make_income_category)"
   ]
  },
  {
   "cell_type": "code",
   "execution_count": 58,
   "metadata": {},
   "outputs": [
    {
     "data": {
      "text/html": [
       "<div>\n",
       "<style scoped>\n",
       "    .dataframe tbody tr th:only-of-type {\n",
       "        vertical-align: middle;\n",
       "    }\n",
       "\n",
       "    .dataframe tbody tr th {\n",
       "        vertical-align: top;\n",
       "    }\n",
       "\n",
       "    .dataframe thead th {\n",
       "        text-align: right;\n",
       "    }\n",
       "</style>\n",
       "<table border=\"1\" class=\"dataframe\">\n",
       "  <thead>\n",
       "    <tr style=\"text-align: right;\">\n",
       "      <th></th>\n",
       "      <th>children</th>\n",
       "      <th>days_employed</th>\n",
       "      <th>age</th>\n",
       "      <th>education</th>\n",
       "      <th>education_id</th>\n",
       "      <th>family_status</th>\n",
       "      <th>family_status_id</th>\n",
       "      <th>gender</th>\n",
       "      <th>income_type</th>\n",
       "      <th>debt</th>\n",
       "      <th>total_income</th>\n",
       "      <th>purpose</th>\n",
       "      <th>median_days_employed</th>\n",
       "      <th>median_total_income</th>\n",
       "      <th>purpose_type</th>\n",
       "      <th>income_level</th>\n",
       "    </tr>\n",
       "  </thead>\n",
       "  <tbody>\n",
       "    <tr>\n",
       "      <th>0</th>\n",
       "      <td>1</td>\n",
       "      <td>8437</td>\n",
       "      <td>42</td>\n",
       "      <td>высшее</td>\n",
       "      <td>0</td>\n",
       "      <td>женат / замужем</td>\n",
       "      <td>0</td>\n",
       "      <td>F</td>\n",
       "      <td>сотрудник</td>\n",
       "      <td>0</td>\n",
       "      <td>253,875.639</td>\n",
       "      <td>покупка жилья</td>\n",
       "      <td>1,711.470</td>\n",
       "      <td>182,292.201</td>\n",
       "      <td>жилье</td>\n",
       "      <td>высокий</td>\n",
       "    </tr>\n",
       "    <tr>\n",
       "      <th>1</th>\n",
       "      <td>0</td>\n",
       "      <td>2879</td>\n",
       "      <td>43</td>\n",
       "      <td>высшее</td>\n",
       "      <td>0</td>\n",
       "      <td>женат / замужем</td>\n",
       "      <td>0</td>\n",
       "      <td>F</td>\n",
       "      <td>компаньон</td>\n",
       "      <td>0</td>\n",
       "      <td>240,525.972</td>\n",
       "      <td>операции с жильем</td>\n",
       "      <td>1,711.470</td>\n",
       "      <td>182,292.201</td>\n",
       "      <td>жилье</td>\n",
       "      <td>высокий</td>\n",
       "    </tr>\n",
       "    <tr>\n",
       "      <th>2</th>\n",
       "      <td>2</td>\n",
       "      <td>4171</td>\n",
       "      <td>36</td>\n",
       "      <td>высшее</td>\n",
       "      <td>0</td>\n",
       "      <td>женат / замужем</td>\n",
       "      <td>0</td>\n",
       "      <td>M</td>\n",
       "      <td>компаньон</td>\n",
       "      <td>0</td>\n",
       "      <td>113,943.491</td>\n",
       "      <td>покупка недвижимости</td>\n",
       "      <td>1,711.470</td>\n",
       "      <td>182,292.201</td>\n",
       "      <td>недвижимость</td>\n",
       "      <td>средний</td>\n",
       "    </tr>\n",
       "    <tr>\n",
       "      <th>3</th>\n",
       "      <td>0</td>\n",
       "      <td>529</td>\n",
       "      <td>28</td>\n",
       "      <td>высшее</td>\n",
       "      <td>0</td>\n",
       "      <td>женат / замужем</td>\n",
       "      <td>0</td>\n",
       "      <td>M</td>\n",
       "      <td>сотрудник</td>\n",
       "      <td>0</td>\n",
       "      <td>308,848.984</td>\n",
       "      <td>строительство собственной недвижимости</td>\n",
       "      <td>1,711.470</td>\n",
       "      <td>182,292.201</td>\n",
       "      <td>недвижимость</td>\n",
       "      <td>высокий</td>\n",
       "    </tr>\n",
       "    <tr>\n",
       "      <th>4</th>\n",
       "      <td>1</td>\n",
       "      <td>717</td>\n",
       "      <td>26</td>\n",
       "      <td>высшее</td>\n",
       "      <td>0</td>\n",
       "      <td>женат / замужем</td>\n",
       "      <td>0</td>\n",
       "      <td>F</td>\n",
       "      <td>сотрудник</td>\n",
       "      <td>0</td>\n",
       "      <td>187,863.237</td>\n",
       "      <td>строительство собственной недвижимости</td>\n",
       "      <td>1,711.470</td>\n",
       "      <td>182,292.201</td>\n",
       "      <td>недвижимость</td>\n",
       "      <td>средний</td>\n",
       "    </tr>\n",
       "  </tbody>\n",
       "</table>\n",
       "</div>"
      ],
      "text/plain": [
       "   children  days_employed  age education  education_id    family_status  \\\n",
       "0         1           8437   42    высшее             0  женат / замужем   \n",
       "1         0           2879   43    высшее             0  женат / замужем   \n",
       "2         2           4171   36    высшее             0  женат / замужем   \n",
       "3         0            529   28    высшее             0  женат / замужем   \n",
       "4         1            717   26    высшее             0  женат / замужем   \n",
       "\n",
       "   family_status_id gender income_type  debt  total_income  \\\n",
       "0                 0      F   сотрудник     0   253,875.639   \n",
       "1                 0      F   компаньон     0   240,525.972   \n",
       "2                 0      M   компаньон     0   113,943.491   \n",
       "3                 0      M   сотрудник     0   308,848.984   \n",
       "4                 0      F   сотрудник     0   187,863.237   \n",
       "\n",
       "                                  purpose  median_days_employed  \\\n",
       "0                           покупка жилья             1,711.470   \n",
       "1                       операции с жильем             1,711.470   \n",
       "2                    покупка недвижимости             1,711.470   \n",
       "3  строительство собственной недвижимости             1,711.470   \n",
       "4  строительство собственной недвижимости             1,711.470   \n",
       "\n",
       "   median_total_income  purpose_type income_level  \n",
       "0          182,292.201         жилье      высокий  \n",
       "1          182,292.201         жилье      высокий  \n",
       "2          182,292.201  недвижимость      средний  \n",
       "3          182,292.201  недвижимость      высокий  \n",
       "4          182,292.201  недвижимость      средний  "
      ]
     },
     "execution_count": 58,
     "metadata": {},
     "output_type": "execute_result"
    }
   ],
   "source": [
    "df.head()"
   ]
  },
  {
   "cell_type": "markdown",
   "metadata": {},
   "source": [
    "## Оценим влияние различных переменных на возврат кредита в срок"
   ]
  },
  {
   "cell_type": "code",
   "execution_count": 59,
   "metadata": {},
   "outputs": [
    {
     "data": {
      "text/plain": [
       "0.087"
      ]
     },
     "execution_count": 59,
     "metadata": {},
     "output_type": "execute_result"
    }
   ],
   "source": [
    "df['debt'].mean().round(3)"
   ]
  },
  {
   "cell_type": "markdown",
   "metadata": {},
   "source": [
    "Здесь среднее выступает вероятностью, не возврата кредита в срок соответсвенно вероятность невозврата в срок равна примерно 8.7% в среднем по выборке"
   ]
  },
  {
   "cell_type": "markdown",
   "metadata": {},
   "source": [
    "### Есть ли зависимость между наличием детей и возвратом кредита в срок?"
   ]
  },
  {
   "cell_type": "code",
   "execution_count": 60,
   "metadata": {},
   "outputs": [
    {
     "data": {
      "text/html": [
       "<div>\n",
       "<style scoped>\n",
       "    .dataframe tbody tr th:only-of-type {\n",
       "        vertical-align: middle;\n",
       "    }\n",
       "\n",
       "    .dataframe tbody tr th {\n",
       "        vertical-align: top;\n",
       "    }\n",
       "\n",
       "    .dataframe thead tr th {\n",
       "        text-align: left;\n",
       "    }\n",
       "\n",
       "    .dataframe thead tr:last-of-type th {\n",
       "        text-align: right;\n",
       "    }\n",
       "</style>\n",
       "<table border=\"1\" class=\"dataframe\">\n",
       "  <thead>\n",
       "    <tr>\n",
       "      <th></th>\n",
       "      <th colspan=\"2\" halign=\"left\">debt</th>\n",
       "    </tr>\n",
       "    <tr>\n",
       "      <th></th>\n",
       "      <th>count</th>\n",
       "      <th>mean</th>\n",
       "    </tr>\n",
       "    <tr>\n",
       "      <th>children</th>\n",
       "      <th></th>\n",
       "      <th></th>\n",
       "    </tr>\n",
       "  </thead>\n",
       "  <tbody>\n",
       "    <tr>\n",
       "      <th>0</th>\n",
       "      <td>10900</td>\n",
       "      <td>0.082</td>\n",
       "    </tr>\n",
       "    <tr>\n",
       "      <th>1</th>\n",
       "      <td>4540</td>\n",
       "      <td>0.094</td>\n",
       "    </tr>\n",
       "    <tr>\n",
       "      <th>2</th>\n",
       "      <td>2022</td>\n",
       "      <td>0.095</td>\n",
       "    </tr>\n",
       "    <tr>\n",
       "      <th>3</th>\n",
       "      <td>322</td>\n",
       "      <td>0.081</td>\n",
       "    </tr>\n",
       "    <tr>\n",
       "      <th>4</th>\n",
       "      <td>40</td>\n",
       "      <td>0.100</td>\n",
       "    </tr>\n",
       "    <tr>\n",
       "      <th>5</th>\n",
       "      <td>9</td>\n",
       "      <td>0.000</td>\n",
       "    </tr>\n",
       "    <tr>\n",
       "      <th>20</th>\n",
       "      <td>68</td>\n",
       "      <td>0.118</td>\n",
       "    </tr>\n",
       "  </tbody>\n",
       "</table>\n",
       "</div>"
      ],
      "text/plain": [
       "           debt      \n",
       "          count  mean\n",
       "children             \n",
       "0         10900 0.082\n",
       "1          4540 0.094\n",
       "2          2022 0.095\n",
       "3           322 0.081\n",
       "4            40 0.100\n",
       "5             9 0.000\n",
       "20           68 0.118"
      ]
     },
     "execution_count": 60,
     "metadata": {},
     "output_type": "execute_result"
    }
   ],
   "source": [
    "df.groupby('children').agg({'debt': ['count', 'mean']})"
   ]
  },
  {
   "cell_type": "markdown",
   "metadata": {},
   "source": [
    "По таблице видим, что при увеличении количества детей, растет и вероятность невозврата"
   ]
  },
  {
   "cell_type": "code",
   "execution_count": 61,
   "metadata": {},
   "outputs": [
    {
     "data": {
      "image/png": "[encoded data removed]",
      "text/plain": [
       "<Figure size 648x504 with 1 Axes>"
      ]
     },
     "metadata": {
      "needs_background": "light"
     },
     "output_type": "display_data"
    }
   ],
   "source": [
    "df.groupby('children')[['debt']].mean().plot(\n",
    "    kind='bar', \n",
    "    title='Вероятность невозврата кредита в связи с количеством детей', \n",
    "    ylabel='Вероятность',\n",
    "    xlabel='Количество детей',\n",
    "    figsize=(9,7),\n",
    "    legend=False\n",
    ")\n",
    "plt.show()"
   ]
  },
  {
   "cell_type": "markdown",
   "metadata": {},
   "source": [
    "На графике видна зависимость повышения вероятности невозврата кредита с увеличением количества детей. При наличии 20 детей вероятность задолженности серьезно повышается"
   ]
  },
  {
   "cell_type": "markdown",
   "metadata": {},
   "source": [
    "Рассчитаем, как изменяется вероятность задолженности в зависимости от отсутствия детей и наличия хотя бы одного ребенка"
   ]
  },
  {
   "cell_type": "code",
   "execution_count": 62,
   "metadata": {},
   "outputs": [
    {
     "data": {
      "text/plain": [
       "0.094"
      ]
     },
     "execution_count": 62,
     "metadata": {},
     "output_type": "execute_result"
    }
   ],
   "source": [
    "df[df['children'] > 0]['debt'].mean().round(3)"
   ]
  },
  {
   "cell_type": "markdown",
   "metadata": {},
   "source": [
    "Вероятность задолженности при наличии хотя бы одного ребенка"
   ]
  },
  {
   "cell_type": "code",
   "execution_count": 63,
   "metadata": {},
   "outputs": [
    {
     "data": {
      "text/plain": [
       "0.082"
      ]
     },
     "execution_count": 63,
     "metadata": {},
     "output_type": "execute_result"
    }
   ],
   "source": [
    "df[df['children'] == 0]['debt'].mean().round(3)"
   ]
  },
  {
   "cell_type": "markdown",
   "metadata": {},
   "source": [
    "Вероятность задолженности при отсутствии детей"
   ]
  },
  {
   "cell_type": "code",
   "execution_count": 64,
   "metadata": {},
   "outputs": [
    {
     "data": {
      "text/plain": [
       "14.634"
      ]
     },
     "execution_count": 64,
     "metadata": {},
     "output_type": "execute_result"
    }
   ],
   "source": [
    "round((0.094 - 0.082) / 0.082 * 100, 3)"
   ]
  },
  {
   "cell_type": "markdown",
   "metadata": {},
   "source": [
    "Вероятность задолженности при наличии хотя бы одного ребенка на 14.6% больше, чем при отсутствии детей"
   ]
  },
  {
   "cell_type": "markdown",
   "metadata": {},
   "source": [
    "**Вывод**"
   ]
  },
  {
   "cell_type": "markdown",
   "metadata": {},
   "source": [
    "- Имеется зависимость между количеством детей и вероятностью задолженности (вероятность задолженности увеличивается). При наличии большого количества детей (20 как на графике и в таблице выше) вероятность задолженности серьезно повышается, что может объясняться большой материальной нагрузкой на данных людей\n",
    "- Вероятность задолженности у людей которые не имеют детей гораздо ниже, чем у людей имеющих хотя бы одного ребенка"
   ]
  },
  {
   "cell_type": "markdown",
   "metadata": {},
   "source": [
    "### Есть ли зависимость между семейным положением и возвратом кредита в срок?"
   ]
  },
  {
   "cell_type": "code",
   "execution_count": 65,
   "metadata": {
    "scrolled": true
   },
   "outputs": [],
   "source": [
    "family_status_grouped = (\n",
    "    df.groupby('family_status')[['debt', 'age']]\n",
    "      .mean()\n",
    "      .sort_values(by='debt', ascending=False)\n",
    "      .rename(columns={'debt': 'debt_proba', 'age': 'mean_age'})\n",
    ")"
   ]
  },
  {
   "cell_type": "code",
   "execution_count": 66,
   "metadata": {},
   "outputs": [
    {
     "data": {
      "text/html": [
       "<div>\n",
       "<style scoped>\n",
       "    .dataframe tbody tr th:only-of-type {\n",
       "        vertical-align: middle;\n",
       "    }\n",
       "\n",
       "    .dataframe tbody tr th {\n",
       "        vertical-align: top;\n",
       "    }\n",
       "\n",
       "    .dataframe thead th {\n",
       "        text-align: right;\n",
       "    }\n",
       "</style>\n",
       "<table border=\"1\" class=\"dataframe\">\n",
       "  <thead>\n",
       "    <tr style=\"text-align: right;\">\n",
       "      <th></th>\n",
       "      <th>debt_proba</th>\n",
       "      <th>mean_age</th>\n",
       "    </tr>\n",
       "    <tr>\n",
       "      <th>family_status</th>\n",
       "      <th></th>\n",
       "      <th></th>\n",
       "    </tr>\n",
       "  </thead>\n",
       "  <tbody>\n",
       "    <tr>\n",
       "      <th>Не женат / не замужем</th>\n",
       "      <td>0.105</td>\n",
       "      <td>35.987</td>\n",
       "    </tr>\n",
       "    <tr>\n",
       "      <th>гражданский брак</th>\n",
       "      <td>0.100</td>\n",
       "      <td>39.660</td>\n",
       "    </tr>\n",
       "    <tr>\n",
       "      <th>женат / замужем</th>\n",
       "      <td>0.080</td>\n",
       "      <td>40.957</td>\n",
       "    </tr>\n",
       "    <tr>\n",
       "      <th>в разводе</th>\n",
       "      <td>0.075</td>\n",
       "      <td>43.330</td>\n",
       "    </tr>\n",
       "    <tr>\n",
       "      <th>вдовец / вдова</th>\n",
       "      <td>0.066</td>\n",
       "      <td>52.246</td>\n",
       "    </tr>\n",
       "  </tbody>\n",
       "</table>\n",
       "</div>"
      ],
      "text/plain": [
       "                       debt_proba  mean_age\n",
       "family_status                              \n",
       "Не женат / не замужем       0.105    35.987\n",
       "гражданский брак            0.100    39.660\n",
       "женат / замужем             0.080    40.957\n",
       "в разводе                   0.075    43.330\n",
       "вдовец / вдова              0.066    52.246"
      ]
     },
     "execution_count": 66,
     "metadata": {},
     "output_type": "execute_result"
    }
   ],
   "source": [
    "family_status_grouped"
   ]
  },
  {
   "cell_type": "code",
   "execution_count": 67,
   "metadata": {},
   "outputs": [
    {
     "data": {
      "image/png": "[encoded data removed]",
      "text/plain": [
       "<Figure size 648x504 with 1 Axes>"
      ]
     },
     "metadata": {
      "needs_background": "light"
     },
     "output_type": "display_data"
    }
   ],
   "source": [
    "family_status_grouped[['debt_proba']].plot(\n",
    "    kind='bar', \n",
    "    title='Вероятность задолженность по семейному положению', \n",
    "    ylabel='Вероятность',\n",
    "    xlabel='Семейное положение',\n",
    "    figsize=(9,7),\n",
    "    legend=False\n",
    ")\n",
    "plt.show()"
   ]
  },
  {
   "cell_type": "markdown",
   "metadata": {},
   "source": [
    "**Вывод**"
   ]
  },
  {
   "cell_type": "markdown",
   "metadata": {},
   "source": [
    "- самая большая вероятность не возврата кредита у людей с семейным положением не женат / не замужем\n",
    "- самая маленькая вероятность у людей вдовец / вдова\n",
    "\n",
    "Если субъективно интерпретировать полученные результаты, то можно предположить, что люди с семейным положением Не женат / не замужем менее отвественны, чем люди с семейным положением вдовец / вдова или в разводе, однако добавив средний возраст в таблицу выше, сразу появляется и зависимость от возраста - чем страше человек, тем меньше вероятность задолженности по кредиту.\n",
    "\n",
    "Поэтому выявить зависимость между семейным положением и вероятностью задолженности нельзя (возможно больше на эту вероятность влияет возраст)"
   ]
  },
  {
   "cell_type": "markdown",
   "metadata": {},
   "source": [
    "### Есть ли зависимость между уровнем дохода и возвратом кредита в срок?"
   ]
  },
  {
   "cell_type": "code",
   "execution_count": 68,
   "metadata": {},
   "outputs": [],
   "source": [
    "income_level_grouped = (\n",
    "    df.groupby('income_level')\n",
    "      .agg(\n",
    "          count=('debt', 'count'),\n",
    "          debt_proba=('debt', 'mean'),\n",
    "    )\n",
    ")"
   ]
  },
  {
   "cell_type": "code",
   "execution_count": 69,
   "metadata": {},
   "outputs": [
    {
     "data": {
      "text/html": [
       "<div>\n",
       "<style scoped>\n",
       "    .dataframe tbody tr th:only-of-type {\n",
       "        vertical-align: middle;\n",
       "    }\n",
       "\n",
       "    .dataframe tbody tr th {\n",
       "        vertical-align: top;\n",
       "    }\n",
       "\n",
       "    .dataframe thead th {\n",
       "        text-align: right;\n",
       "    }\n",
       "</style>\n",
       "<table border=\"1\" class=\"dataframe\">\n",
       "  <thead>\n",
       "    <tr style=\"text-align: right;\">\n",
       "      <th></th>\n",
       "      <th>count</th>\n",
       "      <th>debt_proba</th>\n",
       "    </tr>\n",
       "    <tr>\n",
       "      <th>income_level</th>\n",
       "      <th></th>\n",
       "      <th></th>\n",
       "    </tr>\n",
       "  </thead>\n",
       "  <tbody>\n",
       "    <tr>\n",
       "      <th>высокий</th>\n",
       "      <td>4477</td>\n",
       "      <td>0.073</td>\n",
       "    </tr>\n",
       "    <tr>\n",
       "      <th>низкий</th>\n",
       "      <td>4475</td>\n",
       "      <td>0.091</td>\n",
       "    </tr>\n",
       "    <tr>\n",
       "      <th>средний</th>\n",
       "      <td>8949</td>\n",
       "      <td>0.091</td>\n",
       "    </tr>\n",
       "  </tbody>\n",
       "</table>\n",
       "</div>"
      ],
      "text/plain": [
       "              count  debt_proba\n",
       "income_level                   \n",
       "высокий        4477       0.073\n",
       "низкий         4475       0.091\n",
       "средний        8949       0.091"
      ]
     },
     "execution_count": 69,
     "metadata": {},
     "output_type": "execute_result"
    }
   ],
   "source": [
    "income_level_grouped"
   ]
  },
  {
   "cell_type": "code",
   "execution_count": 72,
   "metadata": {},
   "outputs": [
    {
     "data": {
      "image/png": "[encoded data removed]",
      "text/plain": [
       "<Figure size 648x504 with 1 Axes>"
      ]
     },
     "metadata": {
      "needs_background": "light"
     },
     "output_type": "display_data"
    }
   ],
   "source": [
    "income_level_grouped['debt_proba'].plot(\n",
    "    kind='bar', \n",
    "    title='Вероятность задолженности по уровню доходов', \n",
    "    ylabel='Вероятность',\n",
    "    xlabel='Уровень доходов',\n",
    "    figsize=(9,7),\n",
    "    legend=False\n",
    ")\n",
    "plt.show()"
   ]
  },
  {
   "cell_type": "markdown",
   "metadata": {},
   "source": [
    "**Вывод**"
   ]
  },
  {
   "cell_type": "markdown",
   "metadata": {},
   "source": [
    "- Вероятность задолженности по кредиту у людей с низким и средним уровнем не отличаются, \n",
    "- У людей с высоким уровнем доходов вероятность задолженности заметно ниже\n",
    "\n",
    "Никаких откровений, но если дело связано с риском потери денег, лучше перестраховаться и подтвердить банальные зависимости"
   ]
  },
  {
   "cell_type": "markdown",
   "metadata": {},
   "source": [
    "### Как разные цели кредита влияют на его возврат в срок?"
   ]
  },
  {
   "cell_type": "code",
   "execution_count": 74,
   "metadata": {},
   "outputs": [],
   "source": [
    "purpose_type_grouped = (\n",
    "    df.groupby('purpose_type')\n",
    "      .agg(\n",
    "          count=('debt', 'count'), \n",
    "          debt_proba=('debt', 'mean'), \n",
    "          mean_age=('age', 'mean')\n",
    "      )\n",
    ")"
   ]
  },
  {
   "cell_type": "code",
   "execution_count": 75,
   "metadata": {},
   "outputs": [
    {
     "data": {
      "text/html": [
       "<div>\n",
       "<style scoped>\n",
       "    .dataframe tbody tr th:only-of-type {\n",
       "        vertical-align: middle;\n",
       "    }\n",
       "\n",
       "    .dataframe tbody tr th {\n",
       "        vertical-align: top;\n",
       "    }\n",
       "\n",
       "    .dataframe thead th {\n",
       "        text-align: right;\n",
       "    }\n",
       "</style>\n",
       "<table border=\"1\" class=\"dataframe\">\n",
       "  <thead>\n",
       "    <tr style=\"text-align: right;\">\n",
       "      <th></th>\n",
       "      <th>count</th>\n",
       "      <th>debt_proba</th>\n",
       "      <th>mean_age</th>\n",
       "    </tr>\n",
       "    <tr>\n",
       "      <th>purpose_type</th>\n",
       "      <th></th>\n",
       "      <th></th>\n",
       "      <th></th>\n",
       "    </tr>\n",
       "  </thead>\n",
       "  <tbody>\n",
       "    <tr>\n",
       "      <th>автомобиль</th>\n",
       "      <td>3564</td>\n",
       "      <td>0.100</td>\n",
       "      <td>40.499</td>\n",
       "    </tr>\n",
       "    <tr>\n",
       "      <th>жилье</th>\n",
       "      <td>3229</td>\n",
       "      <td>0.075</td>\n",
       "      <td>40.236</td>\n",
       "    </tr>\n",
       "    <tr>\n",
       "      <th>недвижимость</th>\n",
       "      <td>5311</td>\n",
       "      <td>0.081</td>\n",
       "      <td>40.542</td>\n",
       "    </tr>\n",
       "    <tr>\n",
       "      <th>образование</th>\n",
       "      <td>3339</td>\n",
       "      <td>0.098</td>\n",
       "      <td>40.524</td>\n",
       "    </tr>\n",
       "    <tr>\n",
       "      <th>ремонт</th>\n",
       "      <td>513</td>\n",
       "      <td>0.060</td>\n",
       "      <td>39.583</td>\n",
       "    </tr>\n",
       "    <tr>\n",
       "      <th>свадьба</th>\n",
       "      <td>1945</td>\n",
       "      <td>0.085</td>\n",
       "      <td>40.453</td>\n",
       "    </tr>\n",
       "  </tbody>\n",
       "</table>\n",
       "</div>"
      ],
      "text/plain": [
       "              count  debt_proba  mean_age\n",
       "purpose_type                             \n",
       "автомобиль     3564       0.100    40.499\n",
       "жилье          3229       0.075    40.236\n",
       "недвижимость   5311       0.081    40.542\n",
       "образование    3339       0.098    40.524\n",
       "ремонт          513       0.060    39.583\n",
       "свадьба        1945       0.085    40.453"
      ]
     },
     "execution_count": 75,
     "metadata": {},
     "output_type": "execute_result"
    }
   ],
   "source": [
    "purpose_type_grouped"
   ]
  },
  {
   "cell_type": "code",
   "execution_count": 78,
   "metadata": {},
   "outputs": [
    {
     "data": {
      "image/png": "[encoded data removed]",
      "text/plain": [
       "<Figure size 648x504 with 1 Axes>"
      ]
     },
     "metadata": {
      "needs_background": "light"
     },
     "output_type": "display_data"
    }
   ],
   "source": [
    "purpose_type_grouped['debt_proba'].sort_values().plot(\n",
    "    kind='bar', \n",
    "    title='Debt probability', \n",
    "    ylabel='Probability',\n",
    "    xlabel='Purpose type',\n",
    "    figsize=(9,7),\n",
    "    legend=False\n",
    ")\n",
    "plt.show()"
   ]
  },
  {
   "cell_type": "markdown",
   "metadata": {},
   "source": [
    "**Вывод**"
   ]
  },
  {
   "cell_type": "markdown",
   "metadata": {},
   "source": [
    "- Самая большая вероятность задолженности по кредиту является кредит с целью покупки автомобиля\n",
    "- Самая большая вероятность задолженности по кредиту является кредит с целью ремонта или покупки жилья\n",
    "\n",
    "Данная зависимость может объясняться тем, что у кредитных организаций намного серьезней требования к доходу человека когда он берет кредит на ремонт, т.к. в случае неисполнения должником своих обязательств, кредитной организации гораздо труднее взыскать задолженность (ремонт труднее реализовать в счет погашения долга, чем автомобиль). \n",
    "\n",
    "Или когда человек берет кредит на жилье, это достаточно большая сумма, соответсвенно и требования к человеку от кредитной организации серьезней чем для человека с целью кредита - покупка автомобиля (смотря конечно какого, но в среднем явно жилье намного дороже) или кредитом на образование."
   ]
  },
  {
   "cell_type": "markdown",
   "metadata": {},
   "source": [
    "## Общий вывод"
   ]
  },
  {
   "cell_type": "markdown",
   "metadata": {},
   "source": [
    "* Чем выше доход у человека, тем меньше вероятность задолженности;\n",
    "* Чем больше у человека детей, тем больше вероятность задолженности;\n",
    "* Семейное положение связанное с текущими или прошлыми официально оформленными отношениями с другим человеком (женат / замужем, вдовец / вдова, в разводе) понижают вероятность задолженности. Но также, указанные семейные положения связаны с возрастом, а возраст в свою очередь сильно влияет на вероятность задолженности (чем старше тем меньше вероятность задолженности);\n",
    "* Цель кредита влияет на вероятность возврата задолженности в срок, что может следовать из стратегий отбора клиентов самими кредитными организациями.\n"
   ]
  }
 ],
 "metadata": {
  "ExecuteTimeLog": [
   {
    "duration": 834,
    "start_time": "2021-11-28T08:44:01.829Z"
   },
   {
    "duration": 17,
    "start_time": "2021-11-28T08:44:02.665Z"
   },
   {
    "duration": 30,
    "start_time": "2021-11-28T08:44:02.684Z"
   },
   {
    "duration": 30,
    "start_time": "2021-11-28T08:44:02.715Z"
   },
   {
    "duration": 53,
    "start_time": "2021-11-28T08:44:02.746Z"
   },
   {
    "duration": 9,
    "start_time": "2021-11-28T08:44:02.800Z"
   },
   {
    "duration": 27,
    "start_time": "2021-11-28T08:44:02.810Z"
   },
   {
    "duration": 22,
    "start_time": "2021-11-28T08:44:02.838Z"
   },
   {
    "duration": 257,
    "start_time": "2021-11-28T08:44:02.862Z"
   },
   {
    "duration": 5,
    "start_time": "2021-11-28T08:44:03.121Z"
   },
   {
    "duration": 34,
    "start_time": "2021-11-28T08:44:03.127Z"
   },
   {
    "duration": 18,
    "start_time": "2021-11-28T08:44:03.162Z"
   },
   {
    "duration": 23,
    "start_time": "2021-11-28T08:44:03.182Z"
   },
   {
    "duration": 207,
    "start_time": "2021-11-28T08:44:03.206Z"
   },
   {
    "duration": 4,
    "start_time": "2021-11-28T08:44:03.414Z"
   },
   {
    "duration": 165,
    "start_time": "2021-11-28T08:44:03.420Z"
   },
   {
    "duration": 5,
    "start_time": "2021-11-28T08:44:03.587Z"
   },
   {
    "duration": 66,
    "start_time": "2021-11-28T08:44:03.593Z"
   },
   {
    "duration": 7,
    "start_time": "2021-11-28T08:44:03.661Z"
   },
   {
    "duration": 174,
    "start_time": "2021-11-28T08:44:03.669Z"
   },
   {
    "duration": 6,
    "start_time": "2021-11-28T08:44:03.845Z"
   },
   {
    "duration": 9,
    "start_time": "2021-11-28T08:44:03.852Z"
   },
   {
    "duration": 13,
    "start_time": "2021-11-28T08:44:03.862Z"
   },
   {
    "duration": 15,
    "start_time": "2021-11-28T08:44:03.876Z"
   },
   {
    "duration": 15,
    "start_time": "2021-11-28T08:44:03.892Z"
   },
   {
    "duration": 21,
    "start_time": "2021-11-28T08:44:03.909Z"
   },
   {
    "duration": 6,
    "start_time": "2021-11-28T08:44:03.933Z"
   },
   {
    "duration": 14,
    "start_time": "2021-11-28T08:44:03.941Z"
   },
   {
    "duration": 16,
    "start_time": "2021-11-28T08:44:03.956Z"
   },
   {
    "duration": 13,
    "start_time": "2021-11-28T08:44:03.974Z"
   },
   {
    "duration": 16,
    "start_time": "2021-11-28T08:44:03.988Z"
   },
   {
    "duration": 10,
    "start_time": "2021-11-28T08:44:04.006Z"
   },
   {
    "duration": 617,
    "start_time": "2021-11-28T08:44:04.017Z"
   },
   {
    "duration": 3,
    "start_time": "2021-11-28T08:44:04.636Z"
   },
   {
    "duration": 1986,
    "start_time": "2021-11-28T08:44:04.640Z"
   },
   {
    "duration": 6,
    "start_time": "2021-11-28T08:44:06.628Z"
   },
   {
    "duration": 27,
    "start_time": "2021-11-28T08:44:06.636Z"
   },
   {
    "duration": 12,
    "start_time": "2021-11-28T08:44:06.665Z"
   },
   {
    "duration": 20,
    "start_time": "2021-11-28T08:44:06.678Z"
   },
   {
    "duration": 27,
    "start_time": "2021-11-28T08:44:06.699Z"
   },
   {
    "duration": 30,
    "start_time": "2021-11-28T08:44:06.728Z"
   },
   {
    "duration": 20,
    "start_time": "2021-11-28T08:44:06.760Z"
   },
   {
    "duration": 14203,
    "start_time": "2021-11-28T08:44:06.781Z"
   },
   {
    "duration": 12,
    "start_time": "2021-11-28T08:44:20.985Z"
   },
   {
    "duration": 10,
    "start_time": "2021-11-28T08:44:20.999Z"
   },
   {
    "duration": 10,
    "start_time": "2021-11-28T08:44:21.011Z"
   },
   {
    "duration": 9,
    "start_time": "2021-11-28T08:44:21.023Z"
   },
   {
    "duration": 9,
    "start_time": "2021-11-28T08:44:21.033Z"
   },
   {
    "duration": 4,
    "start_time": "2021-11-28T08:44:21.043Z"
   },
   {
    "duration": 40,
    "start_time": "2021-11-28T08:44:21.048Z"
   },
   {
    "duration": 9,
    "start_time": "2021-11-28T08:44:21.090Z"
   },
   {
    "duration": 5,
    "start_time": "2021-11-28T08:44:21.100Z"
   },
   {
    "duration": 6,
    "start_time": "2021-11-28T08:44:21.106Z"
   },
   {
    "duration": 12,
    "start_time": "2021-11-28T08:44:21.114Z"
   },
   {
    "duration": 8,
    "start_time": "2021-11-28T08:44:21.128Z"
   },
   {
    "duration": 52,
    "start_time": "2021-11-28T08:44:21.137Z"
   },
   {
    "duration": 4,
    "start_time": "2021-11-28T08:49:08.200Z"
   }
  ],
  "kernelspec": {
   "display_name": "Python 3",
   "language": "python",
   "name": "python3"
  },
  "language_info": {
   "codemirror_mode": {
    "name": "ipython",
    "version": 3
   },
   "file_extension": ".py",
   "mimetype": "text/x-python",
   "name": "python",
   "nbconvert_exporter": "python",
   "pygments_lexer": "ipython3",
   "version": "3.8.10"
  },
  "toc": {
   "base_numbering": "1",
   "nav_menu": {},
   "number_sections": true,
   "sideBar": true,
   "skip_h1_title": true,
   "title_cell": "Содержание",
   "title_sidebar": "Contents",
   "toc_cell": true,
   "toc_position": {
    "height": "calc(100% - 180px)",
    "left": "10px",
    "top": "150px",
    "width": "372.391px"
   },
   "toc_section_display": true,
   "toc_window_display": false
  }
 },
 "nbformat": 4,
 "nbformat_minor": 2
}
