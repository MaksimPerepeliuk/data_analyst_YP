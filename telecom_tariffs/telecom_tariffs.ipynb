{
 "cells": [
  {
   "cell_type": "markdown",
   "metadata": {
    "toc": true
   },
   "source": [
    "<h1>Содержание<span class=\"tocSkip\"></span></h1>\n",
    "<div class=\"toc\"><ul class=\"toc-item\"><li><span><a href=\"#Описание-тарифов\" data-toc-modified-id=\"Описание-тарифов-1\"><span class=\"toc-item-num\">1&nbsp;&nbsp;</span>Описание тарифов</a></span></li><li><span><a href=\"#Описание-данных\" data-toc-modified-id=\"Описание-данных-2\"><span class=\"toc-item-num\">2&nbsp;&nbsp;</span>Описание данных</a></span></li><li><span><a href=\"#Загрузим-данные-и-изучим-общую-информацию\" data-toc-modified-id=\"Загрузим-данные-и-изучим-общую-информацию-3\"><span class=\"toc-item-num\">3&nbsp;&nbsp;</span>Загрузим данные и изучим общую информацию</a></span></li><li><span><a href=\"#Подготовка-данных\" data-toc-modified-id=\"Подготовка-данных-4\"><span class=\"toc-item-num\">4&nbsp;&nbsp;</span>Подготовка данных</a></span><ul class=\"toc-item\"><li><span><a href=\"#Приведение-типов\" data-toc-modified-id=\"Приведение-типов-4.1\"><span class=\"toc-item-num\">4.1&nbsp;&nbsp;</span>Приведение типов</a></span></li><li><span><a href=\"#Изменим-значения-колонок-id-на-правильные\" data-toc-modified-id=\"Изменим-значения-колонок-id-на-правильные-4.2\"><span class=\"toc-item-num\">4.2&nbsp;&nbsp;</span>Изменим значения колонок id на правильные</a></span></li><li><span><a href=\"#Округлим-секунды-до-минут,-а-мегабайты-—-до-гигабайт,-в-соответствии-с-политикой-&quot;Мегалайн&quot;\" data-toc-modified-id=\"Округлим-секунды-до-минут,-а-мегабайты-—-до-гигабайт,-в-соответствии-с-политикой-&quot;Мегалайн&quot;-4.3\"><span class=\"toc-item-num\">4.3&nbsp;&nbsp;</span>Округлим секунды до минут, а мегабайты — до гигабайт, в соответствии с политикой \"Мегалайн\"</a></span></li><li><span><a href=\"#Посчитаем-для-каждого-пользователя-следующие-значения:\" data-toc-modified-id=\"Посчитаем-для-каждого-пользователя-следующие-значения:-4.4\"><span class=\"toc-item-num\">4.4&nbsp;&nbsp;</span>Посчитаем для каждого пользователя следующие значения:</a></span><ul class=\"toc-item\"><li><span><a href=\"#1.-Количество-сделанных-звонков-и-израсходованных-минут-разговора-по-месяцам:\" data-toc-modified-id=\"1.-Количество-сделанных-звонков-и-израсходованных-минут-разговора-по-месяцам:-4.4.1\"><span class=\"toc-item-num\">4.4.1&nbsp;&nbsp;</span>1. Количество сделанных звонков и израсходованных минут разговора по месяцам:</a></span></li><li><span><a href=\"#2.-количество-отправленных-сообщений-по-месяцам:\" data-toc-modified-id=\"2.-количество-отправленных-сообщений-по-месяцам:-4.4.2\"><span class=\"toc-item-num\">4.4.2&nbsp;&nbsp;</span>2. количество отправленных сообщений по месяцам:</a></span></li><li><span><a href=\"#3.-объем-израсходованного-интернет-трафика-по-месяцам:\" data-toc-modified-id=\"3.-объем-израсходованного-интернет-трафика-по-месяцам:-4.4.3\"><span class=\"toc-item-num\">4.4.3&nbsp;&nbsp;</span>3. объем израсходованного интернет-трафика по месяцам:</a></span></li><li><span><a href=\"#4.-помесячная-выручка-с-каждого-пользователя:\" data-toc-modified-id=\"4.-помесячная-выручка-с-каждого-пользователя:-4.4.4\"><span class=\"toc-item-num\">4.4.4&nbsp;&nbsp;</span>4. помесячная выручка с каждого пользователя:</a></span></li></ul></li><li><span><a href=\"#Заполним-пропуски-в-колонке-messages_number-средними-значениями-в-зависимости-от-тарифного-плана:\" data-toc-modified-id=\"Заполним-пропуски-в-колонке-messages_number-средними-значениями-в-зависимости-от-тарифного-плана:-4.5\"><span class=\"toc-item-num\">4.5&nbsp;&nbsp;</span>Заполним пропуски в колонке messages_number средними значениями в зависимости от тарифного плана:</a></span></li><li><span><a href=\"#Изменим-тип-числовых-значений-на-int\" data-toc-modified-id=\"Изменим-тип-числовых-значений-на-int-4.6\"><span class=\"toc-item-num\">4.6&nbsp;&nbsp;</span>Изменим тип числовых значений на int</a></span></li></ul></li><li><span><a href=\"#Проанализируем-поведение-клиентов-оператора,-исходя-из-тарифного-плана\" data-toc-modified-id=\"Проанализируем-поведение-клиентов-оператора,-исходя-из-тарифного-плана-5\"><span class=\"toc-item-num\">5&nbsp;&nbsp;</span>Проанализируем поведение клиентов оператора, исходя из тарифного плана</a></span><ul class=\"toc-item\"><li><span><a href=\"#посмотрим-долю-пользователей-каждого-из-тарифов:\" data-toc-modified-id=\"посмотрим-долю-пользователей-каждого-из-тарифов:-5.1\"><span class=\"toc-item-num\">5.1&nbsp;&nbsp;</span>посмотрим долю пользователей каждого из тарифов:</a></span></li><li><span><a href=\"#выделим-колонки-для-анализа-и-сделаем-срезы-по-тарифам:\" data-toc-modified-id=\"выделим-колонки-для-анализа-и-сделаем-срезы-по-тарифам:-5.2\"><span class=\"toc-item-num\">5.2&nbsp;&nbsp;</span>выделим колонки для анализа и сделаем срезы по тарифам:</a></span></li><li><span><a href=\"#построим-графики-для-анализируемых-колонок:\" data-toc-modified-id=\"построим-графики-для-анализируемых-колонок:-5.3\"><span class=\"toc-item-num\">5.3&nbsp;&nbsp;</span>построим графики для анализируемых колонок:</a></span></li><li><span><a href=\"#сделаем-таблицу-со-значениями-среднего,-дисперсии-и-стандартного-отклонения,-для-анализируемых-колонок,-по-каждому-из-тарифов:\" data-toc-modified-id=\"сделаем-таблицу-со-значениями-среднего,-дисперсии-и-стандартного-отклонения,-для-анализируемых-колонок,-по-каждому-из-тарифов:-5.4\"><span class=\"toc-item-num\">5.4&nbsp;&nbsp;</span>сделаем таблицу со значениями среднего, дисперсии и стандартного отклонения, для анализируемых колонок, по каждому из тарифов:</a></span></li><li><span><a href=\"#описание-распределений:\" data-toc-modified-id=\"описание-распределений:-5.5\"><span class=\"toc-item-num\">5.5&nbsp;&nbsp;</span>описание распределений:</a></span></li></ul></li><li><span><a href=\"#Проверка-гипотез\" data-toc-modified-id=\"Проверка-гипотез-6\"><span class=\"toc-item-num\">6&nbsp;&nbsp;</span>Проверка гипотез</a></span><ul class=\"toc-item\"><li><span><a href=\"#1.-средняя-выручка-пользователей-тарифов-«Ультра»-и-«Смарт»-различаются:\" data-toc-modified-id=\"1.-средняя-выручка-пользователей-тарифов-«Ультра»-и-«Смарт»-различаются:-6.1\"><span class=\"toc-item-num\">6.1&nbsp;&nbsp;</span>1. средняя выручка пользователей тарифов «Ультра» и «Смарт» различаются:</a></span><ul class=\"toc-item\"><li><span><a href=\"#Построим-график-для-визуального-сравнения-средних-двух-выборок:\" data-toc-modified-id=\"Построим-график-для-визуального-сравнения-средних-двух-выборок:-6.1.1\"><span class=\"toc-item-num\">6.1.1&nbsp;&nbsp;</span>Построим график для визуального сравнения средних двух выборок:</a></span></li><li><span><a href=\"#Cформулируем-гипотезы:\" data-toc-modified-id=\"Cформулируем-гипотезы:-6.1.2\"><span class=\"toc-item-num\">6.1.2&nbsp;&nbsp;</span>Cформулируем гипотезы:</a></span></li><li><span><a href=\"#Проверим-гипотезу-о-равенстве-средних-двух-генеральных-совокупностей:\" data-toc-modified-id=\"Проверим-гипотезу-о-равенстве-средних-двух-генеральных-совокупностей:-6.1.3\"><span class=\"toc-item-num\">6.1.3&nbsp;&nbsp;</span>Проверим гипотезу о равенстве средних двух генеральных совокупностей:</a></span></li></ul></li><li><span><a href=\"#2.-средняя-выручка-пользователей-из-Москвы-отличается-от-выручки-пользователей-из-других-регионов\" data-toc-modified-id=\"2.-средняя-выручка-пользователей-из-Москвы-отличается-от-выручки-пользователей-из-других-регионов-6.2\"><span class=\"toc-item-num\">6.2&nbsp;&nbsp;</span>2. средняя выручка пользователей из Москвы отличается от выручки пользователей из других регионов</a></span><ul class=\"toc-item\"><li><span><a href=\"#Построим-график-для-визуального-сравнения-средних-двух-выборок:\" data-toc-modified-id=\"Построим-график-для-визуального-сравнения-средних-двух-выборок:-6.2.1\"><span class=\"toc-item-num\">6.2.1&nbsp;&nbsp;</span>Построим график для визуального сравнения средних двух выборок:</a></span></li><li><span><a href=\"#Cформулируем-гипотезы:\" data-toc-modified-id=\"Cформулируем-гипотезы:-6.2.2\"><span class=\"toc-item-num\">6.2.2&nbsp;&nbsp;</span>Cформулируем гипотезы:</a></span></li><li><span><a href=\"#Проверим-гипотезу-о-равенстве-средних-двух-генеральных-совокупностей:\" data-toc-modified-id=\"Проверим-гипотезу-о-равенстве-средних-двух-генеральных-совокупностей:-6.2.3\"><span class=\"toc-item-num\">6.2.3&nbsp;&nbsp;</span>Проверим гипотезу о равенстве средних двух генеральных совокупностей:</a></span></li></ul></li></ul></li><li><span><a href=\"#Общий-вывод:\" data-toc-modified-id=\"Общий-вывод:-7\"><span class=\"toc-item-num\">7&nbsp;&nbsp;</span>Общий вывод:</a></span></li></ul></div>"
   ]
  },
  {
   "cell_type": "markdown",
   "metadata": {},
   "source": [
    "# Определение перспективного тарифа для телеком-компании\n",
    "\n",
    "Чтобы скорректировать рекламный бюджет, коммерческий департамент хочет понять, какой тариф приносит больше денег.\n",
    "\n",
    "Вам предстоит сделать предварительный анализ тарифов на небольшой выборке клиентов. В вашем распоряжении данные 500 пользователей «Мегалайна»: кто они, откуда, каким тарифом пользуются, сколько звонков и сообщений каждый отправил за 2018 год. Нужно проанализировать поведение клиентов и сделать вывод — какой тариф лучше."
   ]
  },
  {
   "cell_type": "markdown",
   "metadata": {},
   "source": [
    "## Описание тарифов\n",
    "\n",
    "Тариф «Смарт»\n",
    "Ежемесячная плата: 550 рублей  \n",
    "Включено 500 минут разговора, 50 сообщений и 15 Гб интернет-трафика  \n",
    "Стоимость услуг сверх тарифного пакета: 1. минута разговора: 3 рубля («Мегалайн» всегда округляет вверх   значения минут и мегабайтов. Если пользователь проговорил всего 1 секунду, в тарифе засчитывается целая минута); 2. сообщение: 3 рубля; 3. 1 Гб интернет-трафика: 200 рублей.\n",
    "\n",
    "Тариф «Ультра»\n",
    "Ежемесячная плата: 1950 рублей  \n",
    "Включено 3000 минут разговора, 1000 сообщений и 30 Гб интернет-трафика  \n",
    "Стоимость услуг сверх тарифного пакета: 1. минута разговора: 1 рубль; 2. сообщение: 1 рубль; 3. 1 Гб интернет-трафика: 150 рублей."
   ]
  },
  {
   "cell_type": "markdown",
   "metadata": {},
   "source": [
    "## Описание данных\n",
    "\n",
    "Таблица users (информация о пользователях):\n",
    "- user_id — уникальный идентификатор пользователя\n",
    "- first_name — имя пользователя\n",
    "- last_name — фамилия пользователя\n",
    "- age — возраст пользователя (годы)\n",
    "- reg_date — дата подключения тарифа (день, месяц, год)\n",
    "- churn_date — дата прекращения пользования тарифом (если значение пропущено, то тариф ещё действовал на момент выгрузки данных)\n",
    "- city — город проживания пользователя\n",
    "- tarif — название тарифного плана\n",
    "\n",
    "\n",
    "Таблица calls (информация о звонках):\n",
    "- id — уникальный номер звонка\n",
    "- call_date — дата звонка\n",
    "- duration — длительность звонка в минутах\n",
    "- user_id — идентификатор пользователя, сделавшего звонок\n",
    "- Таблица messages (информация о сообщениях):\n",
    "- id — уникальный номер сообщения\n",
    "- message_date — дата сообщения\n",
    "- user_id — идентификатор пользователя, отправившего сообщение\n",
    "\n",
    "\n",
    "Таблица internet (информация об интернет-сессиях):\n",
    "- id — уникальный номер сессии\n",
    "- mb_used — объём потраченного за сессию интернет-трафика (в мегабайтах)\n",
    "- session_date — дата интернет-сессии\n",
    "- user_id — идентификатор пользователя\n",
    "\n",
    "\n",
    "Таблица tariffs (информация о тарифах):\n",
    "- tariff_name — название тарифа\n",
    "- rub_monthly_fee — ежемесячная абонентская плата в рублях\n",
    "- minutes_included — количество минут разговора в месяц, включённых в абонентскую плату\n",
    "- messages_included — количество сообщений в месяц, включённых в абонентскую плату\n",
    "- mb_per_month_included — объём интернет-трафика, включённого в абонентскую плату (в мегабайтах)\n",
    "- rub_per_minute — стоимость минуты разговора сверх тарифного пакета (например, если в тарифе 100 минут разговора в месяц, то со 101 минуты будет взиматься плата)\n",
    "- rub_per_message — стоимость отправки сообщения сверх тарифного пакета\n",
    "- rub_per_gb — стоимость дополнительного гигабайта интернет-трафика сверх тарифного пакета (1 гигабайт = 1024 мегабайта)"
   ]
  },
  {
   "cell_type": "markdown",
   "metadata": {},
   "source": [
    "## Загрузим данные и изучим общую информацию"
   ]
  },
  {
   "cell_type": "code",
   "execution_count": 1,
   "metadata": {},
   "outputs": [],
   "source": [
    "import pandas as pd\n",
    "import numpy as np\n",
    "import matplotlib.pyplot as plt\n",
    "import scipy.stats as st\n",
    "pd.set_option('display.float_format', '{:,.2f}'.format)"
   ]
  },
  {
   "cell_type": "code",
   "execution_count": 2,
   "metadata": {},
   "outputs": [],
   "source": [
    "calls = pd.read_csv('./calls.csv')\n",
    "internet = pd.read_csv('./internet.csv', index_col=0) # index_col=0 - для удаления ненужной колонки с дублированием индексов\n",
    "messages = pd.read_csv('./messages.csv')\n",
    "tariffs = pd.read_csv('./tariffs.csv')\n",
    "users = pd.read_csv('./users.csv')"
   ]
  },
  {
   "cell_type": "code",
   "execution_count": 3,
   "metadata": {},
   "outputs": [
    {
     "data": {
      "text/html": [
       "<div>\n",
       "<style scoped>\n",
       "    .dataframe tbody tr th:only-of-type {\n",
       "        vertical-align: middle;\n",
       "    }\n",
       "\n",
       "    .dataframe tbody tr th {\n",
       "        vertical-align: top;\n",
       "    }\n",
       "\n",
       "    .dataframe thead th {\n",
       "        text-align: right;\n",
       "    }\n",
       "</style>\n",
       "<table border=\"1\" class=\"dataframe\">\n",
       "  <thead>\n",
       "    <tr style=\"text-align: right;\">\n",
       "      <th></th>\n",
       "      <th>id</th>\n",
       "      <th>call_date</th>\n",
       "      <th>duration</th>\n",
       "      <th>user_id</th>\n",
       "    </tr>\n",
       "  </thead>\n",
       "  <tbody>\n",
       "    <tr>\n",
       "      <th>0</th>\n",
       "      <td>1000_0</td>\n",
       "      <td>2018-07-25</td>\n",
       "      <td>0.00</td>\n",
       "      <td>1000</td>\n",
       "    </tr>\n",
       "    <tr>\n",
       "      <th>1</th>\n",
       "      <td>1000_1</td>\n",
       "      <td>2018-08-17</td>\n",
       "      <td>0.00</td>\n",
       "      <td>1000</td>\n",
       "    </tr>\n",
       "    <tr>\n",
       "      <th>2</th>\n",
       "      <td>1000_2</td>\n",
       "      <td>2018-06-11</td>\n",
       "      <td>2.85</td>\n",
       "      <td>1000</td>\n",
       "    </tr>\n",
       "    <tr>\n",
       "      <th>3</th>\n",
       "      <td>1000_3</td>\n",
       "      <td>2018-09-21</td>\n",
       "      <td>13.80</td>\n",
       "      <td>1000</td>\n",
       "    </tr>\n",
       "    <tr>\n",
       "      <th>4</th>\n",
       "      <td>1000_4</td>\n",
       "      <td>2018-12-15</td>\n",
       "      <td>5.18</td>\n",
       "      <td>1000</td>\n",
       "    </tr>\n",
       "  </tbody>\n",
       "</table>\n",
       "</div>"
      ],
      "text/plain": [
       "       id   call_date  duration  user_id\n",
       "0  1000_0  2018-07-25      0.00     1000\n",
       "1  1000_1  2018-08-17      0.00     1000\n",
       "2  1000_2  2018-06-11      2.85     1000\n",
       "3  1000_3  2018-09-21     13.80     1000\n",
       "4  1000_4  2018-12-15      5.18     1000"
      ]
     },
     "execution_count": 3,
     "metadata": {},
     "output_type": "execute_result"
    }
   ],
   "source": [
    "calls.head()"
   ]
  },
  {
   "cell_type": "code",
   "execution_count": 4,
   "metadata": {},
   "outputs": [
    {
     "name": "stdout",
     "output_type": "stream",
     "text": [
      "<class 'pandas.core.frame.DataFrame'>\n",
      "RangeIndex: 202607 entries, 0 to 202606\n",
      "Data columns (total 4 columns):\n",
      " #   Column     Non-Null Count   Dtype  \n",
      "---  ------     --------------   -----  \n",
      " 0   id         202607 non-null  object \n",
      " 1   call_date  202607 non-null  object \n",
      " 2   duration   202607 non-null  float64\n",
      " 3   user_id    202607 non-null  int64  \n",
      "dtypes: float64(1), int64(1), object(2)\n",
      "memory usage: 6.2+ MB\n"
     ]
    }
   ],
   "source": [
    "calls.info()"
   ]
  },
  {
   "cell_type": "code",
   "execution_count": 5,
   "metadata": {},
   "outputs": [
    {
     "data": {
      "text/html": [
       "<div>\n",
       "<style scoped>\n",
       "    .dataframe tbody tr th:only-of-type {\n",
       "        vertical-align: middle;\n",
       "    }\n",
       "\n",
       "    .dataframe tbody tr th {\n",
       "        vertical-align: top;\n",
       "    }\n",
       "\n",
       "    .dataframe thead th {\n",
       "        text-align: right;\n",
       "    }\n",
       "</style>\n",
       "<table border=\"1\" class=\"dataframe\">\n",
       "  <thead>\n",
       "    <tr style=\"text-align: right;\">\n",
       "      <th></th>\n",
       "      <th>id</th>\n",
       "      <th>mb_used</th>\n",
       "      <th>session_date</th>\n",
       "      <th>user_id</th>\n",
       "    </tr>\n",
       "  </thead>\n",
       "  <tbody>\n",
       "    <tr>\n",
       "      <th>0</th>\n",
       "      <td>1000_0</td>\n",
       "      <td>112.95</td>\n",
       "      <td>2018-11-25</td>\n",
       "      <td>1000</td>\n",
       "    </tr>\n",
       "    <tr>\n",
       "      <th>1</th>\n",
       "      <td>1000_1</td>\n",
       "      <td>1,052.81</td>\n",
       "      <td>2018-09-07</td>\n",
       "      <td>1000</td>\n",
       "    </tr>\n",
       "    <tr>\n",
       "      <th>2</th>\n",
       "      <td>1000_2</td>\n",
       "      <td>1,197.26</td>\n",
       "      <td>2018-06-25</td>\n",
       "      <td>1000</td>\n",
       "    </tr>\n",
       "    <tr>\n",
       "      <th>3</th>\n",
       "      <td>1000_3</td>\n",
       "      <td>550.27</td>\n",
       "      <td>2018-08-22</td>\n",
       "      <td>1000</td>\n",
       "    </tr>\n",
       "    <tr>\n",
       "      <th>4</th>\n",
       "      <td>1000_4</td>\n",
       "      <td>302.56</td>\n",
       "      <td>2018-09-24</td>\n",
       "      <td>1000</td>\n",
       "    </tr>\n",
       "  </tbody>\n",
       "</table>\n",
       "</div>"
      ],
      "text/plain": [
       "       id  mb_used session_date  user_id\n",
       "0  1000_0   112.95   2018-11-25     1000\n",
       "1  1000_1 1,052.81   2018-09-07     1000\n",
       "2  1000_2 1,197.26   2018-06-25     1000\n",
       "3  1000_3   550.27   2018-08-22     1000\n",
       "4  1000_4   302.56   2018-09-24     1000"
      ]
     },
     "execution_count": 5,
     "metadata": {},
     "output_type": "execute_result"
    }
   ],
   "source": [
    "internet.head()"
   ]
  },
  {
   "cell_type": "code",
   "execution_count": 6,
   "metadata": {},
   "outputs": [
    {
     "name": "stdout",
     "output_type": "stream",
     "text": [
      "<class 'pandas.core.frame.DataFrame'>\n",
      "Int64Index: 149396 entries, 0 to 149395\n",
      "Data columns (total 4 columns):\n",
      " #   Column        Non-Null Count   Dtype  \n",
      "---  ------        --------------   -----  \n",
      " 0   id            149396 non-null  object \n",
      " 1   mb_used       149396 non-null  float64\n",
      " 2   session_date  149396 non-null  object \n",
      " 3   user_id       149396 non-null  int64  \n",
      "dtypes: float64(1), int64(1), object(2)\n",
      "memory usage: 5.7+ MB\n"
     ]
    }
   ],
   "source": [
    "internet.info()"
   ]
  },
  {
   "cell_type": "code",
   "execution_count": 7,
   "metadata": {},
   "outputs": [
    {
     "data": {
      "text/html": [
       "<div>\n",
       "<style scoped>\n",
       "    .dataframe tbody tr th:only-of-type {\n",
       "        vertical-align: middle;\n",
       "    }\n",
       "\n",
       "    .dataframe tbody tr th {\n",
       "        vertical-align: top;\n",
       "    }\n",
       "\n",
       "    .dataframe thead th {\n",
       "        text-align: right;\n",
       "    }\n",
       "</style>\n",
       "<table border=\"1\" class=\"dataframe\">\n",
       "  <thead>\n",
       "    <tr style=\"text-align: right;\">\n",
       "      <th></th>\n",
       "      <th>id</th>\n",
       "      <th>message_date</th>\n",
       "      <th>user_id</th>\n",
       "    </tr>\n",
       "  </thead>\n",
       "  <tbody>\n",
       "    <tr>\n",
       "      <th>0</th>\n",
       "      <td>1000_0</td>\n",
       "      <td>2018-06-27</td>\n",
       "      <td>1000</td>\n",
       "    </tr>\n",
       "    <tr>\n",
       "      <th>1</th>\n",
       "      <td>1000_1</td>\n",
       "      <td>2018-10-08</td>\n",
       "      <td>1000</td>\n",
       "    </tr>\n",
       "    <tr>\n",
       "      <th>2</th>\n",
       "      <td>1000_2</td>\n",
       "      <td>2018-08-04</td>\n",
       "      <td>1000</td>\n",
       "    </tr>\n",
       "    <tr>\n",
       "      <th>3</th>\n",
       "      <td>1000_3</td>\n",
       "      <td>2018-06-16</td>\n",
       "      <td>1000</td>\n",
       "    </tr>\n",
       "    <tr>\n",
       "      <th>4</th>\n",
       "      <td>1000_4</td>\n",
       "      <td>2018-12-05</td>\n",
       "      <td>1000</td>\n",
       "    </tr>\n",
       "  </tbody>\n",
       "</table>\n",
       "</div>"
      ],
      "text/plain": [
       "       id message_date  user_id\n",
       "0  1000_0   2018-06-27     1000\n",
       "1  1000_1   2018-10-08     1000\n",
       "2  1000_2   2018-08-04     1000\n",
       "3  1000_3   2018-06-16     1000\n",
       "4  1000_4   2018-12-05     1000"
      ]
     },
     "execution_count": 7,
     "metadata": {},
     "output_type": "execute_result"
    }
   ],
   "source": [
    "messages.head()"
   ]
  },
  {
   "cell_type": "code",
   "execution_count": 8,
   "metadata": {},
   "outputs": [
    {
     "name": "stdout",
     "output_type": "stream",
     "text": [
      "<class 'pandas.core.frame.DataFrame'>\n",
      "RangeIndex: 123036 entries, 0 to 123035\n",
      "Data columns (total 3 columns):\n",
      " #   Column        Non-Null Count   Dtype \n",
      "---  ------        --------------   ----- \n",
      " 0   id            123036 non-null  object\n",
      " 1   message_date  123036 non-null  object\n",
      " 2   user_id       123036 non-null  int64 \n",
      "dtypes: int64(1), object(2)\n",
      "memory usage: 2.8+ MB\n"
     ]
    }
   ],
   "source": [
    "messages.info()"
   ]
  },
  {
   "cell_type": "code",
   "execution_count": 9,
   "metadata": {},
   "outputs": [
    {
     "data": {
      "text/html": [
       "<div>\n",
       "<style scoped>\n",
       "    .dataframe tbody tr th:only-of-type {\n",
       "        vertical-align: middle;\n",
       "    }\n",
       "\n",
       "    .dataframe tbody tr th {\n",
       "        vertical-align: top;\n",
       "    }\n",
       "\n",
       "    .dataframe thead th {\n",
       "        text-align: right;\n",
       "    }\n",
       "</style>\n",
       "<table border=\"1\" class=\"dataframe\">\n",
       "  <thead>\n",
       "    <tr style=\"text-align: right;\">\n",
       "      <th></th>\n",
       "      <th>messages_included</th>\n",
       "      <th>mb_per_month_included</th>\n",
       "      <th>minutes_included</th>\n",
       "      <th>rub_monthly_fee</th>\n",
       "      <th>rub_per_gb</th>\n",
       "      <th>rub_per_message</th>\n",
       "      <th>rub_per_minute</th>\n",
       "      <th>tariff_name</th>\n",
       "    </tr>\n",
       "  </thead>\n",
       "  <tbody>\n",
       "    <tr>\n",
       "      <th>0</th>\n",
       "      <td>50</td>\n",
       "      <td>15360</td>\n",
       "      <td>500</td>\n",
       "      <td>550</td>\n",
       "      <td>200</td>\n",
       "      <td>3</td>\n",
       "      <td>3</td>\n",
       "      <td>smart</td>\n",
       "    </tr>\n",
       "    <tr>\n",
       "      <th>1</th>\n",
       "      <td>1000</td>\n",
       "      <td>30720</td>\n",
       "      <td>3000</td>\n",
       "      <td>1950</td>\n",
       "      <td>150</td>\n",
       "      <td>1</td>\n",
       "      <td>1</td>\n",
       "      <td>ultra</td>\n",
       "    </tr>\n",
       "  </tbody>\n",
       "</table>\n",
       "</div>"
      ],
      "text/plain": [
       "   messages_included  mb_per_month_included  minutes_included  \\\n",
       "0                 50                  15360               500   \n",
       "1               1000                  30720              3000   \n",
       "\n",
       "   rub_monthly_fee  rub_per_gb  rub_per_message  rub_per_minute tariff_name  \n",
       "0              550         200                3               3       smart  \n",
       "1             1950         150                1               1       ultra  "
      ]
     },
     "execution_count": 9,
     "metadata": {},
     "output_type": "execute_result"
    }
   ],
   "source": [
    "tariffs.head()"
   ]
  },
  {
   "cell_type": "code",
   "execution_count": 10,
   "metadata": {},
   "outputs": [
    {
     "name": "stdout",
     "output_type": "stream",
     "text": [
      "<class 'pandas.core.frame.DataFrame'>\n",
      "RangeIndex: 2 entries, 0 to 1\n",
      "Data columns (total 8 columns):\n",
      " #   Column                 Non-Null Count  Dtype \n",
      "---  ------                 --------------  ----- \n",
      " 0   messages_included      2 non-null      int64 \n",
      " 1   mb_per_month_included  2 non-null      int64 \n",
      " 2   minutes_included       2 non-null      int64 \n",
      " 3   rub_monthly_fee        2 non-null      int64 \n",
      " 4   rub_per_gb             2 non-null      int64 \n",
      " 5   rub_per_message        2 non-null      int64 \n",
      " 6   rub_per_minute         2 non-null      int64 \n",
      " 7   tariff_name            2 non-null      object\n",
      "dtypes: int64(7), object(1)\n",
      "memory usage: 256.0+ bytes\n"
     ]
    }
   ],
   "source": [
    "tariffs.info()"
   ]
  },
  {
   "cell_type": "code",
   "execution_count": 11,
   "metadata": {},
   "outputs": [
    {
     "data": {
      "text/html": [
       "<div>\n",
       "<style scoped>\n",
       "    .dataframe tbody tr th:only-of-type {\n",
       "        vertical-align: middle;\n",
       "    }\n",
       "\n",
       "    .dataframe tbody tr th {\n",
       "        vertical-align: top;\n",
       "    }\n",
       "\n",
       "    .dataframe thead th {\n",
       "        text-align: right;\n",
       "    }\n",
       "</style>\n",
       "<table border=\"1\" class=\"dataframe\">\n",
       "  <thead>\n",
       "    <tr style=\"text-align: right;\">\n",
       "      <th></th>\n",
       "      <th>user_id</th>\n",
       "      <th>age</th>\n",
       "      <th>churn_date</th>\n",
       "      <th>city</th>\n",
       "      <th>first_name</th>\n",
       "      <th>last_name</th>\n",
       "      <th>reg_date</th>\n",
       "      <th>tariff</th>\n",
       "    </tr>\n",
       "  </thead>\n",
       "  <tbody>\n",
       "    <tr>\n",
       "      <th>0</th>\n",
       "      <td>1000</td>\n",
       "      <td>52</td>\n",
       "      <td>NaN</td>\n",
       "      <td>Краснодар</td>\n",
       "      <td>Рафаил</td>\n",
       "      <td>Верещагин</td>\n",
       "      <td>2018-05-25</td>\n",
       "      <td>ultra</td>\n",
       "    </tr>\n",
       "    <tr>\n",
       "      <th>1</th>\n",
       "      <td>1001</td>\n",
       "      <td>41</td>\n",
       "      <td>NaN</td>\n",
       "      <td>Москва</td>\n",
       "      <td>Иван</td>\n",
       "      <td>Ежов</td>\n",
       "      <td>2018-11-01</td>\n",
       "      <td>smart</td>\n",
       "    </tr>\n",
       "    <tr>\n",
       "      <th>2</th>\n",
       "      <td>1002</td>\n",
       "      <td>59</td>\n",
       "      <td>NaN</td>\n",
       "      <td>Стерлитамак</td>\n",
       "      <td>Евгений</td>\n",
       "      <td>Абрамович</td>\n",
       "      <td>2018-06-17</td>\n",
       "      <td>smart</td>\n",
       "    </tr>\n",
       "    <tr>\n",
       "      <th>3</th>\n",
       "      <td>1003</td>\n",
       "      <td>23</td>\n",
       "      <td>NaN</td>\n",
       "      <td>Москва</td>\n",
       "      <td>Белла</td>\n",
       "      <td>Белякова</td>\n",
       "      <td>2018-08-17</td>\n",
       "      <td>ultra</td>\n",
       "    </tr>\n",
       "    <tr>\n",
       "      <th>4</th>\n",
       "      <td>1004</td>\n",
       "      <td>68</td>\n",
       "      <td>NaN</td>\n",
       "      <td>Новокузнецк</td>\n",
       "      <td>Татьяна</td>\n",
       "      <td>Авдеенко</td>\n",
       "      <td>2018-05-14</td>\n",
       "      <td>ultra</td>\n",
       "    </tr>\n",
       "  </tbody>\n",
       "</table>\n",
       "</div>"
      ],
      "text/plain": [
       "   user_id  age churn_date         city first_name  last_name    reg_date  \\\n",
       "0     1000   52        NaN    Краснодар     Рафаил  Верещагин  2018-05-25   \n",
       "1     1001   41        NaN       Москва       Иван       Ежов  2018-11-01   \n",
       "2     1002   59        NaN  Стерлитамак    Евгений  Абрамович  2018-06-17   \n",
       "3     1003   23        NaN       Москва      Белла   Белякова  2018-08-17   \n",
       "4     1004   68        NaN  Новокузнецк    Татьяна   Авдеенко  2018-05-14   \n",
       "\n",
       "  tariff  \n",
       "0  ultra  \n",
       "1  smart  \n",
       "2  smart  \n",
       "3  ultra  \n",
       "4  ultra  "
      ]
     },
     "execution_count": 11,
     "metadata": {},
     "output_type": "execute_result"
    }
   ],
   "source": [
    "users.head()"
   ]
  },
  {
   "cell_type": "code",
   "execution_count": 12,
   "metadata": {},
   "outputs": [
    {
     "name": "stdout",
     "output_type": "stream",
     "text": [
      "<class 'pandas.core.frame.DataFrame'>\n",
      "RangeIndex: 500 entries, 0 to 499\n",
      "Data columns (total 8 columns):\n",
      " #   Column      Non-Null Count  Dtype \n",
      "---  ------      --------------  ----- \n",
      " 0   user_id     500 non-null    int64 \n",
      " 1   age         500 non-null    int64 \n",
      " 2   churn_date  38 non-null     object\n",
      " 3   city        500 non-null    object\n",
      " 4   first_name  500 non-null    object\n",
      " 5   last_name   500 non-null    object\n",
      " 6   reg_date    500 non-null    object\n",
      " 7   tariff      500 non-null    object\n",
      "dtypes: int64(2), object(6)\n",
      "memory usage: 31.4+ KB\n"
     ]
    }
   ],
   "source": [
    "users.info()"
   ]
  },
  {
   "cell_type": "markdown",
   "metadata": {},
   "source": [
    "Выводы:\n",
    "- пропуски присутствуют только в колонке churn_date (дата ухода) в дата сете users. Пропуск скорее всего означает, что клиент не покинул компанию\n",
    "- все колонки содержащие дату, имеют тип object, нужно изменить тип на datetime\n",
    "- в колонках id используется запись вида 1000_1, что дублирует user_id"
   ]
  },
  {
   "cell_type": "markdown",
   "metadata": {},
   "source": [
    "## Подготовка данных"
   ]
  },
  {
   "cell_type": "markdown",
   "metadata": {},
   "source": [
    "### Приведение типов"
   ]
  },
  {
   "cell_type": "code",
   "execution_count": 13,
   "metadata": {},
   "outputs": [],
   "source": [
    "calls['call_date'] = pd.to_datetime(calls['call_date'], format='%Y-%m-%d')\n",
    "internet['session_date'] = pd.to_datetime(internet['session_date'], format='%Y-%m-%d')\n",
    "messages['message_date'] = pd.to_datetime(messages['message_date'], format='%Y-%m-%d')\n",
    "users['reg_date'] = pd.to_datetime(users['reg_date'], format='%Y-%m-%d')"
   ]
  },
  {
   "cell_type": "code",
   "execution_count": 14,
   "metadata": {},
   "outputs": [
    {
     "name": "stdout",
     "output_type": "stream",
     "text": [
      "<class 'pandas.core.frame.DataFrame'>\n",
      "RangeIndex: 202607 entries, 0 to 202606\n",
      "Data columns (total 4 columns):\n",
      " #   Column     Non-Null Count   Dtype         \n",
      "---  ------     --------------   -----         \n",
      " 0   id         202607 non-null  object        \n",
      " 1   call_date  202607 non-null  datetime64[ns]\n",
      " 2   duration   202607 non-null  float64       \n",
      " 3   user_id    202607 non-null  int64         \n",
      "dtypes: datetime64[ns](1), float64(1), int64(1), object(1)\n",
      "memory usage: 6.2+ MB\n"
     ]
    }
   ],
   "source": [
    "calls.info()"
   ]
  },
  {
   "cell_type": "markdown",
   "metadata": {},
   "source": [
    "Типы дат измененены на datetime64"
   ]
  },
  {
   "cell_type": "markdown",
   "metadata": {},
   "source": [
    "### Изменим значения колонок id на правильные"
   ]
  },
  {
   "cell_type": "markdown",
   "metadata": {},
   "source": [
    "так как id присваивается каждой строке таблицы путем увеличения на 1 предыдущего id, просто заменим значения в колонках id на сгенерированные порядковые значения:"
   ]
  },
  {
   "cell_type": "code",
   "execution_count": 15,
   "metadata": {},
   "outputs": [],
   "source": [
    "calls['id'] = range(len(calls))\n",
    "internet['id'] = range(len(internet))\n",
    "messages['id'] = range(len(messages))"
   ]
  },
  {
   "cell_type": "code",
   "execution_count": 16,
   "metadata": {},
   "outputs": [
    {
     "data": {
      "text/html": [
       "<div>\n",
       "<style scoped>\n",
       "    .dataframe tbody tr th:only-of-type {\n",
       "        vertical-align: middle;\n",
       "    }\n",
       "\n",
       "    .dataframe tbody tr th {\n",
       "        vertical-align: top;\n",
       "    }\n",
       "\n",
       "    .dataframe thead th {\n",
       "        text-align: right;\n",
       "    }\n",
       "</style>\n",
       "<table border=\"1\" class=\"dataframe\">\n",
       "  <thead>\n",
       "    <tr style=\"text-align: right;\">\n",
       "      <th></th>\n",
       "      <th>id</th>\n",
       "      <th>call_date</th>\n",
       "      <th>duration</th>\n",
       "      <th>user_id</th>\n",
       "    </tr>\n",
       "  </thead>\n",
       "  <tbody>\n",
       "    <tr>\n",
       "      <th>0</th>\n",
       "      <td>0</td>\n",
       "      <td>2018-07-25</td>\n",
       "      <td>0.00</td>\n",
       "      <td>1000</td>\n",
       "    </tr>\n",
       "    <tr>\n",
       "      <th>1</th>\n",
       "      <td>1</td>\n",
       "      <td>2018-08-17</td>\n",
       "      <td>0.00</td>\n",
       "      <td>1000</td>\n",
       "    </tr>\n",
       "    <tr>\n",
       "      <th>2</th>\n",
       "      <td>2</td>\n",
       "      <td>2018-06-11</td>\n",
       "      <td>2.85</td>\n",
       "      <td>1000</td>\n",
       "    </tr>\n",
       "    <tr>\n",
       "      <th>3</th>\n",
       "      <td>3</td>\n",
       "      <td>2018-09-21</td>\n",
       "      <td>13.80</td>\n",
       "      <td>1000</td>\n",
       "    </tr>\n",
       "    <tr>\n",
       "      <th>4</th>\n",
       "      <td>4</td>\n",
       "      <td>2018-12-15</td>\n",
       "      <td>5.18</td>\n",
       "      <td>1000</td>\n",
       "    </tr>\n",
       "  </tbody>\n",
       "</table>\n",
       "</div>"
      ],
      "text/plain": [
       "   id  call_date  duration  user_id\n",
       "0   0 2018-07-25      0.00     1000\n",
       "1   1 2018-08-17      0.00     1000\n",
       "2   2 2018-06-11      2.85     1000\n",
       "3   3 2018-09-21     13.80     1000\n",
       "4   4 2018-12-15      5.18     1000"
      ]
     },
     "execution_count": 16,
     "metadata": {},
     "output_type": "execute_result"
    }
   ],
   "source": [
    "calls.head()"
   ]
  },
  {
   "cell_type": "code",
   "execution_count": 17,
   "metadata": {},
   "outputs": [
    {
     "data": {
      "text/html": [
       "<div>\n",
       "<style scoped>\n",
       "    .dataframe tbody tr th:only-of-type {\n",
       "        vertical-align: middle;\n",
       "    }\n",
       "\n",
       "    .dataframe tbody tr th {\n",
       "        vertical-align: top;\n",
       "    }\n",
       "\n",
       "    .dataframe thead th {\n",
       "        text-align: right;\n",
       "    }\n",
       "</style>\n",
       "<table border=\"1\" class=\"dataframe\">\n",
       "  <thead>\n",
       "    <tr style=\"text-align: right;\">\n",
       "      <th></th>\n",
       "      <th>id</th>\n",
       "      <th>mb_used</th>\n",
       "      <th>session_date</th>\n",
       "      <th>user_id</th>\n",
       "    </tr>\n",
       "  </thead>\n",
       "  <tbody>\n",
       "    <tr>\n",
       "      <th>0</th>\n",
       "      <td>0</td>\n",
       "      <td>112.95</td>\n",
       "      <td>2018-11-25</td>\n",
       "      <td>1000</td>\n",
       "    </tr>\n",
       "    <tr>\n",
       "      <th>1</th>\n",
       "      <td>1</td>\n",
       "      <td>1,052.81</td>\n",
       "      <td>2018-09-07</td>\n",
       "      <td>1000</td>\n",
       "    </tr>\n",
       "    <tr>\n",
       "      <th>2</th>\n",
       "      <td>2</td>\n",
       "      <td>1,197.26</td>\n",
       "      <td>2018-06-25</td>\n",
       "      <td>1000</td>\n",
       "    </tr>\n",
       "    <tr>\n",
       "      <th>3</th>\n",
       "      <td>3</td>\n",
       "      <td>550.27</td>\n",
       "      <td>2018-08-22</td>\n",
       "      <td>1000</td>\n",
       "    </tr>\n",
       "    <tr>\n",
       "      <th>4</th>\n",
       "      <td>4</td>\n",
       "      <td>302.56</td>\n",
       "      <td>2018-09-24</td>\n",
       "      <td>1000</td>\n",
       "    </tr>\n",
       "  </tbody>\n",
       "</table>\n",
       "</div>"
      ],
      "text/plain": [
       "   id  mb_used session_date  user_id\n",
       "0   0   112.95   2018-11-25     1000\n",
       "1   1 1,052.81   2018-09-07     1000\n",
       "2   2 1,197.26   2018-06-25     1000\n",
       "3   3   550.27   2018-08-22     1000\n",
       "4   4   302.56   2018-09-24     1000"
      ]
     },
     "execution_count": 17,
     "metadata": {},
     "output_type": "execute_result"
    }
   ],
   "source": [
    "internet.head()"
   ]
  },
  {
   "cell_type": "code",
   "execution_count": 18,
   "metadata": {},
   "outputs": [
    {
     "data": {
      "text/html": [
       "<div>\n",
       "<style scoped>\n",
       "    .dataframe tbody tr th:only-of-type {\n",
       "        vertical-align: middle;\n",
       "    }\n",
       "\n",
       "    .dataframe tbody tr th {\n",
       "        vertical-align: top;\n",
       "    }\n",
       "\n",
       "    .dataframe thead th {\n",
       "        text-align: right;\n",
       "    }\n",
       "</style>\n",
       "<table border=\"1\" class=\"dataframe\">\n",
       "  <thead>\n",
       "    <tr style=\"text-align: right;\">\n",
       "      <th></th>\n",
       "      <th>id</th>\n",
       "      <th>message_date</th>\n",
       "      <th>user_id</th>\n",
       "    </tr>\n",
       "  </thead>\n",
       "  <tbody>\n",
       "    <tr>\n",
       "      <th>0</th>\n",
       "      <td>0</td>\n",
       "      <td>2018-06-27</td>\n",
       "      <td>1000</td>\n",
       "    </tr>\n",
       "    <tr>\n",
       "      <th>1</th>\n",
       "      <td>1</td>\n",
       "      <td>2018-10-08</td>\n",
       "      <td>1000</td>\n",
       "    </tr>\n",
       "    <tr>\n",
       "      <th>2</th>\n",
       "      <td>2</td>\n",
       "      <td>2018-08-04</td>\n",
       "      <td>1000</td>\n",
       "    </tr>\n",
       "    <tr>\n",
       "      <th>3</th>\n",
       "      <td>3</td>\n",
       "      <td>2018-06-16</td>\n",
       "      <td>1000</td>\n",
       "    </tr>\n",
       "    <tr>\n",
       "      <th>4</th>\n",
       "      <td>4</td>\n",
       "      <td>2018-12-05</td>\n",
       "      <td>1000</td>\n",
       "    </tr>\n",
       "  </tbody>\n",
       "</table>\n",
       "</div>"
      ],
      "text/plain": [
       "   id message_date  user_id\n",
       "0   0   2018-06-27     1000\n",
       "1   1   2018-10-08     1000\n",
       "2   2   2018-08-04     1000\n",
       "3   3   2018-06-16     1000\n",
       "4   4   2018-12-05     1000"
      ]
     },
     "execution_count": 18,
     "metadata": {},
     "output_type": "execute_result"
    }
   ],
   "source": [
    "messages.head()"
   ]
  },
  {
   "cell_type": "markdown",
   "metadata": {},
   "source": [
    "### Округлим секунды до минут, а мегабайты — до гигабайт, в соответствии с политикой \"Мегалайн\""
   ]
  },
  {
   "cell_type": "code",
   "execution_count": 19,
   "metadata": {},
   "outputs": [],
   "source": [
    "calls['duration'] = np.ceil(calls['duration'])"
   ]
  },
  {
   "cell_type": "code",
   "execution_count": 20,
   "metadata": {},
   "outputs": [
    {
     "data": {
      "text/html": [
       "<div>\n",
       "<style scoped>\n",
       "    .dataframe tbody tr th:only-of-type {\n",
       "        vertical-align: middle;\n",
       "    }\n",
       "\n",
       "    .dataframe tbody tr th {\n",
       "        vertical-align: top;\n",
       "    }\n",
       "\n",
       "    .dataframe thead th {\n",
       "        text-align: right;\n",
       "    }\n",
       "</style>\n",
       "<table border=\"1\" class=\"dataframe\">\n",
       "  <thead>\n",
       "    <tr style=\"text-align: right;\">\n",
       "      <th></th>\n",
       "      <th>id</th>\n",
       "      <th>call_date</th>\n",
       "      <th>duration</th>\n",
       "      <th>user_id</th>\n",
       "    </tr>\n",
       "  </thead>\n",
       "  <tbody>\n",
       "    <tr>\n",
       "      <th>0</th>\n",
       "      <td>0</td>\n",
       "      <td>2018-07-25</td>\n",
       "      <td>0.00</td>\n",
       "      <td>1000</td>\n",
       "    </tr>\n",
       "    <tr>\n",
       "      <th>1</th>\n",
       "      <td>1</td>\n",
       "      <td>2018-08-17</td>\n",
       "      <td>0.00</td>\n",
       "      <td>1000</td>\n",
       "    </tr>\n",
       "    <tr>\n",
       "      <th>2</th>\n",
       "      <td>2</td>\n",
       "      <td>2018-06-11</td>\n",
       "      <td>3.00</td>\n",
       "      <td>1000</td>\n",
       "    </tr>\n",
       "    <tr>\n",
       "      <th>3</th>\n",
       "      <td>3</td>\n",
       "      <td>2018-09-21</td>\n",
       "      <td>14.00</td>\n",
       "      <td>1000</td>\n",
       "    </tr>\n",
       "    <tr>\n",
       "      <th>4</th>\n",
       "      <td>4</td>\n",
       "      <td>2018-12-15</td>\n",
       "      <td>6.00</td>\n",
       "      <td>1000</td>\n",
       "    </tr>\n",
       "  </tbody>\n",
       "</table>\n",
       "</div>"
      ],
      "text/plain": [
       "   id  call_date  duration  user_id\n",
       "0   0 2018-07-25      0.00     1000\n",
       "1   1 2018-08-17      0.00     1000\n",
       "2   2 2018-06-11      3.00     1000\n",
       "3   3 2018-09-21     14.00     1000\n",
       "4   4 2018-12-15      6.00     1000"
      ]
     },
     "execution_count": 20,
     "metadata": {},
     "output_type": "execute_result"
    }
   ],
   "source": [
    "calls.head()"
   ]
  },
  {
   "cell_type": "code",
   "execution_count": 21,
   "metadata": {},
   "outputs": [],
   "source": [
    "# поделим использованные мб на количество мб в 1 гб и округлим полученное значение в большую сторону\n",
    "internet['gb_used'] = np.ceil(internet['mb_used'] / 1024)"
   ]
  },
  {
   "cell_type": "code",
   "execution_count": 22,
   "metadata": {},
   "outputs": [
    {
     "data": {
      "text/html": [
       "<div>\n",
       "<style scoped>\n",
       "    .dataframe tbody tr th:only-of-type {\n",
       "        vertical-align: middle;\n",
       "    }\n",
       "\n",
       "    .dataframe tbody tr th {\n",
       "        vertical-align: top;\n",
       "    }\n",
       "\n",
       "    .dataframe thead th {\n",
       "        text-align: right;\n",
       "    }\n",
       "</style>\n",
       "<table border=\"1\" class=\"dataframe\">\n",
       "  <thead>\n",
       "    <tr style=\"text-align: right;\">\n",
       "      <th></th>\n",
       "      <th>id</th>\n",
       "      <th>mb_used</th>\n",
       "      <th>session_date</th>\n",
       "      <th>user_id</th>\n",
       "      <th>gb_used</th>\n",
       "    </tr>\n",
       "  </thead>\n",
       "  <tbody>\n",
       "    <tr>\n",
       "      <th>0</th>\n",
       "      <td>0</td>\n",
       "      <td>112.95</td>\n",
       "      <td>2018-11-25</td>\n",
       "      <td>1000</td>\n",
       "      <td>1.00</td>\n",
       "    </tr>\n",
       "    <tr>\n",
       "      <th>1</th>\n",
       "      <td>1</td>\n",
       "      <td>1,052.81</td>\n",
       "      <td>2018-09-07</td>\n",
       "      <td>1000</td>\n",
       "      <td>2.00</td>\n",
       "    </tr>\n",
       "    <tr>\n",
       "      <th>2</th>\n",
       "      <td>2</td>\n",
       "      <td>1,197.26</td>\n",
       "      <td>2018-06-25</td>\n",
       "      <td>1000</td>\n",
       "      <td>2.00</td>\n",
       "    </tr>\n",
       "    <tr>\n",
       "      <th>3</th>\n",
       "      <td>3</td>\n",
       "      <td>550.27</td>\n",
       "      <td>2018-08-22</td>\n",
       "      <td>1000</td>\n",
       "      <td>1.00</td>\n",
       "    </tr>\n",
       "    <tr>\n",
       "      <th>4</th>\n",
       "      <td>4</td>\n",
       "      <td>302.56</td>\n",
       "      <td>2018-09-24</td>\n",
       "      <td>1000</td>\n",
       "      <td>1.00</td>\n",
       "    </tr>\n",
       "  </tbody>\n",
       "</table>\n",
       "</div>"
      ],
      "text/plain": [
       "   id  mb_used session_date  user_id  gb_used\n",
       "0   0   112.95   2018-11-25     1000     1.00\n",
       "1   1 1,052.81   2018-09-07     1000     2.00\n",
       "2   2 1,197.26   2018-06-25     1000     2.00\n",
       "3   3   550.27   2018-08-22     1000     1.00\n",
       "4   4   302.56   2018-09-24     1000     1.00"
      ]
     },
     "execution_count": 22,
     "metadata": {},
     "output_type": "execute_result"
    }
   ],
   "source": [
    "internet.head()"
   ]
  },
  {
   "cell_type": "markdown",
   "metadata": {},
   "source": [
    "### Посчитаем для каждого пользователя следующие значения:"
   ]
  },
  {
   "cell_type": "markdown",
   "metadata": {},
   "source": [
    "#### 1. Количество сделанных звонков и израсходованных минут разговора по месяцам:"
   ]
  },
  {
   "cell_type": "code",
   "execution_count": 23,
   "metadata": {},
   "outputs": [],
   "source": [
    "calls['month'] = calls['call_date'].dt.month\n",
    "messages['month'] = messages['message_date'].dt.month\n",
    "internet['month'] = internet['session_date'].dt.month"
   ]
  },
  {
   "cell_type": "code",
   "execution_count": 24,
   "metadata": {},
   "outputs": [],
   "source": [
    "def get_grouped_data(data, agg_data, rename_data={}, slice_columns=-1):\n",
    "    data = data.sort_values(by='user_id')\n",
    "    return (data.groupby(['user_id', 'month'])\n",
    "                 .agg(agg_data)\n",
    "                 .reset_index()\n",
    "                 .rename(columns=rename_data)\n",
    "                 .iloc[:, slice_columns:])"
   ]
  },
  {
   "cell_type": "code",
   "execution_count": 25,
   "metadata": {},
   "outputs": [],
   "source": [
    "calls_users_data = get_grouped_data(\n",
    "    calls,\n",
    "    agg_data={'id': 'count', 'duration': 'sum'},\n",
    "    rename_data={'id': 'calls_number'},\n",
    "    slice_columns=0\n",
    ")"
   ]
  },
  {
   "cell_type": "code",
   "execution_count": 26,
   "metadata": {},
   "outputs": [
    {
     "data": {
      "text/html": [
       "<div>\n",
       "<style scoped>\n",
       "    .dataframe tbody tr th:only-of-type {\n",
       "        vertical-align: middle;\n",
       "    }\n",
       "\n",
       "    .dataframe tbody tr th {\n",
       "        vertical-align: top;\n",
       "    }\n",
       "\n",
       "    .dataframe thead th {\n",
       "        text-align: right;\n",
       "    }\n",
       "</style>\n",
       "<table border=\"1\" class=\"dataframe\">\n",
       "  <thead>\n",
       "    <tr style=\"text-align: right;\">\n",
       "      <th></th>\n",
       "      <th>user_id</th>\n",
       "      <th>month</th>\n",
       "      <th>calls_number</th>\n",
       "      <th>duration</th>\n",
       "    </tr>\n",
       "  </thead>\n",
       "  <tbody>\n",
       "    <tr>\n",
       "      <th>0</th>\n",
       "      <td>1000</td>\n",
       "      <td>5</td>\n",
       "      <td>22</td>\n",
       "      <td>159.00</td>\n",
       "    </tr>\n",
       "    <tr>\n",
       "      <th>1</th>\n",
       "      <td>1000</td>\n",
       "      <td>6</td>\n",
       "      <td>43</td>\n",
       "      <td>172.00</td>\n",
       "    </tr>\n",
       "    <tr>\n",
       "      <th>2</th>\n",
       "      <td>1000</td>\n",
       "      <td>7</td>\n",
       "      <td>47</td>\n",
       "      <td>340.00</td>\n",
       "    </tr>\n",
       "    <tr>\n",
       "      <th>3</th>\n",
       "      <td>1000</td>\n",
       "      <td>8</td>\n",
       "      <td>52</td>\n",
       "      <td>408.00</td>\n",
       "    </tr>\n",
       "    <tr>\n",
       "      <th>4</th>\n",
       "      <td>1000</td>\n",
       "      <td>9</td>\n",
       "      <td>58</td>\n",
       "      <td>466.00</td>\n",
       "    </tr>\n",
       "  </tbody>\n",
       "</table>\n",
       "</div>"
      ],
      "text/plain": [
       "   user_id  month  calls_number  duration\n",
       "0     1000      5            22    159.00\n",
       "1     1000      6            43    172.00\n",
       "2     1000      7            47    340.00\n",
       "3     1000      8            52    408.00\n",
       "4     1000      9            58    466.00"
      ]
     },
     "execution_count": 26,
     "metadata": {},
     "output_type": "execute_result"
    }
   ],
   "source": [
    "calls_users_data.head()"
   ]
  },
  {
   "cell_type": "markdown",
   "metadata": {},
   "source": [
    "#### 2. количество отправленных сообщений по месяцам:"
   ]
  },
  {
   "cell_type": "code",
   "execution_count": 27,
   "metadata": {},
   "outputs": [],
   "source": [
    "msg_users_data = get_grouped_data(\n",
    "    messages,\n",
    "    agg_data={'id': 'count'},\n",
    "    rename_data={'id': 'messages_number'}\n",
    ")"
   ]
  },
  {
   "cell_type": "code",
   "execution_count": 28,
   "metadata": {},
   "outputs": [
    {
     "data": {
      "text/html": [
       "<div>\n",
       "<style scoped>\n",
       "    .dataframe tbody tr th:only-of-type {\n",
       "        vertical-align: middle;\n",
       "    }\n",
       "\n",
       "    .dataframe tbody tr th {\n",
       "        vertical-align: top;\n",
       "    }\n",
       "\n",
       "    .dataframe thead th {\n",
       "        text-align: right;\n",
       "    }\n",
       "</style>\n",
       "<table border=\"1\" class=\"dataframe\">\n",
       "  <thead>\n",
       "    <tr style=\"text-align: right;\">\n",
       "      <th></th>\n",
       "      <th>messages_number</th>\n",
       "    </tr>\n",
       "  </thead>\n",
       "  <tbody>\n",
       "    <tr>\n",
       "      <th>0</th>\n",
       "      <td>22</td>\n",
       "    </tr>\n",
       "    <tr>\n",
       "      <th>1</th>\n",
       "      <td>60</td>\n",
       "    </tr>\n",
       "    <tr>\n",
       "      <th>2</th>\n",
       "      <td>75</td>\n",
       "    </tr>\n",
       "    <tr>\n",
       "      <th>3</th>\n",
       "      <td>81</td>\n",
       "    </tr>\n",
       "    <tr>\n",
       "      <th>4</th>\n",
       "      <td>57</td>\n",
       "    </tr>\n",
       "  </tbody>\n",
       "</table>\n",
       "</div>"
      ],
      "text/plain": [
       "   messages_number\n",
       "0               22\n",
       "1               60\n",
       "2               75\n",
       "3               81\n",
       "4               57"
      ]
     },
     "execution_count": 28,
     "metadata": {},
     "output_type": "execute_result"
    }
   ],
   "source": [
    "msg_users_data.head()"
   ]
  },
  {
   "cell_type": "markdown",
   "metadata": {},
   "source": [
    "#### 3. объем израсходованного интернет-трафика по месяцам:"
   ]
  },
  {
   "cell_type": "code",
   "execution_count": 29,
   "metadata": {},
   "outputs": [],
   "source": [
    "traffic_used_users_data = get_grouped_data(\n",
    "    internet,\n",
    "    agg_data={'gb_used': 'sum'},\n",
    "    rename_data={}\n",
    ")"
   ]
  },
  {
   "cell_type": "code",
   "execution_count": 30,
   "metadata": {},
   "outputs": [
    {
     "data": {
      "text/html": [
       "<div>\n",
       "<style scoped>\n",
       "    .dataframe tbody tr th:only-of-type {\n",
       "        vertical-align: middle;\n",
       "    }\n",
       "\n",
       "    .dataframe tbody tr th {\n",
       "        vertical-align: top;\n",
       "    }\n",
       "\n",
       "    .dataframe thead th {\n",
       "        text-align: right;\n",
       "    }\n",
       "</style>\n",
       "<table border=\"1\" class=\"dataframe\">\n",
       "  <thead>\n",
       "    <tr style=\"text-align: right;\">\n",
       "      <th></th>\n",
       "      <th>gb_used</th>\n",
       "    </tr>\n",
       "  </thead>\n",
       "  <tbody>\n",
       "    <tr>\n",
       "      <th>0</th>\n",
       "      <td>4.00</td>\n",
       "    </tr>\n",
       "    <tr>\n",
       "      <th>1</th>\n",
       "      <td>49.00</td>\n",
       "    </tr>\n",
       "    <tr>\n",
       "      <th>2</th>\n",
       "      <td>28.00</td>\n",
       "    </tr>\n",
       "    <tr>\n",
       "      <th>3</th>\n",
       "      <td>27.00</td>\n",
       "    </tr>\n",
       "    <tr>\n",
       "      <th>4</th>\n",
       "      <td>26.00</td>\n",
       "    </tr>\n",
       "  </tbody>\n",
       "</table>\n",
       "</div>"
      ],
      "text/plain": [
       "   gb_used\n",
       "0     4.00\n",
       "1    49.00\n",
       "2    28.00\n",
       "3    27.00\n",
       "4    26.00"
      ]
     },
     "execution_count": 30,
     "metadata": {},
     "output_type": "execute_result"
    }
   ],
   "source": [
    "traffic_used_users_data.head()"
   ]
  },
  {
   "cell_type": "markdown",
   "metadata": {},
   "source": [
    "#### 4. помесячная выручка с каждого пользователя:"
   ]
  },
  {
   "cell_type": "code",
   "execution_count": 31,
   "metadata": {},
   "outputs": [],
   "source": [
    "users_data_by_month = calls_users_data.join([msg_users_data, traffic_used_users_data])"
   ]
  },
  {
   "cell_type": "code",
   "execution_count": 32,
   "metadata": {},
   "outputs": [
    {
     "data": {
      "text/html": [
       "<div>\n",
       "<style scoped>\n",
       "    .dataframe tbody tr th:only-of-type {\n",
       "        vertical-align: middle;\n",
       "    }\n",
       "\n",
       "    .dataframe tbody tr th {\n",
       "        vertical-align: top;\n",
       "    }\n",
       "\n",
       "    .dataframe thead th {\n",
       "        text-align: right;\n",
       "    }\n",
       "</style>\n",
       "<table border=\"1\" class=\"dataframe\">\n",
       "  <thead>\n",
       "    <tr style=\"text-align: right;\">\n",
       "      <th></th>\n",
       "      <th>user_id</th>\n",
       "      <th>month</th>\n",
       "      <th>calls_number</th>\n",
       "      <th>duration</th>\n",
       "      <th>messages_number</th>\n",
       "      <th>gb_used</th>\n",
       "    </tr>\n",
       "  </thead>\n",
       "  <tbody>\n",
       "    <tr>\n",
       "      <th>0</th>\n",
       "      <td>1,000.00</td>\n",
       "      <td>5.00</td>\n",
       "      <td>22.00</td>\n",
       "      <td>159.00</td>\n",
       "      <td>22.00</td>\n",
       "      <td>4.00</td>\n",
       "    </tr>\n",
       "    <tr>\n",
       "      <th>1</th>\n",
       "      <td>1,000.00</td>\n",
       "      <td>6.00</td>\n",
       "      <td>43.00</td>\n",
       "      <td>172.00</td>\n",
       "      <td>60.00</td>\n",
       "      <td>49.00</td>\n",
       "    </tr>\n",
       "    <tr>\n",
       "      <th>2</th>\n",
       "      <td>1,000.00</td>\n",
       "      <td>7.00</td>\n",
       "      <td>47.00</td>\n",
       "      <td>340.00</td>\n",
       "      <td>75.00</td>\n",
       "      <td>28.00</td>\n",
       "    </tr>\n",
       "    <tr>\n",
       "      <th>3</th>\n",
       "      <td>1,000.00</td>\n",
       "      <td>8.00</td>\n",
       "      <td>52.00</td>\n",
       "      <td>408.00</td>\n",
       "      <td>81.00</td>\n",
       "      <td>27.00</td>\n",
       "    </tr>\n",
       "    <tr>\n",
       "      <th>4</th>\n",
       "      <td>1,000.00</td>\n",
       "      <td>9.00</td>\n",
       "      <td>58.00</td>\n",
       "      <td>466.00</td>\n",
       "      <td>57.00</td>\n",
       "      <td>26.00</td>\n",
       "    </tr>\n",
       "  </tbody>\n",
       "</table>\n",
       "</div>"
      ],
      "text/plain": [
       "   user_id  month  calls_number  duration  messages_number  gb_used\n",
       "0 1,000.00   5.00         22.00    159.00            22.00     4.00\n",
       "1 1,000.00   6.00         43.00    172.00            60.00    49.00\n",
       "2 1,000.00   7.00         47.00    340.00            75.00    28.00\n",
       "3 1,000.00   8.00         52.00    408.00            81.00    27.00\n",
       "4 1,000.00   9.00         58.00    466.00            57.00    26.00"
      ]
     },
     "execution_count": 32,
     "metadata": {},
     "output_type": "execute_result"
    }
   ],
   "source": [
    "users_data_by_month.head()"
   ]
  },
  {
   "cell_type": "code",
   "execution_count": 33,
   "metadata": {},
   "outputs": [],
   "source": [
    "tariffs = {\n",
    "    'smart': {\n",
    "        'monthly_payment': 550,\n",
    "        'free_services_limits': {'duration': 500, 'messages_number': 50, 'gb_used': 15},\n",
    "        'over_limits_payments': {'duration': 3, 'messages_number': 3, 'gb_used': 200}\n",
    "    },\n",
    "    'ultra': {\n",
    "        'monthly_payment': 1950,\n",
    "        'free_services_limits': {'duration': 3000, 'messages_number': 1000, 'gb_used': 30},\n",
    "        'over_limits_payments': {'duration': 1, 'messages_number': 1, 'gb_used': 150}\n",
    "    }\n",
    "}\n",
    "\n",
    "def calculate_monthly_revenue(row):\n",
    "    user_tariff = users[users['user_id'] == row['user_id']]['tariff'].values[0]\n",
    "    tariff_payments = tariffs[user_tariff]\n",
    "    monthly_payment = tariff_payments['monthly_payment']\n",
    "    for service, limit in tariff_payments['free_services_limits'].items():\n",
    "        costs_limits_diff = row[service] - limit\n",
    "        if costs_limits_diff > 0:\n",
    "            return monthly_payment + tariff_payments['over_limits_payments'][service] * costs_limits_diff\n",
    "        return monthly_payment"
   ]
  },
  {
   "cell_type": "code",
   "execution_count": 34,
   "metadata": {},
   "outputs": [],
   "source": [
    "users_data_by_month['monthly_revenue'] = users_data_by_month.apply(calculate_monthly_revenue, axis=1)"
   ]
  },
  {
   "cell_type": "code",
   "execution_count": 35,
   "metadata": {},
   "outputs": [],
   "source": [
    "users_data_by_month['tariff'] = (users_data_by_month['user_id']\n",
    "                                     .apply(lambda user_id: users[users['user_id'] == user_id]['tariff'].values[0]))\n",
    "\n",
    "users_data_by_month['city'] = (users_data_by_month['user_id']\n",
    "                                     .apply(lambda user_id: users[users['user_id'] == user_id]['city'].values[0]))"
   ]
  },
  {
   "cell_type": "code",
   "execution_count": 36,
   "metadata": {},
   "outputs": [
    {
     "data": {
      "text/html": [
       "<div>\n",
       "<style scoped>\n",
       "    .dataframe tbody tr th:only-of-type {\n",
       "        vertical-align: middle;\n",
       "    }\n",
       "\n",
       "    .dataframe tbody tr th {\n",
       "        vertical-align: top;\n",
       "    }\n",
       "\n",
       "    .dataframe thead th {\n",
       "        text-align: right;\n",
       "    }\n",
       "</style>\n",
       "<table border=\"1\" class=\"dataframe\">\n",
       "  <thead>\n",
       "    <tr style=\"text-align: right;\">\n",
       "      <th></th>\n",
       "      <th>user_id</th>\n",
       "      <th>month</th>\n",
       "      <th>calls_number</th>\n",
       "      <th>duration</th>\n",
       "      <th>messages_number</th>\n",
       "      <th>gb_used</th>\n",
       "      <th>monthly_revenue</th>\n",
       "      <th>tariff</th>\n",
       "      <th>city</th>\n",
       "    </tr>\n",
       "  </thead>\n",
       "  <tbody>\n",
       "    <tr>\n",
       "      <th>0</th>\n",
       "      <td>1,000.00</td>\n",
       "      <td>5.00</td>\n",
       "      <td>22.00</td>\n",
       "      <td>159.00</td>\n",
       "      <td>22.00</td>\n",
       "      <td>4.00</td>\n",
       "      <td>1,950.00</td>\n",
       "      <td>ultra</td>\n",
       "      <td>Краснодар</td>\n",
       "    </tr>\n",
       "    <tr>\n",
       "      <th>1</th>\n",
       "      <td>1,000.00</td>\n",
       "      <td>6.00</td>\n",
       "      <td>43.00</td>\n",
       "      <td>172.00</td>\n",
       "      <td>60.00</td>\n",
       "      <td>49.00</td>\n",
       "      <td>1,950.00</td>\n",
       "      <td>ultra</td>\n",
       "      <td>Краснодар</td>\n",
       "    </tr>\n",
       "    <tr>\n",
       "      <th>2</th>\n",
       "      <td>1,000.00</td>\n",
       "      <td>7.00</td>\n",
       "      <td>47.00</td>\n",
       "      <td>340.00</td>\n",
       "      <td>75.00</td>\n",
       "      <td>28.00</td>\n",
       "      <td>1,950.00</td>\n",
       "      <td>ultra</td>\n",
       "      <td>Краснодар</td>\n",
       "    </tr>\n",
       "    <tr>\n",
       "      <th>3</th>\n",
       "      <td>1,000.00</td>\n",
       "      <td>8.00</td>\n",
       "      <td>52.00</td>\n",
       "      <td>408.00</td>\n",
       "      <td>81.00</td>\n",
       "      <td>27.00</td>\n",
       "      <td>1,950.00</td>\n",
       "      <td>ultra</td>\n",
       "      <td>Краснодар</td>\n",
       "    </tr>\n",
       "    <tr>\n",
       "      <th>4</th>\n",
       "      <td>1,000.00</td>\n",
       "      <td>9.00</td>\n",
       "      <td>58.00</td>\n",
       "      <td>466.00</td>\n",
       "      <td>57.00</td>\n",
       "      <td>26.00</td>\n",
       "      <td>1,950.00</td>\n",
       "      <td>ultra</td>\n",
       "      <td>Краснодар</td>\n",
       "    </tr>\n",
       "  </tbody>\n",
       "</table>\n",
       "</div>"
      ],
      "text/plain": [
       "   user_id  month  calls_number  duration  messages_number  gb_used  \\\n",
       "0 1,000.00   5.00         22.00    159.00            22.00     4.00   \n",
       "1 1,000.00   6.00         43.00    172.00            60.00    49.00   \n",
       "2 1,000.00   7.00         47.00    340.00            75.00    28.00   \n",
       "3 1,000.00   8.00         52.00    408.00            81.00    27.00   \n",
       "4 1,000.00   9.00         58.00    466.00            57.00    26.00   \n",
       "\n",
       "   monthly_revenue tariff       city  \n",
       "0         1,950.00  ultra  Краснодар  \n",
       "1         1,950.00  ultra  Краснодар  \n",
       "2         1,950.00  ultra  Краснодар  \n",
       "3         1,950.00  ultra  Краснодар  \n",
       "4         1,950.00  ultra  Краснодар  "
      ]
     },
     "execution_count": 36,
     "metadata": {},
     "output_type": "execute_result"
    }
   ],
   "source": [
    "users_data_by_month.head()"
   ]
  },
  {
   "cell_type": "code",
   "execution_count": 37,
   "metadata": {},
   "outputs": [
    {
     "data": {
      "text/plain": [
       "user_id           0.00\n",
       "month             0.00\n",
       "calls_number      0.00\n",
       "duration          0.00\n",
       "messages_number   0.14\n",
       "gb_used           0.00\n",
       "monthly_revenue   0.00\n",
       "tariff            0.00\n",
       "city              0.00\n",
       "dtype: float64"
      ]
     },
     "execution_count": 37,
     "metadata": {},
     "output_type": "execute_result"
    }
   ],
   "source": [
    "users_data_by_month.isna().mean()"
   ]
  },
  {
   "cell_type": "markdown",
   "metadata": {},
   "source": [
    "### Заполним пропуски в колонке messages_number средними значениями в зависимости от тарифного плана:"
   ]
  },
  {
   "cell_type": "code",
   "execution_count": 38,
   "metadata": {},
   "outputs": [],
   "source": [
    "means = (users_data_by_month.groupby('tariff')\n",
    "                            .agg({'messages_number': 'mean'})\n",
    "                            .rename(columns={'messages_number': 'mean_messages'}))\n",
    "\n",
    "users_data_by_month = users_data_by_month.merge(means, on=['tariff'])\n",
    "users_data_by_month.loc[\n",
    "    users_data_by_month['messages_number'].isna(), 'messages_number'] = (\n",
    "    users_data_by_month.loc[users_data_by_month['messages_number']\n",
    "                       .isna(), 'mean_messages']\n",
    ")"
   ]
  },
  {
   "cell_type": "code",
   "execution_count": 39,
   "metadata": {},
   "outputs": [
    {
     "data": {
      "text/plain": [
       "user_id           0.00\n",
       "month             0.00\n",
       "calls_number      0.00\n",
       "duration          0.00\n",
       "messages_number   0.00\n",
       "gb_used           0.00\n",
       "monthly_revenue   0.00\n",
       "tariff            0.00\n",
       "city              0.00\n",
       "mean_messages     0.00\n",
       "dtype: float64"
      ]
     },
     "execution_count": 39,
     "metadata": {},
     "output_type": "execute_result"
    }
   ],
   "source": [
    "users_data_by_month.isna().mean()"
   ]
  },
  {
   "cell_type": "markdown",
   "metadata": {},
   "source": [
    "### Изменим тип числовых значений на int"
   ]
  },
  {
   "cell_type": "markdown",
   "metadata": {},
   "source": [
    "В процессе соединения нескольких таблиц с помощью функции join, числовые значения таблицы приняли тип float"
   ]
  },
  {
   "cell_type": "code",
   "execution_count": 40,
   "metadata": {},
   "outputs": [
    {
     "name": "stdout",
     "output_type": "stream",
     "text": [
      "<class 'pandas.core.frame.DataFrame'>\n",
      "Int64Index: 3174 entries, 0 to 3173\n",
      "Data columns (total 10 columns):\n",
      " #   Column           Non-Null Count  Dtype  \n",
      "---  ------           --------------  -----  \n",
      " 0   user_id          3174 non-null   float64\n",
      " 1   month            3174 non-null   float64\n",
      " 2   calls_number     3174 non-null   float64\n",
      " 3   duration         3174 non-null   float64\n",
      " 4   messages_number  3174 non-null   float64\n",
      " 5   gb_used          3174 non-null   float64\n",
      " 6   monthly_revenue  3174 non-null   float64\n",
      " 7   tariff           3174 non-null   object \n",
      " 8   city             3174 non-null   object \n",
      " 9   mean_messages    3174 non-null   float64\n",
      "dtypes: float64(8), object(2)\n",
      "memory usage: 272.8+ KB\n"
     ]
    }
   ],
   "source": [
    "users_data_by_month.info()"
   ]
  },
  {
   "cell_type": "code",
   "execution_count": 41,
   "metadata": {},
   "outputs": [],
   "source": [
    "float_columns = users_data_by_month.select_dtypes(include=['float64']).columns\n",
    "users_data_by_month[float_columns] = users_data_by_month[float_columns].astype(int)"
   ]
  },
  {
   "cell_type": "code",
   "execution_count": 42,
   "metadata": {},
   "outputs": [
    {
     "name": "stdout",
     "output_type": "stream",
     "text": [
      "<class 'pandas.core.frame.DataFrame'>\n",
      "Int64Index: 3174 entries, 0 to 3173\n",
      "Data columns (total 10 columns):\n",
      " #   Column           Non-Null Count  Dtype \n",
      "---  ------           --------------  ----- \n",
      " 0   user_id          3174 non-null   int64 \n",
      " 1   month            3174 non-null   int64 \n",
      " 2   calls_number     3174 non-null   int64 \n",
      " 3   duration         3174 non-null   int64 \n",
      " 4   messages_number  3174 non-null   int64 \n",
      " 5   gb_used          3174 non-null   int64 \n",
      " 6   monthly_revenue  3174 non-null   int64 \n",
      " 7   tariff           3174 non-null   object\n",
      " 8   city             3174 non-null   object\n",
      " 9   mean_messages    3174 non-null   int64 \n",
      "dtypes: int64(8), object(2)\n",
      "memory usage: 272.8+ KB\n"
     ]
    }
   ],
   "source": [
    "users_data_by_month.info()"
   ]
  },
  {
   "cell_type": "markdown",
   "metadata": {},
   "source": [
    "## Проанализируем поведение клиентов оператора, исходя из тарифного плана"
   ]
  },
  {
   "cell_type": "markdown",
   "metadata": {},
   "source": [
    "### посмотрим долю пользователей каждого из тарифов:"
   ]
  },
  {
   "cell_type": "code",
   "execution_count": 43,
   "metadata": {},
   "outputs": [
    {
     "data": {
      "text/plain": [
       "smart   0.70\n",
       "ultra   0.30\n",
       "Name: tariff, dtype: float64"
      ]
     },
     "execution_count": 43,
     "metadata": {},
     "output_type": "execute_result"
    }
   ],
   "source": [
    "users_data_by_month['tariff'].value_counts(normalize=True)"
   ]
  },
  {
   "cell_type": "markdown",
   "metadata": {},
   "source": [
    "### выделим колонки для анализа и сделаем срезы по тарифам:"
   ]
  },
  {
   "cell_type": "code",
   "execution_count": 44,
   "metadata": {},
   "outputs": [],
   "source": [
    "columns = ['duration', 'messages_number', 'gb_used']\n",
    "users_tariff_smart = users_data_by_month.query('tariff == \"smart\"')\n",
    "users_tariff_ultra = users_data_by_month.query('tariff == \"ultra\"')"
   ]
  },
  {
   "cell_type": "markdown",
   "metadata": {},
   "source": [
    "### построим графики для анализируемых колонок:"
   ]
  },
  {
   "cell_type": "code",
   "execution_count": 45,
   "metadata": {},
   "outputs": [],
   "source": [
    "def make_hist(data, column, density_columns, **kwargs):\n",
    "    mean = round(users_tariff_smart[column].mean())\n",
    "    var = round(users_tariff_smart[column].var())\n",
    "    std_dev = round(users_tariff_smart[column].std())\n",
    "    is_density = column in density_columns\n",
    "    title = f'{column} frequency {\"density\" if is_density else False}'\n",
    "    plt.xlabel(column)\n",
    "    return data[column].plot(density=is_density,title=title, **kwargs)"
   ]
  },
  {
   "cell_type": "code",
   "execution_count": 46,
   "metadata": {},
   "outputs": [],
   "source": [
    "def make_hists(data1, data2, columns, density_columns):\n",
    "    for column in columns:\n",
    "        ax = make_hist(\n",
    "            data1,\n",
    "            column, \n",
    "            density_columns,\n",
    "            legend=True,\n",
    "            label=f'tariff smart',\n",
    "            kind='hist',\n",
    "            alpha=0.5,\n",
    "        )\n",
    "        make_hist(\n",
    "            data2, \n",
    "            column, \n",
    "            density_columns,\n",
    "            legend=True,\n",
    "            label=f'tariff ultra',\n",
    "            kind='hist',\n",
    "            alpha=0.5,\n",
    "            ax=ax\n",
    "        )\n",
    "        plt.show()"
   ]
  },
  {
   "cell_type": "code",
   "execution_count": 47,
   "metadata": {},
   "outputs": [
    {
     "data": {
      "image/png": "[encoded data removed]",
      "text/plain": [
       "<Figure size 432x288 with 1 Axes>"
      ]
     },
     "metadata": {
      "needs_background": "light"
     },
     "output_type": "display_data"
    },
    {
     "data": {
      "image/png": "[encoded data removed]",
      "text/plain": [
       "<Figure size 432x288 with 1 Axes>"
      ]
     },
     "metadata": {
      "needs_background": "light"
     },
     "output_type": "display_data"
    },
    {
     "data": {
      "image/png": "[encoded data removed]",
      "text/plain": [
       "<Figure size 432x288 with 1 Axes>"
      ]
     },
     "metadata": {
      "needs_background": "light"
     },
     "output_type": "display_data"
    }
   ],
   "source": [
    "make_hists(\n",
    "    users_tariff_smart,\n",
    "    users_tariff_ultra,\n",
    "    columns=columns,\n",
    "    density_columns=['duration', 'gb_used']\n",
    ")"
   ]
  },
  {
   "cell_type": "markdown",
   "metadata": {},
   "source": [
    "### сделаем таблицу со значениями среднего, дисперсии и стандартного отклонения, для анализируемых колонок, по каждому из тарифов:"
   ]
  },
  {
   "cell_type": "code",
   "execution_count": 48,
   "metadata": {},
   "outputs": [
    {
     "data": {
      "text/html": [
       "<div>\n",
       "<style scoped>\n",
       "    .dataframe tbody tr th:only-of-type {\n",
       "        vertical-align: middle;\n",
       "    }\n",
       "\n",
       "    .dataframe tbody tr th {\n",
       "        vertical-align: top;\n",
       "    }\n",
       "\n",
       "    .dataframe thead th {\n",
       "        text-align: right;\n",
       "    }\n",
       "</style>\n",
       "<table border=\"1\" class=\"dataframe\">\n",
       "  <thead>\n",
       "    <tr style=\"text-align: right;\">\n",
       "      <th></th>\n",
       "      <th>duration</th>\n",
       "      <th>messages_number</th>\n",
       "      <th>gb_used</th>\n",
       "    </tr>\n",
       "  </thead>\n",
       "  <tbody>\n",
       "    <tr>\n",
       "      <th>smart_mean</th>\n",
       "      <td>419.06</td>\n",
       "      <td>45.28</td>\n",
       "      <td>41.90</td>\n",
       "    </tr>\n",
       "    <tr>\n",
       "      <th>ultra_mean</th>\n",
       "      <td>545.45</td>\n",
       "      <td>45.17</td>\n",
       "      <td>39.52</td>\n",
       "    </tr>\n",
       "    <tr>\n",
       "      <th>smart_var</th>\n",
       "      <td>35,844.19</td>\n",
       "      <td>1,044.53</td>\n",
       "      <td>253.84</td>\n",
       "    </tr>\n",
       "    <tr>\n",
       "      <th>ultra_var</th>\n",
       "      <td>94,203.42</td>\n",
       "      <td>1,069.42</td>\n",
       "      <td>302.32</td>\n",
       "    </tr>\n",
       "    <tr>\n",
       "      <th>smart_std</th>\n",
       "      <td>189.33</td>\n",
       "      <td>32.32</td>\n",
       "      <td>15.93</td>\n",
       "    </tr>\n",
       "    <tr>\n",
       "      <th>ultra_std</th>\n",
       "      <td>306.93</td>\n",
       "      <td>32.70</td>\n",
       "      <td>17.39</td>\n",
       "    </tr>\n",
       "  </tbody>\n",
       "</table>\n",
       "</div>"
      ],
      "text/plain": [
       "            duration  messages_number  gb_used\n",
       "smart_mean    419.06            45.28    41.90\n",
       "ultra_mean    545.45            45.17    39.52\n",
       "smart_var  35,844.19         1,044.53   253.84\n",
       "ultra_var  94,203.42         1,069.42   302.32\n",
       "smart_std     189.33            32.32    15.93\n",
       "ultra_std     306.93            32.70    17.39"
      ]
     },
     "execution_count": 48,
     "metadata": {},
     "output_type": "execute_result"
    }
   ],
   "source": [
    "smart_mean, smart_var, smart_std = (\n",
    "    users_tariff_smart[columns].mean(),\n",
    "    users_tariff_smart[columns].var(),\n",
    "    users_tariff_smart[columns].std()\n",
    ")\n",
    "\n",
    "ultra_mean, ultra_var, ultra_std = (\n",
    "    users_tariff_ultra[columns].mean(),\n",
    "    users_tariff_ultra[columns].var(),\n",
    "    users_tariff_ultra[columns].std()\n",
    ")\n",
    "\n",
    "pd.DataFrame(\n",
    "    data=[\n",
    "        smart_mean,\n",
    "        ultra_mean,\n",
    "        smart_var,\n",
    "        ultra_var,\n",
    "        smart_std,\n",
    "        ultra_std\n",
    "    ],\n",
    "    index=[\n",
    "        'smart_mean',\n",
    "        'ultra_mean',\n",
    "        'smart_var',\n",
    "        'ultra_var',\n",
    "        'smart_std',\n",
    "        'ultra_std',\n",
    "    ]\n",
    ")"
   ]
  },
  {
   "cell_type": "markdown",
   "metadata": {},
   "source": [
    "### описание распределений:\n",
    "- duration и gb_used - непрерывные переменные, поэтому всесто частоты события, для описания данных перменных используется плотность частоты;\n",
    "- для пользователей тарифа ultra в среднем требуется немного больше минут для разговоров, но чем большее количество минут, тем больше разница между тарифами, т.е. пользователи тарифа ultra имеют большую долю продолжительных переговоров за месяц.\n",
    "- переменная количества отправленных сообщений (messages_number) у обоих тарифов имеет почти одинаковое среднее. Данное распределение не является нормальным, т.к. оно не симметрично и значений справа от среднего намного больше чем слева.\n",
    "- переменная количества использованных гигабайт (gb_used) имеет симметричное распределение близкое к нормльному у обоих тарифов, т.е. пользователи обоих тарифов расходуют интернет траффик почти одинаково."
   ]
  },
  {
   "cell_type": "markdown",
   "metadata": {},
   "source": [
    "## Проверка гипотез"
   ]
  },
  {
   "cell_type": "markdown",
   "metadata": {},
   "source": [
    "### 1. средняя выручка пользователей тарифов «Ультра» и «Смарт» различаются:"
   ]
  },
  {
   "cell_type": "code",
   "execution_count": 49,
   "metadata": {},
   "outputs": [],
   "source": [
    "smart_revenue_mean = users_tariff_smart['monthly_revenue'].mean()\n",
    "ultra_revenue_mean = users_tariff_ultra['monthly_revenue'].mean()"
   ]
  },
  {
   "cell_type": "markdown",
   "metadata": {},
   "source": [
    "#### Построим график для визуального сравнения средних двух выборок:"
   ]
  },
  {
   "cell_type": "code",
   "execution_count": 50,
   "metadata": {},
   "outputs": [
    {
     "data": {
      "image/png": "[encoded data removed]",
      "text/plain": [
       "<Figure size 432x288 with 1 Axes>"
      ]
     },
     "metadata": {
      "needs_background": "light"
     },
     "output_type": "display_data"
    }
   ],
   "source": [
    "plt.bar(['tariff smart', 'tariff ultra'], \n",
    "        height=[smart_revenue_mean, ultra_revenue_mean])\n",
    "plt.title('monthly revenue')\n",
    "plt.ylabel('руб')\n",
    "plt.show()"
   ]
  },
  {
   "cell_type": "markdown",
   "metadata": {},
   "source": [
    "На графике видно, что средняя выручка от тарифа ultra намного больше"
   ]
  },
  {
   "cell_type": "markdown",
   "metadata": {},
   "source": [
    "#### Cформулируем гипотезы:"
   ]
  },
  {
   "cell_type": "markdown",
   "metadata": {},
   "source": [
    "$H_{0}: \\mu_{smart} = \\mu_{ultra}\\\\$\n",
    "$H_{1}: \\mu_{smart} \\neq \\mu_{ultra}$"
   ]
  },
  {
   "cell_type": "markdown",
   "metadata": {},
   "source": [
    "**Основная (нулевая) гипотеза** - среднее тарифа смарт равняется среднему тарифа ультра.\n",
    "\n",
    "**Альтернативная гипотеза** - среднее тарифа смарт не равняется среднему тарифа ультра."
   ]
  },
  {
   "cell_type": "markdown",
   "metadata": {},
   "source": [
    "#### Проверим гипотезу о равенстве средних двух генеральных совокупностей:"
   ]
  },
  {
   "cell_type": "code",
   "execution_count": 51,
   "metadata": {},
   "outputs": [
    {
     "name": "stdout",
     "output_type": "stream",
     "text": [
      "p-значение: 0.0\n",
      "Отвергаем нулевую гипотезу\n"
     ]
    }
   ],
   "source": [
    "alpha = 0.05\n",
    "results = st.ttest_ind(\n",
    "    users_tariff_smart['monthly_revenue'],\n",
    "    users_tariff_ultra['monthly_revenue']\n",
    ")\n",
    "\n",
    "print('p-значение:', results.pvalue)\n",
    "\n",
    "if results.pvalue < alpha:\n",
    "    print('Отвергаем нулевую гипотезу')\n",
    "else:\n",
    "    print('Не получилось отвергнуть нулевую гипотезу') "
   ]
  },
  {
   "cell_type": "markdown",
   "metadata": {},
   "source": [
    "### 2. средняя выручка пользователей из Москвы отличается от выручки пользователей из других регионов"
   ]
  },
  {
   "cell_type": "code",
   "execution_count": 52,
   "metadata": {},
   "outputs": [],
   "source": [
    "moscow_revenue = (\n",
    "    users_data_by_month.query('city == \"Москва\"')['monthly_revenue']\n",
    ")\n",
    "\n",
    "other_cities_revenue = (\n",
    "    users_data_by_month.query('city != \"Москва\"')['monthly_revenue']\n",
    ")"
   ]
  },
  {
   "cell_type": "markdown",
   "metadata": {},
   "source": [
    "#### Построим график для визуального сравнения средних двух выборок:"
   ]
  },
  {
   "cell_type": "code",
   "execution_count": 53,
   "metadata": {},
   "outputs": [
    {
     "data": {
      "image/png": "[encoded data removed]",
      "text/plain": [
       "<Figure size 432x288 with 1 Axes>"
      ]
     },
     "metadata": {
      "needs_background": "light"
     },
     "output_type": "display_data"
    }
   ],
   "source": [
    "plt.bar(['moscow', 'other cities'], \n",
    "        height=[moscow_revenue.mean(), other_cities_revenue.mean()])\n",
    "plt.title('revenue by cities')\n",
    "plt.ylabel('руб')\n",
    "plt.show()"
   ]
  },
  {
   "cell_type": "markdown",
   "metadata": {},
   "source": [
    "Судя по графику, средние отличаются не сильно."
   ]
  },
  {
   "cell_type": "markdown",
   "metadata": {},
   "source": [
    "#### Cформулируем гипотезы:"
   ]
  },
  {
   "cell_type": "markdown",
   "metadata": {},
   "source": [
    "$H_{0}: \\mu_{moscow} = \\mu_{other}\\\\$\n",
    "$H_{1}: \\mu_{moscow} \\neq \\mu_{other}$"
   ]
  },
  {
   "cell_type": "markdown",
   "metadata": {},
   "source": [
    "**Основная (нулевая) гипотеза** - средняя выручка пользователей из Москвы равна средней выручке пользователей из других городов.\n",
    "\n",
    "**Альтернативная гипотеза** - средняя выручка пользователей из Москвы не равна средней выручке пользователей из других городов."
   ]
  },
  {
   "cell_type": "markdown",
   "metadata": {},
   "source": [
    "#### Проверим гипотезу о равенстве средних двух генеральных совокупностей:"
   ]
  },
  {
   "cell_type": "code",
   "execution_count": 54,
   "metadata": {},
   "outputs": [
    {
     "name": "stdout",
     "output_type": "stream",
     "text": [
      "p-значение: 0.00029247761499909795\n",
      "Отвергаем нулевую гипотезу\n"
     ]
    }
   ],
   "source": [
    "alpha = 0.05\n",
    "results = st.ttest_ind(\n",
    "    moscow_revenue,\n",
    "    other_cities_revenue\n",
    ")\n",
    "\n",
    "print('p-значение:', results.pvalue)\n",
    "\n",
    "if results.pvalue < alpha:\n",
    "    print('Отвергаем нулевую гипотезу')\n",
    "else:\n",
    "    print('Не получилось отвергнуть нулевую гипотезу') "
   ]
  },
  {
   "cell_type": "markdown",
   "metadata": {},
   "source": [
    "Так как выборки независимы, для проверок гипотез использовался ttest для двух независимых выборок (.ind)"
   ]
  },
  {
   "cell_type": "markdown",
   "metadata": {},
   "source": [
    "## Общий вывод:\n",
    "- доля пользователей тарифа smart от общего количества, составляет 70%;\n",
    "- распределения переменных продолжительность звонка, количество сообщений и использованные гигабайты имеют схожую природу и близкие средние значения;\n",
    "- у пользователей тарифа ultra и smart средняя продолжительность переговоров в месяц отличается не сильно, однако у пользователей тарифа ultra намного больше доля продолжительных переговоров;\n",
    "- средняя выручка в месяц у тарифа ultra больше;\n",
    "- у нас нет оснований для принятия нулевой гипотезы, что среднее тарифа смарт равняется среднему тарифа ультра;\n",
    "- также у нас нет оснований для принятия нулевой гипотезы, что средняя выручка пользователей из Москвы равна средней выручке пользователей из других городов"
   ]
  }
 ],
 "metadata": {
  "ExecuteTimeLog": [
   {
    "duration": 1423,
    "start_time": "2021-12-28T18:56:02.333Z"
   },
   {
    "duration": 3254,
    "start_time": "2021-12-28T18:56:03.759Z"
   },
   {
    "duration": -344,
    "start_time": "2021-12-28T18:56:07.362Z"
   },
   {
    "duration": -344,
    "start_time": "2021-12-28T18:56:07.364Z"
   },
   {
    "duration": -344,
    "start_time": "2021-12-28T18:56:07.365Z"
   },
   {
    "duration": -344,
    "start_time": "2021-12-28T18:56:07.367Z"
   },
   {
    "duration": -344,
    "start_time": "2021-12-28T18:56:07.368Z"
   },
   {
    "duration": -345,
    "start_time": "2021-12-28T18:56:07.370Z"
   },
   {
    "duration": -345,
    "start_time": "2021-12-28T18:56:07.372Z"
   },
   {
    "duration": -346,
    "start_time": "2021-12-28T18:56:07.374Z"
   },
   {
    "duration": -345,
    "start_time": "2021-12-28T18:56:07.375Z"
   },
   {
    "duration": -351,
    "start_time": "2021-12-28T18:56:07.382Z"
   },
   {
    "duration": -354,
    "start_time": "2021-12-28T18:56:07.386Z"
   },
   {
    "duration": -355,
    "start_time": "2021-12-28T18:56:07.389Z"
   },
   {
    "duration": -356,
    "start_time": "2021-12-28T18:56:07.391Z"
   },
   {
    "duration": -356,
    "start_time": "2021-12-28T18:56:07.392Z"
   },
   {
    "duration": -355,
    "start_time": "2021-12-28T18:56:07.393Z"
   },
   {
    "duration": -376,
    "start_time": "2021-12-28T18:56:07.415Z"
   },
   {
    "duration": -376,
    "start_time": "2021-12-28T18:56:07.416Z"
   },
   {
    "duration": -376,
    "start_time": "2021-12-28T18:56:07.418Z"
   },
   {
    "duration": -376,
    "start_time": "2021-12-28T18:56:07.419Z"
   },
   {
    "duration": -377,
    "start_time": "2021-12-28T18:56:07.421Z"
   },
   {
    "duration": -379,
    "start_time": "2021-12-28T18:56:07.424Z"
   },
   {
    "duration": -380,
    "start_time": "2021-12-28T18:56:07.426Z"
   },
   {
    "duration": -379,
    "start_time": "2021-12-28T18:56:07.427Z"
   },
   {
    "duration": -380,
    "start_time": "2021-12-28T18:56:07.429Z"
   },
   {
    "duration": -380,
    "start_time": "2021-12-28T18:56:07.430Z"
   },
   {
    "duration": -385,
    "start_time": "2021-12-28T18:56:07.436Z"
   },
   {
    "duration": -518,
    "start_time": "2021-12-28T18:56:07.571Z"
   },
   {
    "duration": -537,
    "start_time": "2021-12-28T18:56:07.591Z"
   },
   {
    "duration": -575,
    "start_time": "2021-12-28T18:56:07.630Z"
   },
   {
    "duration": -587,
    "start_time": "2021-12-28T18:56:07.644Z"
   },
   {
    "duration": -587,
    "start_time": "2021-12-28T18:56:07.645Z"
   },
   {
    "duration": -588,
    "start_time": "2021-12-28T18:56:07.647Z"
   },
   {
    "duration": -531,
    "start_time": "2021-12-28T18:56:07.648Z"
   },
   {
    "duration": -531,
    "start_time": "2021-12-28T18:56:07.649Z"
   },
   {
    "duration": -536,
    "start_time": "2021-12-28T18:56:07.656Z"
   },
   {
    "duration": -536,
    "start_time": "2021-12-28T18:56:07.657Z"
   },
   {
    "duration": -536,
    "start_time": "2021-12-28T18:56:07.659Z"
   },
   {
    "duration": -536,
    "start_time": "2021-12-28T18:56:07.660Z"
   },
   {
    "duration": -535,
    "start_time": "2021-12-28T18:56:07.661Z"
   },
   {
    "duration": -536,
    "start_time": "2021-12-28T18:56:07.663Z"
   },
   {
    "duration": -536,
    "start_time": "2021-12-28T18:56:07.664Z"
   },
   {
    "duration": -535,
    "start_time": "2021-12-28T18:56:07.665Z"
   },
   {
    "duration": -535,
    "start_time": "2021-12-28T18:56:07.666Z"
   },
   {
    "duration": -535,
    "start_time": "2021-12-28T18:56:07.668Z"
   },
   {
    "duration": -535,
    "start_time": "2021-12-28T18:56:07.669Z"
   },
   {
    "duration": -536,
    "start_time": "2021-12-28T18:56:07.671Z"
   },
   {
    "duration": -535,
    "start_time": "2021-12-28T18:56:07.672Z"
   },
   {
    "duration": -536,
    "start_time": "2021-12-28T18:56:07.674Z"
   },
   {
    "duration": -536,
    "start_time": "2021-12-28T18:56:07.675Z"
   },
   {
    "duration": -536,
    "start_time": "2021-12-28T18:56:07.677Z"
   },
   {
    "duration": -535,
    "start_time": "2021-12-28T18:56:07.678Z"
   },
   {
    "duration": -535,
    "start_time": "2021-12-28T18:56:07.679Z"
   },
   {
    "duration": 1072,
    "start_time": "2021-12-29T12:17:02.784Z"
   },
   {
    "duration": 452,
    "start_time": "2021-12-29T12:17:03.858Z"
   },
   {
    "duration": 11,
    "start_time": "2021-12-29T12:17:04.312Z"
   },
   {
    "duration": 25,
    "start_time": "2021-12-29T12:17:04.325Z"
   },
   {
    "duration": 7,
    "start_time": "2021-12-29T12:17:04.352Z"
   },
   {
    "duration": 29,
    "start_time": "2021-12-29T12:17:04.363Z"
   },
   {
    "duration": 7,
    "start_time": "2021-12-29T12:17:04.393Z"
   },
   {
    "duration": 16,
    "start_time": "2021-12-29T12:17:04.401Z"
   },
   {
    "duration": 21,
    "start_time": "2021-12-29T12:17:04.420Z"
   },
   {
    "duration": 7,
    "start_time": "2021-12-29T12:17:04.443Z"
   },
   {
    "duration": 30,
    "start_time": "2021-12-29T12:17:04.452Z"
   },
   {
    "duration": 12,
    "start_time": "2021-12-29T12:17:04.483Z"
   },
   {
    "duration": 69,
    "start_time": "2021-12-29T12:17:04.497Z"
   },
   {
    "duration": 18,
    "start_time": "2021-12-29T12:17:04.568Z"
   },
   {
    "duration": 63,
    "start_time": "2021-12-29T12:17:04.587Z"
   },
   {
    "duration": 14,
    "start_time": "2021-12-29T12:17:04.652Z"
   },
   {
    "duration": 22,
    "start_time": "2021-12-29T12:17:04.667Z"
   },
   {
    "duration": 9,
    "start_time": "2021-12-29T12:17:04.691Z"
   },
   {
    "duration": 15,
    "start_time": "2021-12-29T12:17:04.701Z"
   },
   {
    "duration": 8,
    "start_time": "2021-12-29T12:17:04.718Z"
   },
   {
    "duration": 12,
    "start_time": "2021-12-29T12:17:04.727Z"
   },
   {
    "duration": 8,
    "start_time": "2021-12-29T12:17:04.740Z"
   },
   {
    "duration": 61,
    "start_time": "2021-12-29T12:17:04.749Z"
   },
   {
    "duration": 5,
    "start_time": "2021-12-29T12:17:04.813Z"
   },
   {
    "duration": 71,
    "start_time": "2021-12-29T12:17:04.820Z"
   },
   {
    "duration": 7,
    "start_time": "2021-12-29T12:17:04.893Z"
   },
   {
    "duration": 24,
    "start_time": "2021-12-29T12:17:04.903Z"
   },
   {
    "duration": 6,
    "start_time": "2021-12-29T12:17:04.929Z"
   },
   {
    "duration": 57,
    "start_time": "2021-12-29T12:17:04.936Z"
   },
   {
    "duration": 7,
    "start_time": "2021-12-29T12:17:04.995Z"
   },
   {
    "duration": 8,
    "start_time": "2021-12-29T12:17:05.004Z"
   },
   {
    "duration": 8,
    "start_time": "2021-12-29T12:17:05.014Z"
   },
   {
    "duration": 6,
    "start_time": "2021-12-29T12:17:05.024Z"
   },
   {
    "duration": 2218,
    "start_time": "2021-12-29T12:17:05.031Z"
   },
   {
    "duration": 4083,
    "start_time": "2021-12-29T12:17:07.250Z"
   },
   {
    "duration": 10,
    "start_time": "2021-12-29T12:17:11.335Z"
   },
   {
    "duration": 27,
    "start_time": "2021-12-29T12:17:11.347Z"
   },
   {
    "duration": 19,
    "start_time": "2021-12-29T12:17:11.376Z"
   },
   {
    "duration": 5,
    "start_time": "2021-12-29T12:17:11.397Z"
   },
   {
    "duration": 9,
    "start_time": "2021-12-29T12:17:11.404Z"
   },
   {
    "duration": 10,
    "start_time": "2021-12-29T12:17:11.414Z"
   },
   {
    "duration": 7,
    "start_time": "2021-12-29T12:17:11.425Z"
   },
   {
    "duration": 383,
    "start_time": "2021-12-29T12:17:11.434Z"
   },
   {
    "duration": -169,
    "start_time": "2021-12-29T12:17:11.988Z"
   },
   {
    "duration": -184,
    "start_time": "2021-12-29T12:17:12.004Z"
   },
   {
    "duration": -201,
    "start_time": "2021-12-29T12:17:12.022Z"
   },
   {
    "duration": -218,
    "start_time": "2021-12-29T12:17:12.040Z"
   },
   {
    "duration": -236,
    "start_time": "2021-12-29T12:17:12.059Z"
   },
   {
    "duration": -251,
    "start_time": "2021-12-29T12:17:12.075Z"
   },
   {
    "duration": -267,
    "start_time": "2021-12-29T12:17:12.092Z"
   },
   {
    "duration": -294,
    "start_time": "2021-12-29T12:17:12.119Z"
   },
   {
    "duration": -298,
    "start_time": "2021-12-29T12:17:12.124Z"
   },
   {
    "duration": -315,
    "start_time": "2021-12-29T12:17:12.142Z"
   },
   {
    "duration": -331,
    "start_time": "2021-12-29T12:17:12.159Z"
   },
   {
    "duration": 6,
    "start_time": "2021-12-29T12:17:55.003Z"
   },
   {
    "duration": 8,
    "start_time": "2021-12-29T12:18:16.394Z"
   },
   {
    "duration": 4,
    "start_time": "2021-12-29T12:18:16.404Z"
   },
   {
    "duration": 8,
    "start_time": "2021-12-29T12:18:16.410Z"
   },
   {
    "duration": 744,
    "start_time": "2021-12-29T12:18:16.420Z"
   },
   {
    "duration": 21,
    "start_time": "2021-12-29T12:18:17.167Z"
   },
   {
    "duration": 4,
    "start_time": "2021-12-29T12:18:17.190Z"
   },
   {
    "duration": 158,
    "start_time": "2021-12-29T12:18:17.196Z"
   },
   {
    "duration": 8,
    "start_time": "2021-12-29T12:18:17.361Z"
   },
   {
    "duration": 17,
    "start_time": "2021-12-29T12:18:17.371Z"
   },
   {
    "duration": 126,
    "start_time": "2021-12-29T12:18:17.390Z"
   },
   {
    "duration": 5,
    "start_time": "2021-12-29T12:18:17.518Z"
   },
   {
    "duration": 1080,
    "start_time": "2021-12-29T12:18:24.874Z"
   },
   {
    "duration": 437,
    "start_time": "2021-12-29T12:18:25.956Z"
   },
   {
    "duration": 11,
    "start_time": "2021-12-29T12:18:26.395Z"
   },
   {
    "duration": 55,
    "start_time": "2021-12-29T12:18:26.408Z"
   },
   {
    "duration": 43,
    "start_time": "2021-12-29T12:18:26.466Z"
   },
   {
    "duration": 53,
    "start_time": "2021-12-29T12:18:26.510Z"
   },
   {
    "duration": 22,
    "start_time": "2021-12-29T12:18:26.566Z"
   },
   {
    "duration": 32,
    "start_time": "2021-12-29T12:18:26.590Z"
   },
   {
    "duration": 31,
    "start_time": "2021-12-29T12:18:26.624Z"
   },
   {
    "duration": 39,
    "start_time": "2021-12-29T12:18:26.657Z"
   },
   {
    "duration": 44,
    "start_time": "2021-12-29T12:18:26.698Z"
   },
   {
    "duration": 24,
    "start_time": "2021-12-29T12:18:26.744Z"
   },
   {
    "duration": 82,
    "start_time": "2021-12-29T12:18:26.771Z"
   },
   {
    "duration": 24,
    "start_time": "2021-12-29T12:18:26.854Z"
   },
   {
    "duration": 57,
    "start_time": "2021-12-29T12:18:26.880Z"
   },
   {
    "duration": 28,
    "start_time": "2021-12-29T12:18:26.940Z"
   },
   {
    "duration": 21,
    "start_time": "2021-12-29T12:18:26.971Z"
   },
   {
    "duration": 26,
    "start_time": "2021-12-29T12:18:26.994Z"
   },
   {
    "duration": 20,
    "start_time": "2021-12-29T12:18:27.022Z"
   },
   {
    "duration": 16,
    "start_time": "2021-12-29T12:18:27.043Z"
   },
   {
    "duration": 43,
    "start_time": "2021-12-29T12:18:27.063Z"
   },
   {
    "duration": 26,
    "start_time": "2021-12-29T12:18:27.108Z"
   },
   {
    "duration": 67,
    "start_time": "2021-12-29T12:18:27.138Z"
   },
   {
    "duration": 3,
    "start_time": "2021-12-29T12:18:27.207Z"
   },
   {
    "duration": 56,
    "start_time": "2021-12-29T12:18:27.211Z"
   },
   {
    "duration": 10,
    "start_time": "2021-12-29T12:18:27.270Z"
   },
   {
    "duration": 35,
    "start_time": "2021-12-29T12:18:27.281Z"
   },
   {
    "duration": 5,
    "start_time": "2021-12-29T12:18:27.318Z"
   },
   {
    "duration": 44,
    "start_time": "2021-12-29T12:18:27.325Z"
   },
   {
    "duration": 8,
    "start_time": "2021-12-29T12:18:27.372Z"
   },
   {
    "duration": 6,
    "start_time": "2021-12-29T12:18:27.382Z"
   },
   {
    "duration": 8,
    "start_time": "2021-12-29T12:18:27.390Z"
   },
   {
    "duration": 5,
    "start_time": "2021-12-29T12:18:27.400Z"
   },
   {
    "duration": 2235,
    "start_time": "2021-12-29T12:18:27.406Z"
   },
   {
    "duration": 4344,
    "start_time": "2021-12-29T12:18:29.643Z"
   },
   {
    "duration": 10,
    "start_time": "2021-12-29T12:18:33.988Z"
   },
   {
    "duration": 25,
    "start_time": "2021-12-29T12:18:34.000Z"
   },
   {
    "duration": 19,
    "start_time": "2021-12-29T12:18:34.026Z"
   },
   {
    "duration": 27,
    "start_time": "2021-12-29T12:18:34.046Z"
   },
   {
    "duration": 30,
    "start_time": "2021-12-29T12:18:34.074Z"
   },
   {
    "duration": 19,
    "start_time": "2021-12-29T12:18:34.106Z"
   },
   {
    "duration": 28,
    "start_time": "2021-12-29T12:18:34.127Z"
   },
   {
    "duration": 22,
    "start_time": "2021-12-29T12:18:34.157Z"
   },
   {
    "duration": 29,
    "start_time": "2021-12-29T12:18:34.180Z"
   },
   {
    "duration": 22,
    "start_time": "2021-12-29T12:18:34.210Z"
   },
   {
    "duration": 16,
    "start_time": "2021-12-29T12:18:34.234Z"
   },
   {
    "duration": 801,
    "start_time": "2021-12-29T12:18:34.251Z"
   },
   {
    "duration": 27,
    "start_time": "2021-12-29T12:18:35.053Z"
   },
   {
    "duration": 3,
    "start_time": "2021-12-29T12:18:35.082Z"
   },
   {
    "duration": 145,
    "start_time": "2021-12-29T12:18:35.087Z"
   },
   {
    "duration": 5,
    "start_time": "2021-12-29T12:18:35.234Z"
   },
   {
    "duration": 10,
    "start_time": "2021-12-29T12:18:35.241Z"
   },
   {
    "duration": 140,
    "start_time": "2021-12-29T12:18:35.261Z"
   },
   {
    "duration": 6,
    "start_time": "2021-12-29T12:18:35.402Z"
   },
   {
    "duration": 1022,
    "start_time": "2021-12-29T20:08:09.677Z"
   },
   {
    "duration": 398,
    "start_time": "2021-12-29T20:08:10.701Z"
   },
   {
    "duration": 11,
    "start_time": "2021-12-29T20:08:11.102Z"
   },
   {
    "duration": 20,
    "start_time": "2021-12-29T20:08:11.115Z"
   },
   {
    "duration": 8,
    "start_time": "2021-12-29T20:08:11.137Z"
   },
   {
    "duration": 17,
    "start_time": "2021-12-29T20:08:11.146Z"
   },
   {
    "duration": 6,
    "start_time": "2021-12-29T20:08:11.164Z"
   },
   {
    "duration": 13,
    "start_time": "2021-12-29T20:08:11.172Z"
   },
   {
    "duration": 7,
    "start_time": "2021-12-29T20:08:11.187Z"
   },
   {
    "duration": 5,
    "start_time": "2021-12-29T20:08:11.228Z"
   },
   {
    "duration": 10,
    "start_time": "2021-12-29T20:08:11.235Z"
   },
   {
    "duration": 7,
    "start_time": "2021-12-29T20:08:11.247Z"
   },
   {
    "duration": 81,
    "start_time": "2021-12-29T20:08:11.255Z"
   },
   {
    "duration": 12,
    "start_time": "2021-12-29T20:08:11.338Z"
   },
   {
    "duration": 54,
    "start_time": "2021-12-29T20:08:11.352Z"
   },
   {
    "duration": 23,
    "start_time": "2021-12-29T20:08:11.407Z"
   },
   {
    "duration": 11,
    "start_time": "2021-12-29T20:08:11.431Z"
   },
   {
    "duration": 10,
    "start_time": "2021-12-29T20:08:11.443Z"
   },
   {
    "duration": 5,
    "start_time": "2021-12-29T20:08:11.454Z"
   },
   {
    "duration": 9,
    "start_time": "2021-12-29T20:08:11.460Z"
   },
   {
    "duration": 9,
    "start_time": "2021-12-29T20:08:11.470Z"
   },
   {
    "duration": 7,
    "start_time": "2021-12-29T20:08:11.480Z"
   },
   {
    "duration": 72,
    "start_time": "2021-12-29T20:08:11.491Z"
   },
   {
    "duration": 3,
    "start_time": "2021-12-29T20:08:11.565Z"
   },
   {
    "duration": 46,
    "start_time": "2021-12-29T20:08:11.570Z"
   },
   {
    "duration": 11,
    "start_time": "2021-12-29T20:08:11.617Z"
   },
   {
    "duration": 22,
    "start_time": "2021-12-29T20:08:11.630Z"
   },
   {
    "duration": 5,
    "start_time": "2021-12-29T20:08:11.654Z"
   },
   {
    "duration": 31,
    "start_time": "2021-12-29T20:08:11.660Z"
   },
   {
    "duration": 5,
    "start_time": "2021-12-29T20:08:11.693Z"
   },
   {
    "duration": 27,
    "start_time": "2021-12-29T20:08:11.700Z"
   },
   {
    "duration": 8,
    "start_time": "2021-12-29T20:08:11.729Z"
   },
   {
    "duration": 5,
    "start_time": "2021-12-29T20:08:11.739Z"
   },
   {
    "duration": 1989,
    "start_time": "2021-12-29T20:08:11.745Z"
   },
   {
    "duration": 3747,
    "start_time": "2021-12-29T20:08:13.736Z"
   },
   {
    "duration": 9,
    "start_time": "2021-12-29T20:08:17.484Z"
   },
   {
    "duration": 7,
    "start_time": "2021-12-29T20:08:17.494Z"
   },
   {
    "duration": 27,
    "start_time": "2021-12-29T20:08:17.503Z"
   },
   {
    "duration": 6,
    "start_time": "2021-12-29T20:08:17.531Z"
   },
   {
    "duration": 6,
    "start_time": "2021-12-29T20:08:17.538Z"
   },
   {
    "duration": 8,
    "start_time": "2021-12-29T20:08:17.546Z"
   },
   {
    "duration": 6,
    "start_time": "2021-12-29T20:08:17.555Z"
   },
   {
    "duration": 5,
    "start_time": "2021-12-29T20:08:17.563Z"
   },
   {
    "duration": 8,
    "start_time": "2021-12-29T20:08:17.570Z"
   },
   {
    "duration": 5,
    "start_time": "2021-12-29T20:08:17.579Z"
   },
   {
    "duration": 42,
    "start_time": "2021-12-29T20:08:17.585Z"
   },
   {
    "duration": 677,
    "start_time": "2021-12-29T20:08:17.629Z"
   },
   {
    "duration": 26,
    "start_time": "2021-12-29T20:08:18.308Z"
   },
   {
    "duration": 6,
    "start_time": "2021-12-29T20:08:18.336Z"
   },
   {
    "duration": 126,
    "start_time": "2021-12-29T20:08:18.344Z"
   },
   {
    "duration": 5,
    "start_time": "2021-12-29T20:08:18.472Z"
   },
   {
    "duration": 8,
    "start_time": "2021-12-29T20:08:18.479Z"
   },
   {
    "duration": 127,
    "start_time": "2021-12-29T20:08:18.489Z"
   },
   {
    "duration": 11,
    "start_time": "2021-12-29T20:08:18.618Z"
   },
   {
    "duration": 92,
    "start_time": "2021-12-29T22:08:52.775Z"
   }
  ],
  "kernelspec": {
   "display_name": "Python 3",
   "language": "python",
   "name": "python3"
  },
  "language_info": {
   "codemirror_mode": {
    "name": "ipython",
    "version": 3
   },
   "file_extension": ".py",
   "mimetype": "text/x-python",
   "name": "python",
   "nbconvert_exporter": "python",
   "pygments_lexer": "ipython3",
   "version": "3.8.10"
  },
  "toc": {
   "base_numbering": 1,
   "nav_menu": {},
   "number_sections": true,
   "sideBar": true,
   "skip_h1_title": true,
   "title_cell": "Содержание",
   "title_sidebar": "Contents",
   "toc_cell": true,
   "toc_position": {},
   "toc_section_display": true,
   "toc_window_display": false
  }
 },
 "nbformat": 4,
 "nbformat_minor": 2
}
