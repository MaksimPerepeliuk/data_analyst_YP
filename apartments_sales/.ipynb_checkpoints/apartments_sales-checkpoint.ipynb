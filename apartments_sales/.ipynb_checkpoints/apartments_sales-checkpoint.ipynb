{
 "cells": [
  {
   "cell_type": "markdown",
   "metadata": {
    "toc": true
   },
   "source": [
    "<h1>Содержание<span class=\"tocSkip\"></span></h1>\n",
    "<div class=\"toc\"><ul class=\"toc-item\"><li><span><a href=\"#Описание-данных\" data-toc-modified-id=\"Описание-данных-1\"><span class=\"toc-item-num\">1&nbsp;&nbsp;</span>Описание данных</a></span></li><li><span><a href=\"#Изучение-данных-из-файла\" data-toc-modified-id=\"Изучение-данных-из-файла-2\"><span class=\"toc-item-num\">2&nbsp;&nbsp;</span>Изучение данных из файла</a></span></li><li><span><a href=\"#Предобработка-данных\" data-toc-modified-id=\"Предобработка-данных-3\"><span class=\"toc-item-num\">3&nbsp;&nbsp;</span>Предобработка данных</a></span><ul class=\"toc-item\"><li><span><a href=\"#Посмотрим-нет-ли-скрытых-пробелов-или-других-ошибок-в-именовании-колонок\" data-toc-modified-id=\"Посмотрим-нет-ли-скрытых-пробелов-или-других-ошибок-в-именовании-колонок-3.1\"><span class=\"toc-item-num\">3.1&nbsp;&nbsp;</span>Посмотрим нет ли скрытых пробелов или других ошибок в именовании колонок</a></span></li><li><span><a href=\"#Оценка-пропущенных-значений\" data-toc-modified-id=\"Оценка-пропущенных-значений-3.2\"><span class=\"toc-item-num\">3.2&nbsp;&nbsp;</span>Оценка пропущенных значений</a></span><ul class=\"toc-item\"><li><span><a href=\"#Посмотрим-распределение-пропущенных-значений-по-колонкам\" data-toc-modified-id=\"Посмотрим-распределение-пропущенных-значений-по-колонкам-3.2.1\"><span class=\"toc-item-num\">3.2.1&nbsp;&nbsp;</span>Посмотрим распределение пропущенных значений по колонкам</a></span></li><li><span><a href=\"#Найдем-общее-количество-пропусков,-а-также-процент-строк-в-которых-присутствует-хотя-бы-один-пропуск.\" data-toc-modified-id=\"Найдем-общее-количество-пропусков,-а-также-процент-строк-в-которых-присутствует-хотя-бы-один-пропуск.-3.2.2\"><span class=\"toc-item-num\">3.2.2&nbsp;&nbsp;</span>Найдем общее количество пропусков, а также процент строк в которых присутствует хотя бы один пропуск.</a></span></li></ul></li><li><span><a href=\"#Заполнение-пропусков\" data-toc-modified-id=\"Заполнение-пропусков-3.3\"><span class=\"toc-item-num\">3.3&nbsp;&nbsp;</span>Заполнение пропусков</a></span><ul class=\"toc-item\"><li><span><a href=\"#заполним-пропуски-в-колонке-balcony\" data-toc-modified-id=\"заполним-пропуски-в-колонке-balcony-3.3.1\"><span class=\"toc-item-num\">3.3.1&nbsp;&nbsp;</span>заполним пропуски в колонке balcony</a></span></li><li><span><a href=\"#заполним-пропуски-в-колонке-is_apartment\" data-toc-modified-id=\"заполним-пропуски-в-колонке-is_apartment-3.3.2\"><span class=\"toc-item-num\">3.3.2&nbsp;&nbsp;</span>заполним пропуски в колонке is_apartment</a></span></li><li><span><a href=\"#Оценка-пропусков-в-колонке-ceiling_height\" data-toc-modified-id=\"Оценка-пропусков-в-колонке-ceiling_height-3.3.3\"><span class=\"toc-item-num\">3.3.3&nbsp;&nbsp;</span>Оценка пропусков в колонке ceiling_height</a></span></li><li><span><a href=\"#Оценим-долю-пропусков-в-колонке-floors_total:\" data-toc-modified-id=\"Оценим-долю-пропусков-в-колонке-floors_total:-3.3.4\"><span class=\"toc-item-num\">3.3.4&nbsp;&nbsp;</span>Оценим долю пропусков в колонке floors_total:</a></span></li><li><span><a href=\"#Оценим-пропуски-в-колонках-living_area,-kitchen_area\" data-toc-modified-id=\"Оценим-пропуски-в-колонках-living_area,-kitchen_area-3.3.5\"><span class=\"toc-item-num\">3.3.5&nbsp;&nbsp;</span>Оценим пропуски в колонках living_area, kitchen_area</a></span></li></ul></li><li><span><a href=\"#Приведение-типов\" data-toc-modified-id=\"Приведение-типов-3.4\"><span class=\"toc-item-num\">3.4&nbsp;&nbsp;</span>Приведение типов</a></span><ul class=\"toc-item\"><li><span><a href=\"#Оценим-типы-данных-по-колонкам:\" data-toc-modified-id=\"Оценим-типы-данных-по-колонкам:-3.4.1\"><span class=\"toc-item-num\">3.4.1&nbsp;&nbsp;</span>Оценим типы данных по колонкам:</a></span></li><li><span><a href=\"#приведем-first_day_exposition-к-типу-datetime-и-отформатируем-в-более-красивый-формат:\" data-toc-modified-id=\"приведем-first_day_exposition-к-типу-datetime-и-отформатируем-в-более-красивый-формат:-3.4.2\"><span class=\"toc-item-num\">3.4.2&nbsp;&nbsp;</span>приведем first_day_exposition к типу datetime и отформатируем в более красивый формат:</a></span></li><li><span><a href=\"#Поменяем-тип-данных-с-float64-на-int64-в-колонке-balcony-,-что-правильней-с-точки-зрения-смысла-т.к.-количество-балконов-это-всегда-целое-число:\" data-toc-modified-id=\"Поменяем-тип-данных-с-float64-на-int64-в-колонке-balcony-,-что-правильней-с-точки-зрения-смысла-т.к.-количество-балконов-это-всегда-целое-число:-3.4.3\"><span class=\"toc-item-num\">3.4.3&nbsp;&nbsp;</span>Поменяем тип данных с float64 на int64 в колонке balcony , что правильней с точки зрения смысла т.к. количество балконов это всегда целое число:</a></span></li></ul></li></ul></li><li><span><a href=\"#Расчёты-и-добавление-результатов-в-таблицу\" data-toc-modified-id=\"Расчёты-и-добавление-результатов-в-таблицу-4\"><span class=\"toc-item-num\">4&nbsp;&nbsp;</span>Расчёты и добавление результатов в таблицу</a></span><ul class=\"toc-item\"><li><ul class=\"toc-item\"><li><span><a href=\"#Добавим-цену-квадратного-метра-для-каждой-квартиры:\" data-toc-modified-id=\"Добавим-цену-квадратного-метра-для-каждой-квартиры:-4.0.1\"><span class=\"toc-item-num\">4.0.1&nbsp;&nbsp;</span>Добавим цену квадратного метра для каждой квартиры:</a></span></li><li><span><a href=\"#Добавим-колонки-с-днем-недели,-месяцем-и-годом:\" data-toc-modified-id=\"Добавим-колонки-с-днем-недели,-месяцем-и-годом:-4.0.2\"><span class=\"toc-item-num\">4.0.2&nbsp;&nbsp;</span>Добавим колонки с днем недели, месяцем и годом:</a></span></li><li><span><a href=\"#Категоризуем-данные-по-этажам-квартиры;-варианты-—-первый,-последний,-другой:\" data-toc-modified-id=\"Категоризуем-данные-по-этажам-квартиры;-варианты-—-первый,-последний,-другой:-4.0.3\"><span class=\"toc-item-num\">4.0.3&nbsp;&nbsp;</span>Категоризуем данные по этажам квартиры; варианты — первый, последний, другой:</a></span></li><li><span><a href=\"#Добавим-колонки-с-соотношениями-жилой-и-общей-площади,-а-также-отношение-площади-кухни-к-общей:\" data-toc-modified-id=\"Добавим-колонки-с-соотношениями-жилой-и-общей-площади,-а-также-отношение-площади-кухни-к-общей:-4.0.4\"><span class=\"toc-item-num\">4.0.4&nbsp;&nbsp;</span>Добавим колонки с соотношениями жилой и общей площади, а также отношение площади кухни к общей:</a></span></li></ul></li></ul></li><li><span><a href=\"#Исследовательский-анализ-данных\" data-toc-modified-id=\"Исследовательский-анализ-данных-5\"><span class=\"toc-item-num\">5&nbsp;&nbsp;</span>Исследовательский анализ данных</a></span><ul class=\"toc-item\"><li><span><a href=\"#Оценка-параметров\" data-toc-modified-id=\"Оценка-параметров-5.1\"><span class=\"toc-item-num\">5.1&nbsp;&nbsp;</span>Оценка параметров</a></span><ul class=\"toc-item\"><li><span><a href=\"#посмотрим-на-следующие-параметры:-площадь,-цена,-число-комнат,-высота-потолков:\" data-toc-modified-id=\"посмотрим-на-следующие-параметры:-площадь,-цена,-число-комнат,-высота-потолков:-5.1.1\"><span class=\"toc-item-num\">5.1.1&nbsp;&nbsp;</span>посмотрим на следующие параметры: площадь, цена, число комнат, высота потолков:</a></span></li><li><span><a href=\"#изучим-сколько-времени-требуется-на-продажу-квартиры:\" data-toc-modified-id=\"изучим-сколько-времени-требуется-на-продажу-квартиры:-5.1.2\"><span class=\"toc-item-num\">5.1.2&nbsp;&nbsp;</span>изучим сколько времени требуется на продажу квартиры:</a></span></li><li><span><a href=\"#Построим-график-&quot;ящик-с-усами&quot;-для-определения-крайних-значений-и-выбросов:\" data-toc-modified-id=\"Построим-график-&quot;ящик-с-усами&quot;-для-определения-крайних-значений-и-выбросов:-5.1.3\"><span class=\"toc-item-num\">5.1.3&nbsp;&nbsp;</span>Построим график \"ящик с усами\" для определения крайних значений и выбросов:</a></span></li></ul></li><li><span><a href=\"#Очистка-выбросов\" data-toc-modified-id=\"Очистка-выбросов-5.2\"><span class=\"toc-item-num\">5.2&nbsp;&nbsp;</span>Очистка выбросов</a></span></li><li><span><a href=\"#Оценим-какие-параметры-больше-всего-влияют-на-цену-квартиры\" data-toc-modified-id=\"Оценим-какие-параметры-больше-всего-влияют-на-цену-квартиры-5.3\"><span class=\"toc-item-num\">5.3&nbsp;&nbsp;</span>Оценим какие параметры больше всего влияют на цену квартиры</a></span><ul class=\"toc-item\"><li><span><a href=\"#построим-матрицу-корреляций:\" data-toc-modified-id=\"построим-матрицу-корреляций:-5.3.1\"><span class=\"toc-item-num\">5.3.1&nbsp;&nbsp;</span>построим матрицу корреляций:</a></span></li><li><span><a href=\"#Построим-матрицу-рассеяния-для-основных-колонок:\" data-toc-modified-id=\"Построим-матрицу-рассеяния-для-основных-колонок:-5.3.2\"><span class=\"toc-item-num\">5.3.2&nbsp;&nbsp;</span>Построим матрицу рассеяния для основных колонок:</a></span></li><li><span><a href=\"#Создадим-функцию-для-построения-графиков-по-сгруппированным-значениям:\" data-toc-modified-id=\"Создадим-функцию-для-построения-графиков-по-сгруппированным-значениям:-5.3.3\"><span class=\"toc-item-num\">5.3.3&nbsp;&nbsp;</span>Создадим функцию для построения графиков по сгруппированным значениям:</a></span></li><li><span><a href=\"#Построим-графики,-демонстрирующие-как-различные-парметры-влияют-на-цену:\" data-toc-modified-id=\"Построим-графики,-демонстрирующие-как-различные-парметры-влияют-на-цену:-5.3.4\"><span class=\"toc-item-num\">5.3.4&nbsp;&nbsp;</span>Построим графики, демонстрирующие как различные парметры влияют на цену:</a></span></li><li><span><a href=\"#Выводы-по-графикам:\" data-toc-modified-id=\"Выводы-по-графикам:-5.3.5\"><span class=\"toc-item-num\">5.3.5&nbsp;&nbsp;</span>Выводы по графикам:</a></span></li></ul></li><li><span><a href=\"#Оценим-среднюю-цену-квадратного-метра-в-10-населенных-пунктах-с-самым-большим-количеством-объявлений:\" data-toc-modified-id=\"Оценим-среднюю-цену-квадратного-метра-в-10-населенных-пунктах-с-самым-большим-количеством-объявлений:-5.4\"><span class=\"toc-item-num\">5.4&nbsp;&nbsp;</span>Оценим среднюю цену квадратного метра в 10 населенных пунктах с самым большим количеством объявлений:</a></span></li><li><span><a href=\"#Оценим-влияние-расстояния-до-центра-в-г.-Санкт-Петербург,-на-среднюю-стоимость-квадратного-метра-жилья\" data-toc-modified-id=\"Оценим-влияние-расстояния-до-центра-в-г.-Санкт-Петербург,-на-среднюю-стоимость-квадратного-метра-жилья-5.5\"><span class=\"toc-item-num\">5.5&nbsp;&nbsp;</span>Оценим влияние расстояния до центра в г. Санкт-Петербург, на среднюю стоимость квадратного метра жилья</a></span><ul class=\"toc-item\"><li><span><a href=\"#Построим-диаграмму-рассеяния,-для-визуализации-связи-между-расстоянием-до-центра-и-средней-ценой-квадратного-метра:\" data-toc-modified-id=\"Построим-диаграмму-рассеяния,-для-визуализации-связи-между-расстоянием-до-центра-и-средней-ценой-квадратного-метра:-5.5.1\"><span class=\"toc-item-num\">5.5.1&nbsp;&nbsp;</span>Построим диаграмму рассеяния, для визуализации связи между расстоянием до центра и средней ценой квадратного метра:</a></span></li></ul></li><li><span><a href=\"#Проанализируем-сегмент-квартир-расположенных-в-центре-г.-Санкт-Петербург\" data-toc-modified-id=\"Проанализируем-сегмент-квартир-расположенных-в-центре-г.-Санкт-Петербург-5.6\"><span class=\"toc-item-num\">5.6&nbsp;&nbsp;</span>Проанализируем сегмент квартир расположенных в центре г. Санкт-Петербург</a></span><ul class=\"toc-item\"><li><span><a href=\"#Сделаем-срез-данных:\" data-toc-modified-id=\"Сделаем-срез-данных:-5.6.1\"><span class=\"toc-item-num\">5.6.1&nbsp;&nbsp;</span>Сделаем срез данных:</a></span></li><li><span><a href=\"#Сравним-площадь,-стоимость,-количество-комнат-и-высоту-потолков-для-квартир-из-общего-набора-данных-и-для-квартир-в-центре-города:\" data-toc-modified-id=\"Сравним-площадь,-стоимость,-количество-комнат-и-высоту-потолков-для-квартир-из-общего-набора-данных-и-для-квартир-в-центре-города:-5.6.2\"><span class=\"toc-item-num\">5.6.2&nbsp;&nbsp;</span>Сравним площадь, стоимость, количество комнат и высоту потолков для квартир из общего набора данных и для квартир в центре города:</a></span></li></ul></li><li><span><a href=\"#Оценим-какие-параметры-больше-всего-влияют-на-цену-квартиры-в-центре-г.-Санкт-Петербург\" data-toc-modified-id=\"Оценим-какие-параметры-больше-всего-влияют-на-цену-квартиры-в-центре-г.-Санкт-Петербург-5.7\"><span class=\"toc-item-num\">5.7&nbsp;&nbsp;</span>Оценим какие параметры больше всего влияют на цену квартиры в центре г. Санкт-Петербург</a></span><ul class=\"toc-item\"><li><span><a href=\"#Построим-графики,-демонстрирующие-как-различные-парметры-влияют-на-цену-для-жилья-в-центре-г.-Санкт-Петербург-в-сравнении-с-графиками-для-всех-квартир:\" data-toc-modified-id=\"Построим-графики,-демонстрирующие-как-различные-парметры-влияют-на-цену-для-жилья-в-центре-г.-Санкт-Петербург-в-сравнении-с-графиками-для-всех-квартир:-5.7.1\"><span class=\"toc-item-num\">5.7.1&nbsp;&nbsp;</span>Построим графики, демонстрирующие как различные парметры влияют на цену для жилья в центре г. Санкт-Петербург в сравнении с графиками для всех квартир:</a></span></li><li><span><a href=\"#Выводы-по-графиками-для-квартир-в-центре-г.-Санкт-Петербург:\" data-toc-modified-id=\"Выводы-по-графиками-для-квартир-в-центре-г.-Санкт-Петербург:-5.7.2\"><span class=\"toc-item-num\">5.7.2&nbsp;&nbsp;</span>Выводы по графиками для квартир в центре г. Санкт-Петербург:</a></span></li></ul></li></ul></li><li><span><a href=\"#Общий-вывод\" data-toc-modified-id=\"Общий-вывод-6\"><span class=\"toc-item-num\">6&nbsp;&nbsp;</span>Общий вывод</a></span></li><li><span><a href=\"#Чек-лист-готовности-проекта\" data-toc-modified-id=\"Чек-лист-готовности-проекта-7\"><span class=\"toc-item-num\">7&nbsp;&nbsp;</span>Чек-лист готовности проекта</a></span></li></ul></div>"
   ]
  },
  {
   "cell_type": "markdown",
   "metadata": {
    "toc": true
   },
   "source": [
    "# Исследование объявлений о продаже квартир\n",
    "В нашем распоряжении данные архива объявлений о продаже квартир в Санкт-Петербурге и соседних населённых пунктах за несколько лет. Нужно научиться определять рыночную стоимость объектов недвижимости. Ваша задача — установить параметры\n",
    "\n",
    "По каждой квартире на продажу доступны два вида данных. Первые вписаны пользователем, вторые — получены автоматически на основе картографических данных. Например, расстояние до центра, аэропорта, ближайшего парка и водоёма."
   ]
  },
  {
   "cell_type": "markdown",
   "metadata": {},
   "source": [
    "## Описание данных\n",
    "- airports_nearest — расстояние до ближайшего аэропорта в метрах (м)\n",
    "- balcony — число балконов\n",
    "- ceiling_height — высота потолков (м)\n",
    "- cityCenters_nearest — расстояние до центра города (м)\n",
    "- days_exposition — сколько дней было размещено объявление (от публикации до снятия)\n",
    "- first_day_exposition — дата публикации\n",
    "- floor — этаж\n",
    "- floors_total — всего этажей в доме\n",
    "- is_apartment — апартаменты (булев тип)\n",
    "- kitchen_area — площадь кухни в квадратных метрах (м²)\n",
    "- last_price — цена на момент снятия с публикации\n",
    "- living_area — жилая площадь в квадратных метрах (м²)\n",
    "- locality_name — название населённого пункта\n",
    "- open_plan — свободная планировка (булев тип)\n",
    "- parks_around3000 — число парков в радиусе 3 км\n",
    "- parks_nearest — расстояние до ближайшего парка (м)\n",
    "- ponds_around3000 — число водоёмов в радиусе 3 км\n",
    "- ponds_nearest — расстояние до ближайшего водоёма (м)\n",
    "- rooms — число комнат\n",
    "- studio — квартира-студия (булев тип)\n",
    "- total_area — площадь квартиры в квадратных метрах (м²)\n",
    "- total_images — число фотографий квартиры в объявлении"
   ]
  },
  {
   "cell_type": "markdown",
   "metadata": {},
   "source": [
    "## Изучение данных из файла"
   ]
  },
  {
   "cell_type": "code",
   "execution_count": 1,
   "metadata": {},
   "outputs": [],
   "source": [
    "import pandas as pd\n",
    "import matplotlib.pyplot as plt\n",
    "import warnings\n",
    "\n",
    "warnings.filterwarnings('ignore')\n",
    "pd.set_option('display.float_format', '{:,.2f}'.format)"
   ]
  },
  {
   "cell_type": "code",
   "execution_count": 2,
   "metadata": {},
   "outputs": [
    {
     "data": {
      "text/html": [
       "<div>\n",
       "<style scoped>\n",
       "    .dataframe tbody tr th:only-of-type {\n",
       "        vertical-align: middle;\n",
       "    }\n",
       "\n",
       "    .dataframe tbody tr th {\n",
       "        vertical-align: top;\n",
       "    }\n",
       "\n",
       "    .dataframe thead th {\n",
       "        text-align: right;\n",
       "    }\n",
       "</style>\n",
       "<table border=\"1\" class=\"dataframe\">\n",
       "  <thead>\n",
       "    <tr style=\"text-align: right;\">\n",
       "      <th></th>\n",
       "      <th>total_images</th>\n",
       "      <th>last_price</th>\n",
       "      <th>total_area</th>\n",
       "      <th>first_day_exposition</th>\n",
       "      <th>rooms</th>\n",
       "      <th>ceiling_height</th>\n",
       "      <th>floors_total</th>\n",
       "      <th>living_area</th>\n",
       "      <th>floor</th>\n",
       "      <th>is_apartment</th>\n",
       "      <th>...</th>\n",
       "      <th>kitchen_area</th>\n",
       "      <th>balcony</th>\n",
       "      <th>locality_name</th>\n",
       "      <th>airports_nearest</th>\n",
       "      <th>cityCenters_nearest</th>\n",
       "      <th>parks_around3000</th>\n",
       "      <th>parks_nearest</th>\n",
       "      <th>ponds_around3000</th>\n",
       "      <th>ponds_nearest</th>\n",
       "      <th>days_exposition</th>\n",
       "    </tr>\n",
       "  </thead>\n",
       "  <tbody>\n",
       "    <tr>\n",
       "      <th>0</th>\n",
       "      <td>20</td>\n",
       "      <td>13,000,000.00</td>\n",
       "      <td>108.00</td>\n",
       "      <td>2019-03-07T00:00:00</td>\n",
       "      <td>3</td>\n",
       "      <td>2.70</td>\n",
       "      <td>16.00</td>\n",
       "      <td>51.00</td>\n",
       "      <td>8</td>\n",
       "      <td>NaN</td>\n",
       "      <td>...</td>\n",
       "      <td>25.00</td>\n",
       "      <td>NaN</td>\n",
       "      <td>Санкт-Петербург</td>\n",
       "      <td>18,863.00</td>\n",
       "      <td>16,028.00</td>\n",
       "      <td>1.00</td>\n",
       "      <td>482.00</td>\n",
       "      <td>2.00</td>\n",
       "      <td>755.00</td>\n",
       "      <td>NaN</td>\n",
       "    </tr>\n",
       "    <tr>\n",
       "      <th>1</th>\n",
       "      <td>7</td>\n",
       "      <td>3,350,000.00</td>\n",
       "      <td>40.40</td>\n",
       "      <td>2018-12-04T00:00:00</td>\n",
       "      <td>1</td>\n",
       "      <td>NaN</td>\n",
       "      <td>11.00</td>\n",
       "      <td>18.60</td>\n",
       "      <td>1</td>\n",
       "      <td>NaN</td>\n",
       "      <td>...</td>\n",
       "      <td>11.00</td>\n",
       "      <td>2.00</td>\n",
       "      <td>посёлок Шушары</td>\n",
       "      <td>12,817.00</td>\n",
       "      <td>18,603.00</td>\n",
       "      <td>0.00</td>\n",
       "      <td>NaN</td>\n",
       "      <td>0.00</td>\n",
       "      <td>NaN</td>\n",
       "      <td>81.00</td>\n",
       "    </tr>\n",
       "    <tr>\n",
       "      <th>2</th>\n",
       "      <td>10</td>\n",
       "      <td>5,196,000.00</td>\n",
       "      <td>56.00</td>\n",
       "      <td>2015-08-20T00:00:00</td>\n",
       "      <td>2</td>\n",
       "      <td>NaN</td>\n",
       "      <td>5.00</td>\n",
       "      <td>34.30</td>\n",
       "      <td>4</td>\n",
       "      <td>NaN</td>\n",
       "      <td>...</td>\n",
       "      <td>8.30</td>\n",
       "      <td>0.00</td>\n",
       "      <td>Санкт-Петербург</td>\n",
       "      <td>21,741.00</td>\n",
       "      <td>13,933.00</td>\n",
       "      <td>1.00</td>\n",
       "      <td>90.00</td>\n",
       "      <td>2.00</td>\n",
       "      <td>574.00</td>\n",
       "      <td>558.00</td>\n",
       "    </tr>\n",
       "    <tr>\n",
       "      <th>3</th>\n",
       "      <td>0</td>\n",
       "      <td>64,900,000.00</td>\n",
       "      <td>159.00</td>\n",
       "      <td>2015-07-24T00:00:00</td>\n",
       "      <td>3</td>\n",
       "      <td>NaN</td>\n",
       "      <td>14.00</td>\n",
       "      <td>NaN</td>\n",
       "      <td>9</td>\n",
       "      <td>NaN</td>\n",
       "      <td>...</td>\n",
       "      <td>NaN</td>\n",
       "      <td>0.00</td>\n",
       "      <td>Санкт-Петербург</td>\n",
       "      <td>28,098.00</td>\n",
       "      <td>6,800.00</td>\n",
       "      <td>2.00</td>\n",
       "      <td>84.00</td>\n",
       "      <td>3.00</td>\n",
       "      <td>234.00</td>\n",
       "      <td>424.00</td>\n",
       "    </tr>\n",
       "    <tr>\n",
       "      <th>4</th>\n",
       "      <td>2</td>\n",
       "      <td>10,000,000.00</td>\n",
       "      <td>100.00</td>\n",
       "      <td>2018-06-19T00:00:00</td>\n",
       "      <td>2</td>\n",
       "      <td>3.03</td>\n",
       "      <td>14.00</td>\n",
       "      <td>32.00</td>\n",
       "      <td>13</td>\n",
       "      <td>NaN</td>\n",
       "      <td>...</td>\n",
       "      <td>41.00</td>\n",
       "      <td>NaN</td>\n",
       "      <td>Санкт-Петербург</td>\n",
       "      <td>31,856.00</td>\n",
       "      <td>8,098.00</td>\n",
       "      <td>2.00</td>\n",
       "      <td>112.00</td>\n",
       "      <td>1.00</td>\n",
       "      <td>48.00</td>\n",
       "      <td>121.00</td>\n",
       "    </tr>\n",
       "  </tbody>\n",
       "</table>\n",
       "<p>5 rows × 22 columns</p>\n",
       "</div>"
      ],
      "text/plain": [
       "   total_images    last_price  total_area first_day_exposition  rooms  \\\n",
       "0            20 13,000,000.00      108.00  2019-03-07T00:00:00      3   \n",
       "1             7  3,350,000.00       40.40  2018-12-04T00:00:00      1   \n",
       "2            10  5,196,000.00       56.00  2015-08-20T00:00:00      2   \n",
       "3             0 64,900,000.00      159.00  2015-07-24T00:00:00      3   \n",
       "4             2 10,000,000.00      100.00  2018-06-19T00:00:00      2   \n",
       "\n",
       "   ceiling_height  floors_total  living_area  floor is_apartment  ...  \\\n",
       "0            2.70         16.00        51.00      8          NaN  ...   \n",
       "1             NaN         11.00        18.60      1          NaN  ...   \n",
       "2             NaN          5.00        34.30      4          NaN  ...   \n",
       "3             NaN         14.00          NaN      9          NaN  ...   \n",
       "4            3.03         14.00        32.00     13          NaN  ...   \n",
       "\n",
       "   kitchen_area  balcony    locality_name  airports_nearest  \\\n",
       "0         25.00      NaN  Санкт-Петербург         18,863.00   \n",
       "1         11.00     2.00   посёлок Шушары         12,817.00   \n",
       "2          8.30     0.00  Санкт-Петербург         21,741.00   \n",
       "3           NaN     0.00  Санкт-Петербург         28,098.00   \n",
       "4         41.00      NaN  Санкт-Петербург         31,856.00   \n",
       "\n",
       "  cityCenters_nearest  parks_around3000  parks_nearest  ponds_around3000  \\\n",
       "0           16,028.00              1.00         482.00              2.00   \n",
       "1           18,603.00              0.00            NaN              0.00   \n",
       "2           13,933.00              1.00          90.00              2.00   \n",
       "3            6,800.00              2.00          84.00              3.00   \n",
       "4            8,098.00              2.00         112.00              1.00   \n",
       "\n",
       "   ponds_nearest  days_exposition  \n",
       "0         755.00              NaN  \n",
       "1            NaN            81.00  \n",
       "2         574.00           558.00  \n",
       "3         234.00           424.00  \n",
       "4          48.00           121.00  \n",
       "\n",
       "[5 rows x 22 columns]"
      ]
     },
     "execution_count": 2,
     "metadata": {},
     "output_type": "execute_result"
    }
   ],
   "source": [
    "data = pd.read_csv('./real_estate_data.csv', sep='\\t')\n",
    "data.head()"
   ]
  },
  {
   "cell_type": "code",
   "execution_count": 3,
   "metadata": {},
   "outputs": [
    {
     "name": "stdout",
     "output_type": "stream",
     "text": [
      "<class 'pandas.core.frame.DataFrame'>\n",
      "RangeIndex: 23699 entries, 0 to 23698\n",
      "Data columns (total 22 columns):\n",
      " #   Column                Non-Null Count  Dtype  \n",
      "---  ------                --------------  -----  \n",
      " 0   total_images          23699 non-null  int64  \n",
      " 1   last_price            23699 non-null  float64\n",
      " 2   total_area            23699 non-null  float64\n",
      " 3   first_day_exposition  23699 non-null  object \n",
      " 4   rooms                 23699 non-null  int64  \n",
      " 5   ceiling_height        14504 non-null  float64\n",
      " 6   floors_total          23613 non-null  float64\n",
      " 7   living_area           21796 non-null  float64\n",
      " 8   floor                 23699 non-null  int64  \n",
      " 9   is_apartment          2775 non-null   object \n",
      " 10  studio                23699 non-null  bool   \n",
      " 11  open_plan             23699 non-null  bool   \n",
      " 12  kitchen_area          21421 non-null  float64\n",
      " 13  balcony               12180 non-null  float64\n",
      " 14  locality_name         23650 non-null  object \n",
      " 15  airports_nearest      18157 non-null  float64\n",
      " 16  cityCenters_nearest   18180 non-null  float64\n",
      " 17  parks_around3000      18181 non-null  float64\n",
      " 18  parks_nearest         8079 non-null   float64\n",
      " 19  ponds_around3000      18181 non-null  float64\n",
      " 20  ponds_nearest         9110 non-null   float64\n",
      " 21  days_exposition       20518 non-null  float64\n",
      "dtypes: bool(2), float64(14), int64(3), object(3)\n",
      "memory usage: 3.7+ MB\n"
     ]
    }
   ],
   "source": [
    "data.info()"
   ]
  },
  {
   "cell_type": "code",
   "execution_count": 4,
   "metadata": {},
   "outputs": [
    {
     "data": {
      "text/html": [
       "<div>\n",
       "<style scoped>\n",
       "    .dataframe tbody tr th:only-of-type {\n",
       "        vertical-align: middle;\n",
       "    }\n",
       "\n",
       "    .dataframe tbody tr th {\n",
       "        vertical-align: top;\n",
       "    }\n",
       "\n",
       "    .dataframe thead th {\n",
       "        text-align: right;\n",
       "    }\n",
       "</style>\n",
       "<table border=\"1\" class=\"dataframe\">\n",
       "  <thead>\n",
       "    <tr style=\"text-align: right;\">\n",
       "      <th></th>\n",
       "      <th>total_images</th>\n",
       "      <th>last_price</th>\n",
       "      <th>total_area</th>\n",
       "      <th>rooms</th>\n",
       "      <th>ceiling_height</th>\n",
       "      <th>floors_total</th>\n",
       "      <th>living_area</th>\n",
       "      <th>floor</th>\n",
       "      <th>kitchen_area</th>\n",
       "      <th>balcony</th>\n",
       "      <th>airports_nearest</th>\n",
       "      <th>cityCenters_nearest</th>\n",
       "      <th>parks_around3000</th>\n",
       "      <th>parks_nearest</th>\n",
       "      <th>ponds_around3000</th>\n",
       "      <th>ponds_nearest</th>\n",
       "      <th>days_exposition</th>\n",
       "    </tr>\n",
       "  </thead>\n",
       "  <tbody>\n",
       "    <tr>\n",
       "      <th>count</th>\n",
       "      <td>23,699.00</td>\n",
       "      <td>23,699.00</td>\n",
       "      <td>23,699.00</td>\n",
       "      <td>23,699.00</td>\n",
       "      <td>14,504.00</td>\n",
       "      <td>23,613.00</td>\n",
       "      <td>21,796.00</td>\n",
       "      <td>23,699.00</td>\n",
       "      <td>21,421.00</td>\n",
       "      <td>12,180.00</td>\n",
       "      <td>18,157.00</td>\n",
       "      <td>18,180.00</td>\n",
       "      <td>18,181.00</td>\n",
       "      <td>8,079.00</td>\n",
       "      <td>18,181.00</td>\n",
       "      <td>9,110.00</td>\n",
       "      <td>20,518.00</td>\n",
       "    </tr>\n",
       "    <tr>\n",
       "      <th>mean</th>\n",
       "      <td>9.86</td>\n",
       "      <td>6,541,548.77</td>\n",
       "      <td>60.35</td>\n",
       "      <td>2.07</td>\n",
       "      <td>2.77</td>\n",
       "      <td>10.67</td>\n",
       "      <td>34.46</td>\n",
       "      <td>5.89</td>\n",
       "      <td>10.57</td>\n",
       "      <td>1.15</td>\n",
       "      <td>28,793.67</td>\n",
       "      <td>14,191.28</td>\n",
       "      <td>0.61</td>\n",
       "      <td>490.80</td>\n",
       "      <td>0.77</td>\n",
       "      <td>517.98</td>\n",
       "      <td>180.89</td>\n",
       "    </tr>\n",
       "    <tr>\n",
       "      <th>std</th>\n",
       "      <td>5.68</td>\n",
       "      <td>10,887,013.27</td>\n",
       "      <td>35.65</td>\n",
       "      <td>1.08</td>\n",
       "      <td>1.26</td>\n",
       "      <td>6.60</td>\n",
       "      <td>22.03</td>\n",
       "      <td>4.89</td>\n",
       "      <td>5.91</td>\n",
       "      <td>1.07</td>\n",
       "      <td>12,630.88</td>\n",
       "      <td>8,608.39</td>\n",
       "      <td>0.80</td>\n",
       "      <td>342.32</td>\n",
       "      <td>0.94</td>\n",
       "      <td>277.72</td>\n",
       "      <td>219.73</td>\n",
       "    </tr>\n",
       "    <tr>\n",
       "      <th>min</th>\n",
       "      <td>0.00</td>\n",
       "      <td>12,190.00</td>\n",
       "      <td>12.00</td>\n",
       "      <td>0.00</td>\n",
       "      <td>1.00</td>\n",
       "      <td>1.00</td>\n",
       "      <td>2.00</td>\n",
       "      <td>1.00</td>\n",
       "      <td>1.30</td>\n",
       "      <td>0.00</td>\n",
       "      <td>0.00</td>\n",
       "      <td>181.00</td>\n",
       "      <td>0.00</td>\n",
       "      <td>1.00</td>\n",
       "      <td>0.00</td>\n",
       "      <td>13.00</td>\n",
       "      <td>1.00</td>\n",
       "    </tr>\n",
       "    <tr>\n",
       "      <th>25%</th>\n",
       "      <td>6.00</td>\n",
       "      <td>3,400,000.00</td>\n",
       "      <td>40.00</td>\n",
       "      <td>1.00</td>\n",
       "      <td>2.52</td>\n",
       "      <td>5.00</td>\n",
       "      <td>18.60</td>\n",
       "      <td>2.00</td>\n",
       "      <td>7.00</td>\n",
       "      <td>0.00</td>\n",
       "      <td>18,585.00</td>\n",
       "      <td>9,238.00</td>\n",
       "      <td>0.00</td>\n",
       "      <td>288.00</td>\n",
       "      <td>0.00</td>\n",
       "      <td>294.00</td>\n",
       "      <td>45.00</td>\n",
       "    </tr>\n",
       "    <tr>\n",
       "      <th>50%</th>\n",
       "      <td>9.00</td>\n",
       "      <td>4,650,000.00</td>\n",
       "      <td>52.00</td>\n",
       "      <td>2.00</td>\n",
       "      <td>2.65</td>\n",
       "      <td>9.00</td>\n",
       "      <td>30.00</td>\n",
       "      <td>4.00</td>\n",
       "      <td>9.10</td>\n",
       "      <td>1.00</td>\n",
       "      <td>26,726.00</td>\n",
       "      <td>13,098.50</td>\n",
       "      <td>0.00</td>\n",
       "      <td>455.00</td>\n",
       "      <td>1.00</td>\n",
       "      <td>502.00</td>\n",
       "      <td>95.00</td>\n",
       "    </tr>\n",
       "    <tr>\n",
       "      <th>75%</th>\n",
       "      <td>14.00</td>\n",
       "      <td>6,800,000.00</td>\n",
       "      <td>69.90</td>\n",
       "      <td>3.00</td>\n",
       "      <td>2.80</td>\n",
       "      <td>16.00</td>\n",
       "      <td>42.30</td>\n",
       "      <td>8.00</td>\n",
       "      <td>12.00</td>\n",
       "      <td>2.00</td>\n",
       "      <td>37,273.00</td>\n",
       "      <td>16,293.00</td>\n",
       "      <td>1.00</td>\n",
       "      <td>612.00</td>\n",
       "      <td>1.00</td>\n",
       "      <td>729.00</td>\n",
       "      <td>232.00</td>\n",
       "    </tr>\n",
       "    <tr>\n",
       "      <th>max</th>\n",
       "      <td>50.00</td>\n",
       "      <td>763,000,000.00</td>\n",
       "      <td>900.00</td>\n",
       "      <td>19.00</td>\n",
       "      <td>100.00</td>\n",
       "      <td>60.00</td>\n",
       "      <td>409.70</td>\n",
       "      <td>33.00</td>\n",
       "      <td>112.00</td>\n",
       "      <td>5.00</td>\n",
       "      <td>84,869.00</td>\n",
       "      <td>65,968.00</td>\n",
       "      <td>3.00</td>\n",
       "      <td>3,190.00</td>\n",
       "      <td>3.00</td>\n",
       "      <td>1,344.00</td>\n",
       "      <td>1,580.00</td>\n",
       "    </tr>\n",
       "  </tbody>\n",
       "</table>\n",
       "</div>"
      ],
      "text/plain": [
       "       total_images     last_price  total_area     rooms  ceiling_height  \\\n",
       "count     23,699.00      23,699.00   23,699.00 23,699.00       14,504.00   \n",
       "mean           9.86   6,541,548.77       60.35      2.07            2.77   \n",
       "std            5.68  10,887,013.27       35.65      1.08            1.26   \n",
       "min            0.00      12,190.00       12.00      0.00            1.00   \n",
       "25%            6.00   3,400,000.00       40.00      1.00            2.52   \n",
       "50%            9.00   4,650,000.00       52.00      2.00            2.65   \n",
       "75%           14.00   6,800,000.00       69.90      3.00            2.80   \n",
       "max           50.00 763,000,000.00      900.00     19.00          100.00   \n",
       "\n",
       "       floors_total  living_area     floor  kitchen_area   balcony  \\\n",
       "count     23,613.00    21,796.00 23,699.00     21,421.00 12,180.00   \n",
       "mean          10.67        34.46      5.89         10.57      1.15   \n",
       "std            6.60        22.03      4.89          5.91      1.07   \n",
       "min            1.00         2.00      1.00          1.30      0.00   \n",
       "25%            5.00        18.60      2.00          7.00      0.00   \n",
       "50%            9.00        30.00      4.00          9.10      1.00   \n",
       "75%           16.00        42.30      8.00         12.00      2.00   \n",
       "max           60.00       409.70     33.00        112.00      5.00   \n",
       "\n",
       "       airports_nearest  cityCenters_nearest  parks_around3000  parks_nearest  \\\n",
       "count         18,157.00            18,180.00         18,181.00       8,079.00   \n",
       "mean          28,793.67            14,191.28              0.61         490.80   \n",
       "std           12,630.88             8,608.39              0.80         342.32   \n",
       "min                0.00               181.00              0.00           1.00   \n",
       "25%           18,585.00             9,238.00              0.00         288.00   \n",
       "50%           26,726.00            13,098.50              0.00         455.00   \n",
       "75%           37,273.00            16,293.00              1.00         612.00   \n",
       "max           84,869.00            65,968.00              3.00       3,190.00   \n",
       "\n",
       "       ponds_around3000  ponds_nearest  days_exposition  \n",
       "count         18,181.00       9,110.00        20,518.00  \n",
       "mean               0.77         517.98           180.89  \n",
       "std                0.94         277.72           219.73  \n",
       "min                0.00          13.00             1.00  \n",
       "25%                0.00         294.00            45.00  \n",
       "50%                1.00         502.00            95.00  \n",
       "75%                1.00         729.00           232.00  \n",
       "max                3.00       1,344.00         1,580.00  "
      ]
     },
     "execution_count": 4,
     "metadata": {},
     "output_type": "execute_result"
    }
   ],
   "source": [
    "data.describe()"
   ]
  },
  {
   "cell_type": "markdown",
   "metadata": {},
   "source": [
    "Всего 23699 строк и 22 колонок. Бросается в глаза большое количество пропусков. "
   ]
  },
  {
   "cell_type": "markdown",
   "metadata": {},
   "source": [
    "## Предобработка данных"
   ]
  },
  {
   "cell_type": "markdown",
   "metadata": {},
   "source": [
    "### Посмотрим нет ли скрытых пробелов или других ошибок в именовании колонок"
   ]
  },
  {
   "cell_type": "code",
   "execution_count": 5,
   "metadata": {},
   "outputs": [
    {
     "data": {
      "text/plain": [
       "Index(['total_images', 'last_price', 'total_area', 'first_day_exposition',\n",
       "       'rooms', 'ceiling_height', 'floors_total', 'living_area', 'floor',\n",
       "       'is_apartment', 'studio', 'open_plan', 'kitchen_area', 'balcony',\n",
       "       'locality_name', 'airports_nearest', 'cityCenters_nearest',\n",
       "       'parks_around3000', 'parks_nearest', 'ponds_around3000',\n",
       "       'ponds_nearest', 'days_exposition'],\n",
       "      dtype='object')"
      ]
     },
     "execution_count": 5,
     "metadata": {},
     "output_type": "execute_result"
    }
   ],
   "source": [
    "data.columns"
   ]
  },
  {
   "cell_type": "markdown",
   "metadata": {},
   "source": [
    "В имени колонки cityCenters_nearest использована верблюжья нотация. Переименуем в соответствии со змеиной нотацией:"
   ]
  },
  {
   "cell_type": "code",
   "execution_count": 6,
   "metadata": {},
   "outputs": [],
   "source": [
    "data = data.rename(columns={'cityCenters_nearest': 'city_centers_nearest'})"
   ]
  },
  {
   "cell_type": "markdown",
   "metadata": {},
   "source": [
    "Остальные колонки именованы правильно, нарушений не выявлено."
   ]
  },
  {
   "cell_type": "markdown",
   "metadata": {},
   "source": [
    "### Оценка пропущенных значений"
   ]
  },
  {
   "cell_type": "markdown",
   "metadata": {},
   "source": [
    "#### Посмотрим распределение пропущенных значений по колонкам"
   ]
  },
  {
   "cell_type": "code",
   "execution_count": 7,
   "metadata": {},
   "outputs": [
    {
     "data": {
      "text/plain": [
       "total_images           0.00\n",
       "last_price             0.00\n",
       "total_area             0.00\n",
       "first_day_exposition   0.00\n",
       "rooms                  0.00\n",
       "ceiling_height         0.39\n",
       "floors_total           0.00\n",
       "living_area            0.08\n",
       "floor                  0.00\n",
       "is_apartment           0.88\n",
       "studio                 0.00\n",
       "open_plan              0.00\n",
       "kitchen_area           0.10\n",
       "balcony                0.49\n",
       "locality_name          0.00\n",
       "airports_nearest       0.23\n",
       "city_centers_nearest   0.23\n",
       "parks_around3000       0.23\n",
       "parks_nearest          0.66\n",
       "ponds_around3000       0.23\n",
       "ponds_nearest          0.62\n",
       "days_exposition        0.13\n",
       "dtype: float64"
      ]
     },
     "execution_count": 7,
     "metadata": {},
     "output_type": "execute_result"
    }
   ],
   "source": [
    "data.isna().mean()"
   ]
  },
  {
   "cell_type": "markdown",
   "metadata": {},
   "source": [
    "#### Найдем общее количество пропусков, а также процент строк в которых присутствует хотя бы один пропуск."
   ]
  },
  {
   "cell_type": "code",
   "execution_count": 8,
   "metadata": {},
   "outputs": [
    {
     "data": {
      "text/plain": [
       "101441"
      ]
     },
     "execution_count": 8,
     "metadata": {},
     "output_type": "execute_result"
    }
   ],
   "source": [
    "# общее количество пропусков\n",
    "data.isna().sum().sum()"
   ]
  },
  {
   "cell_type": "code",
   "execution_count": 9,
   "metadata": {},
   "outputs": [
    {
     "data": {
      "text/plain": [
       "23449"
      ]
     },
     "execution_count": 9,
     "metadata": {},
     "output_type": "execute_result"
    }
   ],
   "source": [
    "# количество строк с пропусками\n",
    "nan_rows_number = data.isna().any(axis=1).sum()\n",
    "nan_rows_number"
   ]
  },
  {
   "cell_type": "code",
   "execution_count": 10,
   "metadata": {},
   "outputs": [
    {
     "data": {
      "text/plain": [
       "98.94510316891008"
      ]
     },
     "execution_count": 10,
     "metadata": {},
     "output_type": "execute_result"
    }
   ],
   "source": [
    "# Посмотрим процент строк с пропусками\n",
    "(nan_rows_number / len(data)) * 100"
   ]
  },
  {
   "cell_type": "markdown",
   "metadata": {},
   "source": [
    "Всего пропусков данных 101441 в 14 колонках (из 22) и 23449 строках, т.е. почти в 99% строк присутствуют пропуски."
   ]
  },
  {
   "cell_type": "markdown",
   "metadata": {},
   "source": [
    "### Заполнение пропусков"
   ]
  },
  {
   "cell_type": "markdown",
   "metadata": {},
   "source": [
    "#### заполним пропуски в колонке balcony\n",
    "\n",
    "В колонке balcony пропущенные значения можно заменить на 0 т.к. в данном случае, отсутсвующее значение может означать, что балкона просто нет."
   ]
  },
  {
   "cell_type": "code",
   "execution_count": 11,
   "metadata": {},
   "outputs": [],
   "source": [
    "data['balcony'] = data['balcony'].fillna(0)"
   ]
  },
  {
   "cell_type": "code",
   "execution_count": 12,
   "metadata": {},
   "outputs": [
    {
     "data": {
      "text/plain": [
       "total_images                0\n",
       "last_price                  0\n",
       "total_area                  0\n",
       "first_day_exposition        0\n",
       "rooms                       0\n",
       "ceiling_height           9195\n",
       "floors_total               86\n",
       "living_area              1903\n",
       "floor                       0\n",
       "is_apartment            20924\n",
       "studio                      0\n",
       "open_plan                   0\n",
       "kitchen_area             2278\n",
       "balcony                     0\n",
       "locality_name              49\n",
       "airports_nearest         5542\n",
       "city_centers_nearest     5519\n",
       "parks_around3000         5518\n",
       "parks_nearest           15620\n",
       "ponds_around3000         5518\n",
       "ponds_nearest           14589\n",
       "days_exposition          3181\n",
       "dtype: int64"
      ]
     },
     "execution_count": 12,
     "metadata": {},
     "output_type": "execute_result"
    }
   ],
   "source": [
    "data.isna().sum()"
   ]
  },
  {
   "cell_type": "markdown",
   "metadata": {},
   "source": [
    "#### заполним пропуски в колонке is_apartment\n",
    "\n",
    "Самое большое количество пропусков в колонке is_apartment, возможно пропуск означает, что человек просто не указал данный признак подразумевая, что по умолчанию статус объекта - квартира. Несмотря на то, что в данной колонке слишком много пропусков и эту колонку можно было бы просто удалить, статус апартаментов сильно влияет на цену недвижимости, поэтому можно взять среднюю цену для недвижимости со статусом апартаментов и сравнить это среднее со средним значением (или медианное) после заполнения пропусков значением True, если среднее не сильно изменится - тогда оставим зполнение, иначе удалим колонку."
   ]
  },
  {
   "cell_type": "markdown",
   "metadata": {},
   "source": [
    "Для начала построим гистограмму цен:"
   ]
  },
  {
   "cell_type": "code",
   "execution_count": 13,
   "metadata": {
    "scrolled": true
   },
   "outputs": [
    {
     "data": {
      "image/png": "[encoded data removed]",
      "text/plain": [
       "<Figure size 432x288 with 1 Axes>"
      ]
     },
     "metadata": {
      "needs_background": "light"
     },
     "output_type": "display_data"
    }
   ],
   "source": [
    "data.plot(kind='hist', y='last_price', ylabel='m', title='last_price frequency')\n",
    "plt.xlabel('price ₽')\n",
    "plt.show()"
   ]
  },
  {
   "cell_type": "markdown",
   "metadata": {},
   "source": [
    "На гистограмме видно, что хвост распределения цен уходит вправо до 800 000 000. Масштабируем гистограмму от 0 до 20 000 000:"
   ]
  },
  {
   "cell_type": "code",
   "execution_count": 14,
   "metadata": {},
   "outputs": [
    {
     "data": {
      "image/png": "[encoded data removed]",
      "text/plain": [
       "<Figure size 432x288 with 1 Axes>"
      ]
     },
     "metadata": {
      "needs_background": "light"
     },
     "output_type": "display_data"
    }
   ],
   "source": [
    "data.plot(kind='hist', y='last_price' , range=(0, 20000000), title='last_price from 0 to 20 000 000')\n",
    "plt.xlabel('price ₽')\n",
    "plt.show()"
   ]
  },
  {
   "cell_type": "markdown",
   "metadata": {},
   "source": [
    "Несмотря на большие выбросы, медиана выглядит близкой к реальным значениям цены."
   ]
  },
  {
   "cell_type": "markdown",
   "metadata": {},
   "source": [
    "Теперь заполним пропуски значением False и посмотрим как изменится медиана"
   ]
  },
  {
   "cell_type": "code",
   "execution_count": 15,
   "metadata": {},
   "outputs": [
    {
     "data": {
      "text/html": [
       "<div>\n",
       "<style scoped>\n",
       "    .dataframe tbody tr th:only-of-type {\n",
       "        vertical-align: middle;\n",
       "    }\n",
       "\n",
       "    .dataframe tbody tr th {\n",
       "        vertical-align: top;\n",
       "    }\n",
       "\n",
       "    .dataframe thead tr th {\n",
       "        text-align: left;\n",
       "    }\n",
       "\n",
       "    .dataframe thead tr:last-of-type th {\n",
       "        text-align: right;\n",
       "    }\n",
       "</style>\n",
       "<table border=\"1\" class=\"dataframe\">\n",
       "  <thead>\n",
       "    <tr>\n",
       "      <th></th>\n",
       "      <th colspan=\"2\" halign=\"left\">last_price</th>\n",
       "    </tr>\n",
       "    <tr>\n",
       "      <th></th>\n",
       "      <th>median</th>\n",
       "      <th>count</th>\n",
       "    </tr>\n",
       "    <tr>\n",
       "      <th>is_apartment</th>\n",
       "      <th></th>\n",
       "      <th></th>\n",
       "    </tr>\n",
       "  </thead>\n",
       "  <tbody>\n",
       "    <tr>\n",
       "      <th>False</th>\n",
       "      <td>4,700,000.00</td>\n",
       "      <td>2725</td>\n",
       "    </tr>\n",
       "    <tr>\n",
       "      <th>True</th>\n",
       "      <td>6,900,000.00</td>\n",
       "      <td>50</td>\n",
       "    </tr>\n",
       "  </tbody>\n",
       "</table>\n",
       "</div>"
      ],
      "text/plain": [
       "               last_price      \n",
       "                   median count\n",
       "is_apartment                   \n",
       "False        4,700,000.00  2725\n",
       "True         6,900,000.00    50"
      ]
     },
     "execution_count": 15,
     "metadata": {},
     "output_type": "execute_result"
    }
   ],
   "source": [
    "(data.groupby('is_apartment')\n",
    "    .agg({'last_price': ['median', 'count']}))"
   ]
  },
  {
   "cell_type": "markdown",
   "metadata": {},
   "source": [
    "Значения медианы цены до заполнения пропусков"
   ]
  },
  {
   "cell_type": "code",
   "execution_count": 16,
   "metadata": {},
   "outputs": [
    {
     "data": {
      "text/html": [
       "<div>\n",
       "<style scoped>\n",
       "    .dataframe tbody tr th:only-of-type {\n",
       "        vertical-align: middle;\n",
       "    }\n",
       "\n",
       "    .dataframe tbody tr th {\n",
       "        vertical-align: top;\n",
       "    }\n",
       "\n",
       "    .dataframe thead tr th {\n",
       "        text-align: left;\n",
       "    }\n",
       "\n",
       "    .dataframe thead tr:last-of-type th {\n",
       "        text-align: right;\n",
       "    }\n",
       "</style>\n",
       "<table border=\"1\" class=\"dataframe\">\n",
       "  <thead>\n",
       "    <tr>\n",
       "      <th></th>\n",
       "      <th colspan=\"2\" halign=\"left\">last_price</th>\n",
       "    </tr>\n",
       "    <tr>\n",
       "      <th></th>\n",
       "      <th>median</th>\n",
       "      <th>count</th>\n",
       "    </tr>\n",
       "    <tr>\n",
       "      <th>is_apartment</th>\n",
       "      <th></th>\n",
       "      <th></th>\n",
       "    </tr>\n",
       "  </thead>\n",
       "  <tbody>\n",
       "    <tr>\n",
       "      <th>False</th>\n",
       "      <td>4,644,000.00</td>\n",
       "      <td>23649</td>\n",
       "    </tr>\n",
       "    <tr>\n",
       "      <th>True</th>\n",
       "      <td>6,900,000.00</td>\n",
       "      <td>50</td>\n",
       "    </tr>\n",
       "  </tbody>\n",
       "</table>\n",
       "</div>"
      ],
      "text/plain": [
       "               last_price       \n",
       "                   median  count\n",
       "is_apartment                    \n",
       "False        4,644,000.00  23649\n",
       "True         6,900,000.00     50"
      ]
     },
     "execution_count": 16,
     "metadata": {},
     "output_type": "execute_result"
    }
   ],
   "source": [
    "test_df = data.copy()[['is_apartment', 'last_price']]\n",
    "test_df['is_apartment'] = test_df['is_apartment'].fillna(False)\n",
    "(test_df.groupby('is_apartment')\n",
    "    .agg({'last_price': ['median', 'count']}))"
   ]
  },
  {
   "cell_type": "markdown",
   "metadata": {},
   "source": [
    "Медиана после заполнения пропусков почти не изменилась, значит скорее всего пропуски означали is_apartment = False. Заполним пропуски:"
   ]
  },
  {
   "cell_type": "code",
   "execution_count": 17,
   "metadata": {},
   "outputs": [],
   "source": [
    "data['is_apartment'] = data['is_apartment'].fillna(False)"
   ]
  },
  {
   "cell_type": "code",
   "execution_count": 18,
   "metadata": {},
   "outputs": [
    {
     "data": {
      "text/plain": [
       "total_images                0\n",
       "last_price                  0\n",
       "total_area                  0\n",
       "first_day_exposition        0\n",
       "rooms                       0\n",
       "ceiling_height           9195\n",
       "floors_total               86\n",
       "living_area              1903\n",
       "floor                       0\n",
       "is_apartment                0\n",
       "studio                      0\n",
       "open_plan                   0\n",
       "kitchen_area             2278\n",
       "balcony                     0\n",
       "locality_name              49\n",
       "airports_nearest         5542\n",
       "city_centers_nearest     5519\n",
       "parks_around3000         5518\n",
       "parks_nearest           15620\n",
       "ponds_around3000         5518\n",
       "ponds_nearest           14589\n",
       "days_exposition          3181\n",
       "dtype: int64"
      ]
     },
     "execution_count": 18,
     "metadata": {},
     "output_type": "execute_result"
    }
   ],
   "source": [
    "data.isna().sum()"
   ]
  },
  {
   "cell_type": "markdown",
   "metadata": {},
   "source": [
    "#### Оценка пропусков в колонке ceiling_height"
   ]
  },
  {
   "cell_type": "markdown",
   "metadata": {},
   "source": [
    "Много пропусков в колонке ceiling_height, если данная колонка сильно коррелирует с ценой, то есть смысл заполнить пропуски сгруппировав таблицу по цене (предварительно проведя категоризацию по цене). Для этого посмотрим зависимость высоты потолков от цены:"
   ]
  },
  {
   "cell_type": "code",
   "execution_count": 19,
   "metadata": {},
   "outputs": [
    {
     "data": {
      "text/plain": [
       "count   14,504.00\n",
       "mean         2.77\n",
       "std          1.26\n",
       "min          1.00\n",
       "25%          2.52\n",
       "50%          2.65\n",
       "75%          2.80\n",
       "max        100.00\n",
       "Name: ceiling_height, dtype: float64"
      ]
     },
     "execution_count": 19,
     "metadata": {},
     "output_type": "execute_result"
    }
   ],
   "source": [
    "data['ceiling_height'].describe()"
   ]
  },
  {
   "cell_type": "code",
   "execution_count": 20,
   "metadata": {},
   "outputs": [
    {
     "data": {
      "image/png": "[encoded data removed]",
      "text/plain": [
       "<Figure size 432x288 with 1 Axes>"
      ]
     },
     "metadata": {
      "needs_background": "light"
     },
     "output_type": "display_data"
    }
   ],
   "source": [
    "data.plot(kind='scatter', x='last_price', y='ceiling_height', title='price to ceiling height dependence')\n",
    "plt.xlabel('price ₽')\n",
    "plt.ylabel('ceiling height (m)')\n",
    "plt.show()"
   ]
  },
  {
   "cell_type": "markdown",
   "metadata": {},
   "source": [
    "На графике видны сильные выбросы - явно неадэкватные значения высоты потолков (вплоть до 100м), обрежем часть данных по высоте потолков до 10м и цене до 20 000 000:"
   ]
  },
  {
   "cell_type": "code",
   "execution_count": 21,
   "metadata": {},
   "outputs": [
    {
     "data": {
      "image/png": "[encoded data removed]",
      "text/plain": [
       "<Figure size 432x288 with 1 Axes>"
      ]
     },
     "metadata": {
      "needs_background": "light"
     },
     "output_type": "display_data"
    }
   ],
   "source": [
    "(\n",
    "    data[\n",
    "        (data['ceiling_height'] < 10) & \n",
    "        (data['last_price'] < 2000000)]\n",
    "     .plot(\n",
    "         kind='scatter', \n",
    "         x='last_price', \n",
    "         y='ceiling_height', \n",
    "         title='price to ceiling height dependence'\n",
    "     )\n",
    ")\n",
    "plt.xlabel('price ₽')\n",
    "plt.ylabel('ceiling height (m)')\n",
    "plt.show()"
   ]
  },
  {
   "cell_type": "markdown",
   "metadata": {},
   "source": [
    "Большинство значений выстроилось в линию на значении 2.5м высоты потолка, что означает отсутствие зависимости между ценой и высотой потолков. Поэтому можно заполнить пропуски медианным значением высоты."
   ]
  },
  {
   "cell_type": "code",
   "execution_count": 22,
   "metadata": {},
   "outputs": [],
   "source": [
    "data['ceiling_height'] = (data['ceiling_height']\n",
    "                            .fillna(data['ceiling_height']\n",
    "                            .median()))"
   ]
  },
  {
   "cell_type": "code",
   "execution_count": 23,
   "metadata": {},
   "outputs": [
    {
     "data": {
      "text/plain": [
       "total_images                0\n",
       "last_price                  0\n",
       "total_area                  0\n",
       "first_day_exposition        0\n",
       "rooms                       0\n",
       "ceiling_height              0\n",
       "floors_total               86\n",
       "living_area              1903\n",
       "floor                       0\n",
       "is_apartment                0\n",
       "studio                      0\n",
       "open_plan                   0\n",
       "kitchen_area             2278\n",
       "balcony                     0\n",
       "locality_name              49\n",
       "airports_nearest         5542\n",
       "city_centers_nearest     5519\n",
       "parks_around3000         5518\n",
       "parks_nearest           15620\n",
       "ponds_around3000         5518\n",
       "ponds_nearest           14589\n",
       "days_exposition          3181\n",
       "dtype: int64"
      ]
     },
     "execution_count": 23,
     "metadata": {},
     "output_type": "execute_result"
    }
   ],
   "source": [
    "data.isna().sum()"
   ]
  },
  {
   "cell_type": "markdown",
   "metadata": {},
   "source": [
    "Много пропусков еще осталось в колонках с расстояниями parks_nearest и ponds_nearest и т.к. в них большинство значений это пропуски - есть сомнения, что получится заполнить их адекватными значениями, поэтому оставим как есть."
   ]
  },
  {
   "cell_type": "markdown",
   "metadata": {},
   "source": [
    "Пропуски могли образоваться из-за того, что форма для подачи объявления имеет необязательные поля для заполнения и пользователи эти поля игнорируют"
   ]
  },
  {
   "cell_type": "markdown",
   "metadata": {},
   "source": [
    "#### Оценим долю пропусков в колонке floors_total:"
   ]
  },
  {
   "cell_type": "code",
   "execution_count": 24,
   "metadata": {},
   "outputs": [
    {
     "data": {
      "text/plain": [
       "0.0036288450989493226"
      ]
     },
     "execution_count": 24,
     "metadata": {},
     "output_type": "execute_result"
    }
   ],
   "source": [
    "data['floors_total'].isna().mean()"
   ]
  },
  {
   "cell_type": "markdown",
   "metadata": {},
   "source": [
    "Доля пропусков очень маленькая, поэтому можно их удалить:"
   ]
  },
  {
   "cell_type": "code",
   "execution_count": 25,
   "metadata": {},
   "outputs": [],
   "source": [
    "data = data.dropna(subset=['floors_total'])"
   ]
  },
  {
   "cell_type": "markdown",
   "metadata": {},
   "source": [
    "#### Оценим пропуски в колонках living_area, kitchen_area"
   ]
  },
  {
   "cell_type": "markdown",
   "metadata": {},
   "source": [
    "Так как living_area и kitchen_area сильно связаны с общей площадью, а общая площадь в свою очередь связана с количеством комнат, то можно заполнить пропуски в этих колонках медианными значениями сгруппированных по параметру количества комнат:"
   ]
  },
  {
   "cell_type": "code",
   "execution_count": 26,
   "metadata": {},
   "outputs": [],
   "source": [
    "medians = (data.groupby('rooms')\n",
    "           .agg({'living_area': 'median', 'kitchen_area': 'median'})\n",
    "           .rename(columns={'living_area': 'median_living_area', 'kitchen_area': 'median_kitchen_area'}))\n",
    "\n",
    "data = data.merge(medians, on=['rooms'])\n",
    "data.loc[data['living_area'].isna(), 'living_area'] = data.loc[data['living_area'].isna(), 'median_living_area']\n",
    "data.loc[data['kitchen_area'].isna(), 'kitchen_area'] = data.loc[data['kitchen_area'].isna(), 'median_kitchen_area']"
   ]
  },
  {
   "cell_type": "code",
   "execution_count": 27,
   "metadata": {},
   "outputs": [
    {
     "data": {
      "text/plain": [
       "total_images                0\n",
       "last_price                  0\n",
       "total_area                  0\n",
       "first_day_exposition        0\n",
       "rooms                       0\n",
       "ceiling_height              0\n",
       "floors_total                0\n",
       "living_area                 0\n",
       "floor                       0\n",
       "is_apartment                0\n",
       "studio                      0\n",
       "open_plan                   0\n",
       "kitchen_area              194\n",
       "balcony                     0\n",
       "locality_name              48\n",
       "airports_nearest         5532\n",
       "city_centers_nearest     5509\n",
       "parks_around3000         5508\n",
       "parks_nearest           15568\n",
       "ponds_around3000         5508\n",
       "ponds_nearest           14552\n",
       "days_exposition          3172\n",
       "median_living_area          0\n",
       "median_kitchen_area       194\n",
       "dtype: int64"
      ]
     },
     "execution_count": 27,
     "metadata": {},
     "output_type": "execute_result"
    }
   ],
   "source": [
    "data.isna().sum()"
   ]
  },
  {
   "cell_type": "markdown",
   "metadata": {},
   "source": [
    "Пропуски в kitchen_area остались из-за того, что в строках, где значение количества комнат = 0, kitchen_area = NaN. Но т.к. пропусков мало, их можно удалить:"
   ]
  },
  {
   "cell_type": "code",
   "execution_count": 28,
   "metadata": {},
   "outputs": [],
   "source": [
    "data = data.dropna(subset=['kitchen_area'])"
   ]
  },
  {
   "cell_type": "code",
   "execution_count": 29,
   "metadata": {},
   "outputs": [
    {
     "data": {
      "text/plain": [
       "total_images                0\n",
       "last_price                  0\n",
       "total_area                  0\n",
       "first_day_exposition        0\n",
       "rooms                       0\n",
       "ceiling_height              0\n",
       "floors_total                0\n",
       "living_area                 0\n",
       "floor                       0\n",
       "is_apartment                0\n",
       "studio                      0\n",
       "open_plan                   0\n",
       "kitchen_area                0\n",
       "balcony                     0\n",
       "locality_name              48\n",
       "airports_nearest         5455\n",
       "city_centers_nearest     5432\n",
       "parks_around3000         5431\n",
       "parks_nearest           15402\n",
       "ponds_around3000         5431\n",
       "ponds_nearest           14426\n",
       "days_exposition          3158\n",
       "median_living_area          0\n",
       "median_kitchen_area         0\n",
       "dtype: int64"
      ]
     },
     "execution_count": 29,
     "metadata": {},
     "output_type": "execute_result"
    }
   ],
   "source": [
    "data.isna().sum()"
   ]
  },
  {
   "cell_type": "markdown",
   "metadata": {},
   "source": [
    "### Приведение типов"
   ]
  },
  {
   "cell_type": "markdown",
   "metadata": {},
   "source": [
    "#### Оценим типы данных по колонкам:"
   ]
  },
  {
   "cell_type": "code",
   "execution_count": 30,
   "metadata": {},
   "outputs": [
    {
     "name": "stdout",
     "output_type": "stream",
     "text": [
      "<class 'pandas.core.frame.DataFrame'>\n",
      "Int64Index: 23419 entries, 0 to 23612\n",
      "Data columns (total 24 columns):\n",
      " #   Column                Non-Null Count  Dtype  \n",
      "---  ------                --------------  -----  \n",
      " 0   total_images          23419 non-null  int64  \n",
      " 1   last_price            23419 non-null  float64\n",
      " 2   total_area            23419 non-null  float64\n",
      " 3   first_day_exposition  23419 non-null  object \n",
      " 4   rooms                 23419 non-null  int64  \n",
      " 5   ceiling_height        23419 non-null  float64\n",
      " 6   floors_total          23419 non-null  float64\n",
      " 7   living_area           23419 non-null  float64\n",
      " 8   floor                 23419 non-null  int64  \n",
      " 9   is_apartment          23419 non-null  bool   \n",
      " 10  studio                23419 non-null  bool   \n",
      " 11  open_plan             23419 non-null  bool   \n",
      " 12  kitchen_area          23419 non-null  float64\n",
      " 13  balcony               23419 non-null  float64\n",
      " 14  locality_name         23371 non-null  object \n",
      " 15  airports_nearest      17964 non-null  float64\n",
      " 16  city_centers_nearest  17987 non-null  float64\n",
      " 17  parks_around3000      17988 non-null  float64\n",
      " 18  parks_nearest         8017 non-null   float64\n",
      " 19  ponds_around3000      17988 non-null  float64\n",
      " 20  ponds_nearest         8993 non-null   float64\n",
      " 21  days_exposition       20261 non-null  float64\n",
      " 22  median_living_area    23419 non-null  float64\n",
      " 23  median_kitchen_area   23419 non-null  float64\n",
      "dtypes: bool(3), float64(16), int64(3), object(2)\n",
      "memory usage: 4.0+ MB\n"
     ]
    }
   ],
   "source": [
    "data.info()"
   ]
  },
  {
   "cell_type": "markdown",
   "metadata": {},
   "source": [
    "first_day_exposition содержит значения дат, но имеет тип object"
   ]
  },
  {
   "cell_type": "code",
   "execution_count": 31,
   "metadata": {},
   "outputs": [
    {
     "data": {
      "text/plain": [
       "0    2019-03-07T00:00:00\n",
       "1    2015-07-24T00:00:00\n",
       "2    2017-02-26T00:00:00\n",
       "3    2017-11-23T00:00:00\n",
       "4    2019-01-09T00:00:00\n",
       "Name: first_day_exposition, dtype: object"
      ]
     },
     "execution_count": 31,
     "metadata": {},
     "output_type": "execute_result"
    }
   ],
   "source": [
    "data['first_day_exposition'].head()"
   ]
  },
  {
   "cell_type": "markdown",
   "metadata": {},
   "source": [
    "#### приведем first_day_exposition к типу datetime и отформатируем в более красивый формат:"
   ]
  },
  {
   "cell_type": "code",
   "execution_count": 32,
   "metadata": {},
   "outputs": [],
   "source": [
    "data['first_day_exposition'] = (\n",
    "    pd.to_datetime(data['first_day_exposition'],\n",
    "                   format='%Y-%m-%dT%H:%M:%S')\n",
    ")"
   ]
  },
  {
   "cell_type": "code",
   "execution_count": 33,
   "metadata": {},
   "outputs": [
    {
     "data": {
      "text/plain": [
       "0   2019-03-07\n",
       "1   2015-07-24\n",
       "2   2017-02-26\n",
       "3   2017-11-23\n",
       "4   2019-01-09\n",
       "Name: first_day_exposition, dtype: datetime64[ns]"
      ]
     },
     "execution_count": 33,
     "metadata": {},
     "output_type": "execute_result"
    }
   ],
   "source": [
    "data['first_day_exposition'].head()"
   ]
  },
  {
   "cell_type": "markdown",
   "metadata": {},
   "source": [
    "#### Поменяем тип данных с float64 на int64 в колонке balcony , что правильней с точки зрения смысла т.к. количество балконов это всегда целое число:"
   ]
  },
  {
   "cell_type": "code",
   "execution_count": 34,
   "metadata": {},
   "outputs": [],
   "source": [
    "data['balcony'] = data['balcony'].astype(int)"
   ]
  },
  {
   "cell_type": "code",
   "execution_count": 35,
   "metadata": {},
   "outputs": [
    {
     "name": "stdout",
     "output_type": "stream",
     "text": [
      "<class 'pandas.core.frame.DataFrame'>\n",
      "Int64Index: 23419 entries, 0 to 23612\n",
      "Data columns (total 24 columns):\n",
      " #   Column                Non-Null Count  Dtype         \n",
      "---  ------                --------------  -----         \n",
      " 0   total_images          23419 non-null  int64         \n",
      " 1   last_price            23419 non-null  float64       \n",
      " 2   total_area            23419 non-null  float64       \n",
      " 3   first_day_exposition  23419 non-null  datetime64[ns]\n",
      " 4   rooms                 23419 non-null  int64         \n",
      " 5   ceiling_height        23419 non-null  float64       \n",
      " 6   floors_total          23419 non-null  float64       \n",
      " 7   living_area           23419 non-null  float64       \n",
      " 8   floor                 23419 non-null  int64         \n",
      " 9   is_apartment          23419 non-null  bool          \n",
      " 10  studio                23419 non-null  bool          \n",
      " 11  open_plan             23419 non-null  bool          \n",
      " 12  kitchen_area          23419 non-null  float64       \n",
      " 13  balcony               23419 non-null  int64         \n",
      " 14  locality_name         23371 non-null  object        \n",
      " 15  airports_nearest      17964 non-null  float64       \n",
      " 16  city_centers_nearest  17987 non-null  float64       \n",
      " 17  parks_around3000      17988 non-null  float64       \n",
      " 18  parks_nearest         8017 non-null   float64       \n",
      " 19  ponds_around3000      17988 non-null  float64       \n",
      " 20  ponds_nearest         8993 non-null   float64       \n",
      " 21  days_exposition       20261 non-null  float64       \n",
      " 22  median_living_area    23419 non-null  float64       \n",
      " 23  median_kitchen_area   23419 non-null  float64       \n",
      "dtypes: bool(3), datetime64[ns](1), float64(15), int64(4), object(1)\n",
      "memory usage: 4.0+ MB\n"
     ]
    }
   ],
   "source": [
    "data.info()"
   ]
  },
  {
   "cell_type": "markdown",
   "metadata": {},
   "source": [
    "в колонках floors_total, balcony, parks_around3000, ponds_around3000, days_exposition, по смыслу тоже должны быть целые числа, однако в этих колонках не заполнены пропуски, которые имеют тип float, поэтому и все значения в колонке имеют тип float"
   ]
  },
  {
   "cell_type": "markdown",
   "metadata": {},
   "source": [
    "## Расчёты и добавление результатов в таблицу"
   ]
  },
  {
   "cell_type": "markdown",
   "metadata": {},
   "source": [
    "#### Добавим цену квадратного метра для каждой квартиры:"
   ]
  },
  {
   "cell_type": "code",
   "execution_count": 36,
   "metadata": {},
   "outputs": [],
   "source": [
    "data['square_meter_price'] = round(data['last_price'] / data['total_area'])"
   ]
  },
  {
   "cell_type": "markdown",
   "metadata": {},
   "source": [
    "#### Добавим колонки с днем недели, месяцем и годом:"
   ]
  },
  {
   "cell_type": "code",
   "execution_count": 37,
   "metadata": {},
   "outputs": [],
   "source": [
    "data['weekday'] = data['first_day_exposition'].dt.weekday\n",
    "data['month'] = data['first_day_exposition'].dt.month\n",
    "data['year'] = data['first_day_exposition'].dt.year"
   ]
  },
  {
   "cell_type": "markdown",
   "metadata": {},
   "source": [
    "#### Категоризуем данные по этажам квартиры; варианты — первый, последний, другой:"
   ]
  },
  {
   "cell_type": "code",
   "execution_count": 38,
   "metadata": {},
   "outputs": [],
   "source": [
    "def make_type_floor(row):\n",
    "    floor = row['floor']\n",
    "    floors_total = row['floors_total']\n",
    "    \n",
    "    if floor == floors_total:\n",
    "        return 'последний'\n",
    "    elif floor == 1:\n",
    "        return 'первый'\n",
    "    \n",
    "    return 'другой'\n",
    "\n",
    "data['type_floor'] = data.apply(make_type_floor, axis=1)"
   ]
  },
  {
   "cell_type": "markdown",
   "metadata": {},
   "source": [
    "#### Добавим колонки с соотношениями жилой и общей площади, а также отношение площади кухни к общей:"
   ]
  },
  {
   "cell_type": "code",
   "execution_count": 39,
   "metadata": {},
   "outputs": [],
   "source": [
    "data['living_to_total_area_ratio'] = data['living_area'] / data['total_area']\n",
    "data['kitchen_to_total_area_ratio'] = data['kitchen_area'] / data['total_area']"
   ]
  },
  {
   "cell_type": "code",
   "execution_count": 40,
   "metadata": {},
   "outputs": [
    {
     "data": {
      "text/html": [
       "<div>\n",
       "<style scoped>\n",
       "    .dataframe tbody tr th:only-of-type {\n",
       "        vertical-align: middle;\n",
       "    }\n",
       "\n",
       "    .dataframe tbody tr th {\n",
       "        vertical-align: top;\n",
       "    }\n",
       "\n",
       "    .dataframe thead th {\n",
       "        text-align: right;\n",
       "    }\n",
       "</style>\n",
       "<table border=\"1\" class=\"dataframe\">\n",
       "  <thead>\n",
       "    <tr style=\"text-align: right;\">\n",
       "      <th></th>\n",
       "      <th>total_images</th>\n",
       "      <th>last_price</th>\n",
       "      <th>total_area</th>\n",
       "      <th>first_day_exposition</th>\n",
       "      <th>rooms</th>\n",
       "      <th>ceiling_height</th>\n",
       "      <th>floors_total</th>\n",
       "      <th>living_area</th>\n",
       "      <th>floor</th>\n",
       "      <th>is_apartment</th>\n",
       "      <th>...</th>\n",
       "      <th>days_exposition</th>\n",
       "      <th>median_living_area</th>\n",
       "      <th>median_kitchen_area</th>\n",
       "      <th>square_meter_price</th>\n",
       "      <th>weekday</th>\n",
       "      <th>month</th>\n",
       "      <th>year</th>\n",
       "      <th>type_floor</th>\n",
       "      <th>living_to_total_area_ratio</th>\n",
       "      <th>kitchen_to_total_area_ratio</th>\n",
       "    </tr>\n",
       "  </thead>\n",
       "  <tbody>\n",
       "    <tr>\n",
       "      <th>0</th>\n",
       "      <td>20</td>\n",
       "      <td>13,000,000.00</td>\n",
       "      <td>108.00</td>\n",
       "      <td>2019-03-07</td>\n",
       "      <td>3</td>\n",
       "      <td>2.70</td>\n",
       "      <td>16.00</td>\n",
       "      <td>51.00</td>\n",
       "      <td>8</td>\n",
       "      <td>False</td>\n",
       "      <td>...</td>\n",
       "      <td>NaN</td>\n",
       "      <td>45.00</td>\n",
       "      <td>9.50</td>\n",
       "      <td>120,370.00</td>\n",
       "      <td>3</td>\n",
       "      <td>3</td>\n",
       "      <td>2019</td>\n",
       "      <td>другой</td>\n",
       "      <td>0.47</td>\n",
       "      <td>0.23</td>\n",
       "    </tr>\n",
       "    <tr>\n",
       "      <th>1</th>\n",
       "      <td>0</td>\n",
       "      <td>64,900,000.00</td>\n",
       "      <td>159.00</td>\n",
       "      <td>2015-07-24</td>\n",
       "      <td>3</td>\n",
       "      <td>2.65</td>\n",
       "      <td>14.00</td>\n",
       "      <td>45.00</td>\n",
       "      <td>9</td>\n",
       "      <td>False</td>\n",
       "      <td>...</td>\n",
       "      <td>424.00</td>\n",
       "      <td>45.00</td>\n",
       "      <td>9.50</td>\n",
       "      <td>408,176.00</td>\n",
       "      <td>4</td>\n",
       "      <td>7</td>\n",
       "      <td>2015</td>\n",
       "      <td>другой</td>\n",
       "      <td>0.28</td>\n",
       "      <td>0.06</td>\n",
       "    </tr>\n",
       "    <tr>\n",
       "      <th>2</th>\n",
       "      <td>18</td>\n",
       "      <td>5,400,000.00</td>\n",
       "      <td>61.00</td>\n",
       "      <td>2017-02-26</td>\n",
       "      <td>3</td>\n",
       "      <td>2.50</td>\n",
       "      <td>9.00</td>\n",
       "      <td>43.60</td>\n",
       "      <td>7</td>\n",
       "      <td>False</td>\n",
       "      <td>...</td>\n",
       "      <td>289.00</td>\n",
       "      <td>45.00</td>\n",
       "      <td>9.50</td>\n",
       "      <td>88,525.00</td>\n",
       "      <td>6</td>\n",
       "      <td>2</td>\n",
       "      <td>2017</td>\n",
       "      <td>другой</td>\n",
       "      <td>0.71</td>\n",
       "      <td>0.11</td>\n",
       "    </tr>\n",
       "    <tr>\n",
       "      <th>3</th>\n",
       "      <td>11</td>\n",
       "      <td>6,700,000.00</td>\n",
       "      <td>82.00</td>\n",
       "      <td>2017-11-23</td>\n",
       "      <td>3</td>\n",
       "      <td>3.05</td>\n",
       "      <td>5.00</td>\n",
       "      <td>55.60</td>\n",
       "      <td>1</td>\n",
       "      <td>False</td>\n",
       "      <td>...</td>\n",
       "      <td>397.00</td>\n",
       "      <td>45.00</td>\n",
       "      <td>9.50</td>\n",
       "      <td>81,707.00</td>\n",
       "      <td>3</td>\n",
       "      <td>11</td>\n",
       "      <td>2017</td>\n",
       "      <td>первый</td>\n",
       "      <td>0.68</td>\n",
       "      <td>0.11</td>\n",
       "    </tr>\n",
       "    <tr>\n",
       "      <th>4</th>\n",
       "      <td>16</td>\n",
       "      <td>14,200,000.00</td>\n",
       "      <td>121.00</td>\n",
       "      <td>2019-01-09</td>\n",
       "      <td>3</td>\n",
       "      <td>2.75</td>\n",
       "      <td>16.00</td>\n",
       "      <td>76.00</td>\n",
       "      <td>8</td>\n",
       "      <td>False</td>\n",
       "      <td>...</td>\n",
       "      <td>97.00</td>\n",
       "      <td>45.00</td>\n",
       "      <td>9.50</td>\n",
       "      <td>117,355.00</td>\n",
       "      <td>2</td>\n",
       "      <td>1</td>\n",
       "      <td>2019</td>\n",
       "      <td>другой</td>\n",
       "      <td>0.63</td>\n",
       "      <td>0.10</td>\n",
       "    </tr>\n",
       "  </tbody>\n",
       "</table>\n",
       "<p>5 rows × 31 columns</p>\n",
       "</div>"
      ],
      "text/plain": [
       "   total_images    last_price  total_area first_day_exposition  rooms  \\\n",
       "0            20 13,000,000.00      108.00           2019-03-07      3   \n",
       "1             0 64,900,000.00      159.00           2015-07-24      3   \n",
       "2            18  5,400,000.00       61.00           2017-02-26      3   \n",
       "3            11  6,700,000.00       82.00           2017-11-23      3   \n",
       "4            16 14,200,000.00      121.00           2019-01-09      3   \n",
       "\n",
       "   ceiling_height  floors_total  living_area  floor  is_apartment  ...  \\\n",
       "0            2.70         16.00        51.00      8         False  ...   \n",
       "1            2.65         14.00        45.00      9         False  ...   \n",
       "2            2.50          9.00        43.60      7         False  ...   \n",
       "3            3.05          5.00        55.60      1         False  ...   \n",
       "4            2.75         16.00        76.00      8         False  ...   \n",
       "\n",
       "   days_exposition  median_living_area  median_kitchen_area  \\\n",
       "0              NaN               45.00                 9.50   \n",
       "1           424.00               45.00                 9.50   \n",
       "2           289.00               45.00                 9.50   \n",
       "3           397.00               45.00                 9.50   \n",
       "4            97.00               45.00                 9.50   \n",
       "\n",
       "   square_meter_price weekday  month  year  type_floor  \\\n",
       "0          120,370.00       3      3  2019      другой   \n",
       "1          408,176.00       4      7  2015      другой   \n",
       "2           88,525.00       6      2  2017      другой   \n",
       "3           81,707.00       3     11  2017      первый   \n",
       "4          117,355.00       2      1  2019      другой   \n",
       "\n",
       "   living_to_total_area_ratio  kitchen_to_total_area_ratio  \n",
       "0                        0.47                         0.23  \n",
       "1                        0.28                         0.06  \n",
       "2                        0.71                         0.11  \n",
       "3                        0.68                         0.11  \n",
       "4                        0.63                         0.10  \n",
       "\n",
       "[5 rows x 31 columns]"
      ]
     },
     "execution_count": 40,
     "metadata": {},
     "output_type": "execute_result"
    }
   ],
   "source": [
    "data.head()"
   ]
  },
  {
   "cell_type": "markdown",
   "metadata": {},
   "source": [
    "## Исследовательский анализ данных"
   ]
  },
  {
   "cell_type": "markdown",
   "metadata": {},
   "source": [
    "### Оценка параметров"
   ]
  },
  {
   "cell_type": "markdown",
   "metadata": {},
   "source": [
    "#### посмотрим на следующие параметры: площадь, цена, число комнат, высота потолков:"
   ]
  },
  {
   "cell_type": "code",
   "execution_count": 41,
   "metadata": {},
   "outputs": [
    {
     "data": {
      "image/png": "[encoded data removed]",
      "text/plain": [
       "<Figure size 432x288 with 1 Axes>"
      ]
     },
     "metadata": {
      "needs_background": "light"
     },
     "output_type": "display_data"
    },
    {
     "data": {
      "image/png": "[encoded data removed]",
      "text/plain": [
       "<Figure size 432x288 with 1 Axes>"
      ]
     },
     "metadata": {
      "needs_background": "light"
     },
     "output_type": "display_data"
    },
    {
     "data": {
      "image/png": "[encoded data removed]",
      "text/plain": [
       "<Figure size 432x288 with 1 Axes>"
      ]
     },
     "metadata": {
      "needs_background": "light"
     },
     "output_type": "display_data"
    },
    {
     "data": {
      "image/png": "[encoded data removed]",
      "text/plain": [
       "<Figure size 432x288 with 1 Axes>"
      ]
     },
     "metadata": {
      "needs_background": "light"
     },
     "output_type": "display_data"
    }
   ],
   "source": [
    "columns = ['total_area', 'last_price', 'rooms', 'ceiling_height']\n",
    "\n",
    "for column in columns:\n",
    "    data.plot(kind='hist', y=column, title=f'{column} frequency')\n",
    "    plt.xlabel(column)\n",
    "    plt.show()"
   ]
  },
  {
   "cell_type": "markdown",
   "metadata": {},
   "source": [
    "На всех графиках видны сильные отклонения вправо (пложительное смещение)."
   ]
  },
  {
   "cell_type": "markdown",
   "metadata": {},
   "source": [
    "#### изучим сколько времени требуется на продажу квартиры:"
   ]
  },
  {
   "cell_type": "code",
   "execution_count": 42,
   "metadata": {},
   "outputs": [
    {
     "data": {
      "text/plain": [
       "count   20,261.00\n",
       "mean       181.51\n",
       "std        220.05\n",
       "min          1.00\n",
       "25%         45.00\n",
       "50%         96.00\n",
       "75%        232.00\n",
       "max      1,580.00\n",
       "Name: days_exposition, dtype: float64"
      ]
     },
     "execution_count": 42,
     "metadata": {},
     "output_type": "execute_result"
    }
   ],
   "source": [
    "data['days_exposition'].describe()"
   ]
  },
  {
   "cell_type": "code",
   "execution_count": 43,
   "metadata": {},
   "outputs": [
    {
     "data": {
      "image/png": "[encoded data removed]",
      "text/plain": [
       "<Figure size 432x288 with 1 Axes>"
      ]
     },
     "metadata": {
      "needs_background": "light"
     },
     "output_type": "display_data"
    }
   ],
   "source": [
    "data['days_exposition'].hist(bins=100)\n",
    "plt.title('days_exposition frequency')\n",
    "plt.xlabel('days')\n",
    "plt.ylabel('frequency')\n",
    "plt.show()"
   ]
  },
  {
   "cell_type": "markdown",
   "metadata": {},
   "source": [
    "Среднее время продажи квартиры 180 дней, медиана 95. Время продажи 25% квартир не превышало 45 дней т.е., продажи прошли очень быстро. 75% квартир, продали менее чем за 232 дня."
   ]
  },
  {
   "cell_type": "markdown",
   "metadata": {},
   "source": [
    "#### Построим график \"ящик с усами\" для определения крайних значений и выбросов:"
   ]
  },
  {
   "cell_type": "code",
   "execution_count": 44,
   "metadata": {},
   "outputs": [
    {
     "data": {
      "image/png": "[encoded data removed]",
      "text/plain": [
       "<Figure size 432x288 with 1 Axes>"
      ]
     },
     "metadata": {
      "needs_background": "light"
     },
     "output_type": "display_data"
    }
   ],
   "source": [
    "data.boxplot(column='days_exposition')\n",
    "plt.ylabel('days')\n",
    "plt.ylim(0, 800)\n",
    "plt.show()"
   ]
  },
  {
   "cell_type": "markdown",
   "metadata": {},
   "source": [
    "На графике верхний ус (Q3 + 1.5IQR) заканчивается на значении чуть больше 500 дней, на этом основании можно предположить, что все квартиры чей срок продажи более 500 дней, продаются необычно долго."
   ]
  },
  {
   "cell_type": "markdown",
   "metadata": {},
   "source": [
    "### Очистка выбросов"
   ]
  },
  {
   "cell_type": "markdown",
   "metadata": {},
   "source": [
    "Построим boxplots для основных колонок:"
   ]
  },
  {
   "cell_type": "code",
   "execution_count": 45,
   "metadata": {
    "scrolled": false
   },
   "outputs": [
    {
     "data": {
      "image/png": "[encoded data removed]",
      "text/plain": [
       "<Figure size 432x288 with 1 Axes>"
      ]
     },
     "metadata": {
      "needs_background": "light"
     },
     "output_type": "display_data"
    },
    {
     "data": {
      "image/png": "[encoded data removed]",
      "text/plain": [
       "<Figure size 432x288 with 1 Axes>"
      ]
     },
     "metadata": {
      "needs_background": "light"
     },
     "output_type": "display_data"
    },
    {
     "data": {
      "image/png": "[encoded data removed]",
      "text/plain": [
       "<Figure size 432x288 with 1 Axes>"
      ]
     },
     "metadata": {
      "needs_background": "light"
     },
     "output_type": "display_data"
    },
    {
     "data": {
      "image/png": "[encoded data removed]",
      "text/plain": [
       "<Figure size 432x288 with 1 Axes>"
      ]
     },
     "metadata": {
      "needs_background": "light"
     },
     "output_type": "display_data"
    },
    {
     "data": {
      "image/png": "[encoded data removed]",
      "text/plain": [
       "<Figure size 432x288 with 1 Axes>"
      ]
     },
     "metadata": {
      "needs_background": "light"
     },
     "output_type": "display_data"
    },
    {
     "data": {
      "image/png": "[encoded data removed]",
      "text/plain": [
       "<Figure size 432x288 with 1 Axes>"
      ]
     },
     "metadata": {
      "needs_background": "light"
     },
     "output_type": "display_data"
    },
    {
     "data": {
      "image/png": "[encoded data removed]",
      "text/plain": [
       "<Figure size 432x288 with 1 Axes>"
      ]
     },
     "metadata": {
      "needs_background": "light"
     },
     "output_type": "display_data"
    },
    {
     "data": {
      "image/png": "[encoded data removed]",
      "text/plain": [
       "<Figure size 432x288 with 1 Axes>"
      ]
     },
     "metadata": {
      "needs_background": "light"
     },
     "output_type": "display_data"
    }
   ],
   "source": [
    "columns = [\n",
    "    ('total_area', 'meters'), ('last_price', '₽ russian rubles'), ('rooms', 'rooms'),\n",
    "    ('ceiling_height', 'meters'), ('city_centers_nearest', 'meters'), ('days_exposition', 'days'),\n",
    "    ('living_to_total_area_ratio', 'proportion'), ('kitchen_to_total_area_ratio', 'proportion')\n",
    "]\n",
    "\n",
    "\n",
    "def make_boxplots(columns):\n",
    "    for column, unit in columns:\n",
    "        try:\n",
    "            data.boxplot(column=column)\n",
    "            plt.ylabel(unit)\n",
    "            plt.show()\n",
    "        except Exception as e:\n",
    "            print(e)\n",
    "            print(f'Error on column {column}')\n",
    "        \n",
    "make_boxplots(columns)"
   ]
  },
  {
   "cell_type": "markdown",
   "metadata": {},
   "source": [
    "Во всех основных колонках есть выбросы. Напишем функцию, которая очистит выбросы с помощью интерквартильного растояния (IQR):"
   ]
  },
  {
   "cell_type": "code",
   "execution_count": 46,
   "metadata": {},
   "outputs": [],
   "source": [
    "def clear_deviations(columns, data):\n",
    "    cleared_data = pd.DataFrame() \n",
    "    for column in data.columns:\n",
    "        # если колонки нет в переданном списке, оставляем без изм\n",
    "        if column not in columns:\n",
    "            cleared_data[column] = data[column]\n",
    "        # иначе очищаям выбросы\n",
    "        else:\n",
    "            q1 = data[column].quantile(q=0.25)\n",
    "            q3 = data[column].quantile(q=0.75)\n",
    "            iqr = q3 - q1\n",
    "            part_data = data[(data[column] < q3 + (1.5 * iqr)) &\n",
    "                             (data[column] > q1 - (1.5 * iqr))]\n",
    "            cleared_data[column] = part_data[column]\n",
    "    return cleared_data\n",
    "\n",
    "data = clear_deviations(columns, data)"
   ]
  },
  {
   "cell_type": "markdown",
   "metadata": {},
   "source": [
    "Посмотрим как изменились графики boxplot:"
   ]
  },
  {
   "cell_type": "code",
   "execution_count": 47,
   "metadata": {
    "scrolled": false
   },
   "outputs": [
    {
     "data": {
      "image/png": "[encoded data removed]",
      "text/plain": [
       "<Figure size 432x288 with 1 Axes>"
      ]
     },
     "metadata": {
      "needs_background": "light"
     },
     "output_type": "display_data"
    },
    {
     "data": {
      "image/png": "[encoded data removed]",
      "text/plain": [
       "<Figure size 432x288 with 1 Axes>"
      ]
     },
     "metadata": {
      "needs_background": "light"
     },
     "output_type": "display_data"
    },
    {
     "data": {
      "image/png": "[encoded data removed]",
      "text/plain": [
       "<Figure size 432x288 with 1 Axes>"
      ]
     },
     "metadata": {
      "needs_background": "light"
     },
     "output_type": "display_data"
    },
    {
     "data": {
      "image/png": "[encoded data removed]",
      "text/plain": [
       "<Figure size 432x288 with 1 Axes>"
      ]
     },
     "metadata": {
      "needs_background": "light"
     },
     "output_type": "display_data"
    },
    {
     "data": {
      "image/png": "[encoded data removed]",
      "text/plain": [
       "<Figure size 432x288 with 1 Axes>"
      ]
     },
     "metadata": {
      "needs_background": "light"
     },
     "output_type": "display_data"
    },
    {
     "data": {
      "image/png": "[encoded data removed]",
      "text/plain": [
       "<Figure size 432x288 with 1 Axes>"
      ]
     },
     "metadata": {
      "needs_background": "light"
     },
     "output_type": "display_data"
    },
    {
     "data": {
      "image/png": "[encoded data removed]",
      "text/plain": [
       "<Figure size 432x288 with 1 Axes>"
      ]
     },
     "metadata": {
      "needs_background": "light"
     },
     "output_type": "display_data"
    },
    {
     "data": {
      "image/png": "[encoded data removed]",
      "text/plain": [
       "<Figure size 432x288 with 1 Axes>"
      ]
     },
     "metadata": {
      "needs_background": "light"
     },
     "output_type": "display_data"
    }
   ],
   "source": [
    "make_boxplots(columns)"
   ]
  },
  {
   "cell_type": "markdown",
   "metadata": {},
   "source": [
    "На графиках выбросов стало гораздо меньше, но они остались из за того, что изменились значения q1, q3 в самих колонках"
   ]
  },
  {
   "cell_type": "markdown",
   "metadata": {},
   "source": [
    "### Оценим какие параметры больше всего влияют на цену квартиры"
   ]
  },
  {
   "cell_type": "markdown",
   "metadata": {},
   "source": [
    "#### построим матрицу корреляций:"
   ]
  },
  {
   "cell_type": "code",
   "execution_count": 48,
   "metadata": {},
   "outputs": [
    {
     "data": {
      "text/plain": [
       "last_price                     1.00\n",
       "square_meter_price             0.74\n",
       "total_area                     0.65\n",
       "living_area                    0.56\n",
       "kitchen_area                   0.45\n",
       "median_kitchen_area            0.43\n",
       "median_living_area             0.41\n",
       "rooms                          0.36\n",
       "ponds_around3000               0.16\n",
       "parks_around3000               0.15\n",
       "total_images                   0.10\n",
       "days_exposition                0.08\n",
       "ceiling_height                 0.07\n",
       "floor                          0.03\n",
       "is_apartment                   0.03\n",
       "balcony                        0.01\n",
       "open_plan                      0.01\n",
       "month                          0.00\n",
       "weekday                        0.00\n",
       "floors_total                  -0.00\n",
       "studio                        -0.01\n",
       "parks_nearest                 -0.02\n",
       "airports_nearest              -0.03\n",
       "living_to_total_area_ratio    -0.03\n",
       "year                          -0.04\n",
       "ponds_nearest                 -0.09\n",
       "kitchen_to_total_area_ratio   -0.11\n",
       "city_centers_nearest          -0.21\n",
       "Name: last_price, dtype: float64"
      ]
     },
     "execution_count": 48,
     "metadata": {},
     "output_type": "execute_result"
    }
   ],
   "source": [
    "data.corr()['last_price'].sort_values(ascending=False)"
   ]
  },
  {
   "cell_type": "markdown",
   "metadata": {},
   "source": [
    "По матрице корреляций самый влияющий фактор на цену квартиру это общая площадь квартиры (не считая цену за квадратный метр т.к. это само собой), в отрицательную сторону сильнее всего влияет удаленность от центра города."
   ]
  },
  {
   "cell_type": "markdown",
   "metadata": {},
   "source": [
    "#### Построим матрицу рассеяния для основных колонок:"
   ]
  },
  {
   "cell_type": "code",
   "execution_count": 49,
   "metadata": {},
   "outputs": [
    {
     "data": {
      "image/png": "[encoded data removed]",
      "text/plain": [
       "<Figure size 648x648 with 16 Axes>"
      ]
     },
     "metadata": {
      "needs_background": "light"
     },
     "output_type": "display_data"
    }
   ],
   "source": [
    "pd.plotting.scatter_matrix(\n",
    "    data[['last_price', 'total_area', 'rooms', \n",
    "          'city_centers_nearest']], figsize=(9, 9))\n",
    "plt.show()"
   ]
  },
  {
   "cell_type": "markdown",
   "metadata": {},
   "source": [
    "На графиках видна положительная корреляция между ценой и общей площадью."
   ]
  },
  {
   "cell_type": "markdown",
   "metadata": {},
   "source": [
    "#### Создадим функцию для построения графиков по сгруппированным значениям:"
   ]
  },
  {
   "cell_type": "code",
   "execution_count": 50,
   "metadata": {},
   "outputs": [],
   "source": [
    "def make_plot_from_grouped(data, index, aggfunc, values, **kwargs):\n",
    "    grouped_data = data.pivot_table(index=index, values=values, aggfunc=aggfunc)\n",
    "    grouped_data = grouped_data.reset_index()\n",
    "    grouped_data.columns = kwargs['x'], kwargs['y']\n",
    "    ax = grouped_data.plot(**kwargs)\n",
    "    return ax"
   ]
  },
  {
   "cell_type": "markdown",
   "metadata": {},
   "source": [
    "#### Построим графики, демонстрирующие как различные парметры влияют на цену:"
   ]
  },
  {
   "cell_type": "code",
   "execution_count": 51,
   "metadata": {
    "scrolled": false
   },
   "outputs": [
    {
     "data": {
      "image/png": "[encoded data removed]",
      "text/plain": [
       "<Figure size 504x360 with 1 Axes>"
      ]
     },
     "metadata": {
      "needs_background": "light"
     },
     "output_type": "display_data"
    },
    {
     "data": {
      "image/png": "[encoded data removed]",
      "text/plain": [
       "<Figure size 504x360 with 1 Axes>"
      ]
     },
     "metadata": {
      "needs_background": "light"
     },
     "output_type": "display_data"
    },
    {
     "data": {
      "image/png": "[encoded data removed]",
      "text/plain": [
       "<Figure size 504x360 with 1 Axes>"
      ]
     },
     "metadata": {
      "needs_background": "light"
     },
     "output_type": "display_data"
    },
    {
     "data": {
      "image/png": "[encoded data removed]",
      "text/plain": [
       "<Figure size 504x360 with 1 Axes>"
      ]
     },
     "metadata": {
      "needs_background": "light"
     },
     "output_type": "display_data"
    },
    {
     "data": {
      "image/png": "[encoded data removed]",
      "text/plain": [
       "<Figure size 504x360 with 1 Axes>"
      ]
     },
     "metadata": {
      "needs_background": "light"
     },
     "output_type": "display_data"
    }
   ],
   "source": [
    "columns_for_plots = ['type_floor', 'rooms', 'weekday', 'month', 'year']\n",
    "\n",
    "# объявим функцию для построения сразу множества графиков по колонкам\n",
    "def make_plots(data, columns):\n",
    "    for column in columns:\n",
    "        make_plot_from_grouped(\n",
    "            data=data,\n",
    "            index=column,\n",
    "            aggfunc=['median'],\n",
    "            values='last_price',\n",
    "            kind='bar',\n",
    "            x=column,\n",
    "            y='median_price',\n",
    "            figsize=(7, 5)\n",
    "        )\n",
    "        plt.title(f'median price to {column} dependence')\n",
    "        plt.ylabel('₽ russian rubles')\n",
    "        plt.show()\n",
    "        \n",
    "make_plots(data, columns_for_plots)"
   ]
  },
  {
   "cell_type": "markdown",
   "metadata": {},
   "source": [
    " На графике зависимости цены от количества комнат наблюдается очень сильный пик на значении 12 комнат, посмотрим на строки присутствующие в наборе данных с количеством комнат равным 12:"
   ]
  },
  {
   "cell_type": "code",
   "execution_count": 52,
   "metadata": {},
   "outputs": [
    {
     "data": {
      "text/html": [
       "<div>\n",
       "<style scoped>\n",
       "    .dataframe tbody tr th:only-of-type {\n",
       "        vertical-align: middle;\n",
       "    }\n",
       "\n",
       "    .dataframe tbody tr th {\n",
       "        vertical-align: top;\n",
       "    }\n",
       "\n",
       "    .dataframe thead th {\n",
       "        text-align: right;\n",
       "    }\n",
       "</style>\n",
       "<table border=\"1\" class=\"dataframe\">\n",
       "  <thead>\n",
       "    <tr style=\"text-align: right;\">\n",
       "      <th></th>\n",
       "      <th>total_images</th>\n",
       "      <th>last_price</th>\n",
       "      <th>total_area</th>\n",
       "      <th>first_day_exposition</th>\n",
       "      <th>rooms</th>\n",
       "      <th>ceiling_height</th>\n",
       "      <th>floors_total</th>\n",
       "      <th>living_area</th>\n",
       "      <th>floor</th>\n",
       "      <th>is_apartment</th>\n",
       "      <th>...</th>\n",
       "      <th>days_exposition</th>\n",
       "      <th>median_living_area</th>\n",
       "      <th>median_kitchen_area</th>\n",
       "      <th>square_meter_price</th>\n",
       "      <th>weekday</th>\n",
       "      <th>month</th>\n",
       "      <th>year</th>\n",
       "      <th>type_floor</th>\n",
       "      <th>living_to_total_area_ratio</th>\n",
       "      <th>kitchen_to_total_area_ratio</th>\n",
       "    </tr>\n",
       "  </thead>\n",
       "  <tbody>\n",
       "    <tr>\n",
       "      <th>23612</th>\n",
       "      <td>8</td>\n",
       "      <td>420,000,000.00</td>\n",
       "      <td>900.00</td>\n",
       "      <td>2017-12-06</td>\n",
       "      <td>12</td>\n",
       "      <td>2.80</td>\n",
       "      <td>25.00</td>\n",
       "      <td>409.70</td>\n",
       "      <td>25</td>\n",
       "      <td>False</td>\n",
       "      <td>...</td>\n",
       "      <td>106.00</td>\n",
       "      <td>409.70</td>\n",
       "      <td>112.00</td>\n",
       "      <td>466,667.00</td>\n",
       "      <td>2</td>\n",
       "      <td>12</td>\n",
       "      <td>2017</td>\n",
       "      <td>последний</td>\n",
       "      <td>0.46</td>\n",
       "      <td>0.12</td>\n",
       "    </tr>\n",
       "  </tbody>\n",
       "</table>\n",
       "<p>1 rows × 31 columns</p>\n",
       "</div>"
      ],
      "text/plain": [
       "       total_images     last_price  total_area first_day_exposition  rooms  \\\n",
       "23612             8 420,000,000.00      900.00           2017-12-06     12   \n",
       "\n",
       "       ceiling_height  floors_total  living_area  floor  is_apartment  ...  \\\n",
       "23612            2.80         25.00       409.70     25         False  ...   \n",
       "\n",
       "       days_exposition  median_living_area  median_kitchen_area  \\\n",
       "23612           106.00              409.70               112.00   \n",
       "\n",
       "       square_meter_price weekday  month  year  type_floor  \\\n",
       "23612          466,667.00       2     12  2017   последний   \n",
       "\n",
       "       living_to_total_area_ratio  kitchen_to_total_area_ratio  \n",
       "23612                        0.46                         0.12  \n",
       "\n",
       "[1 rows x 31 columns]"
      ]
     },
     "execution_count": 52,
     "metadata": {},
     "output_type": "execute_result"
    }
   ],
   "source": [
    "data[data['rooms'] == 12].head()"
   ]
  },
  {
   "cell_type": "markdown",
   "metadata": {},
   "source": [
    "В наборе данных присутствует одна квартира с 12-ю комнатами с очень высокой ценой, что и дает резкий пик"
   ]
  },
  {
   "cell_type": "markdown",
   "metadata": {},
   "source": [
    "Посмотрим количество данных по комнатам:"
   ]
  },
  {
   "cell_type": "code",
   "execution_count": 53,
   "metadata": {},
   "outputs": [
    {
     "data": {
      "text/plain": [
       "1     8015\n",
       "2     7913\n",
       "3     5795\n",
       "4     1177\n",
       "5      325\n",
       "6      104\n",
       "7       59\n",
       "8       12\n",
       "9        8\n",
       "10       3\n",
       "11       2\n",
       "14       2\n",
       "15       1\n",
       "19       1\n",
       "16       1\n",
       "12       1\n",
       "Name: rooms, dtype: int64"
      ]
     },
     "execution_count": 53,
     "metadata": {},
     "output_type": "execute_result"
    }
   ],
   "source": [
    "data['rooms'].value_counts()"
   ]
  },
  {
   "cell_type": "markdown",
   "metadata": {},
   "source": [
    "После значения в 7 комнат идет резкое снижение количества данных, что может мешать оценке зависимости цены от количества комнат, поэтому построим график для для среза по количеству комнат 1-7:"
   ]
  },
  {
   "cell_type": "code",
   "execution_count": 54,
   "metadata": {},
   "outputs": [
    {
     "data": {
      "image/png": "[encoded data removed]",
      "text/plain": [
       "<Figure size 504x360 with 1 Axes>"
      ]
     },
     "metadata": {
      "needs_background": "light"
     },
     "output_type": "display_data"
    }
   ],
   "source": [
    "make_plot_from_grouped(\n",
    "    data=data[data['rooms'] <= 7],\n",
    "    index='rooms',\n",
    "    aggfunc=['median'],\n",
    "    values='last_price',\n",
    "    kind='bar',\n",
    "    x=column,\n",
    "    y='median_price',\n",
    "    figsize=(7, 5)\n",
    ")\n",
    "\n",
    "plt.title('median price to rooms dependence')\n",
    "plt.ylabel('₽ russian rubles')\n",
    "plt.show()"
   ]
  },
  {
   "cell_type": "markdown",
   "metadata": {},
   "source": [
    "Теперь видна четкая зависимость."
   ]
  },
  {
   "cell_type": "markdown",
   "metadata": {},
   "source": [
    "#### Выводы по графикам:\n",
    "\n",
    "- первый и последний этажи самые дешевые;\n",
    "- видна строгая зависимость - чем больше комнат тем больше цена, но есть сильный пик на значении в 12 комнат;\n",
    "- между днем недели и ценой видимые закономерности отсутствуют;\n",
    "- между месяцем и ценой видна взаимосвязь - цена плавно повышается с начала года и достигает пика в апреле, потом идет спад, минимум которого в июне и далее опять плавное повышение. Однако вообщем данная зависимость несущественно влияет на цену;\n",
    "- в зависимости от года - видно существенное снижение медианных цен с 2014 до 2016, далее идет рост."
   ]
  },
  {
   "cell_type": "markdown",
   "metadata": {},
   "source": [
    "### Оценим среднюю цену квадратного метра в 10 населенных пунктах с самым большим количеством объявлений:"
   ]
  },
  {
   "cell_type": "code",
   "execution_count": 55,
   "metadata": {},
   "outputs": [],
   "source": [
    "many_ads_local = data.pivot_table(index='locality_name', values='square_meter_price', aggfunc=['mean', 'count'])\n",
    "many_ads_local = many_ads_local.reset_index()\n",
    "many_ads_local.columns = ['locality_name', 'square_meter_mean_price', 'count']\n",
    "many_ads_local = many_ads_local.sort_values(by='count', ascending=False).head(10)"
   ]
  },
  {
   "cell_type": "code",
   "execution_count": 56,
   "metadata": {},
   "outputs": [
    {
     "data": {
      "text/html": [
       "<div>\n",
       "<style scoped>\n",
       "    .dataframe tbody tr th:only-of-type {\n",
       "        vertical-align: middle;\n",
       "    }\n",
       "\n",
       "    .dataframe tbody tr th {\n",
       "        vertical-align: top;\n",
       "    }\n",
       "\n",
       "    .dataframe thead th {\n",
       "        text-align: right;\n",
       "    }\n",
       "</style>\n",
       "<table border=\"1\" class=\"dataframe\">\n",
       "  <thead>\n",
       "    <tr style=\"text-align: right;\">\n",
       "      <th></th>\n",
       "      <th>locality_name</th>\n",
       "      <th>square_meter_mean_price</th>\n",
       "      <th>count</th>\n",
       "    </tr>\n",
       "  </thead>\n",
       "  <tbody>\n",
       "    <tr>\n",
       "      <th>33</th>\n",
       "      <td>Санкт-Петербург</td>\n",
       "      <td>114,807.90</td>\n",
       "      <td>15542</td>\n",
       "    </tr>\n",
       "    <tr>\n",
       "      <th>290</th>\n",
       "      <td>посёлок Мурино</td>\n",
       "      <td>85,036.64</td>\n",
       "      <td>494</td>\n",
       "    </tr>\n",
       "    <tr>\n",
       "      <th>324</th>\n",
       "      <td>посёлок Шушары</td>\n",
       "      <td>78,277.95</td>\n",
       "      <td>435</td>\n",
       "    </tr>\n",
       "    <tr>\n",
       "      <th>3</th>\n",
       "      <td>Всеволожск</td>\n",
       "      <td>68,618.02</td>\n",
       "      <td>392</td>\n",
       "    </tr>\n",
       "    <tr>\n",
       "      <th>32</th>\n",
       "      <td>Пушкин</td>\n",
       "      <td>103,125.82</td>\n",
       "      <td>369</td>\n",
       "    </tr>\n",
       "    <tr>\n",
       "      <th>13</th>\n",
       "      <td>Колпино</td>\n",
       "      <td>75,424.57</td>\n",
       "      <td>338</td>\n",
       "    </tr>\n",
       "    <tr>\n",
       "      <th>295</th>\n",
       "      <td>посёлок Парголово</td>\n",
       "      <td>90,289.76</td>\n",
       "      <td>323</td>\n",
       "    </tr>\n",
       "    <tr>\n",
       "      <th>6</th>\n",
       "      <td>Гатчина</td>\n",
       "      <td>68,746.11</td>\n",
       "      <td>307</td>\n",
       "    </tr>\n",
       "    <tr>\n",
       "      <th>93</th>\n",
       "      <td>деревня Кудрово</td>\n",
       "      <td>92,297.26</td>\n",
       "      <td>283</td>\n",
       "    </tr>\n",
       "    <tr>\n",
       "      <th>4</th>\n",
       "      <td>Выборг</td>\n",
       "      <td>58,141.92</td>\n",
       "      <td>237</td>\n",
       "    </tr>\n",
       "  </tbody>\n",
       "</table>\n",
       "</div>"
      ],
      "text/plain": [
       "         locality_name  square_meter_mean_price  count\n",
       "33     Санкт-Петербург               114,807.90  15542\n",
       "290     посёлок Мурино                85,036.64    494\n",
       "324     посёлок Шушары                78,277.95    435\n",
       "3           Всеволожск                68,618.02    392\n",
       "32              Пушкин               103,125.82    369\n",
       "13             Колпино                75,424.57    338\n",
       "295  посёлок Парголово                90,289.76    323\n",
       "6              Гатчина                68,746.11    307\n",
       "93     деревня Кудрово                92,297.26    283\n",
       "4               Выборг                58,141.92    237"
      ]
     },
     "execution_count": 56,
     "metadata": {},
     "output_type": "execute_result"
    }
   ],
   "source": [
    "many_ads_local"
   ]
  },
  {
   "cell_type": "markdown",
   "metadata": {},
   "source": [
    "Построим столбчатый график, для наглядной демонстрации средней цены за квадратный метр:"
   ]
  },
  {
   "cell_type": "code",
   "execution_count": 57,
   "metadata": {},
   "outputs": [
    {
     "data": {
      "image/png": "[encoded data removed]",
      "text/plain": [
       "<Figure size 648x648 with 1 Axes>"
      ]
     },
     "metadata": {
      "needs_background": "light"
     },
     "output_type": "display_data"
    }
   ],
   "source": [
    "(many_ads_local.sort_values(\n",
    "    by='square_meter_mean_price', ascending=False)\n",
    "               .plot(kind='bar', \n",
    "                     x='locality_name',\n",
    "                     y='square_meter_mean_price', \n",
    "                     figsize=(9,9)))\n",
    "plt.show()"
   ]
  },
  {
   "cell_type": "markdown",
   "metadata": {},
   "source": [
    "Ожидаемо самая высокая стоимость квадратного метра жилья в г. Санкт-Петербург, самая низкая из популярных в объявлениях населенных пунктов г. Выборг."
   ]
  },
  {
   "cell_type": "markdown",
   "metadata": {},
   "source": [
    "### Оценим влияние расстояния до центра в г. Санкт-Петербург, на среднюю стоимость квадратного метра жилья"
   ]
  },
  {
   "cell_type": "markdown",
   "metadata": {},
   "source": [
    "Сделаем срез данных для г. Санкт-Петербург, переведем расстояние в метра в километры и округлим:"
   ]
  },
  {
   "cell_type": "code",
   "execution_count": 58,
   "metadata": {},
   "outputs": [],
   "source": [
    "piter_data = data[data['locality_name'] == 'Санкт-Петербург']\n",
    "piter_data['distance_to_center'] = round(piter_data['city_centers_nearest'] / 1000)"
   ]
  },
  {
   "cell_type": "markdown",
   "metadata": {},
   "source": [
    "#### Построим диаграмму рассеяния, для визуализации связи между расстоянием до центра и средней ценой квадратного метра:"
   ]
  },
  {
   "cell_type": "code",
   "execution_count": 59,
   "metadata": {},
   "outputs": [
    {
     "data": {
      "image/png": "[encoded data removed]",
      "text/plain": [
       "<Figure size 432x288 with 1 Axes>"
      ]
     },
     "metadata": {
      "needs_background": "light"
     },
     "output_type": "display_data"
    }
   ],
   "source": [
    "make_plot_from_grouped(\n",
    "    data=piter_data,\n",
    "    index='distance_to_center',\n",
    "    aggfunc=['mean'],\n",
    "    values='square_meter_price',  \n",
    "    x='distance_to_center',\n",
    "    y='mean_price',\n",
    "    kind='scatter'\n",
    ")\n",
    "\n",
    "plt.title('square meter mean price to distance to center dependence')\n",
    "plt.xlabel('distance to center (km)')\n",
    "plt.ylabel('$m^2$ mean price (₽)')\n",
    "plt.show()"
   ]
  },
  {
   "cell_type": "markdown",
   "metadata": {},
   "source": [
    "На графике видно точку где цена резко падает, на значении примерно в 6-7км, эту зону можно считать границей центра города."
   ]
  },
  {
   "cell_type": "markdown",
   "metadata": {},
   "source": [
    "### Проанализируем сегмент квартир расположенных в центре г. Санкт-Петербург"
   ]
  },
  {
   "cell_type": "markdown",
   "metadata": {},
   "source": [
    "#### Сделаем срез данных:"
   ]
  },
  {
   "cell_type": "code",
   "execution_count": 60,
   "metadata": {},
   "outputs": [],
   "source": [
    "central_apartments = piter_data[piter_data['distance_to_center'] < 7]"
   ]
  },
  {
   "cell_type": "code",
   "execution_count": 61,
   "metadata": {},
   "outputs": [
    {
     "data": {
      "text/plain": [
       "(3083, 32)"
      ]
     },
     "execution_count": 61,
     "metadata": {},
     "output_type": "execute_result"
    }
   ],
   "source": [
    "central_apartments.shape"
   ]
  },
  {
   "cell_type": "markdown",
   "metadata": {},
   "source": [
    "Получилось 3083 квартиры в центре."
   ]
  },
  {
   "cell_type": "markdown",
   "metadata": {},
   "source": [
    "#### Сравним площадь, стоимость, количество комнат и высоту потолков для квартир из общего набора данных и для квартир в центре города:"
   ]
  },
  {
   "cell_type": "code",
   "execution_count": 62,
   "metadata": {},
   "outputs": [
    {
     "data": {
      "text/plain": [
       "total_area              60.60\n",
       "last_price       6,567,031.23\n",
       "rooms                    2.09\n",
       "ceiling_height           2.72\n",
       "dtype: float64"
      ]
     },
     "execution_count": 62,
     "metadata": {},
     "output_type": "execute_result"
    }
   ],
   "source": [
    "data[['total_area', 'last_price', 'rooms', 'ceiling_height']].mean()"
   ]
  },
  {
   "cell_type": "code",
   "execution_count": 63,
   "metadata": {},
   "outputs": [
    {
     "data": {
      "text/plain": [
       "total_area               94.74\n",
       "last_price       14,928,270.14\n",
       "rooms                     2.90\n",
       "ceiling_height            2.97\n",
       "dtype: float64"
      ]
     },
     "execution_count": 63,
     "metadata": {},
     "output_type": "execute_result"
    }
   ],
   "source": [
    "central_apartments[['total_area', 'last_price', 'rooms', 'ceiling_height']].mean()"
   ]
  },
  {
   "cell_type": "markdown",
   "metadata": {},
   "source": [
    "Средние значения для квартир в центре гораздо больше, кроме средней высоты потолков, которые отличаются незначительно."
   ]
  },
  {
   "cell_type": "markdown",
   "metadata": {},
   "source": [
    "### Оценим какие параметры больше всего влияют на цену квартиры в центре г. Санкт-Петербург"
   ]
  },
  {
   "cell_type": "code",
   "execution_count": 64,
   "metadata": {},
   "outputs": [
    {
     "data": {
      "text/plain": [
       "last_price                     1.00\n",
       "square_meter_price             0.80\n",
       "total_area                     0.60\n",
       "living_area                    0.50\n",
       "kitchen_area                   0.39\n",
       "median_living_area             0.32\n",
       "rooms                          0.31\n",
       "median_kitchen_area            0.29\n",
       "total_images                   0.14\n",
       "floor                          0.12\n",
       "parks_around3000               0.09\n",
       "ponds_around3000               0.09\n",
       "airports_nearest               0.08\n",
       "balcony                        0.08\n",
       "ceiling_height                 0.06\n",
       "days_exposition                0.05\n",
       "is_apartment                   0.04\n",
       "floors_total                   0.04\n",
       "weekday                        0.03\n",
       "open_plan                     -0.01\n",
       "studio                        -0.01\n",
       "month                         -0.01\n",
       "parks_nearest                 -0.03\n",
       "year                          -0.03\n",
       "distance_to_center            -0.05\n",
       "living_to_total_area_ratio    -0.05\n",
       "city_centers_nearest          -0.05\n",
       "ponds_nearest                 -0.07\n",
       "kitchen_to_total_area_ratio   -0.12\n",
       "Name: last_price, dtype: float64"
      ]
     },
     "execution_count": 64,
     "metadata": {},
     "output_type": "execute_result"
    }
   ],
   "source": [
    "central_apartments.corr()['last_price'].sort_values(ascending=False)"
   ]
  },
  {
   "cell_type": "markdown",
   "metadata": {},
   "source": [
    " Параметры коррелирующие с ценой, те же, что и у общих данных."
   ]
  },
  {
   "cell_type": "markdown",
   "metadata": {},
   "source": [
    "#### Построим графики, демонстрирующие как различные парметры влияют на цену для жилья в центре г. Санкт-Петербург в сравнении с графиками для всех квартир:"
   ]
  },
  {
   "cell_type": "code",
   "execution_count": 65,
   "metadata": {
    "scrolled": false
   },
   "outputs": [
    {
     "data": {
      "image/png": "[encoded data removed]",
      "text/plain": [
       "<Figure size 504x360 with 1 Axes>"
      ]
     },
     "metadata": {
      "needs_background": "light"
     },
     "output_type": "display_data"
    },
    {
     "data": {
      "image/png": "[encoded data removed]",
      "text/plain": [
       "<Figure size 504x360 with 1 Axes>"
      ]
     },
     "metadata": {
      "needs_background": "light"
     },
     "output_type": "display_data"
    },
    {
     "data": {
      "image/png": "[encoded data removed]",
      "text/plain": [
       "<Figure size 504x360 with 1 Axes>"
      ]
     },
     "metadata": {
      "needs_background": "light"
     },
     "output_type": "display_data"
    },
    {
     "data": {
      "image/png": "[encoded data removed]",
      "text/plain": [
       "<Figure size 504x360 with 1 Axes>"
      ]
     },
     "metadata": {
      "needs_background": "light"
     },
     "output_type": "display_data"
    },
    {
     "data": {
      "image/png": "[encoded data removed]",
      "text/plain": [
       "<Figure size 504x360 with 1 Axes>"
      ]
     },
     "metadata": {
      "needs_background": "light"
     },
     "output_type": "display_data"
    }
   ],
   "source": [
    "for column in columns_for_plots:\n",
    "    ax = make_plot_from_grouped(\n",
    "        data=central_apartments,\n",
    "        index=column,\n",
    "        aggfunc=['median'],\n",
    "        values='last_price',\n",
    "        kind='bar',\n",
    "        x=column,\n",
    "        y='median_price',\n",
    "        figsize=(7, 5),\n",
    "        width=0.75,\n",
    "        label='central_apartments'\n",
    "    )\n",
    "\n",
    "    make_plot_from_grouped(\n",
    "        data=data,\n",
    "        index=column,\n",
    "        aggfunc=['median'],\n",
    "        values='last_price',\n",
    "        kind='bar',\n",
    "        x=column,\n",
    "        y='median_price',\n",
    "        figsize=(7, 5),\n",
    "        width=0.5,\n",
    "        color='lightgreen',\n",
    "        label='all_apartments',\n",
    "        ax=ax\n",
    "    )\n",
    "    \n",
    "    plt.ylabel('median price (₽)')\n",
    "    plt.title(f'median price to {column} dependence')"
   ]
  },
  {
   "cell_type": "markdown",
   "metadata": {},
   "source": [
    "#### Выводы по графиками для квартир в центре г. Санкт-Петербург:\n",
    "\n",
    "- первый этаж дешевле остальных, однако, в отличии от похожего графика для общих данных, последний этаж не отличается по цене от других этажей;\n",
    "- видна строгая зависимость - чем больше комнат тем больше цена;\n",
    "- между днем недели и ценой видимые закономерности отсутствуют, как и в похожем графике для общих данных;\n",
    "- между месяцем и ценой для квартир в центре особой взаимосвязи не наблюдается, есть два больших пика на 5 и 9 месяце, после пиков идет резкое падение к прошлым значениям до пиков;\n",
    "- с 2014 до 2019 медианная цена квартир в центре существенно снизилась, как и всех других квартир в общем наборе данных, однако это снижение намного сильнее чем у всех квартир в общем."
   ]
  },
  {
   "cell_type": "markdown",
   "metadata": {},
   "source": [
    "## Общий вывод"
   ]
  },
  {
   "cell_type": "markdown",
   "metadata": {},
   "source": [
    " - среднее время продажи квартиры 180 дней, продажа квартиры дольше чем 500 дней считается аномально долгой;\n",
    " - самое большое влияние на цену квартиры оказывает общая ее площадь и удаленность от центра города;\n",
    " - в общем случае цена квартир расположенных на первом и последнем этаже ниже остальных;\n",
    " - цена на первом этаже для квартир в центре г. Санкт-Петербург ниже остальных, а цена квартир на последих этажах не отличается;\n",
    " - цена студий в центре г. Санкт-Петербург на уровне трехкомнатных квартир, цена студий для всех объявлений - ниже квартир с другой планировкой;\n",
    " - большой скачок цен наблюдается у квартир с удаленностью не более 2 км от центра г. Санкт-Петербург;\n",
    " - самое большое влияние на цену оказывает общая площадь."
   ]
  }
 ],
 "metadata": {
  "ExecuteTimeLog": [
   {
    "duration": 656,
    "start_time": "2021-12-14T18:56:34.718Z"
   },
   {
    "duration": 215,
    "start_time": "2021-12-14T18:56:35.375Z"
   },
   {
    "duration": 8,
    "start_time": "2021-12-14T18:56:35.592Z"
   },
   {
    "duration": 33,
    "start_time": "2021-12-14T18:56:35.601Z"
   },
   {
    "duration": 4,
    "start_time": "2021-12-14T18:56:35.636Z"
   },
   {
    "duration": 22,
    "start_time": "2021-12-14T18:56:35.641Z"
   },
   {
    "duration": 7,
    "start_time": "2021-12-14T18:56:35.665Z"
   },
   {
    "duration": 8,
    "start_time": "2021-12-14T18:56:35.674Z"
   },
   {
    "duration": 9,
    "start_time": "2021-12-14T18:56:35.684Z"
   },
   {
    "duration": 5,
    "start_time": "2021-12-14T18:56:35.694Z"
   },
   {
    "duration": 7810,
    "start_time": "2021-12-14T18:56:35.701Z"
   },
   {
    "duration": -1097,
    "start_time": "2021-12-14T18:56:44.613Z"
   },
   {
    "duration": -1104,
    "start_time": "2021-12-14T18:56:44.621Z"
   },
   {
    "duration": -1108,
    "start_time": "2021-12-14T18:56:44.626Z"
   },
   {
    "duration": -1113,
    "start_time": "2021-12-14T18:56:44.632Z"
   },
   {
    "duration": -1120,
    "start_time": "2021-12-14T18:56:44.640Z"
   },
   {
    "duration": -1123,
    "start_time": "2021-12-14T18:56:44.644Z"
   },
   {
    "duration": -1129,
    "start_time": "2021-12-14T18:56:44.651Z"
   },
   {
    "duration": -1136,
    "start_time": "2021-12-14T18:56:44.659Z"
   },
   {
    "duration": -1141,
    "start_time": "2021-12-14T18:56:44.665Z"
   },
   {
    "duration": -1149,
    "start_time": "2021-12-14T18:56:44.673Z"
   },
   {
    "duration": -1152,
    "start_time": "2021-12-14T18:56:44.677Z"
   },
   {
    "duration": -1157,
    "start_time": "2021-12-14T18:56:44.683Z"
   },
   {
    "duration": -1164,
    "start_time": "2021-12-14T18:56:44.691Z"
   },
   {
    "duration": -1172,
    "start_time": "2021-12-14T18:56:44.699Z"
   },
   {
    "duration": -1181,
    "start_time": "2021-12-14T18:56:44.709Z"
   },
   {
    "duration": -1186,
    "start_time": "2021-12-14T18:56:44.715Z"
   },
   {
    "duration": -1198,
    "start_time": "2021-12-14T18:56:44.727Z"
   },
   {
    "duration": -1206,
    "start_time": "2021-12-14T18:56:44.736Z"
   },
   {
    "duration": -1215,
    "start_time": "2021-12-14T18:56:44.746Z"
   },
   {
    "duration": -1229,
    "start_time": "2021-12-14T18:56:44.761Z"
   },
   {
    "duration": -1237,
    "start_time": "2021-12-14T18:56:44.769Z"
   },
   {
    "duration": -1244,
    "start_time": "2021-12-14T18:56:44.777Z"
   },
   {
    "duration": -1249,
    "start_time": "2021-12-14T18:56:44.783Z"
   },
   {
    "duration": -1255,
    "start_time": "2021-12-14T18:56:44.790Z"
   },
   {
    "duration": -1260,
    "start_time": "2021-12-14T18:56:44.795Z"
   },
   {
    "duration": -1264,
    "start_time": "2021-12-14T18:56:44.800Z"
   },
   {
    "duration": -1273,
    "start_time": "2021-12-14T18:56:44.810Z"
   },
   {
    "duration": -1278,
    "start_time": "2021-12-14T18:56:44.815Z"
   },
   {
    "duration": -1286,
    "start_time": "2021-12-14T18:56:44.824Z"
   },
   {
    "duration": -1288,
    "start_time": "2021-12-14T18:56:44.827Z"
   },
   {
    "duration": -1293,
    "start_time": "2021-12-14T18:56:44.833Z"
   },
   {
    "duration": -1300,
    "start_time": "2021-12-14T18:56:44.841Z"
   },
   {
    "duration": -1303,
    "start_time": "2021-12-14T18:56:44.845Z"
   },
   {
    "duration": -1307,
    "start_time": "2021-12-14T18:56:44.850Z"
   },
   {
    "duration": -1315,
    "start_time": "2021-12-14T18:56:44.859Z"
   },
   {
    "duration": -1318,
    "start_time": "2021-12-14T18:56:44.863Z"
   },
   {
    "duration": -1325,
    "start_time": "2021-12-14T18:56:44.871Z"
   },
   {
    "duration": -1328,
    "start_time": "2021-12-14T18:56:44.874Z"
   },
   {
    "duration": -1331,
    "start_time": "2021-12-14T18:56:44.878Z"
   },
   {
    "duration": -1335,
    "start_time": "2021-12-14T18:56:44.883Z"
   },
   {
    "duration": -1343,
    "start_time": "2021-12-14T18:56:44.892Z"
   },
   {
    "duration": -1347,
    "start_time": "2021-12-14T18:56:44.896Z"
   },
   {
    "duration": -1354,
    "start_time": "2021-12-14T18:56:44.904Z"
   },
   {
    "duration": -1356,
    "start_time": "2021-12-14T18:56:44.907Z"
   },
   {
    "duration": 4,
    "start_time": "2021-12-14T18:57:25.335Z"
   },
   {
    "duration": 649,
    "start_time": "2021-12-14T18:57:53.292Z"
   },
   {
    "duration": 247,
    "start_time": "2021-12-14T18:57:53.943Z"
   },
   {
    "duration": 10,
    "start_time": "2021-12-14T18:57:54.191Z"
   },
   {
    "duration": 75,
    "start_time": "2021-12-14T18:57:54.203Z"
   },
   {
    "duration": 3,
    "start_time": "2021-12-14T18:57:54.280Z"
   },
   {
    "duration": 9,
    "start_time": "2021-12-14T18:57:54.285Z"
   },
   {
    "duration": 7,
    "start_time": "2021-12-14T18:57:54.296Z"
   },
   {
    "duration": 7,
    "start_time": "2021-12-14T18:57:54.306Z"
   },
   {
    "duration": 8,
    "start_time": "2021-12-14T18:57:54.316Z"
   },
   {
    "duration": 40,
    "start_time": "2021-12-14T18:57:54.326Z"
   },
   {
    "duration": 7,
    "start_time": "2021-12-14T18:57:54.367Z"
   },
   {
    "duration": 4,
    "start_time": "2021-12-14T18:57:54.376Z"
   },
   {
    "duration": 197,
    "start_time": "2021-12-14T18:57:54.382Z"
   },
   {
    "duration": 220,
    "start_time": "2021-12-14T18:57:54.581Z"
   },
   {
    "duration": 13,
    "start_time": "2021-12-14T18:57:54.802Z"
   },
   {
    "duration": 17,
    "start_time": "2021-12-14T18:57:54.816Z"
   },
   {
    "duration": 5,
    "start_time": "2021-12-14T18:57:54.835Z"
   },
   {
    "duration": 9,
    "start_time": "2021-12-14T18:57:54.863Z"
   },
   {
    "duration": 8,
    "start_time": "2021-12-14T18:57:54.873Z"
   },
   {
    "duration": 480,
    "start_time": "2021-12-14T18:57:54.883Z"
   },
   {
    "duration": 334,
    "start_time": "2021-12-14T18:57:55.364Z"
   },
   {
    "duration": 4,
    "start_time": "2021-12-14T18:57:55.700Z"
   },
   {
    "duration": 8,
    "start_time": "2021-12-14T18:57:55.707Z"
   },
   {
    "duration": 10,
    "start_time": "2021-12-14T18:57:55.717Z"
   },
   {
    "duration": 36,
    "start_time": "2021-12-14T18:57:55.728Z"
   },
   {
    "duration": 10,
    "start_time": "2021-12-14T18:57:55.766Z"
   },
   {
    "duration": 9,
    "start_time": "2021-12-14T18:57:55.778Z"
   },
   {
    "duration": 5,
    "start_time": "2021-12-14T18:57:55.789Z"
   },
   {
    "duration": 11,
    "start_time": "2021-12-14T18:57:55.796Z"
   },
   {
    "duration": 8,
    "start_time": "2021-12-14T18:57:55.809Z"
   },
   {
    "duration": 12,
    "start_time": "2021-12-14T18:57:55.819Z"
   },
   {
    "duration": 791,
    "start_time": "2021-12-14T18:57:55.864Z"
   },
   {
    "duration": 11,
    "start_time": "2021-12-14T18:57:56.657Z"
   },
   {
    "duration": 33,
    "start_time": "2021-12-14T18:57:56.670Z"
   },
   {
    "duration": 1185,
    "start_time": "2021-12-14T18:57:56.705Z"
   },
   {
    "duration": 11,
    "start_time": "2021-12-14T18:57:57.893Z"
   },
   {
    "duration": 544,
    "start_time": "2021-12-14T18:57:57.906Z"
   },
   {
    "duration": 175,
    "start_time": "2021-12-14T18:57:58.452Z"
   },
   {
    "duration": 1372,
    "start_time": "2021-12-14T18:57:58.628Z"
   },
   {
    "duration": 81,
    "start_time": "2021-12-14T18:58:00.001Z"
   },
   {
    "duration": 1155,
    "start_time": "2021-12-14T18:58:00.084Z"
   },
   {
    "duration": 138,
    "start_time": "2021-12-14T18:58:01.241Z"
   },
   {
    "duration": 7897,
    "start_time": "2021-12-14T18:58:01.382Z"
   },
   {
    "duration": 6,
    "start_time": "2021-12-14T18:58:09.281Z"
   },
   {
    "duration": 1494,
    "start_time": "2021-12-14T18:58:09.289Z"
   },
   {
    "duration": 32,
    "start_time": "2021-12-14T18:58:10.785Z"
   },
   {
    "duration": 10,
    "start_time": "2021-12-14T18:58:10.819Z"
   },
   {
    "duration": 313,
    "start_time": "2021-12-14T18:58:10.831Z"
   },
   {
    "duration": 11,
    "start_time": "2021-12-14T18:58:11.146Z"
   },
   {
    "duration": 375,
    "start_time": "2021-12-14T18:58:11.164Z"
   },
   {
    "duration": 24,
    "start_time": "2021-12-14T18:58:11.540Z"
   },
   {
    "duration": 6,
    "start_time": "2021-12-14T18:58:11.566Z"
   },
   {
    "duration": 9,
    "start_time": "2021-12-14T18:58:11.574Z"
   },
   {
    "duration": 5,
    "start_time": "2021-12-14T18:58:11.585Z"
   },
   {
    "duration": 9,
    "start_time": "2021-12-14T18:58:11.591Z"
   },
   {
    "duration": 917,
    "start_time": "2021-12-14T18:58:11.601Z"
   }
  ],
  "kernelspec": {
   "display_name": "Python 3",
   "language": "python",
   "name": "python3"
  },
  "language_info": {
   "codemirror_mode": {
    "name": "ipython",
    "version": 3
   },
   "file_extension": ".py",
   "mimetype": "text/x-python",
   "name": "python",
   "nbconvert_exporter": "python",
   "pygments_lexer": "ipython3",
   "version": "3.8.10"
  },
  "toc": {
   "base_numbering": 1,
   "nav_menu": {},
   "number_sections": true,
   "sideBar": true,
   "skip_h1_title": true,
   "title_cell": "Содержание",
   "title_sidebar": "Contents",
   "toc_cell": true,
   "toc_position": {},
   "toc_section_display": true,
   "toc_window_display": false
  }
 },
 "nbformat": 4,
 "nbformat_minor": 2
}
