{
 "cells": [
  {
   "cell_type": "markdown",
   "id": "b6634e2d",
   "metadata": {
    "toc": true
   },
   "source": [
    "<h1>Содержание<span class=\"tocSkip\"></span></h1>\n",
    "<div class=\"toc\"><ul class=\"toc-item\"><li><span><a href=\"#Задача-исследования\" data-toc-modified-id=\"Задача-исследования-1\"><span class=\"toc-item-num\">1&nbsp;&nbsp;</span>Задача исследования</a></span></li><li><span><a href=\"#Описание-данных\" data-toc-modified-id=\"Описание-данных-2\"><span class=\"toc-item-num\">2&nbsp;&nbsp;</span>Описание данных</a></span></li><li><span><a href=\"#Предобработка-данных\" data-toc-modified-id=\"Предобработка-данных-3\"><span class=\"toc-item-num\">3&nbsp;&nbsp;</span>Предобработка данных</a></span><ul class=\"toc-item\"><li><span><a href=\"#Приведем-типы-в-соответствие\" data-toc-modified-id=\"Приведем-типы-в-соответствие-3.1\"><span class=\"toc-item-num\">3.1&nbsp;&nbsp;</span>Приведем типы в соответствие</a></span></li></ul></li><li><span><a href=\"#Исследовательский-анализ\" data-toc-modified-id=\"Исследовательский-анализ-4\"><span class=\"toc-item-num\">4&nbsp;&nbsp;</span>Исследовательский анализ</a></span><ul class=\"toc-item\"><li><span><a href=\"#Посмотрим-на-значения-категориальных-переменных-и-их-доли\" data-toc-modified-id=\"Посмотрим-на-значения-категориальных-переменных-и-их-доли-4.1\"><span class=\"toc-item-num\">4.1&nbsp;&nbsp;</span>Посмотрим на значения категориальных переменных и их доли</a></span><ul class=\"toc-item\"><li><span><a href=\"#Группы-теста\" data-toc-modified-id=\"Группы-теста-4.1.1\"><span class=\"toc-item-num\">4.1.1&nbsp;&nbsp;</span>Группы теста</a></span></li><li><span><a href=\"#События\" data-toc-modified-id=\"События-4.1.2\"><span class=\"toc-item-num\">4.1.2&nbsp;&nbsp;</span>События</a></span></li><li><span><a href=\"#Платформы\" data-toc-modified-id=\"Платформы-4.1.3\"><span class=\"toc-item-num\">4.1.3&nbsp;&nbsp;</span>Платформы</a></span></li><li><span><a href=\"#Каналы-привлечения-трафика\" data-toc-modified-id=\"Каналы-привлечения-трафика-4.1.4\"><span class=\"toc-item-num\">4.1.4&nbsp;&nbsp;</span>Каналы привлечения трафика</a></span></li><li><span><a href=\"#Страны-пользователей\" data-toc-modified-id=\"Страны-пользователей-4.1.5\"><span class=\"toc-item-num\">4.1.5&nbsp;&nbsp;</span>Страны пользователей</a></span></li></ul></li><li><span><a href=\"#Вычислим-период-проведения-теста\" data-toc-modified-id=\"Вычислим-период-проведения-теста-4.2\"><span class=\"toc-item-num\">4.2&nbsp;&nbsp;</span>Вычислим период проведения теста</a></span></li><li><span><a href=\"#Посмотрим-есть-ли-пересечение-пользователей-в-группах\" data-toc-modified-id=\"Посмотрим-есть-ли-пересечение-пользователей-в-группах-4.3\"><span class=\"toc-item-num\">4.3&nbsp;&nbsp;</span>Посмотрим есть ли пересечение пользователей в группах</a></span></li><li><span><a href=\"#Проверим-однородность-групп-теста\" data-toc-modified-id=\"Проверим-однородность-групп-теста-4.4\"><span class=\"toc-item-num\">4.4&nbsp;&nbsp;</span>Проверим однородность групп теста</a></span><ul class=\"toc-item\"><li><span><a href=\"#Посмотрим-на-динамику-трат-групп-по-датам\" data-toc-modified-id=\"Посмотрим-на-динамику-трат-групп-по-датам-4.4.1\"><span class=\"toc-item-num\">4.4.1&nbsp;&nbsp;</span>Посмотрим на динамику трат групп по датам</a></span></li><li><span><a href=\"#Посмотрим-на-доли-пользователей-по-каналам-трафика-в-каждой-группе\" data-toc-modified-id=\"Посмотрим-на-доли-пользователей-по-каналам-трафика-в-каждой-группе-4.4.2\"><span class=\"toc-item-num\">4.4.2&nbsp;&nbsp;</span>Посмотрим на доли пользователей по каналам трафика в каждой группе</a></span></li></ul></li><li><span><a href=\"#Посмотрим-на-расходы-по-группам-теста\" data-toc-modified-id=\"Посмотрим-на-расходы-по-группам-теста-4.5\"><span class=\"toc-item-num\">4.5&nbsp;&nbsp;</span>Посмотрим на расходы по группам теста</a></span></li></ul></li><li><span><a href=\"#Проверка-гипотез\" data-toc-modified-id=\"Проверка-гипотез-5\"><span class=\"toc-item-num\">5&nbsp;&nbsp;</span>Проверка гипотез</a></span><ul class=\"toc-item\"><li><span><a href=\"#Сформулируем-гипотезу\" data-toc-modified-id=\"Сформулируем-гипотезу-5.1\"><span class=\"toc-item-num\">5.1&nbsp;&nbsp;</span>Сформулируем гипотезу</a></span></li><li><span><a href=\"#Проверим-гипотезу-только-на-платящих-пользователях\" data-toc-modified-id=\"Проверим-гипотезу-только-на-платящих-пользователях-5.2\"><span class=\"toc-item-num\">5.2&nbsp;&nbsp;</span>Проверим гипотезу только на платящих пользователях</a></span></li><li><span><a href=\"#Проверим-гипотезу-на-расходах-по-другим-продуктам\" data-toc-modified-id=\"Проверим-гипотезу-на-расходах-по-другим-продуктам-5.3\"><span class=\"toc-item-num\">5.3&nbsp;&nbsp;</span>Проверим гипотезу на расходах по другим продуктам</a></span></li></ul></li><li><span><a href=\"#Вывод\" data-toc-modified-id=\"Вывод-6\"><span class=\"toc-item-num\">6&nbsp;&nbsp;</span>Вывод</a></span></li></ul></div>"
   ]
  },
  {
   "cell_type": "markdown",
   "id": "3311f29a",
   "metadata": {},
   "source": [
    "# Анализ результатов A/B теста расходов внутриигровой валюты"
   ]
  },
  {
   "cell_type": "markdown",
   "id": "8be48883",
   "metadata": {},
   "source": [
    "Игра содержит особое событие – ивент, для прохождения которого пользователи могут тратить внутриигровую валюту (колонка `gold_on_event`). Группа дизайнеров решила поменять вид окошка покупки ивентовых продуктов. Чтобы оценить результат нововведения, провели АБ тест, разделив пользователей на две группы: контрольную и тестовую (с окошком нового типа)."
   ]
  },
  {
   "cell_type": "markdown",
   "id": "3b8e7ab8",
   "metadata": {},
   "source": [
    "## Задача исследования"
   ]
  },
  {
   "cell_type": "markdown",
   "id": "e8d1ac63",
   "metadata": {},
   "source": [
    "Исследовать какая из A/B групп лучше себя показала по результатам проведенного теста"
   ]
  },
  {
   "cell_type": "markdown",
   "id": "0dbdc5ec",
   "metadata": {},
   "source": [
    "## Описание данных"
   ]
  },
  {
   "cell_type": "markdown",
   "id": "587862c5",
   "metadata": {},
   "source": [
    "Структура таблицы:\n",
    "1. AbGroup – имя АБ группы: Control/Test\n",
    "2. user_id – id пользователя\n",
    "3. time_stamp – день события\n",
    "4. install_date – день установки приложения пользователем\n",
    "5. event_name – техническое название события (InAppPurchase - в случае покупки за деньги, ResourceSpend в случае покупки за игровую валюту)\n",
    "6. platform – платформа google / itunes\n",
    "7. network_name – пользователь установил игру по переходу с рекламы (Paid) или нет (Organic)\n",
    "8. country_name – страна пользователя\n",
    "9. InGameTime – сколько всего пользователь провел в игре секунд\n",
    "10. LastCompletedLevel – номер последнего пройденного уровня\n",
    "11. avg_energy_amount – сколько в среднем энергии было у пользователя за день\n",
    "12. revenue_on_event – ревеню, потраченное на покупку ивентовых продуктов\n",
    "13. revenue_on_other_activities – ревеню, потраченное на остальные продукты, включая золото\n",
    "14. gold_on_event – золото, потраченное на ивентный прогресс\n",
    "15. gold_on_other_activities – золото, потраченное на другие продукты"
   ]
  },
  {
   "cell_type": "markdown",
   "id": "f912398f",
   "metadata": {},
   "source": [
    "## Предобработка данных"
   ]
  },
  {
   "cell_type": "code",
   "execution_count": 1,
   "id": "9e659f9e",
   "metadata": {},
   "outputs": [],
   "source": [
    "import pandas as pd\n",
    "import numpy as np\n",
    "import matplotlib.pyplot as plt\n",
    "import seaborn as sns\n",
    "import scipy.stats as st\n",
    "\n",
    "pd.options.mode.chained_assignment = None"
   ]
  },
  {
   "cell_type": "code",
   "execution_count": 2,
   "id": "228febd2",
   "metadata": {},
   "outputs": [],
   "source": [
    "data = pd.read_csv('./test_task_product_analyst_2021_20210427.csv')"
   ]
  },
  {
   "cell_type": "code",
   "execution_count": 3,
   "id": "33891f9d",
   "metadata": {},
   "outputs": [
    {
     "data": {
      "text/html": [
       "<div>\n",
       "<style scoped>\n",
       "    .dataframe tbody tr th:only-of-type {\n",
       "        vertical-align: middle;\n",
       "    }\n",
       "\n",
       "    .dataframe tbody tr th {\n",
       "        vertical-align: top;\n",
       "    }\n",
       "\n",
       "    .dataframe thead th {\n",
       "        text-align: right;\n",
       "    }\n",
       "</style>\n",
       "<table border=\"1\" class=\"dataframe\">\n",
       "  <thead>\n",
       "    <tr style=\"text-align: right;\">\n",
       "      <th></th>\n",
       "      <th>AbGroup</th>\n",
       "      <th>user_id</th>\n",
       "      <th>time_stamp</th>\n",
       "      <th>install_date</th>\n",
       "      <th>event_name</th>\n",
       "      <th>platform</th>\n",
       "      <th>network_name</th>\n",
       "      <th>country_name</th>\n",
       "      <th>InGameTime</th>\n",
       "      <th>LastCompletedLevel</th>\n",
       "      <th>avg_energy_amount</th>\n",
       "      <th>revenue_on_event</th>\n",
       "      <th>revenue_on_other_activities</th>\n",
       "      <th>gold_on_event</th>\n",
       "      <th>gold_on_other_activities</th>\n",
       "    </tr>\n",
       "  </thead>\n",
       "  <tbody>\n",
       "    <tr>\n",
       "      <th>0</th>\n",
       "      <td>Control</td>\n",
       "      <td>d60ebcaecff2dc1d360a8a41271e6fd8a902c107</td>\n",
       "      <td>2020-02-10</td>\n",
       "      <td>2019-11-10</td>\n",
       "      <td>ResourceSpend</td>\n",
       "      <td>itunes</td>\n",
       "      <td>Organic</td>\n",
       "      <td>United Kingdom of Great Britain and Northern I...</td>\n",
       "      <td>276180</td>\n",
       "      <td>345</td>\n",
       "      <td>54.0</td>\n",
       "      <td>0.0</td>\n",
       "      <td>0.0</td>\n",
       "      <td>NaN</td>\n",
       "      <td>NaN</td>\n",
       "    </tr>\n",
       "    <tr>\n",
       "      <th>1</th>\n",
       "      <td>Test</td>\n",
       "      <td>f6e385b0ab43d5aea9cfcc408aa84029a4ea5fdb</td>\n",
       "      <td>2020-03-04</td>\n",
       "      <td>2019-11-05</td>\n",
       "      <td>ResourceSpend</td>\n",
       "      <td>itunes</td>\n",
       "      <td>Paid</td>\n",
       "      <td>United States of America</td>\n",
       "      <td>166095</td>\n",
       "      <td>199</td>\n",
       "      <td>50.0</td>\n",
       "      <td>0.0</td>\n",
       "      <td>0.0</td>\n",
       "      <td>NaN</td>\n",
       "      <td>NaN</td>\n",
       "    </tr>\n",
       "    <tr>\n",
       "      <th>2</th>\n",
       "      <td>Control</td>\n",
       "      <td>a4c80c8524e2c11cc238553d7b02da01ce2aad66</td>\n",
       "      <td>2020-02-26</td>\n",
       "      <td>2020-01-02</td>\n",
       "      <td>ResourceSpend</td>\n",
       "      <td>itunes</td>\n",
       "      <td>Paid</td>\n",
       "      <td>Canada</td>\n",
       "      <td>240986</td>\n",
       "      <td>84</td>\n",
       "      <td>39.0</td>\n",
       "      <td>0.0</td>\n",
       "      <td>0.0</td>\n",
       "      <td>NaN</td>\n",
       "      <td>NaN</td>\n",
       "    </tr>\n",
       "    <tr>\n",
       "      <th>3</th>\n",
       "      <td>Control</td>\n",
       "      <td>7ea2e4599ae33760c307e254839317bd5b17a63c</td>\n",
       "      <td>2020-02-21</td>\n",
       "      <td>2020-01-13</td>\n",
       "      <td>ResourceSpend</td>\n",
       "      <td>itunes</td>\n",
       "      <td>Organic</td>\n",
       "      <td>France</td>\n",
       "      <td>989822</td>\n",
       "      <td>1176</td>\n",
       "      <td>21.0</td>\n",
       "      <td>0.0</td>\n",
       "      <td>0.0</td>\n",
       "      <td>NaN</td>\n",
       "      <td>NaN</td>\n",
       "    </tr>\n",
       "    <tr>\n",
       "      <th>4</th>\n",
       "      <td>Control</td>\n",
       "      <td>6495168982929360dc6d84bf0766d8963a7ddc41</td>\n",
       "      <td>2020-02-18</td>\n",
       "      <td>2020-02-05</td>\n",
       "      <td>ResourceSpend</td>\n",
       "      <td>itunes</td>\n",
       "      <td>Paid</td>\n",
       "      <td>Spain</td>\n",
       "      <td>52106</td>\n",
       "      <td>66</td>\n",
       "      <td>43.0</td>\n",
       "      <td>0.0</td>\n",
       "      <td>0.0</td>\n",
       "      <td>500.0</td>\n",
       "      <td>NaN</td>\n",
       "    </tr>\n",
       "  </tbody>\n",
       "</table>\n",
       "</div>"
      ],
      "text/plain": [
       "   AbGroup                                   user_id  time_stamp install_date  \\\n",
       "0  Control  d60ebcaecff2dc1d360a8a41271e6fd8a902c107  2020-02-10   2019-11-10   \n",
       "1     Test  f6e385b0ab43d5aea9cfcc408aa84029a4ea5fdb  2020-03-04   2019-11-05   \n",
       "2  Control  a4c80c8524e2c11cc238553d7b02da01ce2aad66  2020-02-26   2020-01-02   \n",
       "3  Control  7ea2e4599ae33760c307e254839317bd5b17a63c  2020-02-21   2020-01-13   \n",
       "4  Control  6495168982929360dc6d84bf0766d8963a7ddc41  2020-02-18   2020-02-05   \n",
       "\n",
       "      event_name platform network_name  \\\n",
       "0  ResourceSpend   itunes      Organic   \n",
       "1  ResourceSpend   itunes         Paid   \n",
       "2  ResourceSpend   itunes         Paid   \n",
       "3  ResourceSpend   itunes      Organic   \n",
       "4  ResourceSpend   itunes         Paid   \n",
       "\n",
       "                                        country_name  InGameTime  \\\n",
       "0  United Kingdom of Great Britain and Northern I...      276180   \n",
       "1                           United States of America      166095   \n",
       "2                                             Canada      240986   \n",
       "3                                             France      989822   \n",
       "4                                              Spain       52106   \n",
       "\n",
       "   LastCompletedLevel  avg_energy_amount  revenue_on_event  \\\n",
       "0                 345               54.0               0.0   \n",
       "1                 199               50.0               0.0   \n",
       "2                  84               39.0               0.0   \n",
       "3                1176               21.0               0.0   \n",
       "4                  66               43.0               0.0   \n",
       "\n",
       "   revenue_on_other_activities  gold_on_event  gold_on_other_activities  \n",
       "0                          0.0            NaN                       NaN  \n",
       "1                          0.0            NaN                       NaN  \n",
       "2                          0.0            NaN                       NaN  \n",
       "3                          0.0            NaN                       NaN  \n",
       "4                          0.0          500.0                       NaN  "
      ]
     },
     "execution_count": 3,
     "metadata": {},
     "output_type": "execute_result"
    }
   ],
   "source": [
    "data.head()"
   ]
  },
  {
   "cell_type": "code",
   "execution_count": 4,
   "id": "7e840e46",
   "metadata": {},
   "outputs": [
    {
     "name": "stdout",
     "output_type": "stream",
     "text": [
      "<class 'pandas.core.frame.DataFrame'>\n",
      "RangeIndex: 696840 entries, 0 to 696839\n",
      "Data columns (total 15 columns):\n",
      " #   Column                       Non-Null Count   Dtype  \n",
      "---  ------                       --------------   -----  \n",
      " 0   AbGroup                      696840 non-null  object \n",
      " 1   user_id                      696840 non-null  object \n",
      " 2   time_stamp                   696840 non-null  object \n",
      " 3   install_date                 696840 non-null  object \n",
      " 4   event_name                   696840 non-null  object \n",
      " 5   platform                     696840 non-null  object \n",
      " 6   network_name                 696840 non-null  object \n",
      " 7   country_name                 696840 non-null  object \n",
      " 8   InGameTime                   696840 non-null  int64  \n",
      " 9   LastCompletedLevel           696840 non-null  int64  \n",
      " 10  avg_energy_amount            696840 non-null  float64\n",
      " 11  revenue_on_event             696840 non-null  float64\n",
      " 12  revenue_on_other_activities  696840 non-null  float64\n",
      " 13  gold_on_event                45412 non-null   float64\n",
      " 14  gold_on_other_activities     168193 non-null  float64\n",
      "dtypes: float64(5), int64(2), object(8)\n",
      "memory usage: 79.7+ MB\n"
     ]
    }
   ],
   "source": [
    "data.info()"
   ]
  },
  {
   "cell_type": "markdown",
   "id": "85145ffb",
   "metadata": {},
   "source": [
    "- Колонки с датами имеют тип object\n",
    "- Пропуски есть только в двух последних колонках gold_on_event, gold_on_other_activities"
   ]
  },
  {
   "cell_type": "markdown",
   "id": "88af4361",
   "metadata": {},
   "source": [
    "### Приведем типы в соответствие"
   ]
  },
  {
   "cell_type": "code",
   "execution_count": 5,
   "id": "ed70635a",
   "metadata": {},
   "outputs": [],
   "source": [
    "data['time_stamp'] = pd.to_datetime(data['time_stamp'])\n",
    "data['install_date'] = pd.to_datetime(data['install_date'])"
   ]
  },
  {
   "cell_type": "code",
   "execution_count": 6,
   "id": "86984786",
   "metadata": {},
   "outputs": [
    {
     "name": "stdout",
     "output_type": "stream",
     "text": [
      "<class 'pandas.core.frame.DataFrame'>\n",
      "RangeIndex: 696840 entries, 0 to 696839\n",
      "Data columns (total 15 columns):\n",
      " #   Column                       Non-Null Count   Dtype         \n",
      "---  ------                       --------------   -----         \n",
      " 0   AbGroup                      696840 non-null  object        \n",
      " 1   user_id                      696840 non-null  object        \n",
      " 2   time_stamp                   696840 non-null  datetime64[ns]\n",
      " 3   install_date                 696840 non-null  datetime64[ns]\n",
      " 4   event_name                   696840 non-null  object        \n",
      " 5   platform                     696840 non-null  object        \n",
      " 6   network_name                 696840 non-null  object        \n",
      " 7   country_name                 696840 non-null  object        \n",
      " 8   InGameTime                   696840 non-null  int64         \n",
      " 9   LastCompletedLevel           696840 non-null  int64         \n",
      " 10  avg_energy_amount            696840 non-null  float64       \n",
      " 11  revenue_on_event             696840 non-null  float64       \n",
      " 12  revenue_on_other_activities  696840 non-null  float64       \n",
      " 13  gold_on_event                45412 non-null   float64       \n",
      " 14  gold_on_other_activities     168193 non-null  float64       \n",
      "dtypes: datetime64[ns](2), float64(5), int64(2), object(6)\n",
      "memory usage: 79.7+ MB\n"
     ]
    }
   ],
   "source": [
    "data.info()"
   ]
  },
  {
   "cell_type": "markdown",
   "id": "24247a93",
   "metadata": {},
   "source": [
    "## Исследовательский анализ"
   ]
  },
  {
   "cell_type": "markdown",
   "id": "ab4f5f28",
   "metadata": {},
   "source": [
    "### Посмотрим на значения категориальных переменных и их доли"
   ]
  },
  {
   "cell_type": "markdown",
   "id": "2b720d3e",
   "metadata": {},
   "source": [
    "#### Группы теста"
   ]
  },
  {
   "cell_type": "code",
   "execution_count": 7,
   "id": "41d32fff",
   "metadata": {},
   "outputs": [
    {
     "data": {
      "text/plain": [
       "Control    0.800858\n",
       "Test       0.199142\n",
       "Name: AbGroup, dtype: float64"
      ]
     },
     "execution_count": 7,
     "metadata": {},
     "output_type": "execute_result"
    }
   ],
   "source": [
    "data['AbGroup'].value_counts(normalize=True)"
   ]
  },
  {
   "cell_type": "markdown",
   "id": "8f6fde46",
   "metadata": {},
   "source": [
    "Группа А (контрольная) генерирует 80% событий В (тестовая) 20%. Скорее всего также они распределены и по количеству униклальных пользователей, но проверим"
   ]
  },
  {
   "cell_type": "code",
   "execution_count": 8,
   "id": "61281e08",
   "metadata": {},
   "outputs": [
    {
     "data": {
      "text/html": [
       "<div>\n",
       "<style scoped>\n",
       "    .dataframe tbody tr th:only-of-type {\n",
       "        vertical-align: middle;\n",
       "    }\n",
       "\n",
       "    .dataframe tbody tr th {\n",
       "        vertical-align: top;\n",
       "    }\n",
       "\n",
       "    .dataframe thead th {\n",
       "        text-align: right;\n",
       "    }\n",
       "</style>\n",
       "<table border=\"1\" class=\"dataframe\">\n",
       "  <thead>\n",
       "    <tr style=\"text-align: right;\">\n",
       "      <th></th>\n",
       "      <th>count</th>\n",
       "      <th>nunique</th>\n",
       "      <th>proportion</th>\n",
       "    </tr>\n",
       "    <tr>\n",
       "      <th>AbGroup</th>\n",
       "      <th></th>\n",
       "      <th></th>\n",
       "      <th></th>\n",
       "    </tr>\n",
       "  </thead>\n",
       "  <tbody>\n",
       "    <tr>\n",
       "      <th>Control</th>\n",
       "      <td>558070</td>\n",
       "      <td>89034</td>\n",
       "      <td>0.802397</td>\n",
       "    </tr>\n",
       "    <tr>\n",
       "      <th>Test</th>\n",
       "      <td>138770</td>\n",
       "      <td>22278</td>\n",
       "      <td>0.200775</td>\n",
       "    </tr>\n",
       "  </tbody>\n",
       "</table>\n",
       "</div>"
      ],
      "text/plain": [
       "          count  nunique  proportion\n",
       "AbGroup                             \n",
       "Control  558070    89034    0.802397\n",
       "Test     138770    22278    0.200775"
      ]
     },
     "execution_count": 8,
     "metadata": {},
     "output_type": "execute_result"
    }
   ],
   "source": [
    "users_ab_grouped = data.groupby('AbGroup')['user_id'].agg(['count', 'nunique'])\n",
    "users_ab_grouped['proportion'] = users_ab_grouped['nunique'] / len(data['user_id'].unique())\n",
    "users_ab_grouped"
   ]
  },
  {
   "cell_type": "markdown",
   "id": "84ef7a1d",
   "metadata": {},
   "source": [
    "Выборки несбалансированны - контрольная 80% пользователей, тестовая 20%"
   ]
  },
  {
   "cell_type": "markdown",
   "id": "fd3b2fa5",
   "metadata": {},
   "source": [
    "#### События"
   ]
  },
  {
   "cell_type": "code",
   "execution_count": 9,
   "id": "15be8a30",
   "metadata": {},
   "outputs": [
    {
     "data": {
      "text/plain": [
       "ResourceSpend    1.0\n",
       "Name: event_name, dtype: float64"
      ]
     },
     "execution_count": 9,
     "metadata": {},
     "output_type": "execute_result"
    }
   ],
   "source": [
    "data['event_name'].value_counts(normalize=True)"
   ]
  },
  {
   "cell_type": "markdown",
   "id": "a2d2ae04",
   "metadata": {},
   "source": [
    "Присутствует только одно событие ResourceSpend - расход рессурсов"
   ]
  },
  {
   "cell_type": "markdown",
   "id": "8977de7a",
   "metadata": {},
   "source": [
    "#### Платформы"
   ]
  },
  {
   "cell_type": "code",
   "execution_count": 10,
   "id": "7995d027",
   "metadata": {},
   "outputs": [
    {
     "data": {
      "text/plain": [
       "itunes    1.0\n",
       "Name: platform, dtype: float64"
      ]
     },
     "execution_count": 10,
     "metadata": {},
     "output_type": "execute_result"
    }
   ],
   "source": [
    "data['platform'].value_counts(normalize=True)"
   ]
  },
  {
   "cell_type": "markdown",
   "id": "a6fde35c",
   "metadata": {},
   "source": [
    "В описании данных указано 2 значения - google/itunes, но по факту присутствует только 1 платформа - itunes"
   ]
  },
  {
   "cell_type": "markdown",
   "id": "1f304393",
   "metadata": {},
   "source": [
    "#### Каналы привлечения трафика"
   ]
  },
  {
   "cell_type": "code",
   "execution_count": 11,
   "id": "16c180ef",
   "metadata": {},
   "outputs": [
    {
     "data": {
      "text/plain": [
       "Paid       0.631416\n",
       "Organic    0.368584\n",
       "Name: network_name, dtype: float64"
      ]
     },
     "execution_count": 11,
     "metadata": {},
     "output_type": "execute_result"
    }
   ],
   "source": [
    "data['network_name'].value_counts(normalize=True)"
   ]
  },
  {
   "cell_type": "markdown",
   "id": "4628b18c",
   "metadata": {},
   "source": [
    "#### Страны пользователей"
   ]
  },
  {
   "cell_type": "code",
   "execution_count": 12,
   "id": "0cbbf1d3",
   "metadata": {},
   "outputs": [
    {
     "data": {
      "text/plain": [
       "115"
      ]
     },
     "execution_count": 12,
     "metadata": {},
     "output_type": "execute_result"
    }
   ],
   "source": [
    "len(data['country_name'].unique())"
   ]
  },
  {
   "cell_type": "markdown",
   "id": "bc6f0619",
   "metadata": {},
   "source": [
    "В данных представлены пользователи из 115 разных стран"
   ]
  },
  {
   "cell_type": "code",
   "execution_count": 13,
   "id": "cb104e8b",
   "metadata": {},
   "outputs": [
    {
     "data": {
      "text/plain": [
       "United Kingdom of Great Britain and Northern Ireland    0.267103\n",
       "Germany                                                 0.244996\n",
       "France                                                  0.227055\n",
       "Canada                                                  0.122761\n",
       "Spain                                                   0.112502\n",
       "Name: country_name, dtype: float64"
      ]
     },
     "execution_count": 13,
     "metadata": {},
     "output_type": "execute_result"
    }
   ],
   "source": [
    "data['country_name'].value_counts(normalize=True).head()"
   ]
  },
  {
   "cell_type": "code",
   "execution_count": 14,
   "id": "69543e5e",
   "metadata": {},
   "outputs": [
    {
     "data": {
      "text/plain": [
       "0.974"
      ]
     },
     "execution_count": 14,
     "metadata": {},
     "output_type": "execute_result"
    }
   ],
   "source": [
    "data['country_name'].value_counts(normalize=True).head().sum().round(3)"
   ]
  },
  {
   "cell_type": "markdown",
   "id": "c20bc4ef",
   "metadata": {},
   "source": [
    "97% всех событий генерируются пользователями из 5 стран"
   ]
  },
  {
   "cell_type": "markdown",
   "id": "735e2603",
   "metadata": {},
   "source": [
    "### Вычислим период проведения теста"
   ]
  },
  {
   "cell_type": "code",
   "execution_count": 15,
   "id": "1d9c8b18",
   "metadata": {},
   "outputs": [],
   "source": [
    "test_period = data['time_stamp'].agg(['min', 'max'])"
   ]
  },
  {
   "cell_type": "code",
   "execution_count": 16,
   "id": "20a31d60",
   "metadata": {},
   "outputs": [
    {
     "data": {
      "text/plain": [
       "min   2020-02-06\n",
       "max   2020-03-04\n",
       "Name: time_stamp, dtype: datetime64[ns]"
      ]
     },
     "execution_count": 16,
     "metadata": {},
     "output_type": "execute_result"
    }
   ],
   "source": [
    "test_period"
   ]
  },
  {
   "cell_type": "markdown",
   "id": "2d622088",
   "metadata": {},
   "source": [
    "Даты начала и окончания теста"
   ]
  },
  {
   "cell_type": "code",
   "execution_count": 17,
   "id": "05d54905",
   "metadata": {},
   "outputs": [
    {
     "data": {
      "text/plain": [
       "27"
      ]
     },
     "execution_count": 17,
     "metadata": {},
     "output_type": "execute_result"
    }
   ],
   "source": [
    "pd.Timedelta(test_period.values[-1] - test_period.values[0]).days"
   ]
  },
  {
   "cell_type": "markdown",
   "id": "1a278f57",
   "metadata": {},
   "source": [
    "Тест проводился 27 дней"
   ]
  },
  {
   "cell_type": "markdown",
   "id": "be6fd06e",
   "metadata": {},
   "source": [
    "### Посмотрим есть ли пересечение пользователей в группах"
   ]
  },
  {
   "cell_type": "code",
   "execution_count": 18,
   "id": "84a900ec",
   "metadata": {},
   "outputs": [
    {
     "data": {
      "text/plain": [
       "352"
      ]
     },
     "execution_count": 18,
     "metadata": {},
     "output_type": "execute_result"
    }
   ],
   "source": [
    "intersection_users = data.groupby('user_id').agg({'AbGroup': 'nunique'}).query('AbGroup > 1').index\n",
    "len(intersection_users)"
   ]
  },
  {
   "cell_type": "markdown",
   "id": "7755e566",
   "metadata": {},
   "source": [
    "352 пользователя находятся сразу и в контрольной и в тестовой группах. Устраним пересечение удалив наблюдения с участием данных пользователей, ведь нам непонятно какую версию всплывающего окна они видели, старую или новую."
   ]
  },
  {
   "cell_type": "code",
   "execution_count": 19,
   "id": "59189f9d",
   "metadata": {},
   "outputs": [
    {
     "data": {
      "text/plain": [
       "2358"
      ]
     },
     "execution_count": 19,
     "metadata": {},
     "output_type": "execute_result"
    }
   ],
   "source": [
    "len(data[data['user_id'].isin(intersection_users)])"
   ]
  },
  {
   "cell_type": "markdown",
   "id": "7cb00edd",
   "metadata": {},
   "source": [
    "После удаления мы потеряем всего 2358 строк, что незначительно"
   ]
  },
  {
   "cell_type": "code",
   "execution_count": 20,
   "id": "71c05ed1",
   "metadata": {},
   "outputs": [],
   "source": [
    "data = data[data['user_id'].isin(intersection_users) == False]"
   ]
  },
  {
   "cell_type": "markdown",
   "id": "0a6a750b",
   "metadata": {},
   "source": [
    "### Проверим однородность групп теста"
   ]
  },
  {
   "cell_type": "markdown",
   "id": "073f3153",
   "metadata": {},
   "source": [
    "#### Посмотрим на динамику трат групп по датам"
   ]
  },
  {
   "cell_type": "code",
   "execution_count": 21,
   "id": "157edb56",
   "metadata": {},
   "outputs": [
    {
     "data": {
      "image/png": "[encoded data removed]",
      "text/plain": [
       "<Figure size 1080x504 with 1 Axes>"
      ]
     },
     "metadata": {
      "needs_background": "light"
     },
     "output_type": "display_data"
    }
   ],
   "source": [
    "plt.figure(figsize=(15, 7))\n",
    "sns.lineplot(\n",
    "    x='time_stamp', \n",
    "    y='gold_on_event', \n",
    "    hue='AbGroup', \n",
    "    data=data.groupby(['time_stamp', 'AbGroup'])['gold_on_event'].sum().reset_index(),\n",
    ")\n",
    "plt.title('Изменение расходов на целевое событие по дням')\n",
    "plt.xticks(ticks=data['time_stamp'].unique(),rotation=45)\n",
    "plt.show()"
   ]
  },
  {
   "cell_type": "markdown",
   "id": "412d2cc8",
   "metadata": {},
   "source": [
    "Траты по группам во времени распределены похожим образом, что дает уверенность в схожести контрольной и тестовой групп"
   ]
  },
  {
   "cell_type": "markdown",
   "id": "c633d57f",
   "metadata": {},
   "source": [
    "#### Посмотрим на доли пользователей по каналам трафика в каждой группе"
   ]
  },
  {
   "cell_type": "code",
   "execution_count": 22,
   "id": "1ef21099",
   "metadata": {},
   "outputs": [
    {
     "data": {
      "text/html": [
       "<div>\n",
       "<style scoped>\n",
       "    .dataframe tbody tr th:only-of-type {\n",
       "        vertical-align: middle;\n",
       "    }\n",
       "\n",
       "    .dataframe tbody tr th {\n",
       "        vertical-align: top;\n",
       "    }\n",
       "\n",
       "    .dataframe thead th {\n",
       "        text-align: right;\n",
       "    }\n",
       "</style>\n",
       "<table border=\"1\" class=\"dataframe\">\n",
       "  <thead>\n",
       "    <tr style=\"text-align: right;\">\n",
       "      <th></th>\n",
       "      <th>AbGroup</th>\n",
       "      <th>network_name</th>\n",
       "      <th>users</th>\n",
       "    </tr>\n",
       "  </thead>\n",
       "  <tbody>\n",
       "    <tr>\n",
       "      <th>0</th>\n",
       "      <td>Control</td>\n",
       "      <td>Organic</td>\n",
       "      <td>32018</td>\n",
       "    </tr>\n",
       "    <tr>\n",
       "      <th>1</th>\n",
       "      <td>Control</td>\n",
       "      <td>Paid</td>\n",
       "      <td>56668</td>\n",
       "    </tr>\n",
       "    <tr>\n",
       "      <th>2</th>\n",
       "      <td>Test</td>\n",
       "      <td>Organic</td>\n",
       "      <td>7893</td>\n",
       "    </tr>\n",
       "    <tr>\n",
       "      <th>3</th>\n",
       "      <td>Test</td>\n",
       "      <td>Paid</td>\n",
       "      <td>14037</td>\n",
       "    </tr>\n",
       "  </tbody>\n",
       "</table>\n",
       "</div>"
      ],
      "text/plain": [
       "   AbGroup network_name  users\n",
       "0  Control      Organic  32018\n",
       "1  Control         Paid  56668\n",
       "2     Test      Organic   7893\n",
       "3     Test         Paid  14037"
      ]
     },
     "execution_count": 22,
     "metadata": {},
     "output_type": "execute_result"
    }
   ],
   "source": [
    "ab_network_grouped = (data.groupby(['AbGroup', 'network_name'])\n",
    "                          .agg(users=('user_id', 'nunique'))\n",
    "                          .reset_index())\n",
    "ab_network_grouped"
   ]
  },
  {
   "cell_type": "markdown",
   "id": "ae4fe60e",
   "metadata": {},
   "source": [
    "Рассчитали количество уникальных пользователей по группам и каналам трафика. Теперь добавим доли пользователей"
   ]
  },
  {
   "cell_type": "code",
   "execution_count": 23,
   "id": "08250dba",
   "metadata": {},
   "outputs": [],
   "source": [
    "a_group_size = ab_network_grouped.query('AbGroup == \"Control\"')['users'].sum()\n",
    "b_group_size = ab_network_grouped.query('AbGroup == \"Test\"')['users'].sum()"
   ]
  },
  {
   "cell_type": "code",
   "execution_count": 24,
   "id": "3d66fc72",
   "metadata": {},
   "outputs": [],
   "source": [
    "ab_network_grouped['users_proportion'] = (\n",
    "    ab_network_grouped['users'] / [a_group_size, a_group_size, b_group_size, b_group_size])"
   ]
  },
  {
   "cell_type": "code",
   "execution_count": 25,
   "id": "e3da9a0f",
   "metadata": {},
   "outputs": [
    {
     "data": {
      "text/html": [
       "<div>\n",
       "<style scoped>\n",
       "    .dataframe tbody tr th:only-of-type {\n",
       "        vertical-align: middle;\n",
       "    }\n",
       "\n",
       "    .dataframe tbody tr th {\n",
       "        vertical-align: top;\n",
       "    }\n",
       "\n",
       "    .dataframe thead th {\n",
       "        text-align: right;\n",
       "    }\n",
       "</style>\n",
       "<table border=\"1\" class=\"dataframe\">\n",
       "  <thead>\n",
       "    <tr style=\"text-align: right;\">\n",
       "      <th></th>\n",
       "      <th>AbGroup</th>\n",
       "      <th>network_name</th>\n",
       "      <th>users</th>\n",
       "      <th>users_proportion</th>\n",
       "    </tr>\n",
       "  </thead>\n",
       "  <tbody>\n",
       "    <tr>\n",
       "      <th>0</th>\n",
       "      <td>Control</td>\n",
       "      <td>Organic</td>\n",
       "      <td>32018</td>\n",
       "      <td>0.361027</td>\n",
       "    </tr>\n",
       "    <tr>\n",
       "      <th>1</th>\n",
       "      <td>Control</td>\n",
       "      <td>Paid</td>\n",
       "      <td>56668</td>\n",
       "      <td>0.638973</td>\n",
       "    </tr>\n",
       "    <tr>\n",
       "      <th>2</th>\n",
       "      <td>Test</td>\n",
       "      <td>Organic</td>\n",
       "      <td>7893</td>\n",
       "      <td>0.359918</td>\n",
       "    </tr>\n",
       "    <tr>\n",
       "      <th>3</th>\n",
       "      <td>Test</td>\n",
       "      <td>Paid</td>\n",
       "      <td>14037</td>\n",
       "      <td>0.640082</td>\n",
       "    </tr>\n",
       "  </tbody>\n",
       "</table>\n",
       "</div>"
      ],
      "text/plain": [
       "   AbGroup network_name  users  users_proportion\n",
       "0  Control      Organic  32018          0.361027\n",
       "1  Control         Paid  56668          0.638973\n",
       "2     Test      Organic   7893          0.359918\n",
       "3     Test         Paid  14037          0.640082"
      ]
     },
     "execution_count": 25,
     "metadata": {},
     "output_type": "execute_result"
    }
   ],
   "source": [
    "ab_network_grouped"
   ]
  },
  {
   "cell_type": "markdown",
   "id": "d51e8e6f",
   "metadata": {},
   "source": [
    "Каналы трафика распределены равномерно для обеих групп"
   ]
  },
  {
   "cell_type": "markdown",
   "id": "6f02463f",
   "metadata": {},
   "source": [
    "Вывод: у нас нет оснований полагать, что тестовая и контрольная группы имеют значимые отклонения в однородности распределения пользователей по основным признакам. Инстумент деления пользователей на группы сработал корректно"
   ]
  },
  {
   "cell_type": "markdown",
   "id": "d633ccfe",
   "metadata": {},
   "source": [
    "### Посмотрим на расходы по группам теста"
   ]
  },
  {
   "cell_type": "markdown",
   "id": "dcec7c45",
   "metadata": {},
   "source": [
    "Рассчитаем общие и средние расходы по группам теста для всех пользователей (платящих / не платящих)"
   ]
  },
  {
   "cell_type": "code",
   "execution_count": 26,
   "id": "f7f6b77a",
   "metadata": {},
   "outputs": [
    {
     "data": {
      "text/html": [
       "<div>\n",
       "<style scoped>\n",
       "    .dataframe tbody tr th:only-of-type {\n",
       "        vertical-align: middle;\n",
       "    }\n",
       "\n",
       "    .dataframe tbody tr th {\n",
       "        vertical-align: top;\n",
       "    }\n",
       "\n",
       "    .dataframe thead th {\n",
       "        text-align: right;\n",
       "    }\n",
       "</style>\n",
       "<table border=\"1\" class=\"dataframe\">\n",
       "  <thead>\n",
       "    <tr style=\"text-align: right;\">\n",
       "      <th>AbGroup</th>\n",
       "      <th>Control</th>\n",
       "      <th>Test</th>\n",
       "    </tr>\n",
       "  </thead>\n",
       "  <tbody>\n",
       "    <tr>\n",
       "      <th>events</th>\n",
       "      <td>556675.0</td>\n",
       "      <td>137807.0</td>\n",
       "    </tr>\n",
       "    <tr>\n",
       "      <th>users</th>\n",
       "      <td>88682.0</td>\n",
       "      <td>21926.0</td>\n",
       "    </tr>\n",
       "    <tr>\n",
       "      <th>total_gold_on_event_spending</th>\n",
       "      <td>71325600.0</td>\n",
       "      <td>18432700.0</td>\n",
       "    </tr>\n",
       "    <tr>\n",
       "      <th>total_gold_on_another_spending</th>\n",
       "      <td>121627100.0</td>\n",
       "      <td>34352950.0</td>\n",
       "    </tr>\n",
       "    <tr>\n",
       "      <th>avg_spending_by_event</th>\n",
       "      <td>128.1</td>\n",
       "      <td>133.8</td>\n",
       "    </tr>\n",
       "    <tr>\n",
       "      <th>avg_spending_by_user</th>\n",
       "      <td>804.3</td>\n",
       "      <td>840.7</td>\n",
       "    </tr>\n",
       "    <tr>\n",
       "      <th>avg_another_spending_by_event</th>\n",
       "      <td>218.5</td>\n",
       "      <td>249.3</td>\n",
       "    </tr>\n",
       "    <tr>\n",
       "      <th>avg_another_spending_by_user</th>\n",
       "      <td>1371.5</td>\n",
       "      <td>1566.8</td>\n",
       "    </tr>\n",
       "  </tbody>\n",
       "</table>\n",
       "</div>"
      ],
      "text/plain": [
       "AbGroup                             Control        Test\n",
       "events                             556675.0    137807.0\n",
       "users                               88682.0     21926.0\n",
       "total_gold_on_event_spending     71325600.0  18432700.0\n",
       "total_gold_on_another_spending  121627100.0  34352950.0\n",
       "avg_spending_by_event                 128.1       133.8\n",
       "avg_spending_by_user                  804.3       840.7\n",
       "avg_another_spending_by_event         218.5       249.3\n",
       "avg_another_spending_by_user         1371.5      1566.8"
      ]
     },
     "execution_count": 26,
     "metadata": {},
     "output_type": "execute_result"
    }
   ],
   "source": [
    "ab_grouped = data.groupby('AbGroup').agg(\n",
    "    events=('time_stamp', 'count'),\n",
    "    users=('user_id', 'nunique'),\n",
    "    total_gold_on_event_spending=('gold_on_event', 'sum'),\n",
    "    total_gold_on_another_spending=('gold_on_other_activities', 'sum')\n",
    ")\n",
    "\n",
    "ab_grouped['avg_spending_by_event'] = ab_grouped['total_gold_on_event_spending'] / ab_grouped['events']\n",
    "ab_grouped['avg_spending_by_user'] = ab_grouped['total_gold_on_event_spending'] / ab_grouped['users']\n",
    "\n",
    "ab_grouped['avg_another_spending_by_event'] = ab_grouped['total_gold_on_another_spending'] / ab_grouped['events']\n",
    "ab_grouped['avg_another_spending_by_user'] = ab_grouped['total_gold_on_another_spending'] / ab_grouped['users']\n",
    "\n",
    "ab_grouped.T.round(1)"
   ]
  },
  {
   "cell_type": "markdown",
   "id": "0ba953c9",
   "metadata": {},
   "source": [
    "Расходы в тестовой группе в среднем больше как на событие так и на пользователя в тратах на целевое событие и в тратах на другие активности. Теперь рассчитаем средние и медианные значения трат платящих пользователей по группам"
   ]
  },
  {
   "cell_type": "code",
   "execution_count": 27,
   "id": "25eb35dd",
   "metadata": {},
   "outputs": [
    {
     "data": {
      "text/html": [
       "<div>\n",
       "<style scoped>\n",
       "    .dataframe tbody tr th:only-of-type {\n",
       "        vertical-align: middle;\n",
       "    }\n",
       "\n",
       "    .dataframe tbody tr th {\n",
       "        vertical-align: top;\n",
       "    }\n",
       "\n",
       "    .dataframe thead tr th {\n",
       "        text-align: left;\n",
       "    }\n",
       "\n",
       "    .dataframe thead tr:last-of-type th {\n",
       "        text-align: right;\n",
       "    }\n",
       "</style>\n",
       "<table border=\"1\" class=\"dataframe\">\n",
       "  <thead>\n",
       "    <tr>\n",
       "      <th></th>\n",
       "      <th colspan=\"2\" halign=\"left\">gold_on_event</th>\n",
       "      <th colspan=\"2\" halign=\"left\">gold_on_other_activities</th>\n",
       "    </tr>\n",
       "    <tr>\n",
       "      <th></th>\n",
       "      <th>mean</th>\n",
       "      <th>median</th>\n",
       "      <th>mean</th>\n",
       "      <th>median</th>\n",
       "    </tr>\n",
       "    <tr>\n",
       "      <th>AbGroup</th>\n",
       "      <th></th>\n",
       "      <th></th>\n",
       "      <th></th>\n",
       "      <th></th>\n",
       "    </tr>\n",
       "  </thead>\n",
       "  <tbody>\n",
       "    <tr>\n",
       "      <th>Control</th>\n",
       "      <td>2119.140990</td>\n",
       "      <td>1850.000000</td>\n",
       "      <td>836.262791</td>\n",
       "      <td>600.0</td>\n",
       "    </tr>\n",
       "    <tr>\n",
       "      <th>Test</th>\n",
       "      <td>2289.792438</td>\n",
       "      <td>1933.333333</td>\n",
       "      <td>912.964888</td>\n",
       "      <td>600.0</td>\n",
       "    </tr>\n",
       "  </tbody>\n",
       "</table>\n",
       "</div>"
      ],
      "text/plain": [
       "        gold_on_event              gold_on_other_activities       \n",
       "                 mean       median                     mean median\n",
       "AbGroup                                                           \n",
       "Control   2119.140990  1850.000000               836.262791  600.0\n",
       "Test      2289.792438  1933.333333               912.964888  600.0"
      ]
     },
     "execution_count": 27,
     "metadata": {},
     "output_type": "execute_result"
    }
   ],
   "source": [
    "(data.groupby('user_id')\n",
    "     .agg({'gold_on_event': 'mean', 'gold_on_other_activities': 'mean', 'AbGroup': 'first'})\n",
    "     .groupby('AbGroup')\n",
    "     .agg(['mean', 'median']))"
   ]
  },
  {
   "cell_type": "markdown",
   "id": "6a9b85d8",
   "metadata": {},
   "source": [
    "Для платящих пользователей средние расходы на пользователя также больше в тестовой группе"
   ]
  },
  {
   "cell_type": "markdown",
   "id": "8eef6ec1",
   "metadata": {},
   "source": [
    "Выводы: мы посмотрели показатели среднего расхода на платящих и всех пользователей, во всех случаях тестовая группа в среднем имеет больше расходов. Но надо убедиться, что эта разница значима"
   ]
  },
  {
   "cell_type": "markdown",
   "id": "c3c1fb12",
   "metadata": {},
   "source": [
    "## Проверка гипотез"
   ]
  },
  {
   "cell_type": "markdown",
   "id": "6422aec1",
   "metadata": {},
   "source": [
    "### Сформулируем гипотезу"
   ]
  },
  {
   "cell_type": "markdown",
   "id": "78cdbf8f",
   "metadata": {},
   "source": [
    "$H_{0}: \\mu_{A} = \\mu_{B}\\\\$\n",
    "$H_{1}: \\mu_{A} \\neq \\mu_{B}$"
   ]
  },
  {
   "cell_type": "markdown",
   "id": "19e8eead",
   "metadata": {},
   "source": [
    "**Основная (нулевая) гипотеза** - средние расходы игровой валюты у контрольной группы А и тестовой группы В не имеют статистически значимых различий;\n",
    "\n",
    "**Альтернативная гипотеза** - средние расходы игровой валюты у контрольной группы А и тестовой группы В имеют статистически значимые различия."
   ]
  },
  {
   "cell_type": "markdown",
   "id": "e0e5d256",
   "metadata": {},
   "source": [
    "Перед началом теста заполним пропуски в тратах игровой валюты нулями, так как нас интересует больше разница расходов между всеми пользователями, а не только платящими (так как среднее будет игнорировать значение NaN)"
   ]
  },
  {
   "cell_type": "code",
   "execution_count": 28,
   "id": "ffa134a4",
   "metadata": {},
   "outputs": [
    {
     "data": {
      "text/plain": [
       "0"
      ]
     },
     "execution_count": 28,
     "metadata": {},
     "output_type": "execute_result"
    }
   ],
   "source": [
    "data['gold_on_event'] = data['gold_on_event'].fillna(0)\n",
    "data['gold_on_event'].isna().sum()"
   ]
  },
  {
   "cell_type": "markdown",
   "id": "e0395299",
   "metadata": {},
   "source": [
    "Проверим двустороннюю гипотезу о равенстве средних двух генеральных совокупностей для независимых выборок при уровне значимости в 5%"
   ]
  },
  {
   "cell_type": "code",
   "execution_count": 29,
   "id": "0e3fe606",
   "metadata": {},
   "outputs": [],
   "source": [
    "alpha = 0.05\n",
    "\n",
    "a_group = data[data['AbGroup'] == 'Control']['gold_on_event']\n",
    "b_group = data[data['AbGroup'] == 'Test']['gold_on_event']\n",
    "\n",
    "def ttest_2ind_samples(a_group, b_group):\n",
    "    results = st.ttest_ind(\n",
    "        a_group,\n",
    "        b_group,\n",
    "    )\n",
    "\n",
    "    print('Control', a_group.mean().round(3), 'Test', b_group.mean().round(3))\n",
    "\n",
    "    print('p-значение:', results.pvalue)\n",
    "\n",
    "    if results.pvalue < alpha:\n",
    "        print('Отвергаем нулевую гипотезу')\n",
    "    else:\n",
    "        print('Не получилось отвергнуть нулевую гипотезу')"
   ]
  },
  {
   "cell_type": "code",
   "execution_count": 30,
   "id": "f3a04b9a",
   "metadata": {},
   "outputs": [
    {
     "name": "stdout",
     "output_type": "stream",
     "text": [
      "Control 128.128 Test 133.757\n",
      "p-значение: 0.07884535049140491\n",
      "Не получилось отвергнуть нулевую гипотезу\n"
     ]
    }
   ],
   "source": [
    "ttest_2ind_samples(a_group, b_group)"
   ]
  },
  {
   "cell_type": "markdown",
   "id": "89cf6587",
   "metadata": {},
   "source": [
    "Вывод: у нас нет оснований полагать, что тестовая группа тратит значительно больше игровой валюты чем контрольная группа"
   ]
  },
  {
   "cell_type": "markdown",
   "id": "e9c193cd",
   "metadata": {},
   "source": [
    "### Проверим гипотезу только на платящих пользователях"
   ]
  },
  {
   "cell_type": "markdown",
   "id": "26814c22",
   "metadata": {},
   "source": [
    "Теперь проверим есть ли разница в расходах между группами у платящих пользователей, для этого уберем пользователей с нулевой общей суммой трат"
   ]
  },
  {
   "cell_type": "code",
   "execution_count": 31,
   "id": "5e659d46",
   "metadata": {},
   "outputs": [],
   "source": [
    "data = data[data['gold_on_event'] > 0]"
   ]
  },
  {
   "cell_type": "code",
   "execution_count": 32,
   "id": "8e4cda36",
   "metadata": {},
   "outputs": [],
   "source": [
    "alpha = 0.05\n",
    "\n",
    "a_group = data[data['AbGroup'] == 'Control']['gold_on_event']\n",
    "b_group = data[data['AbGroup'] == 'Test']['gold_on_event']"
   ]
  },
  {
   "cell_type": "code",
   "execution_count": 33,
   "id": "6f679e46",
   "metadata": {},
   "outputs": [
    {
     "name": "stdout",
     "output_type": "stream",
     "text": [
      "Control 1964.676 Test 2059.52\n",
      "p-значение: 0.030010055803425608\n",
      "Отвергаем нулевую гипотезу\n"
     ]
    }
   ],
   "source": [
    "ttest_2ind_samples(a_group, b_group)"
   ]
  },
  {
   "cell_type": "markdown",
   "id": "062b2e75",
   "metadata": {},
   "source": [
    "Вывод: у нас есть основания полагать, что платящие пользователи тратят больше игровой валюты, чем платящие пользователи контрольной группы"
   ]
  },
  {
   "cell_type": "markdown",
   "id": "ce2b792b",
   "metadata": {},
   "source": [
    "### Проверим гипотезу на расходах по другим продуктам"
   ]
  },
  {
   "cell_type": "markdown",
   "id": "3d34c1d9",
   "metadata": {},
   "source": [
    "Еще интересно проверить, есть ли статистическая значимая разность между группами в расходах на остальные продукты - колонка `gold_on_other_activities`"
   ]
  },
  {
   "cell_type": "code",
   "execution_count": 34,
   "id": "2c9c668c",
   "metadata": {},
   "outputs": [
    {
     "data": {
      "text/plain": [
       "0"
      ]
     },
     "execution_count": 34,
     "metadata": {},
     "output_type": "execute_result"
    }
   ],
   "source": [
    "data['gold_on_other_activities'] = data['gold_on_other_activities'].fillna(0)\n",
    "data['gold_on_other_activities'].isna().sum()"
   ]
  },
  {
   "cell_type": "code",
   "execution_count": 35,
   "id": "cc8abbc8",
   "metadata": {},
   "outputs": [],
   "source": [
    "alpha = 0.05\n",
    "\n",
    "a_group = data[data['AbGroup'] == 'Control']['gold_on_other_activities']\n",
    "b_group = data[data['AbGroup'] == 'Test']['gold_on_other_activities']"
   ]
  },
  {
   "cell_type": "code",
   "execution_count": 36,
   "id": "1354a3a9",
   "metadata": {},
   "outputs": [
    {
     "name": "stdout",
     "output_type": "stream",
     "text": [
      "Control 115.41 Test 127.631\n",
      "p-значение: 0.6303704846490982\n",
      "Не получилось отвергнуть нулевую гипотезу\n"
     ]
    }
   ],
   "source": [
    "ttest_2ind_samples(a_group, b_group)"
   ]
  },
  {
   "cell_type": "markdown",
   "id": "fd708b87",
   "metadata": {},
   "source": [
    "А вот на другие продукты, тестовая группа тратит статистически значительно больше"
   ]
  },
  {
   "cell_type": "markdown",
   "id": "0d7bc369",
   "metadata": {},
   "source": [
    "## Вывод"
   ]
  },
  {
   "cell_type": "markdown",
   "id": "c1a86725",
   "metadata": {},
   "source": [
    "Не смотря на то, что в ходе анализа мы увидели, что тестовая группа имеет большие расходы (средние и медианные), после проведения статистического теста нам не удалось отвергнуть нулевую гипотезу, соответственно у нас нет оснований полагать, что тестовая группа тратит больше на целевом событии"
   ]
  }
 ],
 "metadata": {
  "kernelspec": {
   "display_name": "Python 3",
   "language": "python",
   "name": "python3"
  },
  "language_info": {
   "codemirror_mode": {
    "name": "ipython",
    "version": 3
   },
   "file_extension": ".py",
   "mimetype": "text/x-python",
   "name": "python",
   "nbconvert_exporter": "python",
   "pygments_lexer": "ipython3",
   "version": "3.8.10"
  },
  "toc": {
   "base_numbering": 1,
   "nav_menu": {},
   "number_sections": true,
   "sideBar": true,
   "skip_h1_title": true,
   "title_cell": "Содержание",
   "title_sidebar": "Contents",
   "toc_cell": true,
   "toc_position": {},
   "toc_section_display": true,
   "toc_window_display": false
  }
 },
 "nbformat": 4,
 "nbformat_minor": 5
}
